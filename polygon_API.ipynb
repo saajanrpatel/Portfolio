{
 "cells": [
  {
   "cell_type": "code",
   "execution_count": null,
   "id": "d573691e",
   "metadata": {},
   "outputs": [],
   "source": [
    "#     In this project, historical data for various stocks is pulled from the Polygon API.  Using an CNN-LSTM neural network\n",
    "# model, as well as other forms of analysis, the stock data is scrutinized and used to train an algorithm that predicts\n",
    "# the future stock price 1 day ahead.\n",
    "#\n",
    "#     This is the first piece of code for the stock project, responsible for API calls.  The code makes a call, formats \n",
    "# the request into a pandas dataframe (df), and imports the df to both an Amazon Web Services (AWS) database, and a csv\n",
    "# in the local path.  Additionally, as new data is pulled, this program updates the database with the new data."
   ]
  },
  {
   "cell_type": "code",
   "execution_count": null,
   "id": "54f7cf1c",
   "metadata": {},
   "outputs": [],
   "source": [
    "# import libraries\n",
    "\n",
    "import requests\n",
    "import pandas as pd\n",
    "import time\n",
    "import psycopg2 as ps\n",
    "import os\n",
    "import re\n",
    "from datetime import datetime, timedelta"
   ]
  },
  {
   "cell_type": "code",
   "execution_count": null,
   "id": "66c8445d",
   "metadata": {},
   "outputs": [],
   "source": [
    "# construct list of API queries in example format-> https://api.polygon.io/v2/aggs/ticker/AAPL/range/1/day/\n",
    "# 2021-07-22/2022-07-26?adjusted=true&sort=asc&limit=120&apiKey=yNwYdJmuOjYxtPaHusxz_0_pekcZ2ENi\n",
    "\n",
    "def const_api_urls(ticker_list, API_KEY):\n",
    "    # grabs today's date, as well as the date of the same business day from last year for the time window\n",
    "    \n",
    "    now = datetime.now() \n",
    "    end_date = now.strftime(\"%Y-%m-%d\")\n",
    "    start_date = (datetime.strptime(end_date, \"%Y-%m-%d\") - timedelta(days=728)).strftime(\"%Y-%m-%d\") \n",
    "    adjusted = 'true'\n",
    "    multiplier = '1'\n",
    "    resolution = 'day'\n",
    "    sort = 'asc'\n",
    "    limit = '1000'\n",
    "    api_urls = []\n",
    "    for ticker in ticker_list:\n",
    "        api_urls.append(\"https://api.polygon.io/v2/aggs/ticker/%s/range/%s/%s/%s/%s?adjusted=%s&sort=%s&limit=%s&apiKey=%s\" \n",
    "              % (ticker, multiplier, resolution, start_date, end_date, adjusted, sort, limit, API_KEY))\n",
    "    return api_urls"
   ]
  },
  {
   "cell_type": "code",
   "execution_count": null,
   "id": "6d30a442",
   "metadata": {},
   "outputs": [],
   "source": [
    "# check last date in database\n",
    "def check_date(cursor, tbl_name):\n",
    "    query = (\"\"\" SELECT MAX(Date) FROM %s \"\"\" % (tbl_name))\n",
    "    cursor.execute(query)\n",
    "    return cursor.fetchone()"
   ]
  },
  {
   "cell_type": "code",
   "execution_count": null,
   "id": "ffe2122e",
   "metadata": {},
   "outputs": [],
   "source": [
    "# end of defined functions"
   ]
  },
  {
   "cell_type": "code",
   "execution_count": null,
   "id": "82ef3dae",
   "metadata": {},
   "outputs": [],
   "source": [
    "# perform API requests (note: a max of 5 API requests are allowed per minute)\n",
    "\n",
    "#ticker_list = [\n",
    "    #'JNJ', 'PG', 'CVX', 'BAC', 'VZ', 'UPS', 'C',\n",
    "    #'USB', 'AON', 'OXY', 'MCO', 'MCK', 'HPQ', 'KR',\n",
    "    #'AAPL', 'CE', 'ALLY', 'DVA', 'STOR', 'FND'          \n",
    "#]\n",
    "#ticker_list = [\n",
    "    #'PDBC', 'QQQ', 'SPY', 'GDX', 'VOO'\n",
    "#]\n",
    "ticker_list = [\n",
    "    'XLB', 'XLC', 'XLE', 'XLI', 'XLF', 'XLK'\n",
    "]\n",
    "API_KEY = 'yNwYdJmuOjYxtPaHusxz_0_pekcZ2ENi'\n",
    "api_urls = const_api_urls(ticker_list, API_KEY)\n",
    "remove_keys = ['vw','t','n']\n",
    "df = pd.DataFrame()\n",
    "\n",
    "for count, url in enumerate(api_urls):\n",
    "    if (count+1) % 5 == 0:\n",
    "        time.sleep(60) # wait 1 minute every 5 requests, to not exceed API request limit\n",
    "        \n",
    "    response = requests.get(url).json()['results']\n",
    "    if (count) == 0:\n",
    "        unix_timestamps = [{k : v for k, v in day.items() if k == 't'} for day in response]\n",
    "        for day in unix_timestamps:\n",
    "            day.update((k, v/1000) for k, v in day.items())\n",
    "            \n",
    "        \n",
    "        df[\"Date\"] = [day['t'] for day in unix_timestamps]\n",
    "        \n",
    "    indiv_data = [{k : v for k, v in day.items() if k not in remove_keys} for day in response]\n",
    "    df[\"Open_%s\" % (ticker_list[count])] = [day['o'] for day in indiv_data]\n",
    "    df[\"Close_%s\" % (ticker_list[count])] = [day['c'] for day in indiv_data]\n",
    "    df[\"High_%s\" % (ticker_list[count])] = [day['h'] for day in indiv_data]\n",
    "    df[\"Low_%s\" % (ticker_list[count])] = [day['l'] for day in indiv_data]\n",
    "    df[\"Volume_%s\" % (ticker_list[count])] = [day['v'] for day in indiv_data]\n",
    "    \n",
    "    \n",
    "    response.clear()\n",
    "    indiv_data.clear()\n"
   ]
  },
  {
   "cell_type": "code",
   "execution_count": null,
   "id": "b12674a5",
   "metadata": {},
   "outputs": [],
   "source": [
    "df.head()"
   ]
  },
  {
   "cell_type": "code",
   "execution_count": null,
   "id": "df742c8a",
   "metadata": {},
   "outputs": [],
   "source": [
    " df.info()"
   ]
  },
  {
   "cell_type": "code",
   "execution_count": null,
   "id": "8be0ecc7",
   "metadata": {},
   "outputs": [],
   "source": [
    "# change unix time stamp column to datetime\n",
    "\n",
    "df['Date'] = [datetime.fromtimestamp(d) for d in df['Date']]\n"
   ]
  },
  {
   "cell_type": "code",
   "execution_count": null,
   "id": "7c032006",
   "metadata": {},
   "outputs": [],
   "source": [
    "df.head(10)"
   ]
  },
  {
   "cell_type": "code",
   "execution_count": null,
   "id": "2121e5eb",
   "metadata": {},
   "outputs": [],
   "source": [
    "df.tail(10)"
   ]
  },
  {
   "cell_type": "code",
   "execution_count": null,
   "id": "5c6ca51d",
   "metadata": {},
   "outputs": [],
   "source": [
    "# change df data types to SQL datatypes\n",
    "replacement_dtypes = {'object':'varchar','float64': 'float', 'int64':'int','datetime64[ns]': 'timestamp'}\n",
    "col_str = \", \".join(\"{} {}\".format(n, d) for (n, d) in zip(df.columns, df.dtypes.replace(replacement_dtypes)))"
   ]
  },
  {
   "cell_type": "code",
   "execution_count": null,
   "id": "0a8168d1",
   "metadata": {},
   "outputs": [],
   "source": [
    "host = 'db-1.crs7hg7ymswn.us-east-2.rds.amazonaws.com'\n",
    "name = 'BerkHathPort'\n",
    "user = 'saajanrpatel'\n",
    "password = 'Tampa!bay21'\n",
    "conn_str = \"host=%s dbname=%s user=%s password=%s\" % (host, name, user, password)\n",
    "print(conn_str)"
   ]
  },
  {
   "cell_type": "code",
   "execution_count": null,
   "id": "f38eb08c",
   "metadata": {},
   "outputs": [],
   "source": [
    "# open connection to database\n",
    "\n",
    "tbl_name = 'XL_portfolio'\n",
    "csv_name = tbl_name + '.csv'\n",
    "conn = ps.connect(conn_str)\n",
    "cursor = conn.cursor()\n",
    "cursor.execute(\"drop table if exists %s;\" % (tbl_name))\n",
    "cursor.execute(\"create table %s (%s)\" % (tbl_name, col_str))\n",
    "df.to_csv(csv_name, header = df.columns, index = False, encoding = 'utf-8')\n",
    "myfile = open(csv_name)\n",
    "print(\"File opened in memory\")\n",
    "SQL_STATEMENT = \"\"\"\n",
    "        COPY %s FROM STDIN WITH\n",
    "            CSV\n",
    "            HEADER\n",
    "            DELIMITER AS ','\n",
    "\"\"\" % (tbl_name)\n",
    "cursor.copy_expert(sql=SQL_STATEMENT, file=myfile)\n",
    "print(\"File copied to db\")\n",
    "\n",
    "cursor.execute(\"grant select on table %s to public\" % (tbl_name))\n",
    "conn.commit()\n",
    "\n",
    "print('table %s import to db complete' % (tbl_name))"
   ]
  },
  {
   "cell_type": "code",
   "execution_count": null,
   "id": "2b8ee79c",
   "metadata": {},
   "outputs": [],
   "source": [
    "# The following subsections will serve to update the database when additional API requests are made"
   ]
  },
  {
   "cell_type": "code",
   "execution_count": null,
   "id": "eb421306",
   "metadata": {},
   "outputs": [],
   "source": [
    "last_date = check_date(cursor, tbl_name)[0].strftime('%Y-%m-%d') # checks last date stored in database\n",
    "print(last_date)"
   ]
  },
  {
   "cell_type": "code",
   "execution_count": null,
   "id": "b7c32df0",
   "metadata": {},
   "outputs": [],
   "source": [
    "column_list = [col for col in df.columns]\n",
    "print(column_list)"
   ]
  },
  {
   "cell_type": "code",
   "execution_count": null,
   "id": "d3086259",
   "metadata": {},
   "outputs": [],
   "source": [
    "# ---UNFINISHED FUNCTION---\n",
    "def insert_tab(cursor, tbl_name, col_list):\n",
    "    insert_query = (\"\"\"\n",
    "        INSERT INTO %s\n",
    "        "
   ]
  },
  {
   "cell_type": "code",
   "execution_count": null,
   "id": "1260efca",
   "metadata": {},
   "outputs": [],
   "source": [
    "# ---UNFINISHED FUNCTION---\n",
    "def app_df2db(cursor, df):\n",
    "    for i, row in df.iterrows():\n",
    "        insert_tab(cursor, row)"
   ]
  },
  {
   "cell_type": "code",
   "execution_count": null,
   "id": "e5ba6aa2",
   "metadata": {},
   "outputs": [],
   "source": [
    "cursor.close()\n",
    "conn.close()"
   ]
  }
 ],
 "metadata": {
  "kernelspec": {
   "display_name": "Python 3 (ipykernel)",
   "language": "python",
   "name": "python3"
  },
  "language_info": {
   "codemirror_mode": {
    "name": "ipython",
    "version": 3
   },
   "file_extension": ".py",
   "mimetype": "text/x-python",
   "name": "python",
   "nbconvert_exporter": "python",
   "pygments_lexer": "ipython3",
   "version": "3.9.12"
  }
 },
 "nbformat": 4,
 "nbformat_minor": 5
}
