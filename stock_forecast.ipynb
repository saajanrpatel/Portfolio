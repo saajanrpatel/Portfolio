{
 "cells": [
  {
   "cell_type": "code",
   "execution_count": null,
   "id": "a6ab99d4",
   "metadata": {},
   "outputs": [],
   "source": [
    "# Main program that performs the stock forecast "
   ]
  },
  {
   "cell_type": "code",
   "execution_count": 2,
   "id": "47047461",
   "metadata": {},
   "outputs": [],
   "source": [
    "# import libraries\n",
    "import pandas as pd\n",
    "import numpy as np\n",
    "import datetime\n",
    "import matplotlib. pyplot as plt\n",
    "from pandas.tseries.offsets import BusinessDay\n",
    "from keras.layers import LSTM, Dense, Conv1D, MaxPooling1D, Bidirectional\n",
    "from sklearn.preprocessing import StandardScaler\n",
    "from sklearn.model_selection import TimeSeriesSplit\n",
    "from sklearn.metrics import mean_squared_error, r2_score\n",
    "from keras.models import Sequential\n",
    "from tensorflow.keras.optimizers import Adam\n",
    "from keras.utils.vis_utils import plot_model\n",
    "from keras.preprocessing.sequence import TimeseriesGenerator\n",
    "from keras.utils import timeseries_dataset_from_array\n",
    "import plotly.graph_objects as go\n",
    "import glob\n",
    "import os"
   ]
  },
  {
   "cell_type": "code",
   "execution_count": null,
   "id": "974d752b",
   "metadata": {},
   "outputs": [],
   "source": [
    "### Functions ###"
   ]
  },
  {
   "cell_type": "code",
   "execution_count": 3,
   "id": "e5b45c34",
   "metadata": {},
   "outputs": [],
   "source": [
    "# get list of stock tickers in df\n",
    "def get_ticker_list(df):\n",
    "    tickers = [col.split('_')[1] for col in df.columns[1:]]\n",
    "    count, i = 0, 0\n",
    "    while i < len(tickers):\n",
    "        if count == 0:\n",
    "            unique = tickers[i]\n",
    "            count+=1\n",
    "            i+=1\n",
    "        else:\n",
    "            if tickers[i] == unique:\n",
    "                tickers.pop(i)\n",
    "            else:\n",
    "                unique = tickers[i]\n",
    "                count = 1\n",
    "                i+=1\n",
    "    return tickers"
   ]
  },
  {
   "cell_type": "code",
   "execution_count": 4,
   "id": "3c3ebb8e",
   "metadata": {},
   "outputs": [],
   "source": [
    "# computes relative strength index (rsi) from a stock's close prices\n",
    "def get_rsi(prices):\n",
    "    periods = 14\n",
    "    ema = True\n",
    "    close_delta = prices.diff()\n",
    "\n",
    "    # Make two series: one for lower closes and one for higher closes\n",
    "    up = close_delta.clip(lower=0)\n",
    "    down = -1 * close_delta.clip(upper=0)\n",
    "    \n",
    "    if ema == True:\n",
    "        # Use exponential moving average\n",
    "        ma_up = up.ewm(com = periods - 1, adjust=True, min_periods = periods).mean()\n",
    "        ma_down = down.ewm(com = periods - 1, adjust=True, min_periods = periods).mean()\n",
    "    else:\n",
    "        # Use simple moving average\n",
    "        ma_up = up.rolling(window = periods, adjust=False).mean()\n",
    "        ma_down = down.rolling(window = periods, adjust=False).mean()\n",
    "        \n",
    "    rsi = ma_up / ma_down\n",
    "    rsi = 100 - (100/(1 + rsi))\n",
    "    return rsi"
   ]
  },
  {
   "cell_type": "code",
   "execution_count": 5,
   "id": "4e20b653",
   "metadata": {},
   "outputs": [],
   "source": [
    "def get_return(df):\n",
    "    returns = [np.NaN]\n",
    "    for i in range(1,len(df)):\n",
    "        returns.append(100*(df[i] - df[i-1])/df[i-1])\n",
    "    return returns\n",
    "        "
   ]
  },
  {
   "cell_type": "code",
   "execution_count": 6,
   "id": "4d833629",
   "metadata": {},
   "outputs": [],
   "source": [
    "# puts df data into a dictionary, adding rsi data, as well as train/test dates\n",
    "def put_into_dict(df, tickers):\n",
    "    dfdict = dict()\n",
    "    split_percent = 0.90\n",
    "    split = int(split_percent*len(df.index))\n",
    "    # dictionary with full range open, close, vol, and rsi values\n",
    "    for ticker in tickers:\n",
    "        dfdict['open_%s' % (ticker)]  = df['open_%s' % (ticker)].values\n",
    "        dfdict['close_%s' % (ticker)] = df['close_%s' % (ticker)].values\n",
    "        dfdict['volume_%s' % (ticker)] = df['volume_%s' % (ticker)].values\n",
    "        dfdict['rsi_%s' % (ticker)] = get_rsi(df['close_%s' % (ticker)])\n",
    "    date_tr = df.index[:split]\n",
    "    date_test = df.index[split:]\n",
    "    return dfdict"
   ]
  },
  {
   "cell_type": "code",
   "execution_count": 7,
   "id": "149d044f",
   "metadata": {},
   "outputs": [],
   "source": [
    "def feature_scale(df, split):\n",
    "    #scaler = StandardScaler()\n",
    "    df_fs = pd.DataFrame()\n",
    "    # avoid feature scaling date column\n",
    "    #for col in df.columns[1:]:\n",
    "        #df_fs[[col]] = scaler.fit_transform(df[[col]])\n",
    "    df_fs.set_axis(df['date'], inplace = True)\n",
    "    #return df_fs, scaler\n",
    "    dict_scalers = dict()\n",
    "    for col in df.columns[1:]:\n",
    "        dict_scalers['%s_mean_tr'%(col)] = df[col].iloc[:split].mean() # store mean and std to access in inverse feature scaling later\n",
    "        dict_scalers['%s_std_tr'%(col)] = df[col].iloc[:split].std()\n",
    "        dict_scalers['%s_mean_test'%(col)] = df[col].iloc[split:].mean() \n",
    "        dict_scalers['%s_std_test'%(col)] = df[col].iloc[split:].std()\n",
    "        df_fs[col] = 0\n",
    "        for i, ind in enumerate(df.index):\n",
    "            if i < split:\n",
    "                df_fs[col].iloc[i] = (df[col].iloc[i] - df[col].iloc[:split].mean()) / df[col].iloc[:split].std()\n",
    "            else:\n",
    "                df_fs[col].iloc[i] = (df[col].iloc[i] - df[col].iloc[split:].mean())/ df[col].iloc[split:].std()\n",
    "    return df_fs, dict_scalers\n"
   ]
  },
  {
   "cell_type": "code",
   "execution_count": 8,
   "id": "d7a96e15",
   "metadata": {},
   "outputs": [],
   "source": [
    "def inv_feature_scale(dfdict, tickers, dict_scalers):\n",
    "    #for ticker in tickers:\n",
    "        #dfdict['pred_%s'%(ticker.lower())] = scaler.inverse_transform(dfdict['pred_%s_fs'%(ticker.lower())])\n",
    "    for ticker in tickers:\n",
    "        dfdict['pred_%s'%(ticker)] = dfdict['pred_%s_fs'%(ticker)] * dict_scalers['close_%s_std_test'%(ticker)] + dict_scalers['close_%s_mean_test'%(ticker)]\n",
    "    "
   ]
  },
  {
   "cell_type": "code",
   "execution_count": 9,
   "id": "3b5f09f2",
   "metadata": {},
   "outputs": [],
   "source": [
    "def basic_LSTM_model(df, look_back, split=0.85, base = 'AAPL', num_epochs=30):\n",
    "    base = base.lower()\n",
    "    model = Sequential()\n",
    "    \n",
    "    model.add(\n",
    "        LSTM(10, activation = 'relu', input_shape = (look_back, 1))\n",
    "    )\n",
    "    model.add(Dense(1))\n",
    "    model.compile(optimizer = 'adam', loss = 'mse', metrics = ['accuracy'])\n",
    "    training = timeseries_dataset_from_array(df[['close_%s'%(base)]].to_numpy(), df[['close_%s'%(base)]].to_numpy(), sequence_length = look_back, \n",
    "                                                    batch_size = 12, start_index = None, end_index = int(split*len(df.index)))\n",
    "    model.fit(training, epochs = num_epochs, verbose = 1)\n",
    "    return model"
   ]
  },
  {
   "cell_type": "code",
   "execution_count": 42,
   "id": "c63c5580",
   "metadata": {},
   "outputs": [],
   "source": [
    "def CNN_LSTM_model(df, split=0.90, base='AAPL',num_epochs=100, batch_size=16):\n",
    "    base = base.lower()\n",
    "    model=Sequential()\n",
    "    model.add(Conv1D(filters=24, kernel_size=1, padding='same', activation='tanh',input_shape=(1, 6)))\n",
    "    model.add(MaxPooling1D(pool_size=1, padding='same'))\n",
    "    model.add(LSTM(24, activation='tanh'))\n",
    "    model.add(Dense(1))\n",
    "    model.compile(optimizer='adam', loss='mse')\n",
    "    training = timeseries_dataset_from_array(df[['close_%s'%(base),'open_%s'%(base),'high_%s'%(base),\n",
    "                                                'low_%s'%(base),'rsi_%s'%(base),'ret_%s'%(base)]],\n",
    "                                            df[['close_%s'%(base)]], sequence_length=1, batch_size=batch_size,\n",
    "                                            start_index=14, end_index=int(split*len(df.index)))\n",
    "    model.fit(training, epochs=num_epochs,verbose=1)\n",
    "    #plot_model(model, show_shapes=True, show_layer_names=True)\n",
    "    return model"
   ]
  },
  {
   "cell_type": "code",
   "execution_count": 139,
   "id": "fd6448f7",
   "metadata": {},
   "outputs": [],
   "source": [
    "def construct_strategy(date, preds, act, split, run_as_test=True):\n",
    "    n, i, profit = len(preds)-1, 0, 0\n",
    "    while (i < (n - 1)):   \n",
    "        # iterate until local minima is found in prediction set\n",
    "        while ((i < (n - 1)) and (preds[i + 1] <= preds[i])): \n",
    "            i += 1\n",
    "        # If we reached the end, break\n",
    "        if (i == n - 1):\n",
    "            break\n",
    "        # Store the index of minima\n",
    "        buy = i   \n",
    "        # iterate to find local maxima\n",
    "        while ((i < n) and (preds[i+1] >= preds[i])):\n",
    "            i += 1\n",
    "        if run_as_test:\n",
    "            act_open = act\n",
    "        if i<(n-1) and run_as_test:\n",
    "            sell = i\n",
    "          \n",
    "            print(\"Buy after mkt open on\", date[split+buy+1], \" and sell after mkt open on\", date[split+sell+1])\n",
    "            print(\" Predicted profit for trade: $\",(preds[sell] - preds[buy]) * 10, \"Actual profit for trade: $\",(act_open[sell+1] - act_open[buy+1]) * 10)\n",
    "            # Calculate the expected profit buying/selling 10 units\n",
    "            profit += (act_open[sell+1] - act_open[buy+1]) * 10\n",
    "    return '${:,.2f}'.format(profit)"
   ]
  },
  {
   "cell_type": "code",
   "execution_count": 12,
   "id": "0cbb178f",
   "metadata": {},
   "outputs": [],
   "source": [
    "# call with start_index = split-5 for standard prediction\n",
    "def make_prediction(model, df, start_index, end_index=None, base = 'JNJ', look_back=1): \n",
    "    base = base.lower()\n",
    "    trial = timeseries_dataset_from_array(df[['close_%s'%(base),'open_%s'%(base),'high_%s'%(base),\n",
    "                                                'low_%s'%(base),'rsi_%s'%(base),'ret_%s'%(base)]], \n",
    "                                          None, sequence_length = look_back, \n",
    "                                          start_index = start_index, end_index = None)\n",
    "    return model.predict(trial)"
   ]
  },
  {
   "cell_type": "code",
   "execution_count": 30,
   "id": "9a493a2f",
   "metadata": {
    "scrolled": false
   },
   "outputs": [],
   "source": [
    "def plot_single_large(df, date, prediction, split, base='JNJ'):\n",
    "    base = base.lower()\n",
    "    trace1 = go.Scatter(\n",
    "        x = df.index.values[400:split+1],\n",
    "        y = df['close_%s'%(base)][400:split+1],\n",
    "        mode = 'lines',\n",
    "        name = 'Data'\n",
    "    )\n",
    "    trace2 = go.Scatter(\n",
    "        x = date[split-1:],\n",
    "        y = prediction.reshape(-1),\n",
    "        mode = 'lines',\n",
    "        name = 'Prediction'\n",
    "    )\n",
    "    trace3 = go.Scatter(\n",
    "        x = df.index.values[split:],\n",
    "        y = df['close_%s'%(base)][split:],\n",
    "        mode = 'lines',\n",
    "        name = 'Ground Truth'\n",
    "    )\n",
    "    layout = go.Layout(\n",
    "        title = base.upper(),\n",
    "        xaxis = {'title' : \"Date\"},\n",
    "        yaxis = {'title' : \"Close\"}\n",
    "    )\n",
    "    fig = go.Figure(data = [trace1, trace2, trace3], layout = layout)\n",
    "    fig.show()"
   ]
  },
  {
   "cell_type": "code",
   "execution_count": null,
   "id": "a7cd35b2",
   "metadata": {},
   "outputs": [],
   "source": [
    "### Main Code Block ###"
   ]
  },
  {
   "cell_type": "code",
   "execution_count": 123,
   "id": "d80c84fb",
   "metadata": {
    "scrolled": true
   },
   "outputs": [
    {
     "data": {
      "text/html": [
       "<div>\n",
       "<style scoped>\n",
       "    .dataframe tbody tr th:only-of-type {\n",
       "        vertical-align: middle;\n",
       "    }\n",
       "\n",
       "    .dataframe tbody tr th {\n",
       "        vertical-align: top;\n",
       "    }\n",
       "\n",
       "    .dataframe thead th {\n",
       "        text-align: right;\n",
       "    }\n",
       "</style>\n",
       "<table border=\"1\" class=\"dataframe\">\n",
       "  <thead>\n",
       "    <tr style=\"text-align: right;\">\n",
       "      <th></th>\n",
       "      <th>date</th>\n",
       "      <th>open_xlb</th>\n",
       "      <th>close_xlb</th>\n",
       "      <th>high_xlb</th>\n",
       "      <th>low_xlb</th>\n",
       "      <th>volume_xlb</th>\n",
       "      <th>open_xlc</th>\n",
       "      <th>close_xlc</th>\n",
       "      <th>high_xlc</th>\n",
       "      <th>low_xlc</th>\n",
       "      <th>...</th>\n",
       "      <th>open_xlf</th>\n",
       "      <th>close_xlf</th>\n",
       "      <th>high_xlf</th>\n",
       "      <th>low_xlf</th>\n",
       "      <th>volume_xlf</th>\n",
       "      <th>open_xlk</th>\n",
       "      <th>close_xlk</th>\n",
       "      <th>high_xlk</th>\n",
       "      <th>low_xlk</th>\n",
       "      <th>volume_xlk</th>\n",
       "    </tr>\n",
       "    <tr>\n",
       "      <th>Date</th>\n",
       "      <th></th>\n",
       "      <th></th>\n",
       "      <th></th>\n",
       "      <th></th>\n",
       "      <th></th>\n",
       "      <th></th>\n",
       "      <th></th>\n",
       "      <th></th>\n",
       "      <th></th>\n",
       "      <th></th>\n",
       "      <th></th>\n",
       "      <th></th>\n",
       "      <th></th>\n",
       "      <th></th>\n",
       "      <th></th>\n",
       "      <th></th>\n",
       "      <th></th>\n",
       "      <th></th>\n",
       "      <th></th>\n",
       "      <th></th>\n",
       "      <th></th>\n",
       "    </tr>\n",
       "  </thead>\n",
       "  <tbody>\n",
       "    <tr>\n",
       "      <th>2022-07-28</th>\n",
       "      <td>2022-07-28</td>\n",
       "      <td>76.12</td>\n",
       "      <td>77.10</td>\n",
       "      <td>77.180</td>\n",
       "      <td>75.950</td>\n",
       "      <td>5915993.0</td>\n",
       "      <td>55.94</td>\n",
       "      <td>56.34</td>\n",
       "      <td>56.350</td>\n",
       "      <td>55.24</td>\n",
       "      <td>...</td>\n",
       "      <td>33.03</td>\n",
       "      <td>33.24</td>\n",
       "      <td>33.250</td>\n",
       "      <td>32.50</td>\n",
       "      <td>40974555.0</td>\n",
       "      <td>140.07</td>\n",
       "      <td>142.04</td>\n",
       "      <td>142.36</td>\n",
       "      <td>138.82</td>\n",
       "      <td>6204042.0</td>\n",
       "    </tr>\n",
       "    <tr>\n",
       "      <th>2022-07-29</th>\n",
       "      <td>2022-07-29</td>\n",
       "      <td>77.65</td>\n",
       "      <td>78.13</td>\n",
       "      <td>78.340</td>\n",
       "      <td>77.350</td>\n",
       "      <td>4629139.0</td>\n",
       "      <td>55.86</td>\n",
       "      <td>56.37</td>\n",
       "      <td>56.490</td>\n",
       "      <td>55.52</td>\n",
       "      <td>...</td>\n",
       "      <td>33.32</td>\n",
       "      <td>33.71</td>\n",
       "      <td>33.820</td>\n",
       "      <td>33.29</td>\n",
       "      <td>38724004.0</td>\n",
       "      <td>142.48</td>\n",
       "      <td>144.22</td>\n",
       "      <td>144.67</td>\n",
       "      <td>141.88</td>\n",
       "      <td>5088675.0</td>\n",
       "    </tr>\n",
       "    <tr>\n",
       "      <th>2022-08-01</th>\n",
       "      <td>2022-08-01</td>\n",
       "      <td>77.76</td>\n",
       "      <td>77.50</td>\n",
       "      <td>77.820</td>\n",
       "      <td>76.935</td>\n",
       "      <td>5205845.0</td>\n",
       "      <td>55.95</td>\n",
       "      <td>56.29</td>\n",
       "      <td>56.870</td>\n",
       "      <td>55.58</td>\n",
       "      <td>...</td>\n",
       "      <td>33.39</td>\n",
       "      <td>33.43</td>\n",
       "      <td>33.615</td>\n",
       "      <td>33.20</td>\n",
       "      <td>34943634.0</td>\n",
       "      <td>142.92</td>\n",
       "      <td>143.91</td>\n",
       "      <td>145.35</td>\n",
       "      <td>142.57</td>\n",
       "      <td>6258003.0</td>\n",
       "    </tr>\n",
       "    <tr>\n",
       "      <th>2022-08-02</th>\n",
       "      <td>2022-08-02</td>\n",
       "      <td>77.11</td>\n",
       "      <td>76.71</td>\n",
       "      <td>77.785</td>\n",
       "      <td>76.280</td>\n",
       "      <td>5683689.0</td>\n",
       "      <td>55.94</td>\n",
       "      <td>56.20</td>\n",
       "      <td>56.875</td>\n",
       "      <td>55.88</td>\n",
       "      <td>...</td>\n",
       "      <td>33.27</td>\n",
       "      <td>33.06</td>\n",
       "      <td>33.490</td>\n",
       "      <td>33.02</td>\n",
       "      <td>36760688.0</td>\n",
       "      <td>142.67</td>\n",
       "      <td>142.89</td>\n",
       "      <td>144.54</td>\n",
       "      <td>141.66</td>\n",
       "      <td>7960900.0</td>\n",
       "    </tr>\n",
       "    <tr>\n",
       "      <th>2022-08-03</th>\n",
       "      <td>2022-08-03</td>\n",
       "      <td>77.13</td>\n",
       "      <td>76.79</td>\n",
       "      <td>77.320</td>\n",
       "      <td>76.140</td>\n",
       "      <td>4798734.0</td>\n",
       "      <td>56.42</td>\n",
       "      <td>57.55</td>\n",
       "      <td>57.730</td>\n",
       "      <td>56.32</td>\n",
       "      <td>...</td>\n",
       "      <td>33.31</td>\n",
       "      <td>33.56</td>\n",
       "      <td>33.640</td>\n",
       "      <td>33.12</td>\n",
       "      <td>27280718.0</td>\n",
       "      <td>143.59</td>\n",
       "      <td>146.69</td>\n",
       "      <td>147.10</td>\n",
       "      <td>143.56</td>\n",
       "      <td>7121765.0</td>\n",
       "    </tr>\n",
       "  </tbody>\n",
       "</table>\n",
       "<p>5 rows × 31 columns</p>\n",
       "</div>"
      ],
      "text/plain": [
       "                  date  open_xlb  close_xlb  high_xlb  low_xlb  volume_xlb  \\\n",
       "Date                                                                         \n",
       "2022-07-28  2022-07-28     76.12      77.10    77.180   75.950   5915993.0   \n",
       "2022-07-29  2022-07-29     77.65      78.13    78.340   77.350   4629139.0   \n",
       "2022-08-01  2022-08-01     77.76      77.50    77.820   76.935   5205845.0   \n",
       "2022-08-02  2022-08-02     77.11      76.71    77.785   76.280   5683689.0   \n",
       "2022-08-03  2022-08-03     77.13      76.79    77.320   76.140   4798734.0   \n",
       "\n",
       "            open_xlc  close_xlc  high_xlc  low_xlc  ...  open_xlf  close_xlf  \\\n",
       "Date                                                ...                        \n",
       "2022-07-28     55.94      56.34    56.350    55.24  ...     33.03      33.24   \n",
       "2022-07-29     55.86      56.37    56.490    55.52  ...     33.32      33.71   \n",
       "2022-08-01     55.95      56.29    56.870    55.58  ...     33.39      33.43   \n",
       "2022-08-02     55.94      56.20    56.875    55.88  ...     33.27      33.06   \n",
       "2022-08-03     56.42      57.55    57.730    56.32  ...     33.31      33.56   \n",
       "\n",
       "            high_xlf  low_xlf  volume_xlf  open_xlk  close_xlk  high_xlk  \\\n",
       "Date                                                                       \n",
       "2022-07-28    33.250    32.50  40974555.0    140.07     142.04    142.36   \n",
       "2022-07-29    33.820    33.29  38724004.0    142.48     144.22    144.67   \n",
       "2022-08-01    33.615    33.20  34943634.0    142.92     143.91    145.35   \n",
       "2022-08-02    33.490    33.02  36760688.0    142.67     142.89    144.54   \n",
       "2022-08-03    33.640    33.12  27280718.0    143.59     146.69    147.10   \n",
       "\n",
       "            low_xlk  volume_xlk  \n",
       "Date                             \n",
       "2022-07-28   138.82   6204042.0  \n",
       "2022-07-29   141.88   5088675.0  \n",
       "2022-08-01   142.57   6258003.0  \n",
       "2022-08-02   141.66   7960900.0  \n",
       "2022-08-03   143.56   7121765.0  \n",
       "\n",
       "[5 rows x 31 columns]"
      ]
     },
     "execution_count": 123,
     "metadata": {},
     "output_type": "execute_result"
    }
   ],
   "source": [
    "# Pulls updated (already pulled from db and api) stock data. Sets date to index\n",
    "csv_name = 'XL_portfolio.csv'\n",
    "df = pd.read_csv(csv_name)\n",
    "#df = df.iloc[:,1:]\n",
    "df.set_axis(df['Date'], inplace = True)\n",
    "df.columns = [col.lower() for col in df.columns]\n",
    "df.tail()"
   ]
  },
  {
   "cell_type": "code",
   "execution_count": 124,
   "id": "019f28f4",
   "metadata": {},
   "outputs": [
    {
     "name": "stdout",
     "output_type": "stream",
     "text": [
      "['xlb', 'xlc', 'xle', 'xli', 'xlf', 'xlk']\n"
     ]
    }
   ],
   "source": [
    "tickers = get_ticker_list(df)\n",
    "print(tickers)"
   ]
  },
  {
   "cell_type": "code",
   "execution_count": 125,
   "id": "6f890641",
   "metadata": {},
   "outputs": [],
   "source": [
    "dfdict = put_into_dict(df, tickers)"
   ]
  },
  {
   "cell_type": "code",
   "execution_count": 126,
   "id": "b44ac485",
   "metadata": {},
   "outputs": [],
   "source": [
    "for ticker in tickers:\n",
    "    df['rsi_%s' % (ticker)] = get_rsi(df['close_%s' % (ticker)])\n",
    "    df['ret_%s' % (ticker)] = get_return(df['close_%s' % (ticker)])"
   ]
  },
  {
   "cell_type": "code",
   "execution_count": 127,
   "id": "bb75c6e9",
   "metadata": {},
   "outputs": [],
   "source": [
    "split = int(0.90 * len(df.index))"
   ]
  },
  {
   "cell_type": "code",
   "execution_count": 128,
   "id": "f6871370",
   "metadata": {
    "collapsed": true
   },
   "outputs": [
    {
     "name": "stderr",
     "output_type": "stream",
     "text": [
      "C:\\Users\\HP\\AppData\\Local\\Temp\\ipykernel_18492\\3867947128.py:18: SettingWithCopyWarning:\n",
      "\n",
      "\n",
      "A value is trying to be set on a copy of a slice from a DataFrame\n",
      "\n",
      "See the caveats in the documentation: https://pandas.pydata.org/pandas-docs/stable/user_guide/indexing.html#returning-a-view-versus-a-copy\n",
      "\n",
      "C:\\Users\\HP\\AppData\\Local\\Temp\\ipykernel_18492\\3867947128.py:18: SettingWithCopyWarning:\n",
      "\n",
      "\n",
      "A value is trying to be set on a copy of a slice from a DataFrame\n",
      "\n",
      "See the caveats in the documentation: https://pandas.pydata.org/pandas-docs/stable/user_guide/indexing.html#returning-a-view-versus-a-copy\n",
      "\n",
      "C:\\Users\\HP\\AppData\\Local\\Temp\\ipykernel_18492\\3867947128.py:18: SettingWithCopyWarning:\n",
      "\n",
      "\n",
      "A value is trying to be set on a copy of a slice from a DataFrame\n",
      "\n",
      "See the caveats in the documentation: https://pandas.pydata.org/pandas-docs/stable/user_guide/indexing.html#returning-a-view-versus-a-copy\n",
      "\n",
      "C:\\Users\\HP\\AppData\\Local\\Temp\\ipykernel_18492\\3867947128.py:18: SettingWithCopyWarning:\n",
      "\n",
      "\n",
      "A value is trying to be set on a copy of a slice from a DataFrame\n",
      "\n",
      "See the caveats in the documentation: https://pandas.pydata.org/pandas-docs/stable/user_guide/indexing.html#returning-a-view-versus-a-copy\n",
      "\n",
      "C:\\Users\\HP\\AppData\\Local\\Temp\\ipykernel_18492\\3867947128.py:18: SettingWithCopyWarning:\n",
      "\n",
      "\n",
      "A value is trying to be set on a copy of a slice from a DataFrame\n",
      "\n",
      "See the caveats in the documentation: https://pandas.pydata.org/pandas-docs/stable/user_guide/indexing.html#returning-a-view-versus-a-copy\n",
      "\n",
      "C:\\Users\\HP\\AppData\\Local\\Temp\\ipykernel_18492\\3867947128.py:18: SettingWithCopyWarning:\n",
      "\n",
      "\n",
      "A value is trying to be set on a copy of a slice from a DataFrame\n",
      "\n",
      "See the caveats in the documentation: https://pandas.pydata.org/pandas-docs/stable/user_guide/indexing.html#returning-a-view-versus-a-copy\n",
      "\n",
      "C:\\Users\\HP\\AppData\\Local\\Temp\\ipykernel_18492\\3867947128.py:18: SettingWithCopyWarning:\n",
      "\n",
      "\n",
      "A value is trying to be set on a copy of a slice from a DataFrame\n",
      "\n",
      "See the caveats in the documentation: https://pandas.pydata.org/pandas-docs/stable/user_guide/indexing.html#returning-a-view-versus-a-copy\n",
      "\n",
      "C:\\Users\\HP\\AppData\\Local\\Temp\\ipykernel_18492\\3867947128.py:18: SettingWithCopyWarning:\n",
      "\n",
      "\n",
      "A value is trying to be set on a copy of a slice from a DataFrame\n",
      "\n",
      "See the caveats in the documentation: https://pandas.pydata.org/pandas-docs/stable/user_guide/indexing.html#returning-a-view-versus-a-copy\n",
      "\n",
      "C:\\Users\\HP\\AppData\\Local\\Temp\\ipykernel_18492\\3867947128.py:18: SettingWithCopyWarning:\n",
      "\n",
      "\n",
      "A value is trying to be set on a copy of a slice from a DataFrame\n",
      "\n",
      "See the caveats in the documentation: https://pandas.pydata.org/pandas-docs/stable/user_guide/indexing.html#returning-a-view-versus-a-copy\n",
      "\n",
      "C:\\Users\\HP\\AppData\\Local\\Temp\\ipykernel_18492\\3867947128.py:18: SettingWithCopyWarning:\n",
      "\n",
      "\n",
      "A value is trying to be set on a copy of a slice from a DataFrame\n",
      "\n",
      "See the caveats in the documentation: https://pandas.pydata.org/pandas-docs/stable/user_guide/indexing.html#returning-a-view-versus-a-copy\n",
      "\n",
      "C:\\Users\\HP\\AppData\\Local\\Temp\\ipykernel_18492\\3867947128.py:18: SettingWithCopyWarning:\n",
      "\n",
      "\n",
      "A value is trying to be set on a copy of a slice from a DataFrame\n",
      "\n",
      "See the caveats in the documentation: https://pandas.pydata.org/pandas-docs/stable/user_guide/indexing.html#returning-a-view-versus-a-copy\n",
      "\n",
      "C:\\Users\\HP\\AppData\\Local\\Temp\\ipykernel_18492\\3867947128.py:18: SettingWithCopyWarning:\n",
      "\n",
      "\n",
      "A value is trying to be set on a copy of a slice from a DataFrame\n",
      "\n",
      "See the caveats in the documentation: https://pandas.pydata.org/pandas-docs/stable/user_guide/indexing.html#returning-a-view-versus-a-copy\n",
      "\n",
      "C:\\Users\\HP\\AppData\\Local\\Temp\\ipykernel_18492\\3867947128.py:18: SettingWithCopyWarning:\n",
      "\n",
      "\n",
      "A value is trying to be set on a copy of a slice from a DataFrame\n",
      "\n",
      "See the caveats in the documentation: https://pandas.pydata.org/pandas-docs/stable/user_guide/indexing.html#returning-a-view-versus-a-copy\n",
      "\n",
      "C:\\Users\\HP\\AppData\\Local\\Temp\\ipykernel_18492\\3867947128.py:18: SettingWithCopyWarning:\n",
      "\n",
      "\n",
      "A value is trying to be set on a copy of a slice from a DataFrame\n",
      "\n",
      "See the caveats in the documentation: https://pandas.pydata.org/pandas-docs/stable/user_guide/indexing.html#returning-a-view-versus-a-copy\n",
      "\n",
      "C:\\Users\\HP\\AppData\\Local\\Temp\\ipykernel_18492\\3867947128.py:18: SettingWithCopyWarning:\n",
      "\n",
      "\n",
      "A value is trying to be set on a copy of a slice from a DataFrame\n",
      "\n",
      "See the caveats in the documentation: https://pandas.pydata.org/pandas-docs/stable/user_guide/indexing.html#returning-a-view-versus-a-copy\n",
      "\n",
      "C:\\Users\\HP\\AppData\\Local\\Temp\\ipykernel_18492\\3867947128.py:18: SettingWithCopyWarning:\n",
      "\n",
      "\n",
      "A value is trying to be set on a copy of a slice from a DataFrame\n",
      "\n",
      "See the caveats in the documentation: https://pandas.pydata.org/pandas-docs/stable/user_guide/indexing.html#returning-a-view-versus-a-copy\n",
      "\n",
      "C:\\Users\\HP\\AppData\\Local\\Temp\\ipykernel_18492\\3867947128.py:18: SettingWithCopyWarning:\n",
      "\n",
      "\n",
      "A value is trying to be set on a copy of a slice from a DataFrame\n",
      "\n",
      "See the caveats in the documentation: https://pandas.pydata.org/pandas-docs/stable/user_guide/indexing.html#returning-a-view-versus-a-copy\n",
      "\n",
      "C:\\Users\\HP\\AppData\\Local\\Temp\\ipykernel_18492\\3867947128.py:18: SettingWithCopyWarning:\n",
      "\n",
      "\n",
      "A value is trying to be set on a copy of a slice from a DataFrame\n",
      "\n",
      "See the caveats in the documentation: https://pandas.pydata.org/pandas-docs/stable/user_guide/indexing.html#returning-a-view-versus-a-copy\n",
      "\n",
      "C:\\Users\\HP\\AppData\\Local\\Temp\\ipykernel_18492\\3867947128.py:18: SettingWithCopyWarning:\n",
      "\n",
      "\n",
      "A value is trying to be set on a copy of a slice from a DataFrame\n",
      "\n",
      "See the caveats in the documentation: https://pandas.pydata.org/pandas-docs/stable/user_guide/indexing.html#returning-a-view-versus-a-copy\n",
      "\n",
      "C:\\Users\\HP\\AppData\\Local\\Temp\\ipykernel_18492\\3867947128.py:18: SettingWithCopyWarning:\n",
      "\n",
      "\n",
      "A value is trying to be set on a copy of a slice from a DataFrame\n",
      "\n",
      "See the caveats in the documentation: https://pandas.pydata.org/pandas-docs/stable/user_guide/indexing.html#returning-a-view-versus-a-copy\n",
      "\n",
      "C:\\Users\\HP\\AppData\\Local\\Temp\\ipykernel_18492\\3867947128.py:18: SettingWithCopyWarning:\n",
      "\n",
      "\n",
      "A value is trying to be set on a copy of a slice from a DataFrame\n",
      "\n",
      "See the caveats in the documentation: https://pandas.pydata.org/pandas-docs/stable/user_guide/indexing.html#returning-a-view-versus-a-copy\n",
      "\n",
      "C:\\Users\\HP\\AppData\\Local\\Temp\\ipykernel_18492\\3867947128.py:18: SettingWithCopyWarning:\n",
      "\n",
      "\n",
      "A value is trying to be set on a copy of a slice from a DataFrame\n",
      "\n",
      "See the caveats in the documentation: https://pandas.pydata.org/pandas-docs/stable/user_guide/indexing.html#returning-a-view-versus-a-copy\n",
      "\n",
      "C:\\Users\\HP\\AppData\\Local\\Temp\\ipykernel_18492\\3867947128.py:18: SettingWithCopyWarning:\n",
      "\n",
      "\n",
      "A value is trying to be set on a copy of a slice from a DataFrame\n",
      "\n",
      "See the caveats in the documentation: https://pandas.pydata.org/pandas-docs/stable/user_guide/indexing.html#returning-a-view-versus-a-copy\n",
      "\n",
      "C:\\Users\\HP\\AppData\\Local\\Temp\\ipykernel_18492\\3867947128.py:18: SettingWithCopyWarning:\n",
      "\n",
      "\n",
      "A value is trying to be set on a copy of a slice from a DataFrame\n",
      "\n",
      "See the caveats in the documentation: https://pandas.pydata.org/pandas-docs/stable/user_guide/indexing.html#returning-a-view-versus-a-copy\n",
      "\n",
      "C:\\Users\\HP\\AppData\\Local\\Temp\\ipykernel_18492\\3867947128.py:18: SettingWithCopyWarning:\n",
      "\n",
      "\n",
      "A value is trying to be set on a copy of a slice from a DataFrame\n",
      "\n",
      "See the caveats in the documentation: https://pandas.pydata.org/pandas-docs/stable/user_guide/indexing.html#returning-a-view-versus-a-copy\n",
      "\n",
      "C:\\Users\\HP\\AppData\\Local\\Temp\\ipykernel_18492\\3867947128.py:18: SettingWithCopyWarning:\n",
      "\n",
      "\n",
      "A value is trying to be set on a copy of a slice from a DataFrame\n",
      "\n",
      "See the caveats in the documentation: https://pandas.pydata.org/pandas-docs/stable/user_guide/indexing.html#returning-a-view-versus-a-copy\n",
      "\n",
      "C:\\Users\\HP\\AppData\\Local\\Temp\\ipykernel_18492\\3867947128.py:18: SettingWithCopyWarning:\n",
      "\n",
      "\n",
      "A value is trying to be set on a copy of a slice from a DataFrame\n",
      "\n",
      "See the caveats in the documentation: https://pandas.pydata.org/pandas-docs/stable/user_guide/indexing.html#returning-a-view-versus-a-copy\n",
      "\n",
      "C:\\Users\\HP\\AppData\\Local\\Temp\\ipykernel_18492\\3867947128.py:18: SettingWithCopyWarning:\n",
      "\n",
      "\n",
      "A value is trying to be set on a copy of a slice from a DataFrame\n",
      "\n",
      "See the caveats in the documentation: https://pandas.pydata.org/pandas-docs/stable/user_guide/indexing.html#returning-a-view-versus-a-copy\n",
      "\n",
      "C:\\Users\\HP\\AppData\\Local\\Temp\\ipykernel_18492\\3867947128.py:18: SettingWithCopyWarning:\n",
      "\n",
      "\n",
      "A value is trying to be set on a copy of a slice from a DataFrame\n",
      "\n",
      "See the caveats in the documentation: https://pandas.pydata.org/pandas-docs/stable/user_guide/indexing.html#returning-a-view-versus-a-copy\n",
      "\n"
     ]
    },
    {
     "name": "stderr",
     "output_type": "stream",
     "text": [
      "C:\\Users\\HP\\AppData\\Local\\Temp\\ipykernel_18492\\3867947128.py:18: SettingWithCopyWarning:\n",
      "\n",
      "\n",
      "A value is trying to be set on a copy of a slice from a DataFrame\n",
      "\n",
      "See the caveats in the documentation: https://pandas.pydata.org/pandas-docs/stable/user_guide/indexing.html#returning-a-view-versus-a-copy\n",
      "\n",
      "C:\\Users\\HP\\AppData\\Local\\Temp\\ipykernel_18492\\3867947128.py:18: SettingWithCopyWarning:\n",
      "\n",
      "\n",
      "A value is trying to be set on a copy of a slice from a DataFrame\n",
      "\n",
      "See the caveats in the documentation: https://pandas.pydata.org/pandas-docs/stable/user_guide/indexing.html#returning-a-view-versus-a-copy\n",
      "\n",
      "C:\\Users\\HP\\AppData\\Local\\Temp\\ipykernel_18492\\3867947128.py:18: SettingWithCopyWarning:\n",
      "\n",
      "\n",
      "A value is trying to be set on a copy of a slice from a DataFrame\n",
      "\n",
      "See the caveats in the documentation: https://pandas.pydata.org/pandas-docs/stable/user_guide/indexing.html#returning-a-view-versus-a-copy\n",
      "\n",
      "C:\\Users\\HP\\AppData\\Local\\Temp\\ipykernel_18492\\3867947128.py:18: SettingWithCopyWarning:\n",
      "\n",
      "\n",
      "A value is trying to be set on a copy of a slice from a DataFrame\n",
      "\n",
      "See the caveats in the documentation: https://pandas.pydata.org/pandas-docs/stable/user_guide/indexing.html#returning-a-view-versus-a-copy\n",
      "\n",
      "C:\\Users\\HP\\AppData\\Local\\Temp\\ipykernel_18492\\3867947128.py:18: SettingWithCopyWarning:\n",
      "\n",
      "\n",
      "A value is trying to be set on a copy of a slice from a DataFrame\n",
      "\n",
      "See the caveats in the documentation: https://pandas.pydata.org/pandas-docs/stable/user_guide/indexing.html#returning-a-view-versus-a-copy\n",
      "\n",
      "C:\\Users\\HP\\AppData\\Local\\Temp\\ipykernel_18492\\3867947128.py:18: SettingWithCopyWarning:\n",
      "\n",
      "\n",
      "A value is trying to be set on a copy of a slice from a DataFrame\n",
      "\n",
      "See the caveats in the documentation: https://pandas.pydata.org/pandas-docs/stable/user_guide/indexing.html#returning-a-view-versus-a-copy\n",
      "\n",
      "C:\\Users\\HP\\AppData\\Local\\Temp\\ipykernel_18492\\3867947128.py:18: SettingWithCopyWarning:\n",
      "\n",
      "\n",
      "A value is trying to be set on a copy of a slice from a DataFrame\n",
      "\n",
      "See the caveats in the documentation: https://pandas.pydata.org/pandas-docs/stable/user_guide/indexing.html#returning-a-view-versus-a-copy\n",
      "\n",
      "C:\\Users\\HP\\AppData\\Local\\Temp\\ipykernel_18492\\3867947128.py:18: SettingWithCopyWarning:\n",
      "\n",
      "\n",
      "A value is trying to be set on a copy of a slice from a DataFrame\n",
      "\n",
      "See the caveats in the documentation: https://pandas.pydata.org/pandas-docs/stable/user_guide/indexing.html#returning-a-view-versus-a-copy\n",
      "\n",
      "C:\\Users\\HP\\AppData\\Local\\Temp\\ipykernel_18492\\3867947128.py:18: SettingWithCopyWarning:\n",
      "\n",
      "\n",
      "A value is trying to be set on a copy of a slice from a DataFrame\n",
      "\n",
      "See the caveats in the documentation: https://pandas.pydata.org/pandas-docs/stable/user_guide/indexing.html#returning-a-view-versus-a-copy\n",
      "\n",
      "C:\\Users\\HP\\AppData\\Local\\Temp\\ipykernel_18492\\3867947128.py:18: SettingWithCopyWarning:\n",
      "\n",
      "\n",
      "A value is trying to be set on a copy of a slice from a DataFrame\n",
      "\n",
      "See the caveats in the documentation: https://pandas.pydata.org/pandas-docs/stable/user_guide/indexing.html#returning-a-view-versus-a-copy\n",
      "\n",
      "C:\\Users\\HP\\AppData\\Local\\Temp\\ipykernel_18492\\3867947128.py:18: SettingWithCopyWarning:\n",
      "\n",
      "\n",
      "A value is trying to be set on a copy of a slice from a DataFrame\n",
      "\n",
      "See the caveats in the documentation: https://pandas.pydata.org/pandas-docs/stable/user_guide/indexing.html#returning-a-view-versus-a-copy\n",
      "\n",
      "C:\\Users\\HP\\AppData\\Local\\Temp\\ipykernel_18492\\3867947128.py:18: SettingWithCopyWarning:\n",
      "\n",
      "\n",
      "A value is trying to be set on a copy of a slice from a DataFrame\n",
      "\n",
      "See the caveats in the documentation: https://pandas.pydata.org/pandas-docs/stable/user_guide/indexing.html#returning-a-view-versus-a-copy\n",
      "\n"
     ]
    }
   ],
   "source": [
    "df_fs, dict_scaler = feature_scale(df, split) #ignore warning"
   ]
  },
  {
   "cell_type": "code",
   "execution_count": 129,
   "id": "b7703529",
   "metadata": {},
   "outputs": [
    {
     "data": {
      "text/html": [
       "<div>\n",
       "<style scoped>\n",
       "    .dataframe tbody tr th:only-of-type {\n",
       "        vertical-align: middle;\n",
       "    }\n",
       "\n",
       "    .dataframe tbody tr th {\n",
       "        vertical-align: top;\n",
       "    }\n",
       "\n",
       "    .dataframe thead th {\n",
       "        text-align: right;\n",
       "    }\n",
       "</style>\n",
       "<table border=\"1\" class=\"dataframe\">\n",
       "  <thead>\n",
       "    <tr style=\"text-align: right;\">\n",
       "      <th></th>\n",
       "      <th>open_xlb</th>\n",
       "      <th>close_xlb</th>\n",
       "      <th>high_xlb</th>\n",
       "      <th>low_xlb</th>\n",
       "      <th>volume_xlb</th>\n",
       "      <th>open_xlc</th>\n",
       "      <th>close_xlc</th>\n",
       "      <th>high_xlc</th>\n",
       "      <th>low_xlc</th>\n",
       "      <th>volume_xlc</th>\n",
       "      <th>...</th>\n",
       "      <th>rsi_xlc</th>\n",
       "      <th>ret_xlc</th>\n",
       "      <th>rsi_xle</th>\n",
       "      <th>ret_xle</th>\n",
       "      <th>rsi_xli</th>\n",
       "      <th>ret_xli</th>\n",
       "      <th>rsi_xlf</th>\n",
       "      <th>ret_xlf</th>\n",
       "      <th>rsi_xlk</th>\n",
       "      <th>ret_xlk</th>\n",
       "    </tr>\n",
       "    <tr>\n",
       "      <th>date</th>\n",
       "      <th></th>\n",
       "      <th></th>\n",
       "      <th></th>\n",
       "      <th></th>\n",
       "      <th></th>\n",
       "      <th></th>\n",
       "      <th></th>\n",
       "      <th></th>\n",
       "      <th></th>\n",
       "      <th></th>\n",
       "      <th></th>\n",
       "      <th></th>\n",
       "      <th></th>\n",
       "      <th></th>\n",
       "      <th></th>\n",
       "      <th></th>\n",
       "      <th></th>\n",
       "      <th></th>\n",
       "      <th></th>\n",
       "      <th></th>\n",
       "      <th></th>\n",
       "    </tr>\n",
       "  </thead>\n",
       "  <tbody>\n",
       "    <tr>\n",
       "      <th>2022-07-21</th>\n",
       "      <td>-0.662942</td>\n",
       "      <td>-0.448525</td>\n",
       "      <td>-0.559513</td>\n",
       "      <td>-0.575222</td>\n",
       "      <td>-0.921415</td>\n",
       "      <td>0.533818</td>\n",
       "      <td>0.685150</td>\n",
       "      <td>0.418101</td>\n",
       "      <td>0.465288</td>\n",
       "      <td>0.603814</td>\n",
       "      <td>...</td>\n",
       "      <td>1.925345</td>\n",
       "      <td>-0.029983</td>\n",
       "      <td>-0.237091</td>\n",
       "      <td>-0.628542</td>\n",
       "      <td>1.039612</td>\n",
       "      <td>0.409865</td>\n",
       "      <td>1.233241</td>\n",
       "      <td>0.372987</td>\n",
       "      <td>1.563178</td>\n",
       "      <td>0.583268</td>\n",
       "    </tr>\n",
       "    <tr>\n",
       "      <th>2022-07-22</th>\n",
       "      <td>-0.347300</td>\n",
       "      <td>-0.552738</td>\n",
       "      <td>-0.400947</td>\n",
       "      <td>-0.450029</td>\n",
       "      <td>-0.588869</td>\n",
       "      <td>0.138935</td>\n",
       "      <td>-0.287361</td>\n",
       "      <td>0.107202</td>\n",
       "      <td>-0.110435</td>\n",
       "      <td>-0.798976</td>\n",
       "      <td>...</td>\n",
       "      <td>0.497901</td>\n",
       "      <td>-1.693170</td>\n",
       "      <td>-0.338545</td>\n",
       "      <td>-0.265081</td>\n",
       "      <td>0.923244</td>\n",
       "      <td>-0.292489</td>\n",
       "      <td>1.007199</td>\n",
       "      <td>-0.390830</td>\n",
       "      <td>1.067089</td>\n",
       "      <td>-0.815900</td>\n",
       "    </tr>\n",
       "    <tr>\n",
       "      <th>2022-07-25</th>\n",
       "      <td>-0.500338</td>\n",
       "      <td>-0.492912</td>\n",
       "      <td>-0.589125</td>\n",
       "      <td>-0.442325</td>\n",
       "      <td>-1.316972</td>\n",
       "      <td>-0.196716</td>\n",
       "      <td>-0.379289</td>\n",
       "      <td>-0.366549</td>\n",
       "      <td>-0.215567</td>\n",
       "      <td>-1.264626</td>\n",
       "      <td>...</td>\n",
       "      <td>0.377389</td>\n",
       "      <td>-0.170123</td>\n",
       "      <td>0.179151</td>\n",
       "      <td>1.488977</td>\n",
       "      <td>1.057556</td>\n",
       "      <td>0.243838</td>\n",
       "      <td>1.213729</td>\n",
       "      <td>0.372742</td>\n",
       "      <td>0.848914</td>\n",
       "      <td>-0.441373</td>\n",
       "    </tr>\n",
       "    <tr>\n",
       "      <th>2022-07-26</th>\n",
       "      <td>-0.553902</td>\n",
       "      <td>-0.591336</td>\n",
       "      <td>-0.620647</td>\n",
       "      <td>-0.478920</td>\n",
       "      <td>-1.323144</td>\n",
       "      <td>-0.483006</td>\n",
       "      <td>-0.921186</td>\n",
       "      <td>-0.830431</td>\n",
       "      <td>-0.661126</td>\n",
       "      <td>-0.525291</td>\n",
       "      <td>...</td>\n",
       "      <td>-0.307061</td>\n",
       "      <td>-0.982673</td>\n",
       "      <td>0.052006</td>\n",
       "      <td>-0.298647</td>\n",
       "      <td>0.845095</td>\n",
       "      <td>-0.440622</td>\n",
       "      <td>0.660181</td>\n",
       "      <td>-0.904145</td>\n",
       "      <td>0.318400</td>\n",
       "      <td>-0.936873</td>\n",
       "    </tr>\n",
       "    <tr>\n",
       "      <th>2022-07-27</th>\n",
       "      <td>-0.678246</td>\n",
       "      <td>-0.417647</td>\n",
       "      <td>-0.475454</td>\n",
       "      <td>-0.594482</td>\n",
       "      <td>-0.376957</td>\n",
       "      <td>-0.418837</td>\n",
       "      <td>0.196475</td>\n",
       "      <td>0.072657</td>\n",
       "      <td>-0.180523</td>\n",
       "      <td>-0.245222</td>\n",
       "      <td>...</td>\n",
       "      <td>1.175252</td>\n",
       "      <td>2.053387</td>\n",
       "      <td>0.359626</td>\n",
       "      <td>0.937918</td>\n",
       "      <td>1.288139</td>\n",
       "      <td>0.968015</td>\n",
       "      <td>1.164206</td>\n",
       "      <td>0.935214</td>\n",
       "      <td>1.350613</td>\n",
       "      <td>2.036848</td>\n",
       "    </tr>\n",
       "    <tr>\n",
       "      <th>2022-07-28</th>\n",
       "      <td>-0.335822</td>\n",
       "      <td>-0.159044</td>\n",
       "      <td>-0.261486</td>\n",
       "      <td>-0.213126</td>\n",
       "      <td>-0.346495</td>\n",
       "      <td>-0.251012</td>\n",
       "      <td>-0.118018</td>\n",
       "      <td>-0.396159</td>\n",
       "      <td>-0.300674</td>\n",
       "      <td>-0.241613</td>\n",
       "      <td>...</td>\n",
       "      <td>0.771920</td>\n",
       "      <td>-0.560464</td>\n",
       "      <td>0.435668</td>\n",
       "      <td>0.275646</td>\n",
       "      <td>1.791558</td>\n",
       "      <td>1.334262</td>\n",
       "      <td>1.389577</td>\n",
       "      <td>0.426686</td>\n",
       "      <td>1.661531</td>\n",
       "      <td>0.641416</td>\n",
       "    </tr>\n",
       "    <tr>\n",
       "      <th>2022-07-29</th>\n",
       "      <td>-0.043136</td>\n",
       "      <td>0.039733</td>\n",
       "      <td>-0.039876</td>\n",
       "      <td>0.056519</td>\n",
       "      <td>-0.955377</td>\n",
       "      <td>-0.290500</td>\n",
       "      <td>-0.103503</td>\n",
       "      <td>-0.327070</td>\n",
       "      <td>-0.160498</td>\n",
       "      <td>0.384709</td>\n",
       "      <td>...</td>\n",
       "      <td>0.790519</td>\n",
       "      <td>0.021146</td>\n",
       "      <td>0.964425</td>\n",
       "      <td>1.750328</td>\n",
       "      <td>2.200666</td>\n",
       "      <td>1.312549</td>\n",
       "      <td>1.802914</td>\n",
       "      <td>0.857165</td>\n",
       "      <td>1.958075</td>\n",
       "      <td>0.647628</td>\n",
       "    </tr>\n",
       "    <tr>\n",
       "      <th>2022-08-01</th>\n",
       "      <td>-0.022093</td>\n",
       "      <td>-0.081849</td>\n",
       "      <td>-0.139218</td>\n",
       "      <td>-0.023411</td>\n",
       "      <td>-0.682505</td>\n",
       "      <td>-0.246076</td>\n",
       "      <td>-0.142210</td>\n",
       "      <td>-0.139544</td>\n",
       "      <td>-0.130460</td>\n",
       "      <td>-0.803091</td>\n",
       "      <td>...</td>\n",
       "      <td>0.736117</td>\n",
       "      <td>-0.073938</td>\n",
       "      <td>0.612701</td>\n",
       "      <td>-0.750742</td>\n",
       "      <td>2.220394</td>\n",
       "      <td>-0.006342</td>\n",
       "      <td>1.433111</td>\n",
       "      <td>-0.549940</td>\n",
       "      <td>1.876480</td>\n",
       "      <td>-0.230949</td>\n",
       "    </tr>\n",
       "    <tr>\n",
       "      <th>2022-08-02</th>\n",
       "      <td>-0.146437</td>\n",
       "      <td>-0.234309</td>\n",
       "      <td>-0.145905</td>\n",
       "      <td>-0.149567</td>\n",
       "      <td>-0.456411</td>\n",
       "      <td>-0.251012</td>\n",
       "      <td>-0.185755</td>\n",
       "      <td>-0.137076</td>\n",
       "      <td>0.019729</td>\n",
       "      <td>-0.305949</td>\n",
       "      <td>...</td>\n",
       "      <td>0.671199</td>\n",
       "      <td>-0.082691</td>\n",
       "      <td>0.574089</td>\n",
       "      <td>-0.035395</td>\n",
       "      <td>1.744974</td>\n",
       "      <td>-0.788574</td>\n",
       "      <td>0.970457</td>\n",
       "      <td>-0.723073</td>\n",
       "      <td>1.600892</td>\n",
       "      <td>-0.478911</td>\n",
       "    </tr>\n",
       "    <tr>\n",
       "      <th>2022-08-03</th>\n",
       "      <td>-0.142611</td>\n",
       "      <td>-0.218870</td>\n",
       "      <td>-0.234740</td>\n",
       "      <td>-0.176531</td>\n",
       "      <td>-0.875132</td>\n",
       "      <td>-0.014082</td>\n",
       "      <td>0.467424</td>\n",
       "      <td>0.284858</td>\n",
       "      <td>0.240005</td>\n",
       "      <td>-0.496622</td>\n",
       "      <td>...</td>\n",
       "      <td>1.591739</td>\n",
       "      <td>1.165506</td>\n",
       "      <td>0.122754</td>\n",
       "      <td>-1.065372</td>\n",
       "      <td>1.951006</td>\n",
       "      <td>0.556942</td>\n",
       "      <td>1.447314</td>\n",
       "      <td>0.918878</td>\n",
       "      <td>2.145373</td>\n",
       "      <td>1.212320</td>\n",
       "    </tr>\n",
       "  </tbody>\n",
       "</table>\n",
       "<p>10 rows × 42 columns</p>\n",
       "</div>"
      ],
      "text/plain": [
       "            open_xlb  close_xlb  high_xlb   low_xlb  volume_xlb  open_xlc  \\\n",
       "date                                                                        \n",
       "2022-07-21 -0.662942  -0.448525 -0.559513 -0.575222   -0.921415  0.533818   \n",
       "2022-07-22 -0.347300  -0.552738 -0.400947 -0.450029   -0.588869  0.138935   \n",
       "2022-07-25 -0.500338  -0.492912 -0.589125 -0.442325   -1.316972 -0.196716   \n",
       "2022-07-26 -0.553902  -0.591336 -0.620647 -0.478920   -1.323144 -0.483006   \n",
       "2022-07-27 -0.678246  -0.417647 -0.475454 -0.594482   -0.376957 -0.418837   \n",
       "2022-07-28 -0.335822  -0.159044 -0.261486 -0.213126   -0.346495 -0.251012   \n",
       "2022-07-29 -0.043136   0.039733 -0.039876  0.056519   -0.955377 -0.290500   \n",
       "2022-08-01 -0.022093  -0.081849 -0.139218 -0.023411   -0.682505 -0.246076   \n",
       "2022-08-02 -0.146437  -0.234309 -0.145905 -0.149567   -0.456411 -0.251012   \n",
       "2022-08-03 -0.142611  -0.218870 -0.234740 -0.176531   -0.875132 -0.014082   \n",
       "\n",
       "            close_xlc  high_xlc   low_xlc  volume_xlc  ...   rsi_xlc  \\\n",
       "date                                                   ...             \n",
       "2022-07-21   0.685150  0.418101  0.465288    0.603814  ...  1.925345   \n",
       "2022-07-22  -0.287361  0.107202 -0.110435   -0.798976  ...  0.497901   \n",
       "2022-07-25  -0.379289 -0.366549 -0.215567   -1.264626  ...  0.377389   \n",
       "2022-07-26  -0.921186 -0.830431 -0.661126   -0.525291  ... -0.307061   \n",
       "2022-07-27   0.196475  0.072657 -0.180523   -0.245222  ...  1.175252   \n",
       "2022-07-28  -0.118018 -0.396159 -0.300674   -0.241613  ...  0.771920   \n",
       "2022-07-29  -0.103503 -0.327070 -0.160498    0.384709  ...  0.790519   \n",
       "2022-08-01  -0.142210 -0.139544 -0.130460   -0.803091  ...  0.736117   \n",
       "2022-08-02  -0.185755 -0.137076  0.019729   -0.305949  ...  0.671199   \n",
       "2022-08-03   0.467424  0.284858  0.240005   -0.496622  ...  1.591739   \n",
       "\n",
       "             ret_xlc   rsi_xle   ret_xle   rsi_xli   ret_xli   rsi_xlf  \\\n",
       "date                                                                     \n",
       "2022-07-21 -0.029983 -0.237091 -0.628542  1.039612  0.409865  1.233241   \n",
       "2022-07-22 -1.693170 -0.338545 -0.265081  0.923244 -0.292489  1.007199   \n",
       "2022-07-25 -0.170123  0.179151  1.488977  1.057556  0.243838  1.213729   \n",
       "2022-07-26 -0.982673  0.052006 -0.298647  0.845095 -0.440622  0.660181   \n",
       "2022-07-27  2.053387  0.359626  0.937918  1.288139  0.968015  1.164206   \n",
       "2022-07-28 -0.560464  0.435668  0.275646  1.791558  1.334262  1.389577   \n",
       "2022-07-29  0.021146  0.964425  1.750328  2.200666  1.312549  1.802914   \n",
       "2022-08-01 -0.073938  0.612701 -0.750742  2.220394 -0.006342  1.433111   \n",
       "2022-08-02 -0.082691  0.574089 -0.035395  1.744974 -0.788574  0.970457   \n",
       "2022-08-03  1.165506  0.122754 -1.065372  1.951006  0.556942  1.447314   \n",
       "\n",
       "             ret_xlf   rsi_xlk   ret_xlk  \n",
       "date                                      \n",
       "2022-07-21  0.372987  1.563178  0.583268  \n",
       "2022-07-22 -0.390830  1.067089 -0.815900  \n",
       "2022-07-25  0.372742  0.848914 -0.441373  \n",
       "2022-07-26 -0.904145  0.318400 -0.936873  \n",
       "2022-07-27  0.935214  1.350613  2.036848  \n",
       "2022-07-28  0.426686  1.661531  0.641416  \n",
       "2022-07-29  0.857165  1.958075  0.647628  \n",
       "2022-08-01 -0.549940  1.876480 -0.230949  \n",
       "2022-08-02 -0.723073  1.600892 -0.478911  \n",
       "2022-08-03  0.918878  2.145373  1.212320  \n",
       "\n",
       "[10 rows x 42 columns]"
      ]
     },
     "execution_count": 129,
     "metadata": {},
     "output_type": "execute_result"
    }
   ],
   "source": [
    "df_fs.tail(10)"
   ]
  },
  {
   "cell_type": "code",
   "execution_count": null,
   "id": "76ee3924",
   "metadata": {},
   "outputs": [],
   "source": [
    "df_fs.info()"
   ]
  },
  {
   "cell_type": "code",
   "execution_count": 130,
   "id": "7ca59c2f",
   "metadata": {},
   "outputs": [
    {
     "name": "stdout",
     "output_type": "stream",
     "text": [
      "Epoch 1/100\n",
      "55/55 [==============================] - 4s 5ms/step - loss: 0.7124\n",
      "Epoch 2/100\n",
      "55/55 [==============================] - 0s 6ms/step - loss: 0.1931\n",
      "Epoch 3/100\n",
      "55/55 [==============================] - 0s 6ms/step - loss: 0.0490\n",
      "Epoch 4/100\n",
      "55/55 [==============================] - 0s 7ms/step - loss: 0.0356\n",
      "Epoch 5/100\n",
      "55/55 [==============================] - 0s 6ms/step - loss: 0.0338\n",
      "Epoch 6/100\n",
      "55/55 [==============================] - 1s 10ms/step - loss: 0.0308\n",
      "Epoch 7/100\n",
      "55/55 [==============================] - 0s 6ms/step - loss: 0.0289\n",
      "Epoch 8/100\n",
      "55/55 [==============================] - 0s 6ms/step - loss: 0.0268\n",
      "Epoch 9/100\n",
      "55/55 [==============================] - 0s 8ms/step - loss: 0.0251\n",
      "Epoch 10/100\n",
      "55/55 [==============================] - 0s 8ms/step - loss: 0.0235\n",
      "Epoch 11/100\n",
      "55/55 [==============================] - 1s 9ms/step - loss: 0.0221\n",
      "Epoch 12/100\n",
      "55/55 [==============================] - 0s 7ms/step - loss: 0.0208\n",
      "Epoch 13/100\n",
      "55/55 [==============================] - 0s 6ms/step - loss: 0.0197\n",
      "Epoch 14/100\n",
      "55/55 [==============================] - 0s 5ms/step - loss: 0.0187\n",
      "Epoch 15/100\n",
      "55/55 [==============================] - 1s 10ms/step - loss: 0.0178\n",
      "Epoch 16/100\n",
      "55/55 [==============================] - 0s 8ms/step - loss: 0.0170\n",
      "Epoch 17/100\n",
      "55/55 [==============================] - 0s 4ms/step - loss: 0.0163\n",
      "Epoch 18/100\n",
      "55/55 [==============================] - 0s 5ms/step - loss: 0.0157\n",
      "Epoch 19/100\n",
      "55/55 [==============================] - 0s 9ms/step - loss: 0.0151\n",
      "Epoch 20/100\n",
      "55/55 [==============================] - 0s 5ms/step - loss: 0.0145\n",
      "Epoch 21/100\n",
      "55/55 [==============================] - 0s 5ms/step - loss: 0.0140\n",
      "Epoch 22/100\n",
      "55/55 [==============================] - 0s 5ms/step - loss: 0.0134\n",
      "Epoch 23/100\n",
      "55/55 [==============================] - 0s 5ms/step - loss: 0.0130\n",
      "Epoch 24/100\n",
      "55/55 [==============================] - 0s 8ms/step - loss: 0.0125\n",
      "Epoch 25/100\n",
      "55/55 [==============================] - 0s 6ms/step - loss: 0.0120\n",
      "Epoch 26/100\n",
      "55/55 [==============================] - 0s 5ms/step - loss: 0.0116\n",
      "Epoch 27/100\n",
      "55/55 [==============================] - 0s 5ms/step - loss: 0.0111\n",
      "Epoch 28/100\n",
      "55/55 [==============================] - 0s 5ms/step - loss: 0.0107\n",
      "Epoch 29/100\n",
      "55/55 [==============================] - 0s 5ms/step - loss: 0.0103\n",
      "Epoch 30/100\n",
      "55/55 [==============================] - 0s 6ms/step - loss: 0.0098\n",
      "Epoch 31/100\n",
      "55/55 [==============================] - 0s 6ms/step - loss: 0.0094\n",
      "Epoch 32/100\n",
      "55/55 [==============================] - 0s 7ms/step - loss: 0.0090\n",
      "Epoch 33/100\n",
      "55/55 [==============================] - 0s 6ms/step - loss: 0.0086\n",
      "Epoch 34/100\n",
      "55/55 [==============================] - 0s 5ms/step - loss: 0.0082\n",
      "Epoch 35/100\n",
      "55/55 [==============================] - 0s 5ms/step - loss: 0.0078\n",
      "Epoch 36/100\n",
      "55/55 [==============================] - 0s 6ms/step - loss: 0.0074\n",
      "Epoch 37/100\n",
      "55/55 [==============================] - 0s 5ms/step - loss: 0.0070\n",
      "Epoch 38/100\n",
      "55/55 [==============================] - 0s 5ms/step - loss: 0.0067\n",
      "Epoch 39/100\n",
      "55/55 [==============================] - 0s 5ms/step - loss: 0.0063\n",
      "Epoch 40/100\n",
      "55/55 [==============================] - 0s 4ms/step - loss: 0.0059\n",
      "Epoch 41/100\n",
      "55/55 [==============================] - 0s 4ms/step - loss: 0.0056\n",
      "Epoch 42/100\n",
      "55/55 [==============================] - 0s 5ms/step - loss: 0.0052\n",
      "Epoch 43/100\n",
      "55/55 [==============================] - 0s 9ms/step - loss: 0.0049\n",
      "Epoch 44/100\n",
      "55/55 [==============================] - 0s 9ms/step - loss: 0.0045\n",
      "Epoch 45/100\n",
      "55/55 [==============================] - 0s 8ms/step - loss: 0.0042\n",
      "Epoch 46/100\n",
      "55/55 [==============================] - 1s 10ms/step - loss: 0.0039\n",
      "Epoch 47/100\n",
      "55/55 [==============================] - 1s 10ms/step - loss: 0.0036\n",
      "Epoch 48/100\n",
      "55/55 [==============================] - 1s 10ms/step - loss: 0.0034\n",
      "Epoch 49/100\n",
      "55/55 [==============================] - 1s 10ms/step - loss: 0.0031\n",
      "Epoch 50/100\n",
      "55/55 [==============================] - 1s 10ms/step - loss: 0.0028\n",
      "Epoch 51/100\n",
      "55/55 [==============================] - 1s 10ms/step - loss: 0.0026\n",
      "Epoch 52/100\n",
      "55/55 [==============================] - 1s 10ms/step - loss: 0.0024\n",
      "Epoch 53/100\n",
      "55/55 [==============================] - 1s 10ms/step - loss: 0.0022\n",
      "Epoch 54/100\n",
      "55/55 [==============================] - 1s 10ms/step - loss: 0.0021\n",
      "Epoch 55/100\n",
      "55/55 [==============================] - 0s 6ms/step - loss: 0.0019\n",
      "Epoch 56/100\n",
      "55/55 [==============================] - 0s 8ms/step - loss: 0.0018\n",
      "Epoch 57/100\n",
      "55/55 [==============================] - 0s 9ms/step - loss: 0.0017\n",
      "Epoch 58/100\n",
      "55/55 [==============================] - 0s 9ms/step - loss: 0.0015\n",
      "Epoch 59/100\n",
      "55/55 [==============================] - 0s 8ms/step - loss: 0.0015\n",
      "Epoch 60/100\n",
      "55/55 [==============================] - 0s 8ms/step - loss: 0.0014\n",
      "Epoch 61/100\n",
      "55/55 [==============================] - 0s 8ms/step - loss: 0.0013\n",
      "Epoch 62/100\n",
      "55/55 [==============================] - 0s 6ms/step - loss: 0.0013\n",
      "Epoch 63/100\n",
      "55/55 [==============================] - 0s 5ms/step - loss: 0.0012\n",
      "Epoch 64/100\n",
      "55/55 [==============================] - 0s 5ms/step - loss: 0.0012\n",
      "Epoch 65/100\n",
      "55/55 [==============================] - 0s 8ms/step - loss: 0.0011\n",
      "Epoch 66/100\n",
      "55/55 [==============================] - 0s 6ms/step - loss: 0.0011\n",
      "Epoch 67/100\n",
      "55/55 [==============================] - 1s 10ms/step - loss: 0.0011\n",
      "Epoch 68/100\n",
      "55/55 [==============================] - 0s 6ms/step - loss: 0.0011\n",
      "Epoch 69/100\n",
      "55/55 [==============================] - 0s 6ms/step - loss: 0.0011\n",
      "Epoch 70/100\n",
      "55/55 [==============================] - 0s 6ms/step - loss: 0.0011\n",
      "Epoch 71/100\n",
      "55/55 [==============================] - 1s 10ms/step - loss: 0.0011\n",
      "Epoch 72/100\n",
      "55/55 [==============================] - 1s 10ms/step - loss: 0.0011\n",
      "Epoch 73/100\n",
      "55/55 [==============================] - 0s 7ms/step - loss: 0.0012\n",
      "Epoch 74/100\n",
      "55/55 [==============================] - 0s 4ms/step - loss: 0.0013\n",
      "Epoch 75/100\n",
      "55/55 [==============================] - 0s 4ms/step - loss: 0.0014\n",
      "Epoch 76/100\n",
      "55/55 [==============================] - 0s 6ms/step - loss: 0.0015\n",
      "Epoch 77/100\n",
      "55/55 [==============================] - 1s 10ms/step - loss: 0.0018\n",
      "Epoch 78/100\n",
      "55/55 [==============================] - 1s 10ms/step - loss: 0.0021\n",
      "Epoch 79/100\n",
      "55/55 [==============================] - 0s 8ms/step - loss: 0.0026\n",
      "Epoch 80/100\n",
      "55/55 [==============================] - 0s 5ms/step - loss: 0.0032\n",
      "Epoch 81/100\n",
      "55/55 [==============================] - 1s 10ms/step - loss: 0.0038\n",
      "Epoch 82/100\n",
      "55/55 [==============================] - 1s 10ms/step - loss: 0.0041\n",
      "Epoch 83/100\n",
      "55/55 [==============================] - 1s 10ms/step - loss: 0.0035\n",
      "Epoch 84/100\n",
      "55/55 [==============================] - 1s 10ms/step - loss: 0.0022\n",
      "Epoch 85/100\n",
      "55/55 [==============================] - 1s 10ms/step - loss: 0.0011\n",
      "Epoch 86/100\n",
      "55/55 [==============================] - 1s 10ms/step - loss: 7.2521e-04\n",
      "Epoch 87/100\n",
      "55/55 [==============================] - 0s 8ms/step - loss: 8.5405e-04\n",
      "Epoch 88/100\n",
      "55/55 [==============================] - 0s 5ms/step - loss: 8.8356e-04\n",
      "Epoch 89/100\n",
      "55/55 [==============================] - 1s 10ms/step - loss: 7.7197e-04\n",
      "Epoch 90/100\n",
      "55/55 [==============================] - 1s 10ms/step - loss: 6.7813e-04\n",
      "Epoch 91/100\n",
      "55/55 [==============================] - 1s 10ms/step - loss: 6.6396e-04\n",
      "Epoch 92/100\n",
      "55/55 [==============================] - 0s 6ms/step - loss: 6.9782e-04\n",
      "Epoch 93/100\n",
      "55/55 [==============================] - 0s 5ms/step - loss: 7.4048e-04\n",
      "Epoch 94/100\n",
      "55/55 [==============================] - 1s 10ms/step - loss: 7.7644e-04\n",
      "Epoch 95/100\n",
      "55/55 [==============================] - 1s 10ms/step - loss: 8.0471e-04\n",
      "Epoch 96/100\n",
      "55/55 [==============================] - 1s 10ms/step - loss: 8.2874e-04\n",
      "Epoch 97/100\n",
      "55/55 [==============================] - 1s 10ms/step - loss: 8.5289e-04\n",
      "Epoch 98/100\n",
      "55/55 [==============================] - 1s 10ms/step - loss: 8.8193e-04\n",
      "Epoch 99/100\n",
      "55/55 [==============================] - 1s 10ms/step - loss: 9.2143e-04\n",
      "Epoch 100/100\n",
      "55/55 [==============================] - 1s 10ms/step - loss: 9.7932e-04\n"
     ]
    },
    {
     "name": "stdout",
     "output_type": "stream",
     "text": [
      "1/1 [==============================] - 1s 988ms/step\n",
      "finished model and prediction of stock XLB 1/6\n",
      "Epoch 1/100\n",
      "55/55 [==============================] - 4s 3ms/step - loss: 0.7270\n",
      "Epoch 2/100\n",
      "55/55 [==============================] - 0s 3ms/step - loss: 0.1555\n",
      "Epoch 3/100\n",
      "55/55 [==============================] - 0s 4ms/step - loss: 0.0435\n",
      "Epoch 4/100\n",
      "55/55 [==============================] - 0s 9ms/step - loss: 0.0298\n",
      "Epoch 5/100\n",
      "55/55 [==============================] - 1s 10ms/step - loss: 0.0266\n",
      "Epoch 6/100\n",
      "55/55 [==============================] - 1s 10ms/step - loss: 0.0239\n",
      "Epoch 7/100\n",
      "55/55 [==============================] - 1s 10ms/step - loss: 0.0216\n",
      "Epoch 8/100\n",
      "55/55 [==============================] - 1s 10ms/step - loss: 0.0197\n",
      "Epoch 9/100\n",
      "55/55 [==============================] - 1s 9ms/step - loss: 0.0181\n",
      "Epoch 10/100\n",
      "55/55 [==============================] - 1s 9ms/step - loss: 0.0168\n",
      "Epoch 11/100\n",
      "55/55 [==============================] - 1s 10ms/step - loss: 0.0157\n",
      "Epoch 12/100\n",
      "55/55 [==============================] - 1s 10ms/step - loss: 0.0147\n",
      "Epoch 13/100\n",
      "55/55 [==============================] - 1s 10ms/step - loss: 0.0139\n",
      "Epoch 14/100\n",
      "55/55 [==============================] - 1s 10ms/step - loss: 0.0132\n",
      "Epoch 15/100\n",
      "55/55 [==============================] - 1s 10ms/step - loss: 0.0125\n",
      "Epoch 16/100\n",
      "55/55 [==============================] - 1s 10ms/step - loss: 0.0119\n",
      "Epoch 17/100\n",
      "55/55 [==============================] - 1s 10ms/step - loss: 0.0114\n",
      "Epoch 18/100\n",
      "55/55 [==============================] - 1s 10ms/step - loss: 0.0109\n",
      "Epoch 19/100\n",
      "55/55 [==============================] - 1s 10ms/step - loss: 0.0104\n",
      "Epoch 20/100\n",
      "55/55 [==============================] - 1s 10ms/step - loss: 0.0100\n",
      "Epoch 21/100\n",
      "55/55 [==============================] - 0s 6ms/step - loss: 0.0096\n",
      "Epoch 22/100\n",
      "55/55 [==============================] - 0s 4ms/step - loss: 0.0092\n",
      "Epoch 23/100\n",
      "55/55 [==============================] - 0s 6ms/step - loss: 0.0088\n",
      "Epoch 24/100\n",
      "55/55 [==============================] - 1s 10ms/step - loss: 0.0085\n",
      "Epoch 25/100\n",
      "55/55 [==============================] - 1s 10ms/step - loss: 0.0081\n",
      "Epoch 26/100\n",
      "55/55 [==============================] - 1s 10ms/step - loss: 0.0078\n",
      "Epoch 27/100\n",
      "55/55 [==============================] - 1s 10ms/step - loss: 0.0075\n",
      "Epoch 28/100\n",
      "55/55 [==============================] - 1s 9ms/step - loss: 0.0072\n",
      "Epoch 29/100\n",
      "55/55 [==============================] - 0s 6ms/step - loss: 0.0069\n",
      "Epoch 30/100\n",
      "55/55 [==============================] - 0s 6ms/step - loss: 0.0066\n",
      "Epoch 31/100\n",
      "55/55 [==============================] - 0s 7ms/step - loss: 0.0063\n",
      "Epoch 32/100\n",
      "55/55 [==============================] - 0s 8ms/step - loss: 0.0060\n",
      "Epoch 33/100\n",
      "55/55 [==============================] - 0s 8ms/step - loss: 0.0058\n",
      "Epoch 34/100\n",
      "55/55 [==============================] - 0s 8ms/step - loss: 0.0055\n",
      "Epoch 35/100\n",
      "55/55 [==============================] - 0s 8ms/step - loss: 0.0053\n",
      "Epoch 36/100\n",
      "55/55 [==============================] - 1s 9ms/step - loss: 0.0050\n",
      "Epoch 37/100\n",
      "55/55 [==============================] - 0s 5ms/step - loss: 0.0048\n",
      "Epoch 38/100\n",
      "55/55 [==============================] - 0s 5ms/step - loss: 0.0045\n",
      "Epoch 39/100\n",
      "55/55 [==============================] - 0s 5ms/step - loss: 0.0043\n",
      "Epoch 40/100\n",
      "55/55 [==============================] - 0s 5ms/step - loss: 0.0040\n",
      "Epoch 41/100\n",
      "55/55 [==============================] - 0s 5ms/step - loss: 0.0038\n",
      "Epoch 42/100\n",
      "55/55 [==============================] - 0s 5ms/step - loss: 0.0036\n",
      "Epoch 43/100\n",
      "55/55 [==============================] - 0s 5ms/step - loss: 0.0034\n",
      "Epoch 44/100\n",
      "55/55 [==============================] - 0s 4ms/step - loss: 0.0032\n",
      "Epoch 45/100\n",
      "55/55 [==============================] - 0s 4ms/step - loss: 0.0030\n",
      "Epoch 46/100\n",
      "55/55 [==============================] - 0s 5ms/step - loss: 0.0028\n",
      "Epoch 47/100\n",
      "55/55 [==============================] - 0s 5ms/step - loss: 0.0027\n",
      "Epoch 48/100\n",
      "55/55 [==============================] - 0s 5ms/step - loss: 0.0025\n",
      "Epoch 49/100\n",
      "55/55 [==============================] - 0s 5ms/step - loss: 0.0024\n",
      "Epoch 50/100\n",
      "55/55 [==============================] - 1s 10ms/step - loss: 0.0022\n",
      "Epoch 51/100\n",
      "55/55 [==============================] - 1s 9ms/step - loss: 0.0021\n",
      "Epoch 52/100\n",
      "55/55 [==============================] - 1s 10ms/step - loss: 0.0020\n",
      "Epoch 53/100\n",
      "55/55 [==============================] - 1s 10ms/step - loss: 0.0019\n",
      "Epoch 54/100\n",
      "55/55 [==============================] - 1s 10ms/step - loss: 0.0018\n",
      "Epoch 55/100\n",
      "55/55 [==============================] - 1s 10ms/step - loss: 0.0017\n",
      "Epoch 56/100\n",
      "55/55 [==============================] - 1s 10ms/step - loss: 0.0016\n",
      "Epoch 57/100\n",
      "55/55 [==============================] - 1s 10ms/step - loss: 0.0015\n",
      "Epoch 58/100\n",
      "55/55 [==============================] - 0s 8ms/step - loss: 0.0015\n",
      "Epoch 59/100\n",
      "55/55 [==============================] - 0s 6ms/step - loss: 0.0014\n",
      "Epoch 60/100\n",
      "55/55 [==============================] - 0s 6ms/step - loss: 0.0013\n",
      "Epoch 61/100\n",
      "55/55 [==============================] - 1s 10ms/step - loss: 0.0013\n",
      "Epoch 62/100\n",
      "55/55 [==============================] - 1s 10ms/step - loss: 0.0012\n",
      "Epoch 63/100\n",
      "55/55 [==============================] - 1s 10ms/step - loss: 0.0012\n",
      "Epoch 64/100\n",
      "55/55 [==============================] - 1s 9ms/step - loss: 0.0011\n",
      "Epoch 65/100\n",
      "55/55 [==============================] - 1s 10ms/step - loss: 0.0011\n",
      "Epoch 66/100\n",
      "55/55 [==============================] - 0s 6ms/step - loss: 0.0011\n",
      "Epoch 67/100\n",
      "55/55 [==============================] - 1s 9ms/step - loss: 0.0010\n",
      "Epoch 68/100\n",
      "55/55 [==============================] - 1s 10ms/step - loss: 0.0010\n",
      "Epoch 69/100\n",
      "55/55 [==============================] - 1s 10ms/step - loss: 0.0010\n",
      "Epoch 70/100\n",
      "55/55 [==============================] - 1s 10ms/step - loss: 0.0010\n",
      "Epoch 71/100\n",
      "55/55 [==============================] - 1s 9ms/step - loss: 0.0010\n",
      "Epoch 72/100\n",
      "55/55 [==============================] - 1s 9ms/step - loss: 0.0011\n",
      "Epoch 73/100\n",
      "55/55 [==============================] - 1s 9ms/step - loss: 0.0012\n",
      "Epoch 74/100\n",
      "55/55 [==============================] - 1s 10ms/step - loss: 0.0014\n",
      "Epoch 75/100\n",
      "55/55 [==============================] - 0s 8ms/step - loss: 0.0017\n",
      "Epoch 76/100\n",
      "55/55 [==============================] - 0s 4ms/step - loss: 0.0024\n",
      "Epoch 77/100\n",
      "55/55 [==============================] - 0s 8ms/step - loss: 0.0036\n",
      "Epoch 78/100\n",
      "55/55 [==============================] - 0s 5ms/step - loss: 0.0055\n",
      "Epoch 79/100\n",
      "55/55 [==============================] - 0s 4ms/step - loss: 0.0084\n",
      "Epoch 80/100\n",
      "55/55 [==============================] - 0s 5ms/step - loss: 0.0112\n",
      "Epoch 81/100\n",
      "55/55 [==============================] - 0s 5ms/step - loss: 0.0118\n",
      "Epoch 82/100\n",
      "55/55 [==============================] - 1s 10ms/step - loss: 0.0092\n",
      "Epoch 83/100\n",
      "55/55 [==============================] - 1s 10ms/step - loss: 0.0056\n",
      "Epoch 84/100\n",
      "55/55 [==============================] - 1s 10ms/step - loss: 0.0043\n",
      "Epoch 85/100\n",
      "55/55 [==============================] - 1s 10ms/step - loss: 0.0057\n",
      "Epoch 86/100\n",
      "55/55 [==============================] - 1s 10ms/step - loss: 0.0081\n",
      "Epoch 87/100\n",
      "55/55 [==============================] - 1s 9ms/step - loss: 0.0100\n",
      "Epoch 88/100\n",
      "55/55 [==============================] - 1s 11ms/step - loss: 0.0086\n",
      "Epoch 89/100\n",
      "55/55 [==============================] - 1s 10ms/step - loss: 0.0057\n",
      "Epoch 90/100\n",
      "55/55 [==============================] - 1s 10ms/step - loss: 0.0049\n",
      "Epoch 91/100\n",
      "55/55 [==============================] - 0s 4ms/step - loss: 0.0050\n",
      "Epoch 92/100\n",
      "55/55 [==============================] - 0s 6ms/step - loss: 0.0043\n",
      "Epoch 93/100\n",
      "55/55 [==============================] - 1s 10ms/step - loss: 0.0033\n",
      "Epoch 94/100\n",
      "55/55 [==============================] - 1s 10ms/step - loss: 0.0029\n",
      "Epoch 95/100\n",
      "55/55 [==============================] - 1s 10ms/step - loss: 0.0032\n",
      "Epoch 96/100\n",
      "55/55 [==============================] - 1s 10ms/step - loss: 0.0037\n",
      "Epoch 97/100\n",
      "55/55 [==============================] - 1s 10ms/step - loss: 0.0032\n",
      "Epoch 98/100\n",
      "55/55 [==============================] - 1s 10ms/step - loss: 0.0022\n",
      "Epoch 99/100\n",
      "55/55 [==============================] - 1s 10ms/step - loss: 0.0016\n",
      "Epoch 100/100\n"
     ]
    },
    {
     "name": "stdout",
     "output_type": "stream",
     "text": [
      "55/55 [==============================] - 0s 5ms/step - loss: 0.0015\n",
      "1/1 [==============================] - 1s 937ms/step\n",
      "finished model and prediction of stock XLC 2/6\n",
      "Epoch 1/100\n",
      "55/55 [==============================] - 4s 3ms/step - loss: 0.7284\n",
      "Epoch 2/100\n",
      "55/55 [==============================] - 0s 3ms/step - loss: 0.2876\n",
      "Epoch 3/100\n",
      "55/55 [==============================] - 0s 5ms/step - loss: 0.0933\n",
      "Epoch 4/100\n",
      "55/55 [==============================] - 0s 7ms/step - loss: 0.0629\n",
      "Epoch 5/100\n",
      "55/55 [==============================] - 0s 8ms/step - loss: 0.0505\n",
      "Epoch 6/100\n",
      "55/55 [==============================] - 0s 8ms/step - loss: 0.0424\n",
      "Epoch 7/100\n",
      "55/55 [==============================] - 0s 8ms/step - loss: 0.0365\n",
      "Epoch 8/100\n",
      "55/55 [==============================] - 0s 8ms/step - loss: 0.0321\n",
      "Epoch 9/100\n",
      "55/55 [==============================] - 0s 8ms/step - loss: 0.0287\n",
      "Epoch 10/100\n",
      "55/55 [==============================] - 0s 8ms/step - loss: 0.0260\n",
      "Epoch 11/100\n",
      "55/55 [==============================] - 0s 8ms/step - loss: 0.0239\n",
      "Epoch 12/100\n",
      "55/55 [==============================] - 0s 6ms/step - loss: 0.0222\n",
      "Epoch 13/100\n",
      "55/55 [==============================] - 0s 7ms/step - loss: 0.0207\n",
      "Epoch 14/100\n",
      "55/55 [==============================] - 0s 7ms/step - loss: 0.0195\n",
      "Epoch 15/100\n",
      "55/55 [==============================] - 0s 8ms/step - loss: 0.0184\n",
      "Epoch 16/100\n",
      "55/55 [==============================] - 0s 8ms/step - loss: 0.0174\n",
      "Epoch 17/100\n",
      "55/55 [==============================] - 0s 8ms/step - loss: 0.0166\n",
      "Epoch 18/100\n",
      "55/55 [==============================] - 0s 8ms/step - loss: 0.0158\n",
      "Epoch 19/100\n",
      "55/55 [==============================] - 0s 7ms/step - loss: 0.0152\n",
      "Epoch 20/100\n",
      "55/55 [==============================] - 0s 4ms/step - loss: 0.0145\n",
      "Epoch 21/100\n",
      "55/55 [==============================] - 0s 9ms/step - loss: 0.0140\n",
      "Epoch 22/100\n",
      "55/55 [==============================] - 0s 4ms/step - loss: 0.0134\n",
      "Epoch 23/100\n",
      "55/55 [==============================] - 0s 4ms/step - loss: 0.0129\n",
      "Epoch 24/100\n",
      "55/55 [==============================] - 0s 8ms/step - loss: 0.0125\n",
      "Epoch 25/100\n",
      "55/55 [==============================] - 0s 8ms/step - loss: 0.0120\n",
      "Epoch 26/100\n",
      "55/55 [==============================] - 0s 8ms/step - loss: 0.0116\n",
      "Epoch 27/100\n",
      "55/55 [==============================] - 0s 8ms/step - loss: 0.0112\n",
      "Epoch 28/100\n",
      "55/55 [==============================] - 0s 8ms/step - loss: 0.0108\n",
      "Epoch 29/100\n",
      "55/55 [==============================] - 0s 8ms/step - loss: 0.0104\n",
      "Epoch 30/100\n",
      "55/55 [==============================] - 0s 8ms/step - loss: 0.0100\n",
      "Epoch 31/100\n",
      "55/55 [==============================] - 0s 8ms/step - loss: 0.0097\n",
      "Epoch 32/100\n",
      "55/55 [==============================] - 0s 8ms/step - loss: 0.0093\n",
      "Epoch 33/100\n",
      "55/55 [==============================] - 0s 8ms/step - loss: 0.0089\n",
      "Epoch 34/100\n",
      "55/55 [==============================] - 0s 9ms/step - loss: 0.0086\n",
      "Epoch 35/100\n",
      "55/55 [==============================] - 0s 8ms/step - loss: 0.0082\n",
      "Epoch 36/100\n",
      "55/55 [==============================] - 0s 8ms/step - loss: 0.0078\n",
      "Epoch 37/100\n",
      "55/55 [==============================] - 0s 8ms/step - loss: 0.0075\n",
      "Epoch 38/100\n",
      "55/55 [==============================] - 0s 8ms/step - loss: 0.0071\n",
      "Epoch 39/100\n",
      "55/55 [==============================] - 0s 8ms/step - loss: 0.0067\n",
      "Epoch 40/100\n",
      "55/55 [==============================] - 0s 5ms/step - loss: 0.0064\n",
      "Epoch 41/100\n",
      "55/55 [==============================] - 0s 9ms/step - loss: 0.0060\n",
      "Epoch 42/100\n",
      "55/55 [==============================] - 0s 8ms/step - loss: 0.0056\n",
      "Epoch 43/100\n",
      "55/55 [==============================] - 0s 8ms/step - loss: 0.0053\n",
      "Epoch 44/100\n",
      "55/55 [==============================] - 0s 8ms/step - loss: 0.0049\n",
      "Epoch 45/100\n",
      "55/55 [==============================] - 0s 8ms/step - loss: 0.0046\n",
      "Epoch 46/100\n",
      "55/55 [==============================] - 0s 8ms/step - loss: 0.0043\n",
      "Epoch 47/100\n",
      "55/55 [==============================] - 0s 8ms/step - loss: 0.0039\n",
      "Epoch 48/100\n",
      "55/55 [==============================] - 0s 8ms/step - loss: 0.0037\n",
      "Epoch 49/100\n",
      "55/55 [==============================] - 0s 6ms/step - loss: 0.0034\n",
      "Epoch 50/100\n",
      "55/55 [==============================] - 0s 5ms/step - loss: 0.0032\n",
      "Epoch 51/100\n",
      "55/55 [==============================] - 0s 5ms/step - loss: 0.0029\n",
      "Epoch 52/100\n",
      "55/55 [==============================] - 0s 4ms/step - loss: 0.0027\n",
      "Epoch 53/100\n",
      "55/55 [==============================] - 0s 8ms/step - loss: 0.0026\n",
      "Epoch 54/100\n",
      "55/55 [==============================] - 0s 8ms/step - loss: 0.0024\n",
      "Epoch 55/100\n",
      "55/55 [==============================] - 0s 8ms/step - loss: 0.0023\n",
      "Epoch 56/100\n",
      "55/55 [==============================] - 0s 8ms/step - loss: 0.0022\n",
      "Epoch 57/100\n",
      "55/55 [==============================] - 0s 8ms/step - loss: 0.0021\n",
      "Epoch 58/100\n",
      "55/55 [==============================] - 0s 8ms/step - loss: 0.0020\n",
      "Epoch 59/100\n",
      "55/55 [==============================] - 0s 6ms/step - loss: 0.0019\n",
      "Epoch 60/100\n",
      "55/55 [==============================] - 0s 6ms/step - loss: 0.0018\n",
      "Epoch 61/100\n",
      "55/55 [==============================] - 0s 9ms/step - loss: 0.0017\n",
      "Epoch 62/100\n",
      "55/55 [==============================] - 0s 8ms/step - loss: 0.0016\n",
      "Epoch 63/100\n",
      "55/55 [==============================] - 0s 4ms/step - loss: 0.0015\n",
      "Epoch 64/100\n",
      "55/55 [==============================] - 0s 6ms/step - loss: 0.0015\n",
      "Epoch 65/100\n",
      "55/55 [==============================] - 0s 8ms/step - loss: 0.0014\n",
      "Epoch 66/100\n",
      "55/55 [==============================] - 0s 6ms/step - loss: 0.0013\n",
      "Epoch 67/100\n",
      "55/55 [==============================] - 0s 6ms/step - loss: 0.0013\n",
      "Epoch 68/100\n",
      "55/55 [==============================] - 0s 8ms/step - loss: 0.0013\n",
      "Epoch 69/100\n",
      "55/55 [==============================] - 0s 8ms/step - loss: 0.0013\n",
      "Epoch 70/100\n",
      "55/55 [==============================] - 0s 3ms/step - loss: 0.0012\n",
      "Epoch 71/100\n",
      "55/55 [==============================] - 0s 7ms/step - loss: 0.0012\n",
      "Epoch 72/100\n",
      "55/55 [==============================] - 0s 8ms/step - loss: 0.0012\n",
      "Epoch 73/100\n",
      "55/55 [==============================] - 0s 8ms/step - loss: 0.0013\n",
      "Epoch 74/100\n",
      "55/55 [==============================] - 0s 9ms/step - loss: 0.0013\n",
      "Epoch 75/100\n",
      "55/55 [==============================] - 0s 5ms/step - loss: 0.0013\n",
      "Epoch 76/100\n",
      "55/55 [==============================] - 0s 6ms/step - loss: 0.0013\n",
      "Epoch 77/100\n",
      "55/55 [==============================] - 0s 7ms/step - loss: 0.0014\n",
      "Epoch 78/100\n",
      "55/55 [==============================] - 0s 8ms/step - loss: 0.0014\n",
      "Epoch 79/100\n",
      "55/55 [==============================] - 0s 5ms/step - loss: 0.0014\n",
      "Epoch 80/100\n",
      "55/55 [==============================] - 0s 7ms/step - loss: 0.0014\n",
      "Epoch 81/100\n",
      "55/55 [==============================] - 0s 8ms/step - loss: 0.0014\n",
      "Epoch 82/100\n",
      "55/55 [==============================] - 0s 8ms/step - loss: 0.0014\n",
      "Epoch 83/100\n",
      "55/55 [==============================] - 0s 8ms/step - loss: 0.0013\n",
      "Epoch 84/100\n",
      "55/55 [==============================] - 0s 8ms/step - loss: 0.0013\n",
      "Epoch 85/100\n",
      "55/55 [==============================] - 0s 3ms/step - loss: 0.0012\n",
      "Epoch 86/100\n",
      "55/55 [==============================] - 0s 8ms/step - loss: 0.0012\n",
      "Epoch 87/100\n",
      "55/55 [==============================] - 0s 8ms/step - loss: 0.0012\n",
      "Epoch 88/100\n",
      "55/55 [==============================] - 0s 8ms/step - loss: 0.0012\n",
      "Epoch 89/100\n",
      "55/55 [==============================] - 0s 8ms/step - loss: 0.0011\n",
      "Epoch 90/100\n",
      "55/55 [==============================] - 0s 4ms/step - loss: 0.0011\n",
      "Epoch 91/100\n",
      "55/55 [==============================] - 0s 6ms/step - loss: 0.0011\n",
      "Epoch 92/100\n",
      "55/55 [==============================] - 0s 6ms/step - loss: 0.0012\n",
      "Epoch 93/100\n",
      "55/55 [==============================] - 0s 8ms/step - loss: 0.0012\n",
      "Epoch 94/100\n",
      "55/55 [==============================] - 1s 9ms/step - loss: 0.0012\n",
      "Epoch 95/100\n",
      "55/55 [==============================] - 0s 8ms/step - loss: 0.0013\n",
      "Epoch 96/100\n",
      "55/55 [==============================] - 0s 8ms/step - loss: 0.0013\n",
      "Epoch 97/100\n",
      "55/55 [==============================] - 0s 8ms/step - loss: 0.0013\n",
      "Epoch 98/100\n",
      "55/55 [==============================] - 0s 8ms/step - loss: 0.0013\n",
      "Epoch 99/100\n",
      "55/55 [==============================] - 0s 8ms/step - loss: 0.0013\n",
      "Epoch 100/100\n"
     ]
    },
    {
     "name": "stdout",
     "output_type": "stream",
     "text": [
      "55/55 [==============================] - 0s 8ms/step - loss: 0.0012\n",
      "1/1 [==============================] - 1s 820ms/step\n",
      "finished model and prediction of stock XLE 3/6\n",
      "Epoch 1/100\n",
      "55/55 [==============================] - 4s 3ms/step - loss: 0.8512\n",
      "Epoch 2/100\n",
      "55/55 [==============================] - 0s 3ms/step - loss: 0.3543\n",
      "Epoch 3/100\n",
      "55/55 [==============================] - 0s 4ms/step - loss: 0.0986\n",
      "Epoch 4/100\n",
      "55/55 [==============================] - 0s 5ms/step - loss: 0.0378\n",
      "Epoch 5/100\n",
      "55/55 [==============================] - 0s 7ms/step - loss: 0.0300\n",
      "Epoch 6/100\n",
      "55/55 [==============================] - 0s 7ms/step - loss: 0.0264\n",
      "Epoch 7/100\n",
      "55/55 [==============================] - 0s 6ms/step - loss: 0.0232\n",
      "Epoch 8/100\n",
      "55/55 [==============================] - 0s 7ms/step - loss: 0.0209\n",
      "Epoch 9/100\n",
      "55/55 [==============================] - 1s 9ms/step - loss: 0.0190\n",
      "Epoch 10/100\n",
      "55/55 [==============================] - 0s 8ms/step - loss: 0.0176\n",
      "Epoch 11/100\n",
      "55/55 [==============================] - 0s 8ms/step - loss: 0.0164\n",
      "Epoch 12/100\n",
      "55/55 [==============================] - 0s 8ms/step - loss: 0.0154\n",
      "Epoch 13/100\n",
      "55/55 [==============================] - 0s 8ms/step - loss: 0.0146\n",
      "Epoch 14/100\n",
      "55/55 [==============================] - 0s 8ms/step - loss: 0.0139\n",
      "Epoch 15/100\n",
      "55/55 [==============================] - 0s 8ms/step - loss: 0.0132\n",
      "Epoch 16/100\n",
      "55/55 [==============================] - 0s 8ms/step - loss: 0.0126\n",
      "Epoch 17/100\n",
      "55/55 [==============================] - 0s 8ms/step - loss: 0.0121\n",
      "Epoch 18/100\n",
      "55/55 [==============================] - 0s 8ms/step - loss: 0.0116\n",
      "Epoch 19/100\n",
      "55/55 [==============================] - 0s 8ms/step - loss: 0.0112\n",
      "Epoch 20/100\n",
      "55/55 [==============================] - 0s 8ms/step - loss: 0.0108\n",
      "Epoch 21/100\n",
      "55/55 [==============================] - 0s 8ms/step - loss: 0.0104\n",
      "Epoch 22/100\n",
      "55/55 [==============================] - 0s 8ms/step - loss: 0.0101\n",
      "Epoch 23/100\n",
      "55/55 [==============================] - 0s 8ms/step - loss: 0.0097\n",
      "Epoch 24/100\n",
      "55/55 [==============================] - 0s 8ms/step - loss: 0.0094\n",
      "Epoch 25/100\n",
      "55/55 [==============================] - 0s 9ms/step - loss: 0.0091\n",
      "Epoch 26/100\n",
      "55/55 [==============================] - 0s 8ms/step - loss: 0.0088\n",
      "Epoch 27/100\n",
      "55/55 [==============================] - 0s 8ms/step - loss: 0.0086\n",
      "Epoch 28/100\n",
      "55/55 [==============================] - 0s 9ms/step - loss: 0.0083\n",
      "Epoch 29/100\n",
      "55/55 [==============================] - 0s 5ms/step - loss: 0.0081\n",
      "Epoch 30/100\n",
      "55/55 [==============================] - 0s 6ms/step - loss: 0.0079\n",
      "Epoch 31/100\n",
      "55/55 [==============================] - 0s 7ms/step - loss: 0.0076\n",
      "Epoch 32/100\n",
      "55/55 [==============================] - 0s 8ms/step - loss: 0.0074\n",
      "Epoch 33/100\n",
      "55/55 [==============================] - 0s 7ms/step - loss: 0.0072\n",
      "Epoch 34/100\n",
      "55/55 [==============================] - 0s 7ms/step - loss: 0.0070\n",
      "Epoch 35/100\n",
      "55/55 [==============================] - 0s 7ms/step - loss: 0.0068\n",
      "Epoch 36/100\n",
      "55/55 [==============================] - 0s 7ms/step - loss: 0.0066\n",
      "Epoch 37/100\n",
      "55/55 [==============================] - 0s 7ms/step - loss: 0.0064\n",
      "Epoch 38/100\n",
      "55/55 [==============================] - 0s 7ms/step - loss: 0.0062\n",
      "Epoch 39/100\n",
      "55/55 [==============================] - 0s 7ms/step - loss: 0.0060\n",
      "Epoch 40/100\n",
      "55/55 [==============================] - 0s 8ms/step - loss: 0.0058\n",
      "Epoch 41/100\n",
      "55/55 [==============================] - 0s 7ms/step - loss: 0.0056\n",
      "Epoch 42/100\n",
      "55/55 [==============================] - 0s 8ms/step - loss: 0.0054\n",
      "Epoch 43/100\n",
      "55/55 [==============================] - 0s 8ms/step - loss: 0.0052\n",
      "Epoch 44/100\n",
      "55/55 [==============================] - 0s 9ms/step - loss: 0.0050\n",
      "Epoch 45/100\n",
      "55/55 [==============================] - 0s 8ms/step - loss: 0.0047\n",
      "Epoch 46/100\n",
      "55/55 [==============================] - 0s 8ms/step - loss: 0.0045\n",
      "Epoch 47/100\n",
      "55/55 [==============================] - 0s 9ms/step - loss: 0.0043\n",
      "Epoch 48/100\n",
      "55/55 [==============================] - 0s 8ms/step - loss: 0.0041\n",
      "Epoch 49/100\n",
      "55/55 [==============================] - 0s 8ms/step - loss: 0.0039\n",
      "Epoch 50/100\n",
      "55/55 [==============================] - 0s 8ms/step - loss: 0.0037\n",
      "Epoch 51/100\n",
      "55/55 [==============================] - 0s 8ms/step - loss: 0.0035\n",
      "Epoch 52/100\n",
      "55/55 [==============================] - 0s 8ms/step - loss: 0.0033\n",
      "Epoch 53/100\n",
      "55/55 [==============================] - 0s 8ms/step - loss: 0.0031\n",
      "Epoch 54/100\n",
      "55/55 [==============================] - 0s 8ms/step - loss: 0.0029\n",
      "Epoch 55/100\n",
      "55/55 [==============================] - 0s 8ms/step - loss: 0.0027\n",
      "Epoch 56/100\n",
      "55/55 [==============================] - 0s 9ms/step - loss: 0.0026\n",
      "Epoch 57/100\n",
      "55/55 [==============================] - 0s 5ms/step - loss: 0.0024\n",
      "Epoch 58/100\n",
      "55/55 [==============================] - 0s 7ms/step - loss: 0.0023\n",
      "Epoch 59/100\n",
      "55/55 [==============================] - 0s 8ms/step - loss: 0.0022\n",
      "Epoch 60/100\n",
      "55/55 [==============================] - 1s 9ms/step - loss: 0.0021\n",
      "Epoch 61/100\n",
      "55/55 [==============================] - 0s 8ms/step - loss: 0.0020\n",
      "Epoch 62/100\n",
      "55/55 [==============================] - 0s 8ms/step - loss: 0.0019\n",
      "Epoch 63/100\n",
      "55/55 [==============================] - 0s 4ms/step - loss: 0.0019\n",
      "Epoch 64/100\n",
      "55/55 [==============================] - 0s 4ms/step - loss: 0.0018\n",
      "Epoch 65/100\n",
      "55/55 [==============================] - 0s 8ms/step - loss: 0.0018\n",
      "Epoch 66/100\n",
      "55/55 [==============================] - 0s 8ms/step - loss: 0.0017\n",
      "Epoch 67/100\n",
      "55/55 [==============================] - 0s 8ms/step - loss: 0.0017\n",
      "Epoch 68/100\n",
      "55/55 [==============================] - 0s 8ms/step - loss: 0.0017\n",
      "Epoch 69/100\n",
      "55/55 [==============================] - 0s 8ms/step - loss: 0.0016\n",
      "Epoch 70/100\n",
      "55/55 [==============================] - 0s 8ms/step - loss: 0.0016\n",
      "Epoch 71/100\n",
      "55/55 [==============================] - 0s 8ms/step - loss: 0.0016\n",
      "Epoch 72/100\n",
      "55/55 [==============================] - 0s 6ms/step - loss: 0.0016\n",
      "Epoch 73/100\n",
      "55/55 [==============================] - 0s 6ms/step - loss: 0.0016\n",
      "Epoch 74/100\n",
      "55/55 [==============================] - 0s 8ms/step - loss: 0.0016\n",
      "Epoch 75/100\n",
      "55/55 [==============================] - 0s 8ms/step - loss: 0.0016\n",
      "Epoch 76/100\n",
      "55/55 [==============================] - 0s 8ms/step - loss: 0.0016\n",
      "Epoch 77/100\n",
      "55/55 [==============================] - 0s 8ms/step - loss: 0.0015\n",
      "Epoch 78/100\n",
      "55/55 [==============================] - 0s 9ms/step - loss: 0.0015\n",
      "Epoch 79/100\n",
      "55/55 [==============================] - 1s 9ms/step - loss: 0.0015\n",
      "Epoch 80/100\n",
      "55/55 [==============================] - 0s 9ms/step - loss: 0.0014\n",
      "Epoch 81/100\n",
      "55/55 [==============================] - 0s 8ms/step - loss: 0.0013\n",
      "Epoch 82/100\n",
      "55/55 [==============================] - 0s 6ms/step - loss: 0.0013\n",
      "Epoch 83/100\n",
      "55/55 [==============================] - 0s 9ms/step - loss: 0.0012\n",
      "Epoch 84/100\n",
      "55/55 [==============================] - 0s 9ms/step - loss: 0.0011\n",
      "Epoch 85/100\n",
      "55/55 [==============================] - 0s 9ms/step - loss: 0.0010\n",
      "Epoch 86/100\n",
      "55/55 [==============================] - 0s 8ms/step - loss: 9.1621e-04\n",
      "Epoch 87/100\n",
      "55/55 [==============================] - 0s 8ms/step - loss: 8.4060e-04\n",
      "Epoch 88/100\n",
      "55/55 [==============================] - 0s 8ms/step - loss: 7.7656e-04\n",
      "Epoch 89/100\n",
      "55/55 [==============================] - 0s 9ms/step - loss: 7.2552e-04\n",
      "Epoch 90/100\n",
      "55/55 [==============================] - 0s 5ms/step - loss: 6.8752e-04\n",
      "Epoch 91/100\n",
      "55/55 [==============================] - 0s 5ms/step - loss: 6.6134e-04\n",
      "Epoch 92/100\n",
      "55/55 [==============================] - 0s 8ms/step - loss: 6.4483e-04\n",
      "Epoch 93/100\n",
      "55/55 [==============================] - 0s 8ms/step - loss: 6.3541e-04\n",
      "Epoch 94/100\n",
      "55/55 [==============================] - 0s 9ms/step - loss: 6.3056e-04\n",
      "Epoch 95/100\n",
      "55/55 [==============================] - 0s 3ms/step - loss: 6.2835e-04\n",
      "Epoch 96/100\n",
      "55/55 [==============================] - 0s 4ms/step - loss: 6.2763e-04\n",
      "Epoch 97/100\n",
      "55/55 [==============================] - 0s 8ms/step - loss: 6.2793e-04\n",
      "Epoch 98/100\n",
      "55/55 [==============================] - 0s 8ms/step - loss: 6.2928e-04\n",
      "Epoch 99/100\n"
     ]
    },
    {
     "name": "stdout",
     "output_type": "stream",
     "text": [
      "55/55 [==============================] - 0s 7ms/step - loss: 6.3182e-04\n",
      "Epoch 100/100\n",
      "55/55 [==============================] - 0s 4ms/step - loss: 6.3566e-04\n",
      "1/1 [==============================] - 1s 820ms/step\n",
      "finished model and prediction of stock XLI 4/6\n",
      "Epoch 1/100\n",
      "55/55 [==============================] - 4s 3ms/step - loss: 0.8440\n",
      "Epoch 2/100\n",
      "55/55 [==============================] - 0s 4ms/step - loss: 0.3203\n",
      "Epoch 3/100\n",
      "55/55 [==============================] - 0s 4ms/step - loss: 0.0902\n",
      "Epoch 4/100\n",
      "55/55 [==============================] - 0s 8ms/step - loss: 0.0374\n",
      "Epoch 5/100\n",
      "55/55 [==============================] - 0s 8ms/step - loss: 0.0294\n",
      "Epoch 6/100\n",
      "55/55 [==============================] - 1s 9ms/step - loss: 0.0252\n",
      "Epoch 7/100\n",
      "55/55 [==============================] - 0s 8ms/step - loss: 0.0222\n",
      "Epoch 8/100\n",
      "55/55 [==============================] - 0s 7ms/step - loss: 0.0200\n",
      "Epoch 9/100\n",
      "55/55 [==============================] - 0s 8ms/step - loss: 0.0181\n",
      "Epoch 10/100\n",
      "55/55 [==============================] - 0s 8ms/step - loss: 0.0166\n",
      "Epoch 11/100\n",
      "55/55 [==============================] - 0s 8ms/step - loss: 0.0154\n",
      "Epoch 12/100\n",
      "55/55 [==============================] - 0s 8ms/step - loss: 0.0143\n",
      "Epoch 13/100\n",
      "55/55 [==============================] - 0s 8ms/step - loss: 0.0134\n",
      "Epoch 14/100\n",
      "55/55 [==============================] - 0s 8ms/step - loss: 0.0126\n",
      "Epoch 15/100\n",
      "55/55 [==============================] - 0s 8ms/step - loss: 0.0120\n",
      "Epoch 16/100\n",
      "55/55 [==============================] - 0s 8ms/step - loss: 0.0114\n",
      "Epoch 17/100\n",
      "55/55 [==============================] - 0s 8ms/step - loss: 0.0108\n",
      "Epoch 18/100\n",
      "55/55 [==============================] - 0s 8ms/step - loss: 0.0104\n",
      "Epoch 19/100\n",
      "55/55 [==============================] - 0s 8ms/step - loss: 0.0099\n",
      "Epoch 20/100\n",
      "55/55 [==============================] - 0s 8ms/step - loss: 0.0095\n",
      "Epoch 21/100\n",
      "55/55 [==============================] - 0s 8ms/step - loss: 0.0092\n",
      "Epoch 22/100\n",
      "55/55 [==============================] - 0s 8ms/step - loss: 0.0088\n",
      "Epoch 23/100\n",
      "55/55 [==============================] - 0s 8ms/step - loss: 0.0085\n",
      "Epoch 24/100\n",
      "55/55 [==============================] - 0s 8ms/step - loss: 0.0082\n",
      "Epoch 25/100\n",
      "55/55 [==============================] - 0s 8ms/step - loss: 0.0079\n",
      "Epoch 26/100\n",
      "55/55 [==============================] - 0s 8ms/step - loss: 0.0076\n",
      "Epoch 27/100\n",
      "55/55 [==============================] - 0s 8ms/step - loss: 0.0074\n",
      "Epoch 28/100\n",
      "55/55 [==============================] - 0s 8ms/step - loss: 0.0071\n",
      "Epoch 29/100\n",
      "55/55 [==============================] - 0s 8ms/step - loss: 0.0069\n",
      "Epoch 30/100\n",
      "55/55 [==============================] - 0s 5ms/step - loss: 0.0066\n",
      "Epoch 31/100\n",
      "55/55 [==============================] - 0s 6ms/step - loss: 0.0064\n",
      "Epoch 32/100\n",
      "55/55 [==============================] - 0s 5ms/step - loss: 0.0061\n",
      "Epoch 33/100\n",
      "55/55 [==============================] - 0s 8ms/step - loss: 0.0059\n",
      "Epoch 34/100\n",
      "55/55 [==============================] - 0s 8ms/step - loss: 0.0056\n",
      "Epoch 35/100\n",
      "55/55 [==============================] - 0s 8ms/step - loss: 0.0054\n",
      "Epoch 36/100\n",
      "55/55 [==============================] - 0s 8ms/step - loss: 0.0052\n",
      "Epoch 37/100\n",
      "55/55 [==============================] - 0s 8ms/step - loss: 0.0050\n",
      "Epoch 38/100\n",
      "55/55 [==============================] - 0s 8ms/step - loss: 0.0048\n",
      "Epoch 39/100\n",
      "55/55 [==============================] - 0s 8ms/step - loss: 0.0046\n",
      "Epoch 40/100\n",
      "55/55 [==============================] - 0s 4ms/step - loss: 0.0043\n",
      "Epoch 41/100\n",
      "55/55 [==============================] - 0s 7ms/step - loss: 0.0041\n",
      "Epoch 42/100\n",
      "55/55 [==============================] - 0s 9ms/step - loss: 0.0040\n",
      "Epoch 43/100\n",
      "55/55 [==============================] - 0s 9ms/step - loss: 0.0038\n",
      "Epoch 44/100\n",
      "55/55 [==============================] - 0s 8ms/step - loss: 0.0036\n",
      "Epoch 45/100\n",
      "55/55 [==============================] - 0s 8ms/step - loss: 0.0034\n",
      "Epoch 46/100\n",
      "55/55 [==============================] - 0s 7ms/step - loss: 0.0033\n",
      "Epoch 47/100\n",
      "55/55 [==============================] - 0s 5ms/step - loss: 0.0031\n",
      "Epoch 48/100\n",
      "55/55 [==============================] - 0s 9ms/step - loss: 0.0030\n",
      "Epoch 49/100\n",
      "55/55 [==============================] - 0s 8ms/step - loss: 0.0028\n",
      "Epoch 50/100\n",
      "55/55 [==============================] - 0s 8ms/step - loss: 0.0027\n",
      "Epoch 51/100\n",
      "55/55 [==============================] - 0s 9ms/step - loss: 0.0026\n",
      "Epoch 52/100\n",
      "55/55 [==============================] - 0s 8ms/step - loss: 0.0025\n",
      "Epoch 53/100\n",
      "55/55 [==============================] - 0s 9ms/step - loss: 0.0024\n",
      "Epoch 54/100\n",
      "55/55 [==============================] - 0s 4ms/step - loss: 0.0023\n",
      "Epoch 55/100\n",
      "55/55 [==============================] - 0s 3ms/step - loss: 0.0022\n",
      "Epoch 56/100\n",
      "55/55 [==============================] - 0s 7ms/step - loss: 0.0022\n",
      "Epoch 57/100\n",
      "55/55 [==============================] - 0s 9ms/step - loss: 0.0021\n",
      "Epoch 58/100\n",
      "55/55 [==============================] - 0s 8ms/step - loss: 0.0020\n",
      "Epoch 59/100\n",
      "55/55 [==============================] - 0s 8ms/step - loss: 0.0020\n",
      "Epoch 60/100\n",
      "55/55 [==============================] - 0s 8ms/step - loss: 0.0020\n",
      "Epoch 61/100\n",
      "55/55 [==============================] - 0s 5ms/step - loss: 0.0019\n",
      "Epoch 62/100\n",
      "55/55 [==============================] - 0s 8ms/step - loss: 0.0019\n",
      "Epoch 63/100\n",
      "55/55 [==============================] - 0s 8ms/step - loss: 0.0019\n",
      "Epoch 64/100\n",
      "55/55 [==============================] - 0s 9ms/step - loss: 0.0018\n",
      "Epoch 65/100\n",
      "55/55 [==============================] - 0s 8ms/step - loss: 0.0018\n",
      "Epoch 66/100\n",
      "55/55 [==============================] - 0s 9ms/step - loss: 0.0018\n",
      "Epoch 67/100\n",
      "55/55 [==============================] - 0s 4ms/step - loss: 0.0018\n",
      "Epoch 68/100\n",
      "55/55 [==============================] - 0s 7ms/step - loss: 0.0018\n",
      "Epoch 69/100\n",
      "55/55 [==============================] - 0s 4ms/step - loss: 0.0018\n",
      "Epoch 70/100\n",
      "55/55 [==============================] - 0s 4ms/step - loss: 0.0018\n",
      "Epoch 71/100\n",
      "55/55 [==============================] - 0s 4ms/step - loss: 0.0018\n",
      "Epoch 72/100\n",
      "55/55 [==============================] - 0s 3ms/step - loss: 0.0018\n",
      "Epoch 73/100\n",
      "55/55 [==============================] - 0s 6ms/step - loss: 0.0018\n",
      "Epoch 74/100\n",
      "55/55 [==============================] - 0s 4ms/step - loss: 0.0018\n",
      "Epoch 75/100\n",
      "55/55 [==============================] - 0s 4ms/step - loss: 0.0018\n",
      "Epoch 76/100\n",
      "55/55 [==============================] - 0s 4ms/step - loss: 0.0019\n",
      "Epoch 77/100\n",
      "55/55 [==============================] - 0s 4ms/step - loss: 0.0019\n",
      "Epoch 78/100\n",
      "55/55 [==============================] - 0s 5ms/step - loss: 0.0019\n",
      "Epoch 79/100\n",
      "55/55 [==============================] - 0s 3ms/step - loss: 0.0019\n",
      "Epoch 80/100\n",
      "55/55 [==============================] - 0s 4ms/step - loss: 0.0019\n",
      "Epoch 81/100\n",
      "55/55 [==============================] - 0s 8ms/step - loss: 0.0019\n",
      "Epoch 82/100\n",
      "55/55 [==============================] - 0s 8ms/step - loss: 0.0019\n",
      "Epoch 83/100\n",
      "55/55 [==============================] - 0s 8ms/step - loss: 0.0019\n",
      "Epoch 84/100\n",
      "55/55 [==============================] - 0s 8ms/step - loss: 0.0020\n",
      "Epoch 85/100\n",
      "55/55 [==============================] - 0s 9ms/step - loss: 0.0020\n",
      "Epoch 86/100\n",
      "55/55 [==============================] - 0s 4ms/step - loss: 0.0021\n",
      "Epoch 87/100\n",
      "55/55 [==============================] - 0s 4ms/step - loss: 0.0023\n",
      "Epoch 88/100\n",
      "55/55 [==============================] - 0s 4ms/step - loss: 0.0028\n",
      "Epoch 89/100\n",
      "55/55 [==============================] - 0s 5ms/step - loss: 0.0040\n",
      "Epoch 90/100\n",
      "55/55 [==============================] - 0s 5ms/step - loss: 0.0074\n",
      "Epoch 91/100\n",
      "55/55 [==============================] - 0s 4ms/step - loss: 0.0130\n",
      "Epoch 92/100\n",
      "55/55 [==============================] - 0s 4ms/step - loss: 0.0116\n",
      "Epoch 93/100\n",
      "55/55 [==============================] - 0s 5ms/step - loss: 0.0044\n",
      "Epoch 94/100\n",
      "55/55 [==============================] - 0s 5ms/step - loss: 0.0024\n",
      "Epoch 95/100\n",
      "55/55 [==============================] - 0s 5ms/step - loss: 0.0019\n",
      "Epoch 96/100\n",
      "55/55 [==============================] - 0s 7ms/step - loss: 0.0023\n",
      "Epoch 97/100\n",
      "55/55 [==============================] - 0s 6ms/step - loss: 0.0021\n",
      "Epoch 98/100\n",
      "55/55 [==============================] - 0s 4ms/step - loss: 0.0018\n",
      "Epoch 99/100\n"
     ]
    },
    {
     "name": "stdout",
     "output_type": "stream",
     "text": [
      "55/55 [==============================] - 0s 6ms/step - loss: 0.0015\n",
      "Epoch 100/100\n",
      "55/55 [==============================] - 0s 8ms/step - loss: 0.0013\n",
      "1/1 [==============================] - 1s 1s/step\n",
      "finished model and prediction of stock XLF 5/6\n",
      "Epoch 1/100\n",
      "55/55 [==============================] - 5s 4ms/step - loss: 0.7176\n",
      "Epoch 2/100\n",
      "55/55 [==============================] - 0s 8ms/step - loss: 0.2159\n",
      "Epoch 3/100\n",
      "55/55 [==============================] - 0s 8ms/step - loss: 0.0665\n",
      "Epoch 4/100\n",
      "55/55 [==============================] - 0s 6ms/step - loss: 0.0494\n",
      "Epoch 5/100\n",
      "55/55 [==============================] - 0s 5ms/step - loss: 0.0432\n",
      "Epoch 6/100\n",
      "55/55 [==============================] - 0s 8ms/step - loss: 0.0385\n",
      "Epoch 7/100\n",
      "55/55 [==============================] - 0s 5ms/step - loss: 0.0346\n",
      "Epoch 8/100\n",
      "55/55 [==============================] - 0s 8ms/step - loss: 0.0312\n",
      "Epoch 9/100\n",
      "55/55 [==============================] - 0s 9ms/step - loss: 0.0284\n",
      "Epoch 10/100\n",
      "55/55 [==============================] - 0s 9ms/step - loss: 0.0261\n",
      "Epoch 11/100\n",
      "55/55 [==============================] - 0s 8ms/step - loss: 0.0241\n",
      "Epoch 12/100\n",
      "55/55 [==============================] - 0s 8ms/step - loss: 0.0224\n",
      "Epoch 13/100\n",
      "55/55 [==============================] - 0s 8ms/step - loss: 0.0210\n",
      "Epoch 14/100\n",
      "55/55 [==============================] - 0s 6ms/step - loss: 0.0198\n",
      "Epoch 15/100\n",
      "55/55 [==============================] - 0s 4ms/step - loss: 0.0187\n",
      "Epoch 16/100\n",
      "55/55 [==============================] - 0s 8ms/step - loss: 0.0178\n",
      "Epoch 17/100\n",
      "55/55 [==============================] - 0s 8ms/step - loss: 0.0170\n",
      "Epoch 18/100\n",
      "55/55 [==============================] - 0s 8ms/step - loss: 0.0162\n",
      "Epoch 19/100\n",
      "55/55 [==============================] - 0s 8ms/step - loss: 0.0155\n",
      "Epoch 20/100\n",
      "55/55 [==============================] - 0s 8ms/step - loss: 0.0148\n",
      "Epoch 21/100\n",
      "55/55 [==============================] - 0s 7ms/step - loss: 0.0142\n",
      "Epoch 22/100\n",
      "55/55 [==============================] - 0s 3ms/step - loss: 0.0136\n",
      "Epoch 23/100\n",
      "55/55 [==============================] - 0s 8ms/step - loss: 0.0130\n",
      "Epoch 24/100\n",
      "55/55 [==============================] - 0s 8ms/step - loss: 0.0124\n",
      "Epoch 25/100\n",
      "55/55 [==============================] - 0s 8ms/step - loss: 0.0118\n",
      "Epoch 26/100\n",
      "55/55 [==============================] - 0s 8ms/step - loss: 0.0112\n",
      "Epoch 27/100\n",
      "55/55 [==============================] - 0s 8ms/step - loss: 0.0107\n",
      "Epoch 28/100\n",
      "55/55 [==============================] - 0s 6ms/step - loss: 0.0101\n",
      "Epoch 29/100\n",
      "55/55 [==============================] - 0s 8ms/step - loss: 0.0095\n",
      "Epoch 30/100\n",
      "55/55 [==============================] - 0s 8ms/step - loss: 0.0089\n",
      "Epoch 31/100\n",
      "55/55 [==============================] - 0s 8ms/step - loss: 0.0083\n",
      "Epoch 32/100\n",
      "55/55 [==============================] - 0s 8ms/step - loss: 0.0077\n",
      "Epoch 33/100\n",
      "55/55 [==============================] - 0s 6ms/step - loss: 0.0071\n",
      "Epoch 34/100\n",
      "55/55 [==============================] - 0s 4ms/step - loss: 0.0064\n",
      "Epoch 35/100\n",
      "55/55 [==============================] - 0s 6ms/step - loss: 0.0058\n",
      "Epoch 36/100\n",
      "55/55 [==============================] - 0s 8ms/step - loss: 0.0052\n",
      "Epoch 37/100\n",
      "55/55 [==============================] - 0s 8ms/step - loss: 0.0046\n",
      "Epoch 38/100\n",
      "55/55 [==============================] - 0s 6ms/step - loss: 0.0040\n",
      "Epoch 39/100\n",
      "55/55 [==============================] - 0s 4ms/step - loss: 0.0035\n",
      "Epoch 40/100\n",
      "55/55 [==============================] - 0s 5ms/step - loss: 0.0031\n",
      "Epoch 41/100\n",
      "55/55 [==============================] - 0s 8ms/step - loss: 0.0027\n",
      "Epoch 42/100\n",
      "55/55 [==============================] - 0s 5ms/step - loss: 0.0024\n",
      "Epoch 43/100\n",
      "55/55 [==============================] - 0s 7ms/step - loss: 0.0022\n",
      "Epoch 44/100\n",
      "55/55 [==============================] - 0s 8ms/step - loss: 0.0020\n",
      "Epoch 45/100\n",
      "55/55 [==============================] - 0s 7ms/step - loss: 0.0018\n",
      "Epoch 46/100\n",
      "55/55 [==============================] - 0s 4ms/step - loss: 0.0017\n",
      "Epoch 47/100\n",
      "55/55 [==============================] - 0s 4ms/step - loss: 0.0016\n",
      "Epoch 48/100\n",
      "55/55 [==============================] - 0s 5ms/step - loss: 0.0015\n",
      "Epoch 49/100\n",
      "55/55 [==============================] - 0s 5ms/step - loss: 0.0015\n",
      "Epoch 50/100\n",
      "55/55 [==============================] - 0s 5ms/step - loss: 0.0014\n",
      "Epoch 51/100\n",
      "55/55 [==============================] - 0s 5ms/step - loss: 0.0014\n",
      "Epoch 52/100\n",
      "55/55 [==============================] - 0s 6ms/step - loss: 0.0013\n",
      "Epoch 53/100\n",
      "55/55 [==============================] - 0s 4ms/step - loss: 0.0013\n",
      "Epoch 54/100\n",
      "55/55 [==============================] - 0s 8ms/step - loss: 0.0013\n",
      "Epoch 55/100\n",
      "55/55 [==============================] - 0s 8ms/step - loss: 0.0014\n",
      "Epoch 56/100\n",
      "55/55 [==============================] - 0s 8ms/step - loss: 0.0014\n",
      "Epoch 57/100\n",
      "55/55 [==============================] - 0s 8ms/step - loss: 0.0015\n",
      "Epoch 58/100\n",
      "55/55 [==============================] - 0s 8ms/step - loss: 0.0016\n",
      "Epoch 59/100\n",
      "55/55 [==============================] - 0s 8ms/step - loss: 0.0017\n",
      "Epoch 60/100\n",
      "55/55 [==============================] - 0s 8ms/step - loss: 0.0020\n",
      "Epoch 61/100\n",
      "55/55 [==============================] - 0s 8ms/step - loss: 0.0023\n",
      "Epoch 62/100\n",
      "55/55 [==============================] - 0s 5ms/step - loss: 0.0026\n",
      "Epoch 63/100\n",
      "55/55 [==============================] - 0s 4ms/step - loss: 0.0030\n",
      "Epoch 64/100\n",
      "55/55 [==============================] - 0s 3ms/step - loss: 0.0035\n",
      "Epoch 65/100\n",
      "55/55 [==============================] - 0s 5ms/step - loss: 0.0039\n",
      "Epoch 66/100\n",
      "55/55 [==============================] - 0s 9ms/step - loss: 0.0043\n",
      "Epoch 67/100\n",
      "55/55 [==============================] - 0s 8ms/step - loss: 0.0044\n",
      "Epoch 68/100\n",
      "55/55 [==============================] - 0s 8ms/step - loss: 0.0043\n",
      "Epoch 69/100\n",
      "55/55 [==============================] - 0s 9ms/step - loss: 0.0041\n",
      "Epoch 70/100\n",
      "55/55 [==============================] - 0s 8ms/step - loss: 0.0039\n",
      "Epoch 71/100\n",
      "55/55 [==============================] - 0s 8ms/step - loss: 0.0040\n",
      "Epoch 72/100\n",
      "55/55 [==============================] - 0s 8ms/step - loss: 0.0044\n",
      "Epoch 73/100\n",
      "55/55 [==============================] - 0s 8ms/step - loss: 0.0050\n",
      "Epoch 74/100\n",
      "55/55 [==============================] - 0s 8ms/step - loss: 0.0056\n",
      "Epoch 75/100\n",
      "55/55 [==============================] - 0s 8ms/step - loss: 0.0059\n",
      "Epoch 76/100\n",
      "55/55 [==============================] - 0s 8ms/step - loss: 0.0058\n",
      "Epoch 77/100\n",
      "55/55 [==============================] - 1s 9ms/step - loss: 0.0051\n",
      "Epoch 78/100\n",
      "55/55 [==============================] - 0s 9ms/step - loss: 0.0043\n",
      "Epoch 79/100\n",
      "55/55 [==============================] - 0s 8ms/step - loss: 0.0035\n",
      "Epoch 80/100\n",
      "55/55 [==============================] - 0s 8ms/step - loss: 0.0028\n",
      "Epoch 81/100\n",
      "55/55 [==============================] - 0s 8ms/step - loss: 0.0023\n",
      "Epoch 82/100\n",
      "55/55 [==============================] - 0s 8ms/step - loss: 0.0018\n",
      "Epoch 83/100\n",
      "55/55 [==============================] - 0s 8ms/step - loss: 0.0015\n",
      "Epoch 84/100\n",
      "55/55 [==============================] - 0s 8ms/step - loss: 0.0013\n",
      "Epoch 85/100\n",
      "55/55 [==============================] - 0s 6ms/step - loss: 0.0013\n",
      "Epoch 86/100\n",
      "55/55 [==============================] - 0s 4ms/step - loss: 0.0013\n",
      "Epoch 87/100\n",
      "55/55 [==============================] - 0s 5ms/step - loss: 0.0013\n",
      "Epoch 88/100\n",
      "55/55 [==============================] - 0s 8ms/step - loss: 0.0014\n",
      "Epoch 89/100\n",
      "55/55 [==============================] - 0s 8ms/step - loss: 0.0015\n",
      "Epoch 90/100\n",
      "55/55 [==============================] - 0s 7ms/step - loss: 0.0015\n",
      "Epoch 91/100\n",
      "55/55 [==============================] - 0s 5ms/step - loss: 0.0015\n",
      "Epoch 92/100\n",
      "55/55 [==============================] - 0s 5ms/step - loss: 0.0015\n",
      "Epoch 93/100\n",
      "55/55 [==============================] - 0s 5ms/step - loss: 0.0015\n",
      "Epoch 94/100\n",
      "55/55 [==============================] - 0s 5ms/step - loss: 0.0015\n",
      "Epoch 95/100\n",
      "55/55 [==============================] - 0s 5ms/step - loss: 0.0015\n",
      "Epoch 96/100\n",
      "55/55 [==============================] - 0s 8ms/step - loss: 0.0017\n",
      "Epoch 97/100\n",
      "55/55 [==============================] - 0s 6ms/step - loss: 0.0020\n",
      "Epoch 98/100\n",
      "55/55 [==============================] - 0s 7ms/step - loss: 0.0025\n",
      "Epoch 99/100\n"
     ]
    },
    {
     "name": "stdout",
     "output_type": "stream",
     "text": [
      "55/55 [==============================] - 0s 5ms/step - loss: 0.0032\n",
      "Epoch 100/100\n",
      "55/55 [==============================] - 0s 3ms/step - loss: 0.0043\n",
      "1/1 [==============================] - 1s 777ms/step\n",
      "finished model and prediction of stock XLK 6/6\n"
     ]
    }
   ],
   "source": [
    "for i,ticker in enumerate(tickers):\n",
    "    model = CNN_LSTM_model(df_fs, base=ticker, batch_size = 8)\n",
    "    dfdict['pred_%s_fs'%(ticker)] = make_prediction(model, df_fs, split-1, base=ticker)\n",
    "    print(f'finished model and prediction of stock {ticker.upper()} {i+1}/{len(tickers)}')\n",
    "#model = CNN_LSTM_model(df_fs, base='QQQ', batch_size=1)\n"
   ]
  },
  {
   "cell_type": "code",
   "execution_count": null,
   "id": "3808db19",
   "metadata": {},
   "outputs": [],
   "source": [
    "#dfdict['pred_qqq_fs'] = make_prediction(model, df_fs, split-1, base='QQQ')"
   ]
  },
  {
   "cell_type": "code",
   "execution_count": 131,
   "id": "94598f5d",
   "metadata": {},
   "outputs": [],
   "source": [
    "inv_feature_scale(dfdict, tickers, dict_scaler)\n",
    "#inv_feature_scale(dfdict, ['aapl'], dict_scaler)\n"
   ]
  },
  {
   "cell_type": "code",
   "execution_count": 132,
   "id": "ea4c64ab",
   "metadata": {
    "scrolled": false
   },
   "outputs": [
    {
     "data": {
      "application/vnd.plotly.v1+json": {
       "config": {
        "plotlyServerURL": "https://plot.ly"
       },
       "data": [
        {
         "mode": "lines",
         "name": "Data",
         "type": "scatter",
         "x": [
          "2022-03-09",
          "2022-03-10",
          "2022-03-11",
          "2022-03-14",
          "2022-03-15",
          "2022-03-16",
          "2022-03-17",
          "2022-03-18",
          "2022-03-21",
          "2022-03-22",
          "2022-03-23",
          "2022-03-24",
          "2022-03-25",
          "2022-03-28",
          "2022-03-29",
          "2022-03-30",
          "2022-03-31",
          "2022-04-01",
          "2022-04-04",
          "2022-04-05",
          "2022-04-06",
          "2022-04-07",
          "2022-04-08",
          "2022-04-11",
          "2022-04-12",
          "2022-04-13",
          "2022-04-14",
          "2022-04-18",
          "2022-04-19",
          "2022-04-20",
          "2022-04-21",
          "2022-04-22",
          "2022-04-25",
          "2022-04-26",
          "2022-04-27",
          "2022-04-28",
          "2022-04-29",
          "2022-05-02",
          "2022-05-03",
          "2022-05-04",
          "2022-05-05",
          "2022-05-06",
          "2022-05-09",
          "2022-05-10",
          "2022-05-11",
          "2022-05-12",
          "2022-05-13",
          "2022-05-16",
          "2022-05-17",
          "2022-05-18",
          "2022-05-19",
          "2022-05-20"
         ],
         "y": [
          82.24,
          82.46,
          81.85,
          81.73,
          82.67,
          83.97,
          85.58,
          86.1,
          86.49,
          86.96,
          86.56,
          88.3,
          89.29,
          88.89,
          89.64,
          89.34,
          88.15,
          89.08,
          89.1,
          88.39,
          87.37,
          87.94,
          88.48,
          88.04,
          88.06,
          89.36,
          89.06,
          89.14,
          89.98,
          90.55,
          89.07,
          85.74,
          85.5,
          84.18,
          85.42,
          86.77,
          85.03,
          84.77,
          85.72,
          88.5,
          85.76,
          84.53,
          81.86,
          81.35,
          81.39,
          81.24,
          82.49,
          82.34,
          84.67,
          82.04,
          82.62,
          82.42
         ]
        },
        {
         "mode": "lines",
         "name": "Prediction",
         "type": "scatter",
         "x": [
          "2022-05-20T00:00:00",
          "2022-05-23T00:00:00",
          "2022-05-24T00:00:00",
          "2022-05-25T00:00:00",
          "2022-05-26T00:00:00",
          "2022-05-27T00:00:00",
          "2022-05-30T00:00:00",
          "2022-06-01T00:00:00",
          "2022-06-02T00:00:00",
          "2022-06-03T00:00:00",
          "2022-06-06T00:00:00",
          "2022-06-07T00:00:00",
          "2022-06-08T00:00:00",
          "2022-06-09T00:00:00",
          "2022-06-10T00:00:00",
          "2022-06-13T00:00:00",
          "2022-06-14T00:00:00",
          "2022-06-15T00:00:00",
          "2022-06-16T00:00:00",
          "2022-06-17T00:00:00",
          "2022-06-20T00:00:00",
          "2022-06-22T00:00:00",
          "2022-06-23T00:00:00",
          "2022-06-24T00:00:00",
          "2022-06-27T00:00:00",
          "2022-06-28T00:00:00",
          "2022-06-29T00:00:00",
          "2022-06-30T00:00:00",
          "2022-07-01T00:00:00",
          "2022-07-04T00:00:00",
          "2022-07-06T00:00:00",
          "2022-07-07T00:00:00",
          "2022-07-08T00:00:00",
          "2022-07-11T00:00:00",
          "2022-07-12T00:00:00",
          "2022-07-13T00:00:00",
          "2022-07-14T00:00:00",
          "2022-07-15T00:00:00",
          "2022-07-18T00:00:00",
          "2022-07-19T00:00:00",
          "2022-07-20T00:00:00",
          "2022-07-21T00:00:00",
          "2022-07-22T00:00:00",
          "2022-07-25T00:00:00",
          "2022-07-26T00:00:00",
          "2022-07-27T00:00:00",
          "2022-07-28T00:00:00",
          "2022-07-29T00:00:00",
          "2022-08-01T00:00:00",
          "2022-08-02T00:00:00",
          "2022-08-03T00:00:00",
          "2022-08-04T00:00:00"
         ],
         "y": [
          79.8625717163086,
          82.45706939697266,
          83.94213104248047,
          83.42481994628906,
          83.82396697998047,
          85.04668426513672,
          86.15264892578125,
          85.43299865722656,
          84.90721130371094,
          86.20570373535156,
          85.81352233886719,
          86.2562026977539,
          86.48552703857422,
          85.5676040649414,
          84.1439208984375,
          81.70773315429688,
          78.44727325439453,
          77.87425231933594,
          77.67121887207031,
          75.14209747314453,
          74.92048645019531,
          75.74993896484375,
          74.65076446533203,
          73.6848373413086,
          76.20771026611328,
          76.02806091308594,
          75.2535171508789,
          74.5743408203125,
          73.6236343383789,
          73.92451477050781,
          72.46623229980469,
          73.11041259765625,
          74.1069564819336,
          73.2508316040039,
          73.00704956054688,
          73.0047607421875,
          72.27960205078125,
          70.99925994873047,
          72.29084014892578,
          72.53351593017578,
          74.44412231445312,
          74.77688598632812,
          75.56280517578125,
          75.31268310546875,
          75.59442901611328,
          75.17180633544922,
          75.63787841796875,
          77.13009643554688,
          78.17504119873047,
          77.60310363769531,
          76.86972045898438,
          76.91729736328125
         ]
        },
        {
         "mode": "lines",
         "name": "Ground Truth",
         "type": "scatter",
         "x": [
          "2022-05-20",
          "2022-05-23",
          "2022-05-24",
          "2022-05-25",
          "2022-05-26",
          "2022-05-27",
          "2022-05-31",
          "2022-06-01",
          "2022-06-02",
          "2022-06-03",
          "2022-06-06",
          "2022-06-07",
          "2022-06-08",
          "2022-06-09",
          "2022-06-10",
          "2022-06-13",
          "2022-06-14",
          "2022-06-15",
          "2022-06-16",
          "2022-06-17",
          "2022-06-21",
          "2022-06-22",
          "2022-06-23",
          "2022-06-24",
          "2022-06-27",
          "2022-06-28",
          "2022-06-29",
          "2022-06-30",
          "2022-07-01",
          "2022-07-05",
          "2022-07-06",
          "2022-07-07",
          "2022-07-08",
          "2022-07-11",
          "2022-07-12",
          "2022-07-13",
          "2022-07-14",
          "2022-07-15",
          "2022-07-18",
          "2022-07-19",
          "2022-07-20",
          "2022-07-21",
          "2022-07-22",
          "2022-07-25",
          "2022-07-26",
          "2022-07-27",
          "2022-07-28",
          "2022-07-29",
          "2022-08-01",
          "2022-08-02",
          "2022-08-03"
         ],
         "y": [
          82.42,
          83.93,
          83.45,
          83.82,
          85.36,
          87.36,
          86.03,
          85.17,
          87.52,
          86.67,
          87.49,
          88.12,
          86.29,
          84.25,
          81.67,
          78.48,
          77.88,
          77.86,
          75.05,
          74.92,
          75.53,
          74.56,
          73.54,
          76.46,
          75.83,
          75.02,
          74.48,
          73.6,
          74.12,
          72.63,
          73.09,
          73.74,
          73.02,
          72.82,
          72.68,
          72.26,
          70.93,
          72.04,
          72.21,
          74.41,
          74.54,
          75.6,
          75.06,
          75.37,
          74.86,
          75.76,
          77.1,
          78.13,
          77.5,
          76.71,
          76.79
         ]
        }
       ],
       "layout": {
        "template": {
         "data": {
          "bar": [
           {
            "error_x": {
             "color": "#2a3f5f"
            },
            "error_y": {
             "color": "#2a3f5f"
            },
            "marker": {
             "line": {
              "color": "#E5ECF6",
              "width": 0.5
             },
             "pattern": {
              "fillmode": "overlay",
              "size": 10,
              "solidity": 0.2
             }
            },
            "type": "bar"
           }
          ],
          "barpolar": [
           {
            "marker": {
             "line": {
              "color": "#E5ECF6",
              "width": 0.5
             },
             "pattern": {
              "fillmode": "overlay",
              "size": 10,
              "solidity": 0.2
             }
            },
            "type": "barpolar"
           }
          ],
          "carpet": [
           {
            "aaxis": {
             "endlinecolor": "#2a3f5f",
             "gridcolor": "white",
             "linecolor": "white",
             "minorgridcolor": "white",
             "startlinecolor": "#2a3f5f"
            },
            "baxis": {
             "endlinecolor": "#2a3f5f",
             "gridcolor": "white",
             "linecolor": "white",
             "minorgridcolor": "white",
             "startlinecolor": "#2a3f5f"
            },
            "type": "carpet"
           }
          ],
          "choropleth": [
           {
            "colorbar": {
             "outlinewidth": 0,
             "ticks": ""
            },
            "type": "choropleth"
           }
          ],
          "contour": [
           {
            "colorbar": {
             "outlinewidth": 0,
             "ticks": ""
            },
            "colorscale": [
             [
              0,
              "#0d0887"
             ],
             [
              0.1111111111111111,
              "#46039f"
             ],
             [
              0.2222222222222222,
              "#7201a8"
             ],
             [
              0.3333333333333333,
              "#9c179e"
             ],
             [
              0.4444444444444444,
              "#bd3786"
             ],
             [
              0.5555555555555556,
              "#d8576b"
             ],
             [
              0.6666666666666666,
              "#ed7953"
             ],
             [
              0.7777777777777778,
              "#fb9f3a"
             ],
             [
              0.8888888888888888,
              "#fdca26"
             ],
             [
              1,
              "#f0f921"
             ]
            ],
            "type": "contour"
           }
          ],
          "contourcarpet": [
           {
            "colorbar": {
             "outlinewidth": 0,
             "ticks": ""
            },
            "type": "contourcarpet"
           }
          ],
          "heatmap": [
           {
            "colorbar": {
             "outlinewidth": 0,
             "ticks": ""
            },
            "colorscale": [
             [
              0,
              "#0d0887"
             ],
             [
              0.1111111111111111,
              "#46039f"
             ],
             [
              0.2222222222222222,
              "#7201a8"
             ],
             [
              0.3333333333333333,
              "#9c179e"
             ],
             [
              0.4444444444444444,
              "#bd3786"
             ],
             [
              0.5555555555555556,
              "#d8576b"
             ],
             [
              0.6666666666666666,
              "#ed7953"
             ],
             [
              0.7777777777777778,
              "#fb9f3a"
             ],
             [
              0.8888888888888888,
              "#fdca26"
             ],
             [
              1,
              "#f0f921"
             ]
            ],
            "type": "heatmap"
           }
          ],
          "heatmapgl": [
           {
            "colorbar": {
             "outlinewidth": 0,
             "ticks": ""
            },
            "colorscale": [
             [
              0,
              "#0d0887"
             ],
             [
              0.1111111111111111,
              "#46039f"
             ],
             [
              0.2222222222222222,
              "#7201a8"
             ],
             [
              0.3333333333333333,
              "#9c179e"
             ],
             [
              0.4444444444444444,
              "#bd3786"
             ],
             [
              0.5555555555555556,
              "#d8576b"
             ],
             [
              0.6666666666666666,
              "#ed7953"
             ],
             [
              0.7777777777777778,
              "#fb9f3a"
             ],
             [
              0.8888888888888888,
              "#fdca26"
             ],
             [
              1,
              "#f0f921"
             ]
            ],
            "type": "heatmapgl"
           }
          ],
          "histogram": [
           {
            "marker": {
             "pattern": {
              "fillmode": "overlay",
              "size": 10,
              "solidity": 0.2
             }
            },
            "type": "histogram"
           }
          ],
          "histogram2d": [
           {
            "colorbar": {
             "outlinewidth": 0,
             "ticks": ""
            },
            "colorscale": [
             [
              0,
              "#0d0887"
             ],
             [
              0.1111111111111111,
              "#46039f"
             ],
             [
              0.2222222222222222,
              "#7201a8"
             ],
             [
              0.3333333333333333,
              "#9c179e"
             ],
             [
              0.4444444444444444,
              "#bd3786"
             ],
             [
              0.5555555555555556,
              "#d8576b"
             ],
             [
              0.6666666666666666,
              "#ed7953"
             ],
             [
              0.7777777777777778,
              "#fb9f3a"
             ],
             [
              0.8888888888888888,
              "#fdca26"
             ],
             [
              1,
              "#f0f921"
             ]
            ],
            "type": "histogram2d"
           }
          ],
          "histogram2dcontour": [
           {
            "colorbar": {
             "outlinewidth": 0,
             "ticks": ""
            },
            "colorscale": [
             [
              0,
              "#0d0887"
             ],
             [
              0.1111111111111111,
              "#46039f"
             ],
             [
              0.2222222222222222,
              "#7201a8"
             ],
             [
              0.3333333333333333,
              "#9c179e"
             ],
             [
              0.4444444444444444,
              "#bd3786"
             ],
             [
              0.5555555555555556,
              "#d8576b"
             ],
             [
              0.6666666666666666,
              "#ed7953"
             ],
             [
              0.7777777777777778,
              "#fb9f3a"
             ],
             [
              0.8888888888888888,
              "#fdca26"
             ],
             [
              1,
              "#f0f921"
             ]
            ],
            "type": "histogram2dcontour"
           }
          ],
          "mesh3d": [
           {
            "colorbar": {
             "outlinewidth": 0,
             "ticks": ""
            },
            "type": "mesh3d"
           }
          ],
          "parcoords": [
           {
            "line": {
             "colorbar": {
              "outlinewidth": 0,
              "ticks": ""
             }
            },
            "type": "parcoords"
           }
          ],
          "pie": [
           {
            "automargin": true,
            "type": "pie"
           }
          ],
          "scatter": [
           {
            "marker": {
             "colorbar": {
              "outlinewidth": 0,
              "ticks": ""
             }
            },
            "type": "scatter"
           }
          ],
          "scatter3d": [
           {
            "line": {
             "colorbar": {
              "outlinewidth": 0,
              "ticks": ""
             }
            },
            "marker": {
             "colorbar": {
              "outlinewidth": 0,
              "ticks": ""
             }
            },
            "type": "scatter3d"
           }
          ],
          "scattercarpet": [
           {
            "marker": {
             "colorbar": {
              "outlinewidth": 0,
              "ticks": ""
             }
            },
            "type": "scattercarpet"
           }
          ],
          "scattergeo": [
           {
            "marker": {
             "colorbar": {
              "outlinewidth": 0,
              "ticks": ""
             }
            },
            "type": "scattergeo"
           }
          ],
          "scattergl": [
           {
            "marker": {
             "colorbar": {
              "outlinewidth": 0,
              "ticks": ""
             }
            },
            "type": "scattergl"
           }
          ],
          "scattermapbox": [
           {
            "marker": {
             "colorbar": {
              "outlinewidth": 0,
              "ticks": ""
             }
            },
            "type": "scattermapbox"
           }
          ],
          "scatterpolar": [
           {
            "marker": {
             "colorbar": {
              "outlinewidth": 0,
              "ticks": ""
             }
            },
            "type": "scatterpolar"
           }
          ],
          "scatterpolargl": [
           {
            "marker": {
             "colorbar": {
              "outlinewidth": 0,
              "ticks": ""
             }
            },
            "type": "scatterpolargl"
           }
          ],
          "scatterternary": [
           {
            "marker": {
             "colorbar": {
              "outlinewidth": 0,
              "ticks": ""
             }
            },
            "type": "scatterternary"
           }
          ],
          "surface": [
           {
            "colorbar": {
             "outlinewidth": 0,
             "ticks": ""
            },
            "colorscale": [
             [
              0,
              "#0d0887"
             ],
             [
              0.1111111111111111,
              "#46039f"
             ],
             [
              0.2222222222222222,
              "#7201a8"
             ],
             [
              0.3333333333333333,
              "#9c179e"
             ],
             [
              0.4444444444444444,
              "#bd3786"
             ],
             [
              0.5555555555555556,
              "#d8576b"
             ],
             [
              0.6666666666666666,
              "#ed7953"
             ],
             [
              0.7777777777777778,
              "#fb9f3a"
             ],
             [
              0.8888888888888888,
              "#fdca26"
             ],
             [
              1,
              "#f0f921"
             ]
            ],
            "type": "surface"
           }
          ],
          "table": [
           {
            "cells": {
             "fill": {
              "color": "#EBF0F8"
             },
             "line": {
              "color": "white"
             }
            },
            "header": {
             "fill": {
              "color": "#C8D4E3"
             },
             "line": {
              "color": "white"
             }
            },
            "type": "table"
           }
          ]
         },
         "layout": {
          "annotationdefaults": {
           "arrowcolor": "#2a3f5f",
           "arrowhead": 0,
           "arrowwidth": 1
          },
          "autotypenumbers": "strict",
          "coloraxis": {
           "colorbar": {
            "outlinewidth": 0,
            "ticks": ""
           }
          },
          "colorscale": {
           "diverging": [
            [
             0,
             "#8e0152"
            ],
            [
             0.1,
             "#c51b7d"
            ],
            [
             0.2,
             "#de77ae"
            ],
            [
             0.3,
             "#f1b6da"
            ],
            [
             0.4,
             "#fde0ef"
            ],
            [
             0.5,
             "#f7f7f7"
            ],
            [
             0.6,
             "#e6f5d0"
            ],
            [
             0.7,
             "#b8e186"
            ],
            [
             0.8,
             "#7fbc41"
            ],
            [
             0.9,
             "#4d9221"
            ],
            [
             1,
             "#276419"
            ]
           ],
           "sequential": [
            [
             0,
             "#0d0887"
            ],
            [
             0.1111111111111111,
             "#46039f"
            ],
            [
             0.2222222222222222,
             "#7201a8"
            ],
            [
             0.3333333333333333,
             "#9c179e"
            ],
            [
             0.4444444444444444,
             "#bd3786"
            ],
            [
             0.5555555555555556,
             "#d8576b"
            ],
            [
             0.6666666666666666,
             "#ed7953"
            ],
            [
             0.7777777777777778,
             "#fb9f3a"
            ],
            [
             0.8888888888888888,
             "#fdca26"
            ],
            [
             1,
             "#f0f921"
            ]
           ],
           "sequentialminus": [
            [
             0,
             "#0d0887"
            ],
            [
             0.1111111111111111,
             "#46039f"
            ],
            [
             0.2222222222222222,
             "#7201a8"
            ],
            [
             0.3333333333333333,
             "#9c179e"
            ],
            [
             0.4444444444444444,
             "#bd3786"
            ],
            [
             0.5555555555555556,
             "#d8576b"
            ],
            [
             0.6666666666666666,
             "#ed7953"
            ],
            [
             0.7777777777777778,
             "#fb9f3a"
            ],
            [
             0.8888888888888888,
             "#fdca26"
            ],
            [
             1,
             "#f0f921"
            ]
           ]
          },
          "colorway": [
           "#636efa",
           "#EF553B",
           "#00cc96",
           "#ab63fa",
           "#FFA15A",
           "#19d3f3",
           "#FF6692",
           "#B6E880",
           "#FF97FF",
           "#FECB52"
          ],
          "font": {
           "color": "#2a3f5f"
          },
          "geo": {
           "bgcolor": "white",
           "lakecolor": "white",
           "landcolor": "#E5ECF6",
           "showlakes": true,
           "showland": true,
           "subunitcolor": "white"
          },
          "hoverlabel": {
           "align": "left"
          },
          "hovermode": "closest",
          "mapbox": {
           "style": "light"
          },
          "paper_bgcolor": "white",
          "plot_bgcolor": "#E5ECF6",
          "polar": {
           "angularaxis": {
            "gridcolor": "white",
            "linecolor": "white",
            "ticks": ""
           },
           "bgcolor": "#E5ECF6",
           "radialaxis": {
            "gridcolor": "white",
            "linecolor": "white",
            "ticks": ""
           }
          },
          "scene": {
           "xaxis": {
            "backgroundcolor": "#E5ECF6",
            "gridcolor": "white",
            "gridwidth": 2,
            "linecolor": "white",
            "showbackground": true,
            "ticks": "",
            "zerolinecolor": "white"
           },
           "yaxis": {
            "backgroundcolor": "#E5ECF6",
            "gridcolor": "white",
            "gridwidth": 2,
            "linecolor": "white",
            "showbackground": true,
            "ticks": "",
            "zerolinecolor": "white"
           },
           "zaxis": {
            "backgroundcolor": "#E5ECF6",
            "gridcolor": "white",
            "gridwidth": 2,
            "linecolor": "white",
            "showbackground": true,
            "ticks": "",
            "zerolinecolor": "white"
           }
          },
          "shapedefaults": {
           "line": {
            "color": "#2a3f5f"
           }
          },
          "ternary": {
           "aaxis": {
            "gridcolor": "white",
            "linecolor": "white",
            "ticks": ""
           },
           "baxis": {
            "gridcolor": "white",
            "linecolor": "white",
            "ticks": ""
           },
           "bgcolor": "#E5ECF6",
           "caxis": {
            "gridcolor": "white",
            "linecolor": "white",
            "ticks": ""
           }
          },
          "title": {
           "x": 0.05
          },
          "xaxis": {
           "automargin": true,
           "gridcolor": "white",
           "linecolor": "white",
           "ticks": "",
           "title": {
            "standoff": 15
           },
           "zerolinecolor": "white",
           "zerolinewidth": 2
          },
          "yaxis": {
           "automargin": true,
           "gridcolor": "white",
           "linecolor": "white",
           "ticks": "",
           "title": {
            "standoff": 15
           },
           "zerolinecolor": "white",
           "zerolinewidth": 2
          }
         }
        },
        "title": {
         "text": "XLB"
        },
        "xaxis": {
         "title": {
          "text": "Date"
         }
        },
        "yaxis": {
         "title": {
          "text": "Close"
         }
        }
       }
      },
      "text/html": [
       "<div>                            <div id=\"383f726f-328c-40c8-9601-cb586bd37c14\" class=\"plotly-graph-div\" style=\"height:525px; width:100%;\"></div>            <script type=\"text/javascript\">                require([\"plotly\"], function(Plotly) {                    window.PLOTLYENV=window.PLOTLYENV || {};                                    if (document.getElementById(\"383f726f-328c-40c8-9601-cb586bd37c14\")) {                    Plotly.newPlot(                        \"383f726f-328c-40c8-9601-cb586bd37c14\",                        [{\"mode\":\"lines\",\"name\":\"Data\",\"x\":[\"2022-03-09\",\"2022-03-10\",\"2022-03-11\",\"2022-03-14\",\"2022-03-15\",\"2022-03-16\",\"2022-03-17\",\"2022-03-18\",\"2022-03-21\",\"2022-03-22\",\"2022-03-23\",\"2022-03-24\",\"2022-03-25\",\"2022-03-28\",\"2022-03-29\",\"2022-03-30\",\"2022-03-31\",\"2022-04-01\",\"2022-04-04\",\"2022-04-05\",\"2022-04-06\",\"2022-04-07\",\"2022-04-08\",\"2022-04-11\",\"2022-04-12\",\"2022-04-13\",\"2022-04-14\",\"2022-04-18\",\"2022-04-19\",\"2022-04-20\",\"2022-04-21\",\"2022-04-22\",\"2022-04-25\",\"2022-04-26\",\"2022-04-27\",\"2022-04-28\",\"2022-04-29\",\"2022-05-02\",\"2022-05-03\",\"2022-05-04\",\"2022-05-05\",\"2022-05-06\",\"2022-05-09\",\"2022-05-10\",\"2022-05-11\",\"2022-05-12\",\"2022-05-13\",\"2022-05-16\",\"2022-05-17\",\"2022-05-18\",\"2022-05-19\",\"2022-05-20\"],\"y\":[82.24,82.46,81.85,81.73,82.67,83.97,85.58,86.1,86.49,86.96,86.56,88.3,89.29,88.89,89.64,89.34,88.15,89.08,89.1,88.39,87.37,87.94,88.48,88.04,88.06,89.36,89.06,89.14,89.98,90.55,89.07,85.74,85.5,84.18,85.42,86.77,85.03,84.77,85.72,88.5,85.76,84.53,81.86,81.35,81.39,81.24,82.49,82.34,84.67,82.04,82.62,82.42],\"type\":\"scatter\"},{\"mode\":\"lines\",\"name\":\"Prediction\",\"x\":[\"2022-05-20T00:00:00\",\"2022-05-23T00:00:00\",\"2022-05-24T00:00:00\",\"2022-05-25T00:00:00\",\"2022-05-26T00:00:00\",\"2022-05-27T00:00:00\",\"2022-05-30T00:00:00\",\"2022-06-01T00:00:00\",\"2022-06-02T00:00:00\",\"2022-06-03T00:00:00\",\"2022-06-06T00:00:00\",\"2022-06-07T00:00:00\",\"2022-06-08T00:00:00\",\"2022-06-09T00:00:00\",\"2022-06-10T00:00:00\",\"2022-06-13T00:00:00\",\"2022-06-14T00:00:00\",\"2022-06-15T00:00:00\",\"2022-06-16T00:00:00\",\"2022-06-17T00:00:00\",\"2022-06-20T00:00:00\",\"2022-06-22T00:00:00\",\"2022-06-23T00:00:00\",\"2022-06-24T00:00:00\",\"2022-06-27T00:00:00\",\"2022-06-28T00:00:00\",\"2022-06-29T00:00:00\",\"2022-06-30T00:00:00\",\"2022-07-01T00:00:00\",\"2022-07-04T00:00:00\",\"2022-07-06T00:00:00\",\"2022-07-07T00:00:00\",\"2022-07-08T00:00:00\",\"2022-07-11T00:00:00\",\"2022-07-12T00:00:00\",\"2022-07-13T00:00:00\",\"2022-07-14T00:00:00\",\"2022-07-15T00:00:00\",\"2022-07-18T00:00:00\",\"2022-07-19T00:00:00\",\"2022-07-20T00:00:00\",\"2022-07-21T00:00:00\",\"2022-07-22T00:00:00\",\"2022-07-25T00:00:00\",\"2022-07-26T00:00:00\",\"2022-07-27T00:00:00\",\"2022-07-28T00:00:00\",\"2022-07-29T00:00:00\",\"2022-08-01T00:00:00\",\"2022-08-02T00:00:00\",\"2022-08-03T00:00:00\",\"2022-08-04T00:00:00\"],\"y\":[79.8625717163086,82.45706939697266,83.94213104248047,83.42481994628906,83.82396697998047,85.04668426513672,86.15264892578125,85.43299865722656,84.90721130371094,86.20570373535156,85.81352233886719,86.2562026977539,86.48552703857422,85.5676040649414,84.1439208984375,81.70773315429688,78.44727325439453,77.87425231933594,77.67121887207031,75.14209747314453,74.92048645019531,75.74993896484375,74.65076446533203,73.6848373413086,76.20771026611328,76.02806091308594,75.2535171508789,74.5743408203125,73.6236343383789,73.92451477050781,72.46623229980469,73.11041259765625,74.1069564819336,73.2508316040039,73.00704956054688,73.0047607421875,72.27960205078125,70.99925994873047,72.29084014892578,72.53351593017578,74.44412231445312,74.77688598632812,75.56280517578125,75.31268310546875,75.59442901611328,75.17180633544922,75.63787841796875,77.13009643554688,78.17504119873047,77.60310363769531,76.86972045898438,76.91729736328125],\"type\":\"scatter\"},{\"mode\":\"lines\",\"name\":\"Ground Truth\",\"x\":[\"2022-05-20\",\"2022-05-23\",\"2022-05-24\",\"2022-05-25\",\"2022-05-26\",\"2022-05-27\",\"2022-05-31\",\"2022-06-01\",\"2022-06-02\",\"2022-06-03\",\"2022-06-06\",\"2022-06-07\",\"2022-06-08\",\"2022-06-09\",\"2022-06-10\",\"2022-06-13\",\"2022-06-14\",\"2022-06-15\",\"2022-06-16\",\"2022-06-17\",\"2022-06-21\",\"2022-06-22\",\"2022-06-23\",\"2022-06-24\",\"2022-06-27\",\"2022-06-28\",\"2022-06-29\",\"2022-06-30\",\"2022-07-01\",\"2022-07-05\",\"2022-07-06\",\"2022-07-07\",\"2022-07-08\",\"2022-07-11\",\"2022-07-12\",\"2022-07-13\",\"2022-07-14\",\"2022-07-15\",\"2022-07-18\",\"2022-07-19\",\"2022-07-20\",\"2022-07-21\",\"2022-07-22\",\"2022-07-25\",\"2022-07-26\",\"2022-07-27\",\"2022-07-28\",\"2022-07-29\",\"2022-08-01\",\"2022-08-02\",\"2022-08-03\"],\"y\":[82.42,83.93,83.45,83.82,85.36,87.36,86.03,85.17,87.52,86.67,87.49,88.12,86.29,84.25,81.67,78.48,77.88,77.86,75.05,74.92,75.53,74.56,73.54,76.46,75.83,75.02,74.48,73.6,74.12,72.63,73.09,73.74,73.02,72.82,72.68,72.26,70.93,72.04,72.21,74.41,74.54,75.6,75.06,75.37,74.86,75.76,77.1,78.13,77.5,76.71,76.79],\"type\":\"scatter\"}],                        {\"title\":{\"text\":\"XLB\"},\"xaxis\":{\"title\":{\"text\":\"Date\"}},\"yaxis\":{\"title\":{\"text\":\"Close\"}},\"template\":{\"data\":{\"bar\":[{\"error_x\":{\"color\":\"#2a3f5f\"},\"error_y\":{\"color\":\"#2a3f5f\"},\"marker\":{\"line\":{\"color\":\"#E5ECF6\",\"width\":0.5},\"pattern\":{\"fillmode\":\"overlay\",\"size\":10,\"solidity\":0.2}},\"type\":\"bar\"}],\"barpolar\":[{\"marker\":{\"line\":{\"color\":\"#E5ECF6\",\"width\":0.5},\"pattern\":{\"fillmode\":\"overlay\",\"size\":10,\"solidity\":0.2}},\"type\":\"barpolar\"}],\"carpet\":[{\"aaxis\":{\"endlinecolor\":\"#2a3f5f\",\"gridcolor\":\"white\",\"linecolor\":\"white\",\"minorgridcolor\":\"white\",\"startlinecolor\":\"#2a3f5f\"},\"baxis\":{\"endlinecolor\":\"#2a3f5f\",\"gridcolor\":\"white\",\"linecolor\":\"white\",\"minorgridcolor\":\"white\",\"startlinecolor\":\"#2a3f5f\"},\"type\":\"carpet\"}],\"choropleth\":[{\"colorbar\":{\"outlinewidth\":0,\"ticks\":\"\"},\"type\":\"choropleth\"}],\"contour\":[{\"colorbar\":{\"outlinewidth\":0,\"ticks\":\"\"},\"colorscale\":[[0.0,\"#0d0887\"],[0.1111111111111111,\"#46039f\"],[0.2222222222222222,\"#7201a8\"],[0.3333333333333333,\"#9c179e\"],[0.4444444444444444,\"#bd3786\"],[0.5555555555555556,\"#d8576b\"],[0.6666666666666666,\"#ed7953\"],[0.7777777777777778,\"#fb9f3a\"],[0.8888888888888888,\"#fdca26\"],[1.0,\"#f0f921\"]],\"type\":\"contour\"}],\"contourcarpet\":[{\"colorbar\":{\"outlinewidth\":0,\"ticks\":\"\"},\"type\":\"contourcarpet\"}],\"heatmap\":[{\"colorbar\":{\"outlinewidth\":0,\"ticks\":\"\"},\"colorscale\":[[0.0,\"#0d0887\"],[0.1111111111111111,\"#46039f\"],[0.2222222222222222,\"#7201a8\"],[0.3333333333333333,\"#9c179e\"],[0.4444444444444444,\"#bd3786\"],[0.5555555555555556,\"#d8576b\"],[0.6666666666666666,\"#ed7953\"],[0.7777777777777778,\"#fb9f3a\"],[0.8888888888888888,\"#fdca26\"],[1.0,\"#f0f921\"]],\"type\":\"heatmap\"}],\"heatmapgl\":[{\"colorbar\":{\"outlinewidth\":0,\"ticks\":\"\"},\"colorscale\":[[0.0,\"#0d0887\"],[0.1111111111111111,\"#46039f\"],[0.2222222222222222,\"#7201a8\"],[0.3333333333333333,\"#9c179e\"],[0.4444444444444444,\"#bd3786\"],[0.5555555555555556,\"#d8576b\"],[0.6666666666666666,\"#ed7953\"],[0.7777777777777778,\"#fb9f3a\"],[0.8888888888888888,\"#fdca26\"],[1.0,\"#f0f921\"]],\"type\":\"heatmapgl\"}],\"histogram\":[{\"marker\":{\"pattern\":{\"fillmode\":\"overlay\",\"size\":10,\"solidity\":0.2}},\"type\":\"histogram\"}],\"histogram2d\":[{\"colorbar\":{\"outlinewidth\":0,\"ticks\":\"\"},\"colorscale\":[[0.0,\"#0d0887\"],[0.1111111111111111,\"#46039f\"],[0.2222222222222222,\"#7201a8\"],[0.3333333333333333,\"#9c179e\"],[0.4444444444444444,\"#bd3786\"],[0.5555555555555556,\"#d8576b\"],[0.6666666666666666,\"#ed7953\"],[0.7777777777777778,\"#fb9f3a\"],[0.8888888888888888,\"#fdca26\"],[1.0,\"#f0f921\"]],\"type\":\"histogram2d\"}],\"histogram2dcontour\":[{\"colorbar\":{\"outlinewidth\":0,\"ticks\":\"\"},\"colorscale\":[[0.0,\"#0d0887\"],[0.1111111111111111,\"#46039f\"],[0.2222222222222222,\"#7201a8\"],[0.3333333333333333,\"#9c179e\"],[0.4444444444444444,\"#bd3786\"],[0.5555555555555556,\"#d8576b\"],[0.6666666666666666,\"#ed7953\"],[0.7777777777777778,\"#fb9f3a\"],[0.8888888888888888,\"#fdca26\"],[1.0,\"#f0f921\"]],\"type\":\"histogram2dcontour\"}],\"mesh3d\":[{\"colorbar\":{\"outlinewidth\":0,\"ticks\":\"\"},\"type\":\"mesh3d\"}],\"parcoords\":[{\"line\":{\"colorbar\":{\"outlinewidth\":0,\"ticks\":\"\"}},\"type\":\"parcoords\"}],\"pie\":[{\"automargin\":true,\"type\":\"pie\"}],\"scatter\":[{\"marker\":{\"colorbar\":{\"outlinewidth\":0,\"ticks\":\"\"}},\"type\":\"scatter\"}],\"scatter3d\":[{\"line\":{\"colorbar\":{\"outlinewidth\":0,\"ticks\":\"\"}},\"marker\":{\"colorbar\":{\"outlinewidth\":0,\"ticks\":\"\"}},\"type\":\"scatter3d\"}],\"scattercarpet\":[{\"marker\":{\"colorbar\":{\"outlinewidth\":0,\"ticks\":\"\"}},\"type\":\"scattercarpet\"}],\"scattergeo\":[{\"marker\":{\"colorbar\":{\"outlinewidth\":0,\"ticks\":\"\"}},\"type\":\"scattergeo\"}],\"scattergl\":[{\"marker\":{\"colorbar\":{\"outlinewidth\":0,\"ticks\":\"\"}},\"type\":\"scattergl\"}],\"scattermapbox\":[{\"marker\":{\"colorbar\":{\"outlinewidth\":0,\"ticks\":\"\"}},\"type\":\"scattermapbox\"}],\"scatterpolar\":[{\"marker\":{\"colorbar\":{\"outlinewidth\":0,\"ticks\":\"\"}},\"type\":\"scatterpolar\"}],\"scatterpolargl\":[{\"marker\":{\"colorbar\":{\"outlinewidth\":0,\"ticks\":\"\"}},\"type\":\"scatterpolargl\"}],\"scatterternary\":[{\"marker\":{\"colorbar\":{\"outlinewidth\":0,\"ticks\":\"\"}},\"type\":\"scatterternary\"}],\"surface\":[{\"colorbar\":{\"outlinewidth\":0,\"ticks\":\"\"},\"colorscale\":[[0.0,\"#0d0887\"],[0.1111111111111111,\"#46039f\"],[0.2222222222222222,\"#7201a8\"],[0.3333333333333333,\"#9c179e\"],[0.4444444444444444,\"#bd3786\"],[0.5555555555555556,\"#d8576b\"],[0.6666666666666666,\"#ed7953\"],[0.7777777777777778,\"#fb9f3a\"],[0.8888888888888888,\"#fdca26\"],[1.0,\"#f0f921\"]],\"type\":\"surface\"}],\"table\":[{\"cells\":{\"fill\":{\"color\":\"#EBF0F8\"},\"line\":{\"color\":\"white\"}},\"header\":{\"fill\":{\"color\":\"#C8D4E3\"},\"line\":{\"color\":\"white\"}},\"type\":\"table\"}]},\"layout\":{\"annotationdefaults\":{\"arrowcolor\":\"#2a3f5f\",\"arrowhead\":0,\"arrowwidth\":1},\"autotypenumbers\":\"strict\",\"coloraxis\":{\"colorbar\":{\"outlinewidth\":0,\"ticks\":\"\"}},\"colorscale\":{\"diverging\":[[0,\"#8e0152\"],[0.1,\"#c51b7d\"],[0.2,\"#de77ae\"],[0.3,\"#f1b6da\"],[0.4,\"#fde0ef\"],[0.5,\"#f7f7f7\"],[0.6,\"#e6f5d0\"],[0.7,\"#b8e186\"],[0.8,\"#7fbc41\"],[0.9,\"#4d9221\"],[1,\"#276419\"]],\"sequential\":[[0.0,\"#0d0887\"],[0.1111111111111111,\"#46039f\"],[0.2222222222222222,\"#7201a8\"],[0.3333333333333333,\"#9c179e\"],[0.4444444444444444,\"#bd3786\"],[0.5555555555555556,\"#d8576b\"],[0.6666666666666666,\"#ed7953\"],[0.7777777777777778,\"#fb9f3a\"],[0.8888888888888888,\"#fdca26\"],[1.0,\"#f0f921\"]],\"sequentialminus\":[[0.0,\"#0d0887\"],[0.1111111111111111,\"#46039f\"],[0.2222222222222222,\"#7201a8\"],[0.3333333333333333,\"#9c179e\"],[0.4444444444444444,\"#bd3786\"],[0.5555555555555556,\"#d8576b\"],[0.6666666666666666,\"#ed7953\"],[0.7777777777777778,\"#fb9f3a\"],[0.8888888888888888,\"#fdca26\"],[1.0,\"#f0f921\"]]},\"colorway\":[\"#636efa\",\"#EF553B\",\"#00cc96\",\"#ab63fa\",\"#FFA15A\",\"#19d3f3\",\"#FF6692\",\"#B6E880\",\"#FF97FF\",\"#FECB52\"],\"font\":{\"color\":\"#2a3f5f\"},\"geo\":{\"bgcolor\":\"white\",\"lakecolor\":\"white\",\"landcolor\":\"#E5ECF6\",\"showlakes\":true,\"showland\":true,\"subunitcolor\":\"white\"},\"hoverlabel\":{\"align\":\"left\"},\"hovermode\":\"closest\",\"mapbox\":{\"style\":\"light\"},\"paper_bgcolor\":\"white\",\"plot_bgcolor\":\"#E5ECF6\",\"polar\":{\"angularaxis\":{\"gridcolor\":\"white\",\"linecolor\":\"white\",\"ticks\":\"\"},\"bgcolor\":\"#E5ECF6\",\"radialaxis\":{\"gridcolor\":\"white\",\"linecolor\":\"white\",\"ticks\":\"\"}},\"scene\":{\"xaxis\":{\"backgroundcolor\":\"#E5ECF6\",\"gridcolor\":\"white\",\"gridwidth\":2,\"linecolor\":\"white\",\"showbackground\":true,\"ticks\":\"\",\"zerolinecolor\":\"white\"},\"yaxis\":{\"backgroundcolor\":\"#E5ECF6\",\"gridcolor\":\"white\",\"gridwidth\":2,\"linecolor\":\"white\",\"showbackground\":true,\"ticks\":\"\",\"zerolinecolor\":\"white\"},\"zaxis\":{\"backgroundcolor\":\"#E5ECF6\",\"gridcolor\":\"white\",\"gridwidth\":2,\"linecolor\":\"white\",\"showbackground\":true,\"ticks\":\"\",\"zerolinecolor\":\"white\"}},\"shapedefaults\":{\"line\":{\"color\":\"#2a3f5f\"}},\"ternary\":{\"aaxis\":{\"gridcolor\":\"white\",\"linecolor\":\"white\",\"ticks\":\"\"},\"baxis\":{\"gridcolor\":\"white\",\"linecolor\":\"white\",\"ticks\":\"\"},\"bgcolor\":\"#E5ECF6\",\"caxis\":{\"gridcolor\":\"white\",\"linecolor\":\"white\",\"ticks\":\"\"}},\"title\":{\"x\":0.05},\"xaxis\":{\"automargin\":true,\"gridcolor\":\"white\",\"linecolor\":\"white\",\"ticks\":\"\",\"title\":{\"standoff\":15},\"zerolinecolor\":\"white\",\"zerolinewidth\":2},\"yaxis\":{\"automargin\":true,\"gridcolor\":\"white\",\"linecolor\":\"white\",\"ticks\":\"\",\"title\":{\"standoff\":15},\"zerolinecolor\":\"white\",\"zerolinewidth\":2}}}},                        {\"responsive\": true}                    ).then(function(){\n",
       "                            \n",
       "var gd = document.getElementById('383f726f-328c-40c8-9601-cb586bd37c14');\n",
       "var x = new MutationObserver(function (mutations, observer) {{\n",
       "        var display = window.getComputedStyle(gd).display;\n",
       "        if (!display || display === 'none') {{\n",
       "            console.log([gd, 'removed!']);\n",
       "            Plotly.purge(gd);\n",
       "            observer.disconnect();\n",
       "        }}\n",
       "}});\n",
       "\n",
       "// Listen for the removal of the full notebook cells\n",
       "var notebookContainer = gd.closest('#notebook-container');\n",
       "if (notebookContainer) {{\n",
       "    x.observe(notebookContainer, {childList: true});\n",
       "}}\n",
       "\n",
       "// Listen for the clearing of the current output cell\n",
       "var outputEl = gd.closest('.output');\n",
       "if (outputEl) {{\n",
       "    x.observe(outputEl, {childList: true});\n",
       "}}\n",
       "\n",
       "                        })                };                });            </script>        </div>"
      ]
     },
     "metadata": {},
     "output_type": "display_data"
    },
    {
     "data": {
      "application/vnd.plotly.v1+json": {
       "config": {
        "plotlyServerURL": "https://plot.ly"
       },
       "data": [
        {
         "mode": "lines",
         "name": "Data",
         "type": "scatter",
         "x": [
          "2022-03-09",
          "2022-03-10",
          "2022-03-11",
          "2022-03-14",
          "2022-03-15",
          "2022-03-16",
          "2022-03-17",
          "2022-03-18",
          "2022-03-21",
          "2022-03-22",
          "2022-03-23",
          "2022-03-24",
          "2022-03-25",
          "2022-03-28",
          "2022-03-29",
          "2022-03-30",
          "2022-03-31",
          "2022-04-01",
          "2022-04-04",
          "2022-04-05",
          "2022-04-06",
          "2022-04-07",
          "2022-04-08",
          "2022-04-11",
          "2022-04-12",
          "2022-04-13",
          "2022-04-14",
          "2022-04-18",
          "2022-04-19",
          "2022-04-20",
          "2022-04-21",
          "2022-04-22",
          "2022-04-25",
          "2022-04-26",
          "2022-04-27",
          "2022-04-28",
          "2022-04-29",
          "2022-05-02",
          "2022-05-03",
          "2022-05-04",
          "2022-05-05",
          "2022-05-06",
          "2022-05-09",
          "2022-05-10",
          "2022-05-11",
          "2022-05-12",
          "2022-05-13",
          "2022-05-16",
          "2022-05-17",
          "2022-05-18",
          "2022-05-19",
          "2022-05-20"
         ],
         "y": [
          66.04,
          65.55,
          64.37,
          63.62,
          64.84,
          66.63,
          67.35,
          68.23,
          67.42,
          68.68,
          67.74,
          68.85,
          69.18,
          69.4,
          70.61,
          70.11,
          68.78,
          69.29,
          71.2,
          70.29,
          68.98,
          68.38,
          68.08,
          67.2,
          66.65,
          67.63,
          66.48,
          66.26,
          67.58,
          64.65,
          62.81,
          61.32,
          62.16,
          60.12,
          58.78,
          61.13,
          59.06,
          60.69,
          60.85,
          62.94,
          60.62,
          59.37,
          57.83,
          58.09,
          57.04,
          57.66,
          59.01,
          58.63,
          59.91,
          57.95,
          57.87,
          58.02
         ]
        },
        {
         "mode": "lines",
         "name": "Prediction",
         "type": "scatter",
         "x": [
          "2022-05-20T00:00:00",
          "2022-05-23T00:00:00",
          "2022-05-24T00:00:00",
          "2022-05-25T00:00:00",
          "2022-05-26T00:00:00",
          "2022-05-27T00:00:00",
          "2022-05-30T00:00:00",
          "2022-06-01T00:00:00",
          "2022-06-02T00:00:00",
          "2022-06-03T00:00:00",
          "2022-06-06T00:00:00",
          "2022-06-07T00:00:00",
          "2022-06-08T00:00:00",
          "2022-06-09T00:00:00",
          "2022-06-10T00:00:00",
          "2022-06-13T00:00:00",
          "2022-06-14T00:00:00",
          "2022-06-15T00:00:00",
          "2022-06-16T00:00:00",
          "2022-06-17T00:00:00",
          "2022-06-20T00:00:00",
          "2022-06-22T00:00:00",
          "2022-06-23T00:00:00",
          "2022-06-24T00:00:00",
          "2022-06-27T00:00:00",
          "2022-06-28T00:00:00",
          "2022-06-29T00:00:00",
          "2022-06-30T00:00:00",
          "2022-07-01T00:00:00",
          "2022-07-04T00:00:00",
          "2022-07-06T00:00:00",
          "2022-07-07T00:00:00",
          "2022-07-08T00:00:00",
          "2022-07-11T00:00:00",
          "2022-07-12T00:00:00",
          "2022-07-13T00:00:00",
          "2022-07-14T00:00:00",
          "2022-07-15T00:00:00",
          "2022-07-18T00:00:00",
          "2022-07-19T00:00:00",
          "2022-07-20T00:00:00",
          "2022-07-21T00:00:00",
          "2022-07-22T00:00:00",
          "2022-07-25T00:00:00",
          "2022-07-26T00:00:00",
          "2022-07-27T00:00:00",
          "2022-07-28T00:00:00",
          "2022-07-29T00:00:00",
          "2022-08-01T00:00:00",
          "2022-08-02T00:00:00",
          "2022-08-03T00:00:00",
          "2022-08-04T00:00:00"
         ],
         "y": [
          52.878150939941406,
          57.77102279663086,
          58.563392639160156,
          56.60576248168945,
          57.49217987060547,
          58.75526428222656,
          59.853614807128906,
          60.043235778808594,
          59.65831756591797,
          60.31111526489258,
          59.623043060302734,
          59.83827209472656,
          59.98573303222656,
          60.148441314697266,
          58.57154846191406,
          56.75648498535156,
          54.298728942871094,
          53.96628189086914,
          55.24568176269531,
          53.20610809326172,
          53.763404846191406,
          54.182621002197266,
          54.252315521240234,
          54.74090576171875,
          56.923946380615234,
          56.45552062988281,
          55.10444259643555,
          54.858707427978516,
          54.18714141845703,
          54.646331787109375,
          55.981605529785156,
          56.130455017089844,
          56.983280181884766,
          56.76350784301758,
          55.102657318115234,
          55.05475616455078,
          54.66099548339844,
          53.83402633666992,
          55.334877014160156,
          55.291805267333984,
          57.02280044555664,
          57.98477554321289,
          57.77984619140625,
          56.15166091918945,
          55.87476348876953,
          54.71847915649414,
          57.00674819946289,
          56.20427322387695,
          56.33442306518555,
          56.36884307861328,
          56.37160873413086,
          57.504234313964844
         ]
        },
        {
         "mode": "lines",
         "name": "Ground Truth",
         "type": "scatter",
         "x": [
          "2022-05-20",
          "2022-05-23",
          "2022-05-24",
          "2022-05-25",
          "2022-05-26",
          "2022-05-27",
          "2022-05-31",
          "2022-06-01",
          "2022-06-02",
          "2022-06-03",
          "2022-06-06",
          "2022-06-07",
          "2022-06-08",
          "2022-06-09",
          "2022-06-10",
          "2022-06-13",
          "2022-06-14",
          "2022-06-15",
          "2022-06-16",
          "2022-06-17",
          "2022-06-21",
          "2022-06-22",
          "2022-06-23",
          "2022-06-24",
          "2022-06-27",
          "2022-06-28",
          "2022-06-29",
          "2022-06-30",
          "2022-07-01",
          "2022-07-05",
          "2022-07-06",
          "2022-07-07",
          "2022-07-08",
          "2022-07-11",
          "2022-07-12",
          "2022-07-13",
          "2022-07-14",
          "2022-07-15",
          "2022-07-18",
          "2022-07-19",
          "2022-07-20",
          "2022-07-21",
          "2022-07-22",
          "2022-07-25",
          "2022-07-26",
          "2022-07-27",
          "2022-07-28",
          "2022-07-29",
          "2022-08-01",
          "2022-08-02",
          "2022-08-03"
         ],
         "y": [
          58.02,
          58.89,
          56.8,
          57.56,
          58.96,
          60.22,
          60.18,
          59.49,
          60.94,
          59.62,
          59.92,
          60.35,
          60.19,
          58.34,
          56.71,
          54.03,
          53.88,
          55.09,
          53.08,
          53.84,
          54.09,
          54.18,
          54.85,
          56.94,
          56.4,
          54.76,
          54.93,
          54.27,
          54.82,
          56.09,
          56.1,
          56.98,
          56.71,
          54.99,
          54.96,
          54.71,
          54.02,
          55.41,
          55.13,
          57.09,
          58.03,
          58,
          55.99,
          55.8,
          54.68,
          56.99,
          56.34,
          56.37,
          56.29,
          56.2,
          57.55
         ]
        }
       ],
       "layout": {
        "template": {
         "data": {
          "bar": [
           {
            "error_x": {
             "color": "#2a3f5f"
            },
            "error_y": {
             "color": "#2a3f5f"
            },
            "marker": {
             "line": {
              "color": "#E5ECF6",
              "width": 0.5
             },
             "pattern": {
              "fillmode": "overlay",
              "size": 10,
              "solidity": 0.2
             }
            },
            "type": "bar"
           }
          ],
          "barpolar": [
           {
            "marker": {
             "line": {
              "color": "#E5ECF6",
              "width": 0.5
             },
             "pattern": {
              "fillmode": "overlay",
              "size": 10,
              "solidity": 0.2
             }
            },
            "type": "barpolar"
           }
          ],
          "carpet": [
           {
            "aaxis": {
             "endlinecolor": "#2a3f5f",
             "gridcolor": "white",
             "linecolor": "white",
             "minorgridcolor": "white",
             "startlinecolor": "#2a3f5f"
            },
            "baxis": {
             "endlinecolor": "#2a3f5f",
             "gridcolor": "white",
             "linecolor": "white",
             "minorgridcolor": "white",
             "startlinecolor": "#2a3f5f"
            },
            "type": "carpet"
           }
          ],
          "choropleth": [
           {
            "colorbar": {
             "outlinewidth": 0,
             "ticks": ""
            },
            "type": "choropleth"
           }
          ],
          "contour": [
           {
            "colorbar": {
             "outlinewidth": 0,
             "ticks": ""
            },
            "colorscale": [
             [
              0,
              "#0d0887"
             ],
             [
              0.1111111111111111,
              "#46039f"
             ],
             [
              0.2222222222222222,
              "#7201a8"
             ],
             [
              0.3333333333333333,
              "#9c179e"
             ],
             [
              0.4444444444444444,
              "#bd3786"
             ],
             [
              0.5555555555555556,
              "#d8576b"
             ],
             [
              0.6666666666666666,
              "#ed7953"
             ],
             [
              0.7777777777777778,
              "#fb9f3a"
             ],
             [
              0.8888888888888888,
              "#fdca26"
             ],
             [
              1,
              "#f0f921"
             ]
            ],
            "type": "contour"
           }
          ],
          "contourcarpet": [
           {
            "colorbar": {
             "outlinewidth": 0,
             "ticks": ""
            },
            "type": "contourcarpet"
           }
          ],
          "heatmap": [
           {
            "colorbar": {
             "outlinewidth": 0,
             "ticks": ""
            },
            "colorscale": [
             [
              0,
              "#0d0887"
             ],
             [
              0.1111111111111111,
              "#46039f"
             ],
             [
              0.2222222222222222,
              "#7201a8"
             ],
             [
              0.3333333333333333,
              "#9c179e"
             ],
             [
              0.4444444444444444,
              "#bd3786"
             ],
             [
              0.5555555555555556,
              "#d8576b"
             ],
             [
              0.6666666666666666,
              "#ed7953"
             ],
             [
              0.7777777777777778,
              "#fb9f3a"
             ],
             [
              0.8888888888888888,
              "#fdca26"
             ],
             [
              1,
              "#f0f921"
             ]
            ],
            "type": "heatmap"
           }
          ],
          "heatmapgl": [
           {
            "colorbar": {
             "outlinewidth": 0,
             "ticks": ""
            },
            "colorscale": [
             [
              0,
              "#0d0887"
             ],
             [
              0.1111111111111111,
              "#46039f"
             ],
             [
              0.2222222222222222,
              "#7201a8"
             ],
             [
              0.3333333333333333,
              "#9c179e"
             ],
             [
              0.4444444444444444,
              "#bd3786"
             ],
             [
              0.5555555555555556,
              "#d8576b"
             ],
             [
              0.6666666666666666,
              "#ed7953"
             ],
             [
              0.7777777777777778,
              "#fb9f3a"
             ],
             [
              0.8888888888888888,
              "#fdca26"
             ],
             [
              1,
              "#f0f921"
             ]
            ],
            "type": "heatmapgl"
           }
          ],
          "histogram": [
           {
            "marker": {
             "pattern": {
              "fillmode": "overlay",
              "size": 10,
              "solidity": 0.2
             }
            },
            "type": "histogram"
           }
          ],
          "histogram2d": [
           {
            "colorbar": {
             "outlinewidth": 0,
             "ticks": ""
            },
            "colorscale": [
             [
              0,
              "#0d0887"
             ],
             [
              0.1111111111111111,
              "#46039f"
             ],
             [
              0.2222222222222222,
              "#7201a8"
             ],
             [
              0.3333333333333333,
              "#9c179e"
             ],
             [
              0.4444444444444444,
              "#bd3786"
             ],
             [
              0.5555555555555556,
              "#d8576b"
             ],
             [
              0.6666666666666666,
              "#ed7953"
             ],
             [
              0.7777777777777778,
              "#fb9f3a"
             ],
             [
              0.8888888888888888,
              "#fdca26"
             ],
             [
              1,
              "#f0f921"
             ]
            ],
            "type": "histogram2d"
           }
          ],
          "histogram2dcontour": [
           {
            "colorbar": {
             "outlinewidth": 0,
             "ticks": ""
            },
            "colorscale": [
             [
              0,
              "#0d0887"
             ],
             [
              0.1111111111111111,
              "#46039f"
             ],
             [
              0.2222222222222222,
              "#7201a8"
             ],
             [
              0.3333333333333333,
              "#9c179e"
             ],
             [
              0.4444444444444444,
              "#bd3786"
             ],
             [
              0.5555555555555556,
              "#d8576b"
             ],
             [
              0.6666666666666666,
              "#ed7953"
             ],
             [
              0.7777777777777778,
              "#fb9f3a"
             ],
             [
              0.8888888888888888,
              "#fdca26"
             ],
             [
              1,
              "#f0f921"
             ]
            ],
            "type": "histogram2dcontour"
           }
          ],
          "mesh3d": [
           {
            "colorbar": {
             "outlinewidth": 0,
             "ticks": ""
            },
            "type": "mesh3d"
           }
          ],
          "parcoords": [
           {
            "line": {
             "colorbar": {
              "outlinewidth": 0,
              "ticks": ""
             }
            },
            "type": "parcoords"
           }
          ],
          "pie": [
           {
            "automargin": true,
            "type": "pie"
           }
          ],
          "scatter": [
           {
            "marker": {
             "colorbar": {
              "outlinewidth": 0,
              "ticks": ""
             }
            },
            "type": "scatter"
           }
          ],
          "scatter3d": [
           {
            "line": {
             "colorbar": {
              "outlinewidth": 0,
              "ticks": ""
             }
            },
            "marker": {
             "colorbar": {
              "outlinewidth": 0,
              "ticks": ""
             }
            },
            "type": "scatter3d"
           }
          ],
          "scattercarpet": [
           {
            "marker": {
             "colorbar": {
              "outlinewidth": 0,
              "ticks": ""
             }
            },
            "type": "scattercarpet"
           }
          ],
          "scattergeo": [
           {
            "marker": {
             "colorbar": {
              "outlinewidth": 0,
              "ticks": ""
             }
            },
            "type": "scattergeo"
           }
          ],
          "scattergl": [
           {
            "marker": {
             "colorbar": {
              "outlinewidth": 0,
              "ticks": ""
             }
            },
            "type": "scattergl"
           }
          ],
          "scattermapbox": [
           {
            "marker": {
             "colorbar": {
              "outlinewidth": 0,
              "ticks": ""
             }
            },
            "type": "scattermapbox"
           }
          ],
          "scatterpolar": [
           {
            "marker": {
             "colorbar": {
              "outlinewidth": 0,
              "ticks": ""
             }
            },
            "type": "scatterpolar"
           }
          ],
          "scatterpolargl": [
           {
            "marker": {
             "colorbar": {
              "outlinewidth": 0,
              "ticks": ""
             }
            },
            "type": "scatterpolargl"
           }
          ],
          "scatterternary": [
           {
            "marker": {
             "colorbar": {
              "outlinewidth": 0,
              "ticks": ""
             }
            },
            "type": "scatterternary"
           }
          ],
          "surface": [
           {
            "colorbar": {
             "outlinewidth": 0,
             "ticks": ""
            },
            "colorscale": [
             [
              0,
              "#0d0887"
             ],
             [
              0.1111111111111111,
              "#46039f"
             ],
             [
              0.2222222222222222,
              "#7201a8"
             ],
             [
              0.3333333333333333,
              "#9c179e"
             ],
             [
              0.4444444444444444,
              "#bd3786"
             ],
             [
              0.5555555555555556,
              "#d8576b"
             ],
             [
              0.6666666666666666,
              "#ed7953"
             ],
             [
              0.7777777777777778,
              "#fb9f3a"
             ],
             [
              0.8888888888888888,
              "#fdca26"
             ],
             [
              1,
              "#f0f921"
             ]
            ],
            "type": "surface"
           }
          ],
          "table": [
           {
            "cells": {
             "fill": {
              "color": "#EBF0F8"
             },
             "line": {
              "color": "white"
             }
            },
            "header": {
             "fill": {
              "color": "#C8D4E3"
             },
             "line": {
              "color": "white"
             }
            },
            "type": "table"
           }
          ]
         },
         "layout": {
          "annotationdefaults": {
           "arrowcolor": "#2a3f5f",
           "arrowhead": 0,
           "arrowwidth": 1
          },
          "autotypenumbers": "strict",
          "coloraxis": {
           "colorbar": {
            "outlinewidth": 0,
            "ticks": ""
           }
          },
          "colorscale": {
           "diverging": [
            [
             0,
             "#8e0152"
            ],
            [
             0.1,
             "#c51b7d"
            ],
            [
             0.2,
             "#de77ae"
            ],
            [
             0.3,
             "#f1b6da"
            ],
            [
             0.4,
             "#fde0ef"
            ],
            [
             0.5,
             "#f7f7f7"
            ],
            [
             0.6,
             "#e6f5d0"
            ],
            [
             0.7,
             "#b8e186"
            ],
            [
             0.8,
             "#7fbc41"
            ],
            [
             0.9,
             "#4d9221"
            ],
            [
             1,
             "#276419"
            ]
           ],
           "sequential": [
            [
             0,
             "#0d0887"
            ],
            [
             0.1111111111111111,
             "#46039f"
            ],
            [
             0.2222222222222222,
             "#7201a8"
            ],
            [
             0.3333333333333333,
             "#9c179e"
            ],
            [
             0.4444444444444444,
             "#bd3786"
            ],
            [
             0.5555555555555556,
             "#d8576b"
            ],
            [
             0.6666666666666666,
             "#ed7953"
            ],
            [
             0.7777777777777778,
             "#fb9f3a"
            ],
            [
             0.8888888888888888,
             "#fdca26"
            ],
            [
             1,
             "#f0f921"
            ]
           ],
           "sequentialminus": [
            [
             0,
             "#0d0887"
            ],
            [
             0.1111111111111111,
             "#46039f"
            ],
            [
             0.2222222222222222,
             "#7201a8"
            ],
            [
             0.3333333333333333,
             "#9c179e"
            ],
            [
             0.4444444444444444,
             "#bd3786"
            ],
            [
             0.5555555555555556,
             "#d8576b"
            ],
            [
             0.6666666666666666,
             "#ed7953"
            ],
            [
             0.7777777777777778,
             "#fb9f3a"
            ],
            [
             0.8888888888888888,
             "#fdca26"
            ],
            [
             1,
             "#f0f921"
            ]
           ]
          },
          "colorway": [
           "#636efa",
           "#EF553B",
           "#00cc96",
           "#ab63fa",
           "#FFA15A",
           "#19d3f3",
           "#FF6692",
           "#B6E880",
           "#FF97FF",
           "#FECB52"
          ],
          "font": {
           "color": "#2a3f5f"
          },
          "geo": {
           "bgcolor": "white",
           "lakecolor": "white",
           "landcolor": "#E5ECF6",
           "showlakes": true,
           "showland": true,
           "subunitcolor": "white"
          },
          "hoverlabel": {
           "align": "left"
          },
          "hovermode": "closest",
          "mapbox": {
           "style": "light"
          },
          "paper_bgcolor": "white",
          "plot_bgcolor": "#E5ECF6",
          "polar": {
           "angularaxis": {
            "gridcolor": "white",
            "linecolor": "white",
            "ticks": ""
           },
           "bgcolor": "#E5ECF6",
           "radialaxis": {
            "gridcolor": "white",
            "linecolor": "white",
            "ticks": ""
           }
          },
          "scene": {
           "xaxis": {
            "backgroundcolor": "#E5ECF6",
            "gridcolor": "white",
            "gridwidth": 2,
            "linecolor": "white",
            "showbackground": true,
            "ticks": "",
            "zerolinecolor": "white"
           },
           "yaxis": {
            "backgroundcolor": "#E5ECF6",
            "gridcolor": "white",
            "gridwidth": 2,
            "linecolor": "white",
            "showbackground": true,
            "ticks": "",
            "zerolinecolor": "white"
           },
           "zaxis": {
            "backgroundcolor": "#E5ECF6",
            "gridcolor": "white",
            "gridwidth": 2,
            "linecolor": "white",
            "showbackground": true,
            "ticks": "",
            "zerolinecolor": "white"
           }
          },
          "shapedefaults": {
           "line": {
            "color": "#2a3f5f"
           }
          },
          "ternary": {
           "aaxis": {
            "gridcolor": "white",
            "linecolor": "white",
            "ticks": ""
           },
           "baxis": {
            "gridcolor": "white",
            "linecolor": "white",
            "ticks": ""
           },
           "bgcolor": "#E5ECF6",
           "caxis": {
            "gridcolor": "white",
            "linecolor": "white",
            "ticks": ""
           }
          },
          "title": {
           "x": 0.05
          },
          "xaxis": {
           "automargin": true,
           "gridcolor": "white",
           "linecolor": "white",
           "ticks": "",
           "title": {
            "standoff": 15
           },
           "zerolinecolor": "white",
           "zerolinewidth": 2
          },
          "yaxis": {
           "automargin": true,
           "gridcolor": "white",
           "linecolor": "white",
           "ticks": "",
           "title": {
            "standoff": 15
           },
           "zerolinecolor": "white",
           "zerolinewidth": 2
          }
         }
        },
        "title": {
         "text": "XLC"
        },
        "xaxis": {
         "title": {
          "text": "Date"
         }
        },
        "yaxis": {
         "title": {
          "text": "Close"
         }
        }
       }
      },
      "text/html": [
       "<div>                            <div id=\"287d7401-4fb1-4a73-b6bf-ef2f9819b1e3\" class=\"plotly-graph-div\" style=\"height:525px; width:100%;\"></div>            <script type=\"text/javascript\">                require([\"plotly\"], function(Plotly) {                    window.PLOTLYENV=window.PLOTLYENV || {};                                    if (document.getElementById(\"287d7401-4fb1-4a73-b6bf-ef2f9819b1e3\")) {                    Plotly.newPlot(                        \"287d7401-4fb1-4a73-b6bf-ef2f9819b1e3\",                        [{\"mode\":\"lines\",\"name\":\"Data\",\"x\":[\"2022-03-09\",\"2022-03-10\",\"2022-03-11\",\"2022-03-14\",\"2022-03-15\",\"2022-03-16\",\"2022-03-17\",\"2022-03-18\",\"2022-03-21\",\"2022-03-22\",\"2022-03-23\",\"2022-03-24\",\"2022-03-25\",\"2022-03-28\",\"2022-03-29\",\"2022-03-30\",\"2022-03-31\",\"2022-04-01\",\"2022-04-04\",\"2022-04-05\",\"2022-04-06\",\"2022-04-07\",\"2022-04-08\",\"2022-04-11\",\"2022-04-12\",\"2022-04-13\",\"2022-04-14\",\"2022-04-18\",\"2022-04-19\",\"2022-04-20\",\"2022-04-21\",\"2022-04-22\",\"2022-04-25\",\"2022-04-26\",\"2022-04-27\",\"2022-04-28\",\"2022-04-29\",\"2022-05-02\",\"2022-05-03\",\"2022-05-04\",\"2022-05-05\",\"2022-05-06\",\"2022-05-09\",\"2022-05-10\",\"2022-05-11\",\"2022-05-12\",\"2022-05-13\",\"2022-05-16\",\"2022-05-17\",\"2022-05-18\",\"2022-05-19\",\"2022-05-20\"],\"y\":[66.04,65.55,64.37,63.62,64.84,66.63,67.35,68.23,67.42,68.68,67.74,68.85,69.18,69.4,70.61,70.11,68.78,69.29,71.2,70.29,68.98,68.38,68.08,67.2,66.65,67.63,66.48,66.26,67.58,64.65,62.81,61.32,62.16,60.12,58.78,61.13,59.06,60.69,60.85,62.94,60.62,59.37,57.83,58.09,57.04,57.66,59.01,58.63,59.91,57.95,57.87,58.02],\"type\":\"scatter\"},{\"mode\":\"lines\",\"name\":\"Prediction\",\"x\":[\"2022-05-20T00:00:00\",\"2022-05-23T00:00:00\",\"2022-05-24T00:00:00\",\"2022-05-25T00:00:00\",\"2022-05-26T00:00:00\",\"2022-05-27T00:00:00\",\"2022-05-30T00:00:00\",\"2022-06-01T00:00:00\",\"2022-06-02T00:00:00\",\"2022-06-03T00:00:00\",\"2022-06-06T00:00:00\",\"2022-06-07T00:00:00\",\"2022-06-08T00:00:00\",\"2022-06-09T00:00:00\",\"2022-06-10T00:00:00\",\"2022-06-13T00:00:00\",\"2022-06-14T00:00:00\",\"2022-06-15T00:00:00\",\"2022-06-16T00:00:00\",\"2022-06-17T00:00:00\",\"2022-06-20T00:00:00\",\"2022-06-22T00:00:00\",\"2022-06-23T00:00:00\",\"2022-06-24T00:00:00\",\"2022-06-27T00:00:00\",\"2022-06-28T00:00:00\",\"2022-06-29T00:00:00\",\"2022-06-30T00:00:00\",\"2022-07-01T00:00:00\",\"2022-07-04T00:00:00\",\"2022-07-06T00:00:00\",\"2022-07-07T00:00:00\",\"2022-07-08T00:00:00\",\"2022-07-11T00:00:00\",\"2022-07-12T00:00:00\",\"2022-07-13T00:00:00\",\"2022-07-14T00:00:00\",\"2022-07-15T00:00:00\",\"2022-07-18T00:00:00\",\"2022-07-19T00:00:00\",\"2022-07-20T00:00:00\",\"2022-07-21T00:00:00\",\"2022-07-22T00:00:00\",\"2022-07-25T00:00:00\",\"2022-07-26T00:00:00\",\"2022-07-27T00:00:00\",\"2022-07-28T00:00:00\",\"2022-07-29T00:00:00\",\"2022-08-01T00:00:00\",\"2022-08-02T00:00:00\",\"2022-08-03T00:00:00\",\"2022-08-04T00:00:00\"],\"y\":[52.878150939941406,57.77102279663086,58.563392639160156,56.60576248168945,57.49217987060547,58.75526428222656,59.853614807128906,60.043235778808594,59.65831756591797,60.31111526489258,59.623043060302734,59.83827209472656,59.98573303222656,60.148441314697266,58.57154846191406,56.75648498535156,54.298728942871094,53.96628189086914,55.24568176269531,53.20610809326172,53.763404846191406,54.182621002197266,54.252315521240234,54.74090576171875,56.923946380615234,56.45552062988281,55.10444259643555,54.858707427978516,54.18714141845703,54.646331787109375,55.981605529785156,56.130455017089844,56.983280181884766,56.76350784301758,55.102657318115234,55.05475616455078,54.66099548339844,53.83402633666992,55.334877014160156,55.291805267333984,57.02280044555664,57.98477554321289,57.77984619140625,56.15166091918945,55.87476348876953,54.71847915649414,57.00674819946289,56.20427322387695,56.33442306518555,56.36884307861328,56.37160873413086,57.504234313964844],\"type\":\"scatter\"},{\"mode\":\"lines\",\"name\":\"Ground Truth\",\"x\":[\"2022-05-20\",\"2022-05-23\",\"2022-05-24\",\"2022-05-25\",\"2022-05-26\",\"2022-05-27\",\"2022-05-31\",\"2022-06-01\",\"2022-06-02\",\"2022-06-03\",\"2022-06-06\",\"2022-06-07\",\"2022-06-08\",\"2022-06-09\",\"2022-06-10\",\"2022-06-13\",\"2022-06-14\",\"2022-06-15\",\"2022-06-16\",\"2022-06-17\",\"2022-06-21\",\"2022-06-22\",\"2022-06-23\",\"2022-06-24\",\"2022-06-27\",\"2022-06-28\",\"2022-06-29\",\"2022-06-30\",\"2022-07-01\",\"2022-07-05\",\"2022-07-06\",\"2022-07-07\",\"2022-07-08\",\"2022-07-11\",\"2022-07-12\",\"2022-07-13\",\"2022-07-14\",\"2022-07-15\",\"2022-07-18\",\"2022-07-19\",\"2022-07-20\",\"2022-07-21\",\"2022-07-22\",\"2022-07-25\",\"2022-07-26\",\"2022-07-27\",\"2022-07-28\",\"2022-07-29\",\"2022-08-01\",\"2022-08-02\",\"2022-08-03\"],\"y\":[58.02,58.89,56.8,57.56,58.96,60.22,60.18,59.49,60.94,59.62,59.92,60.35,60.19,58.34,56.71,54.03,53.88,55.09,53.08,53.84,54.09,54.18,54.85,56.94,56.4,54.76,54.93,54.27,54.82,56.09,56.1,56.98,56.71,54.99,54.96,54.71,54.02,55.41,55.13,57.09,58.03,58.0,55.99,55.8,54.68,56.99,56.34,56.37,56.29,56.2,57.55],\"type\":\"scatter\"}],                        {\"title\":{\"text\":\"XLC\"},\"xaxis\":{\"title\":{\"text\":\"Date\"}},\"yaxis\":{\"title\":{\"text\":\"Close\"}},\"template\":{\"data\":{\"bar\":[{\"error_x\":{\"color\":\"#2a3f5f\"},\"error_y\":{\"color\":\"#2a3f5f\"},\"marker\":{\"line\":{\"color\":\"#E5ECF6\",\"width\":0.5},\"pattern\":{\"fillmode\":\"overlay\",\"size\":10,\"solidity\":0.2}},\"type\":\"bar\"}],\"barpolar\":[{\"marker\":{\"line\":{\"color\":\"#E5ECF6\",\"width\":0.5},\"pattern\":{\"fillmode\":\"overlay\",\"size\":10,\"solidity\":0.2}},\"type\":\"barpolar\"}],\"carpet\":[{\"aaxis\":{\"endlinecolor\":\"#2a3f5f\",\"gridcolor\":\"white\",\"linecolor\":\"white\",\"minorgridcolor\":\"white\",\"startlinecolor\":\"#2a3f5f\"},\"baxis\":{\"endlinecolor\":\"#2a3f5f\",\"gridcolor\":\"white\",\"linecolor\":\"white\",\"minorgridcolor\":\"white\",\"startlinecolor\":\"#2a3f5f\"},\"type\":\"carpet\"}],\"choropleth\":[{\"colorbar\":{\"outlinewidth\":0,\"ticks\":\"\"},\"type\":\"choropleth\"}],\"contour\":[{\"colorbar\":{\"outlinewidth\":0,\"ticks\":\"\"},\"colorscale\":[[0.0,\"#0d0887\"],[0.1111111111111111,\"#46039f\"],[0.2222222222222222,\"#7201a8\"],[0.3333333333333333,\"#9c179e\"],[0.4444444444444444,\"#bd3786\"],[0.5555555555555556,\"#d8576b\"],[0.6666666666666666,\"#ed7953\"],[0.7777777777777778,\"#fb9f3a\"],[0.8888888888888888,\"#fdca26\"],[1.0,\"#f0f921\"]],\"type\":\"contour\"}],\"contourcarpet\":[{\"colorbar\":{\"outlinewidth\":0,\"ticks\":\"\"},\"type\":\"contourcarpet\"}],\"heatmap\":[{\"colorbar\":{\"outlinewidth\":0,\"ticks\":\"\"},\"colorscale\":[[0.0,\"#0d0887\"],[0.1111111111111111,\"#46039f\"],[0.2222222222222222,\"#7201a8\"],[0.3333333333333333,\"#9c179e\"],[0.4444444444444444,\"#bd3786\"],[0.5555555555555556,\"#d8576b\"],[0.6666666666666666,\"#ed7953\"],[0.7777777777777778,\"#fb9f3a\"],[0.8888888888888888,\"#fdca26\"],[1.0,\"#f0f921\"]],\"type\":\"heatmap\"}],\"heatmapgl\":[{\"colorbar\":{\"outlinewidth\":0,\"ticks\":\"\"},\"colorscale\":[[0.0,\"#0d0887\"],[0.1111111111111111,\"#46039f\"],[0.2222222222222222,\"#7201a8\"],[0.3333333333333333,\"#9c179e\"],[0.4444444444444444,\"#bd3786\"],[0.5555555555555556,\"#d8576b\"],[0.6666666666666666,\"#ed7953\"],[0.7777777777777778,\"#fb9f3a\"],[0.8888888888888888,\"#fdca26\"],[1.0,\"#f0f921\"]],\"type\":\"heatmapgl\"}],\"histogram\":[{\"marker\":{\"pattern\":{\"fillmode\":\"overlay\",\"size\":10,\"solidity\":0.2}},\"type\":\"histogram\"}],\"histogram2d\":[{\"colorbar\":{\"outlinewidth\":0,\"ticks\":\"\"},\"colorscale\":[[0.0,\"#0d0887\"],[0.1111111111111111,\"#46039f\"],[0.2222222222222222,\"#7201a8\"],[0.3333333333333333,\"#9c179e\"],[0.4444444444444444,\"#bd3786\"],[0.5555555555555556,\"#d8576b\"],[0.6666666666666666,\"#ed7953\"],[0.7777777777777778,\"#fb9f3a\"],[0.8888888888888888,\"#fdca26\"],[1.0,\"#f0f921\"]],\"type\":\"histogram2d\"}],\"histogram2dcontour\":[{\"colorbar\":{\"outlinewidth\":0,\"ticks\":\"\"},\"colorscale\":[[0.0,\"#0d0887\"],[0.1111111111111111,\"#46039f\"],[0.2222222222222222,\"#7201a8\"],[0.3333333333333333,\"#9c179e\"],[0.4444444444444444,\"#bd3786\"],[0.5555555555555556,\"#d8576b\"],[0.6666666666666666,\"#ed7953\"],[0.7777777777777778,\"#fb9f3a\"],[0.8888888888888888,\"#fdca26\"],[1.0,\"#f0f921\"]],\"type\":\"histogram2dcontour\"}],\"mesh3d\":[{\"colorbar\":{\"outlinewidth\":0,\"ticks\":\"\"},\"type\":\"mesh3d\"}],\"parcoords\":[{\"line\":{\"colorbar\":{\"outlinewidth\":0,\"ticks\":\"\"}},\"type\":\"parcoords\"}],\"pie\":[{\"automargin\":true,\"type\":\"pie\"}],\"scatter\":[{\"marker\":{\"colorbar\":{\"outlinewidth\":0,\"ticks\":\"\"}},\"type\":\"scatter\"}],\"scatter3d\":[{\"line\":{\"colorbar\":{\"outlinewidth\":0,\"ticks\":\"\"}},\"marker\":{\"colorbar\":{\"outlinewidth\":0,\"ticks\":\"\"}},\"type\":\"scatter3d\"}],\"scattercarpet\":[{\"marker\":{\"colorbar\":{\"outlinewidth\":0,\"ticks\":\"\"}},\"type\":\"scattercarpet\"}],\"scattergeo\":[{\"marker\":{\"colorbar\":{\"outlinewidth\":0,\"ticks\":\"\"}},\"type\":\"scattergeo\"}],\"scattergl\":[{\"marker\":{\"colorbar\":{\"outlinewidth\":0,\"ticks\":\"\"}},\"type\":\"scattergl\"}],\"scattermapbox\":[{\"marker\":{\"colorbar\":{\"outlinewidth\":0,\"ticks\":\"\"}},\"type\":\"scattermapbox\"}],\"scatterpolar\":[{\"marker\":{\"colorbar\":{\"outlinewidth\":0,\"ticks\":\"\"}},\"type\":\"scatterpolar\"}],\"scatterpolargl\":[{\"marker\":{\"colorbar\":{\"outlinewidth\":0,\"ticks\":\"\"}},\"type\":\"scatterpolargl\"}],\"scatterternary\":[{\"marker\":{\"colorbar\":{\"outlinewidth\":0,\"ticks\":\"\"}},\"type\":\"scatterternary\"}],\"surface\":[{\"colorbar\":{\"outlinewidth\":0,\"ticks\":\"\"},\"colorscale\":[[0.0,\"#0d0887\"],[0.1111111111111111,\"#46039f\"],[0.2222222222222222,\"#7201a8\"],[0.3333333333333333,\"#9c179e\"],[0.4444444444444444,\"#bd3786\"],[0.5555555555555556,\"#d8576b\"],[0.6666666666666666,\"#ed7953\"],[0.7777777777777778,\"#fb9f3a\"],[0.8888888888888888,\"#fdca26\"],[1.0,\"#f0f921\"]],\"type\":\"surface\"}],\"table\":[{\"cells\":{\"fill\":{\"color\":\"#EBF0F8\"},\"line\":{\"color\":\"white\"}},\"header\":{\"fill\":{\"color\":\"#C8D4E3\"},\"line\":{\"color\":\"white\"}},\"type\":\"table\"}]},\"layout\":{\"annotationdefaults\":{\"arrowcolor\":\"#2a3f5f\",\"arrowhead\":0,\"arrowwidth\":1},\"autotypenumbers\":\"strict\",\"coloraxis\":{\"colorbar\":{\"outlinewidth\":0,\"ticks\":\"\"}},\"colorscale\":{\"diverging\":[[0,\"#8e0152\"],[0.1,\"#c51b7d\"],[0.2,\"#de77ae\"],[0.3,\"#f1b6da\"],[0.4,\"#fde0ef\"],[0.5,\"#f7f7f7\"],[0.6,\"#e6f5d0\"],[0.7,\"#b8e186\"],[0.8,\"#7fbc41\"],[0.9,\"#4d9221\"],[1,\"#276419\"]],\"sequential\":[[0.0,\"#0d0887\"],[0.1111111111111111,\"#46039f\"],[0.2222222222222222,\"#7201a8\"],[0.3333333333333333,\"#9c179e\"],[0.4444444444444444,\"#bd3786\"],[0.5555555555555556,\"#d8576b\"],[0.6666666666666666,\"#ed7953\"],[0.7777777777777778,\"#fb9f3a\"],[0.8888888888888888,\"#fdca26\"],[1.0,\"#f0f921\"]],\"sequentialminus\":[[0.0,\"#0d0887\"],[0.1111111111111111,\"#46039f\"],[0.2222222222222222,\"#7201a8\"],[0.3333333333333333,\"#9c179e\"],[0.4444444444444444,\"#bd3786\"],[0.5555555555555556,\"#d8576b\"],[0.6666666666666666,\"#ed7953\"],[0.7777777777777778,\"#fb9f3a\"],[0.8888888888888888,\"#fdca26\"],[1.0,\"#f0f921\"]]},\"colorway\":[\"#636efa\",\"#EF553B\",\"#00cc96\",\"#ab63fa\",\"#FFA15A\",\"#19d3f3\",\"#FF6692\",\"#B6E880\",\"#FF97FF\",\"#FECB52\"],\"font\":{\"color\":\"#2a3f5f\"},\"geo\":{\"bgcolor\":\"white\",\"lakecolor\":\"white\",\"landcolor\":\"#E5ECF6\",\"showlakes\":true,\"showland\":true,\"subunitcolor\":\"white\"},\"hoverlabel\":{\"align\":\"left\"},\"hovermode\":\"closest\",\"mapbox\":{\"style\":\"light\"},\"paper_bgcolor\":\"white\",\"plot_bgcolor\":\"#E5ECF6\",\"polar\":{\"angularaxis\":{\"gridcolor\":\"white\",\"linecolor\":\"white\",\"ticks\":\"\"},\"bgcolor\":\"#E5ECF6\",\"radialaxis\":{\"gridcolor\":\"white\",\"linecolor\":\"white\",\"ticks\":\"\"}},\"scene\":{\"xaxis\":{\"backgroundcolor\":\"#E5ECF6\",\"gridcolor\":\"white\",\"gridwidth\":2,\"linecolor\":\"white\",\"showbackground\":true,\"ticks\":\"\",\"zerolinecolor\":\"white\"},\"yaxis\":{\"backgroundcolor\":\"#E5ECF6\",\"gridcolor\":\"white\",\"gridwidth\":2,\"linecolor\":\"white\",\"showbackground\":true,\"ticks\":\"\",\"zerolinecolor\":\"white\"},\"zaxis\":{\"backgroundcolor\":\"#E5ECF6\",\"gridcolor\":\"white\",\"gridwidth\":2,\"linecolor\":\"white\",\"showbackground\":true,\"ticks\":\"\",\"zerolinecolor\":\"white\"}},\"shapedefaults\":{\"line\":{\"color\":\"#2a3f5f\"}},\"ternary\":{\"aaxis\":{\"gridcolor\":\"white\",\"linecolor\":\"white\",\"ticks\":\"\"},\"baxis\":{\"gridcolor\":\"white\",\"linecolor\":\"white\",\"ticks\":\"\"},\"bgcolor\":\"#E5ECF6\",\"caxis\":{\"gridcolor\":\"white\",\"linecolor\":\"white\",\"ticks\":\"\"}},\"title\":{\"x\":0.05},\"xaxis\":{\"automargin\":true,\"gridcolor\":\"white\",\"linecolor\":\"white\",\"ticks\":\"\",\"title\":{\"standoff\":15},\"zerolinecolor\":\"white\",\"zerolinewidth\":2},\"yaxis\":{\"automargin\":true,\"gridcolor\":\"white\",\"linecolor\":\"white\",\"ticks\":\"\",\"title\":{\"standoff\":15},\"zerolinecolor\":\"white\",\"zerolinewidth\":2}}}},                        {\"responsive\": true}                    ).then(function(){\n",
       "                            \n",
       "var gd = document.getElementById('287d7401-4fb1-4a73-b6bf-ef2f9819b1e3');\n",
       "var x = new MutationObserver(function (mutations, observer) {{\n",
       "        var display = window.getComputedStyle(gd).display;\n",
       "        if (!display || display === 'none') {{\n",
       "            console.log([gd, 'removed!']);\n",
       "            Plotly.purge(gd);\n",
       "            observer.disconnect();\n",
       "        }}\n",
       "}});\n",
       "\n",
       "// Listen for the removal of the full notebook cells\n",
       "var notebookContainer = gd.closest('#notebook-container');\n",
       "if (notebookContainer) {{\n",
       "    x.observe(notebookContainer, {childList: true});\n",
       "}}\n",
       "\n",
       "// Listen for the clearing of the current output cell\n",
       "var outputEl = gd.closest('.output');\n",
       "if (outputEl) {{\n",
       "    x.observe(outputEl, {childList: true});\n",
       "}}\n",
       "\n",
       "                        })                };                });            </script>        </div>"
      ]
     },
     "metadata": {},
     "output_type": "display_data"
    },
    {
     "data": {
      "application/vnd.plotly.v1+json": {
       "config": {
        "plotlyServerURL": "https://plot.ly"
       },
       "data": [
        {
         "mode": "lines",
         "name": "Data",
         "type": "scatter",
         "x": [
          "2022-03-09",
          "2022-03-10",
          "2022-03-11",
          "2022-03-14",
          "2022-03-15",
          "2022-03-16",
          "2022-03-17",
          "2022-03-18",
          "2022-03-21",
          "2022-03-22",
          "2022-03-23",
          "2022-03-24",
          "2022-03-25",
          "2022-03-28",
          "2022-03-29",
          "2022-03-30",
          "2022-03-31",
          "2022-04-01",
          "2022-04-04",
          "2022-04-05",
          "2022-04-06",
          "2022-04-07",
          "2022-04-08",
          "2022-04-11",
          "2022-04-12",
          "2022-04-13",
          "2022-04-14",
          "2022-04-18",
          "2022-04-19",
          "2022-04-20",
          "2022-04-21",
          "2022-04-22",
          "2022-04-25",
          "2022-04-26",
          "2022-04-27",
          "2022-04-28",
          "2022-04-29",
          "2022-05-02",
          "2022-05-03",
          "2022-05-04",
          "2022-05-05",
          "2022-05-06",
          "2022-05-09",
          "2022-05-10",
          "2022-05-11",
          "2022-05-12",
          "2022-05-13",
          "2022-05-16",
          "2022-05-17",
          "2022-05-18",
          "2022-05-19",
          "2022-05-20"
         ],
         "y": [
          75.17,
          77.47,
          76.85,
          74.55,
          71.82,
          71.49,
          73.95,
          73.88,
          76.13,
          75.57,
          76.87,
          77.06,
          78.75,
          76.8,
          76.6,
          77.49,
          76.44,
          77.06,
          77.16,
          75.95,
          76.4,
          77.4,
          79.53,
          77.14,
          78.42,
          79.59,
          79.85,
          81.02,
          80.36,
          80.67,
          78.11,
          76.2,
          73.68,
          73.78,
          74.86,
          77.13,
          75.15,
          76.35,
          78.49,
          81.75,
          80.52,
          82.92,
          76.06,
          76.75,
          77.78,
          78.11,
          80.78,
          82.91,
          83.87,
          81.72,
          81.42,
          81.77
         ]
        },
        {
         "mode": "lines",
         "name": "Prediction",
         "type": "scatter",
         "x": [
          "2022-05-20T00:00:00",
          "2022-05-23T00:00:00",
          "2022-05-24T00:00:00",
          "2022-05-25T00:00:00",
          "2022-05-26T00:00:00",
          "2022-05-27T00:00:00",
          "2022-05-30T00:00:00",
          "2022-06-01T00:00:00",
          "2022-06-02T00:00:00",
          "2022-06-03T00:00:00",
          "2022-06-06T00:00:00",
          "2022-06-07T00:00:00",
          "2022-06-08T00:00:00",
          "2022-06-09T00:00:00",
          "2022-06-10T00:00:00",
          "2022-06-13T00:00:00",
          "2022-06-14T00:00:00",
          "2022-06-15T00:00:00",
          "2022-06-16T00:00:00",
          "2022-06-17T00:00:00",
          "2022-06-20T00:00:00",
          "2022-06-22T00:00:00",
          "2022-06-23T00:00:00",
          "2022-06-24T00:00:00",
          "2022-06-27T00:00:00",
          "2022-06-28T00:00:00",
          "2022-06-29T00:00:00",
          "2022-06-30T00:00:00",
          "2022-07-01T00:00:00",
          "2022-07-04T00:00:00",
          "2022-07-06T00:00:00",
          "2022-07-07T00:00:00",
          "2022-07-08T00:00:00",
          "2022-07-11T00:00:00",
          "2022-07-12T00:00:00",
          "2022-07-13T00:00:00",
          "2022-07-14T00:00:00",
          "2022-07-15T00:00:00",
          "2022-07-18T00:00:00",
          "2022-07-19T00:00:00",
          "2022-07-20T00:00:00",
          "2022-07-21T00:00:00",
          "2022-07-22T00:00:00",
          "2022-07-25T00:00:00",
          "2022-07-26T00:00:00",
          "2022-07-27T00:00:00",
          "2022-07-28T00:00:00",
          "2022-07-29T00:00:00",
          "2022-08-01T00:00:00",
          "2022-08-02T00:00:00",
          "2022-08-03T00:00:00",
          "2022-08-04T00:00:00"
         ],
         "y": [
          93.80123138427734,
          81.65777587890625,
          83.11223602294922,
          83.40084838867188,
          84.84831237792969,
          85.74169921875,
          87.13196563720703,
          86.91339111328125,
          87.37060546875,
          86.96983337402344,
          87.94281005859375,
          87.81103515625,
          90.23832702636719,
          90.25623321533203,
          89.02052307128906,
          88.031494140625,
          83.75445556640625,
          84.28598022460938,
          82.21183776855469,
          78.13508605957031,
          74.60059356689453,
          76.19825744628906,
          73.45384979248047,
          71.39604949951172,
          71.89928436279297,
          73.65281677246094,
          75.8700180053711,
          74.2452163696289,
          71.87317657470703,
          72.03594207763672,
          69.50670623779297,
          68.20796203613281,
          70.97244262695312,
          70.90059661865234,
          69.96060180664062,
          68.34965515136719,
          68.87713623046875,
          66.66584014892578,
          68.16897583007812,
          70.37200927734375,
          71.94668579101562,
          72.78553771972656,
          71.04452514648438,
          71.45281219482422,
          73.34663391113281,
          73.60161590576172,
          74.61236572265625,
          75.21305084228516,
          78.20405578613281,
          76.73645782470703,
          76.78752899169922,
          75.25282287597656
         ]
        },
        {
         "mode": "lines",
         "name": "Ground Truth",
         "type": "scatter",
         "x": [
          "2022-05-20",
          "2022-05-23",
          "2022-05-24",
          "2022-05-25",
          "2022-05-26",
          "2022-05-27",
          "2022-05-31",
          "2022-06-01",
          "2022-06-02",
          "2022-06-03",
          "2022-06-06",
          "2022-06-07",
          "2022-06-08",
          "2022-06-09",
          "2022-06-10",
          "2022-06-13",
          "2022-06-14",
          "2022-06-15",
          "2022-06-16",
          "2022-06-17",
          "2022-06-21",
          "2022-06-22",
          "2022-06-23",
          "2022-06-24",
          "2022-06-27",
          "2022-06-28",
          "2022-06-29",
          "2022-06-30",
          "2022-07-01",
          "2022-07-05",
          "2022-07-06",
          "2022-07-07",
          "2022-07-08",
          "2022-07-11",
          "2022-07-12",
          "2022-07-13",
          "2022-07-14",
          "2022-07-15",
          "2022-07-18",
          "2022-07-19",
          "2022-07-20",
          "2022-07-21",
          "2022-07-22",
          "2022-07-25",
          "2022-07-26",
          "2022-07-27",
          "2022-07-28",
          "2022-07-29",
          "2022-08-01",
          "2022-08-02",
          "2022-08-03"
         ],
         "y": [
          81.77,
          83.93,
          84.25,
          85.99,
          86.94,
          88.53,
          87.2,
          88.62,
          88.34,
          89.51,
          89.41,
          92.08,
          92.28,
          90.24,
          88.71,
          84.08,
          84.24,
          82.38,
          77.74,
          73.49,
          76.44,
          73.38,
          70.66,
          71.59,
          73.69,
          75.68,
          73.05,
          71.51,
          72.58,
          69.7,
          68.51,
          70.98,
          70.95,
          70.27,
          68.9,
          68.79,
          67.49,
          68.59,
          70.16,
          72.32,
          73.02,
          71.74,
          71.15,
          73.76,
          73.09,
          74.74,
          75.16,
          78.42,
          76.8,
          76.62,
          74.42
         ]
        }
       ],
       "layout": {
        "template": {
         "data": {
          "bar": [
           {
            "error_x": {
             "color": "#2a3f5f"
            },
            "error_y": {
             "color": "#2a3f5f"
            },
            "marker": {
             "line": {
              "color": "#E5ECF6",
              "width": 0.5
             },
             "pattern": {
              "fillmode": "overlay",
              "size": 10,
              "solidity": 0.2
             }
            },
            "type": "bar"
           }
          ],
          "barpolar": [
           {
            "marker": {
             "line": {
              "color": "#E5ECF6",
              "width": 0.5
             },
             "pattern": {
              "fillmode": "overlay",
              "size": 10,
              "solidity": 0.2
             }
            },
            "type": "barpolar"
           }
          ],
          "carpet": [
           {
            "aaxis": {
             "endlinecolor": "#2a3f5f",
             "gridcolor": "white",
             "linecolor": "white",
             "minorgridcolor": "white",
             "startlinecolor": "#2a3f5f"
            },
            "baxis": {
             "endlinecolor": "#2a3f5f",
             "gridcolor": "white",
             "linecolor": "white",
             "minorgridcolor": "white",
             "startlinecolor": "#2a3f5f"
            },
            "type": "carpet"
           }
          ],
          "choropleth": [
           {
            "colorbar": {
             "outlinewidth": 0,
             "ticks": ""
            },
            "type": "choropleth"
           }
          ],
          "contour": [
           {
            "colorbar": {
             "outlinewidth": 0,
             "ticks": ""
            },
            "colorscale": [
             [
              0,
              "#0d0887"
             ],
             [
              0.1111111111111111,
              "#46039f"
             ],
             [
              0.2222222222222222,
              "#7201a8"
             ],
             [
              0.3333333333333333,
              "#9c179e"
             ],
             [
              0.4444444444444444,
              "#bd3786"
             ],
             [
              0.5555555555555556,
              "#d8576b"
             ],
             [
              0.6666666666666666,
              "#ed7953"
             ],
             [
              0.7777777777777778,
              "#fb9f3a"
             ],
             [
              0.8888888888888888,
              "#fdca26"
             ],
             [
              1,
              "#f0f921"
             ]
            ],
            "type": "contour"
           }
          ],
          "contourcarpet": [
           {
            "colorbar": {
             "outlinewidth": 0,
             "ticks": ""
            },
            "type": "contourcarpet"
           }
          ],
          "heatmap": [
           {
            "colorbar": {
             "outlinewidth": 0,
             "ticks": ""
            },
            "colorscale": [
             [
              0,
              "#0d0887"
             ],
             [
              0.1111111111111111,
              "#46039f"
             ],
             [
              0.2222222222222222,
              "#7201a8"
             ],
             [
              0.3333333333333333,
              "#9c179e"
             ],
             [
              0.4444444444444444,
              "#bd3786"
             ],
             [
              0.5555555555555556,
              "#d8576b"
             ],
             [
              0.6666666666666666,
              "#ed7953"
             ],
             [
              0.7777777777777778,
              "#fb9f3a"
             ],
             [
              0.8888888888888888,
              "#fdca26"
             ],
             [
              1,
              "#f0f921"
             ]
            ],
            "type": "heatmap"
           }
          ],
          "heatmapgl": [
           {
            "colorbar": {
             "outlinewidth": 0,
             "ticks": ""
            },
            "colorscale": [
             [
              0,
              "#0d0887"
             ],
             [
              0.1111111111111111,
              "#46039f"
             ],
             [
              0.2222222222222222,
              "#7201a8"
             ],
             [
              0.3333333333333333,
              "#9c179e"
             ],
             [
              0.4444444444444444,
              "#bd3786"
             ],
             [
              0.5555555555555556,
              "#d8576b"
             ],
             [
              0.6666666666666666,
              "#ed7953"
             ],
             [
              0.7777777777777778,
              "#fb9f3a"
             ],
             [
              0.8888888888888888,
              "#fdca26"
             ],
             [
              1,
              "#f0f921"
             ]
            ],
            "type": "heatmapgl"
           }
          ],
          "histogram": [
           {
            "marker": {
             "pattern": {
              "fillmode": "overlay",
              "size": 10,
              "solidity": 0.2
             }
            },
            "type": "histogram"
           }
          ],
          "histogram2d": [
           {
            "colorbar": {
             "outlinewidth": 0,
             "ticks": ""
            },
            "colorscale": [
             [
              0,
              "#0d0887"
             ],
             [
              0.1111111111111111,
              "#46039f"
             ],
             [
              0.2222222222222222,
              "#7201a8"
             ],
             [
              0.3333333333333333,
              "#9c179e"
             ],
             [
              0.4444444444444444,
              "#bd3786"
             ],
             [
              0.5555555555555556,
              "#d8576b"
             ],
             [
              0.6666666666666666,
              "#ed7953"
             ],
             [
              0.7777777777777778,
              "#fb9f3a"
             ],
             [
              0.8888888888888888,
              "#fdca26"
             ],
             [
              1,
              "#f0f921"
             ]
            ],
            "type": "histogram2d"
           }
          ],
          "histogram2dcontour": [
           {
            "colorbar": {
             "outlinewidth": 0,
             "ticks": ""
            },
            "colorscale": [
             [
              0,
              "#0d0887"
             ],
             [
              0.1111111111111111,
              "#46039f"
             ],
             [
              0.2222222222222222,
              "#7201a8"
             ],
             [
              0.3333333333333333,
              "#9c179e"
             ],
             [
              0.4444444444444444,
              "#bd3786"
             ],
             [
              0.5555555555555556,
              "#d8576b"
             ],
             [
              0.6666666666666666,
              "#ed7953"
             ],
             [
              0.7777777777777778,
              "#fb9f3a"
             ],
             [
              0.8888888888888888,
              "#fdca26"
             ],
             [
              1,
              "#f0f921"
             ]
            ],
            "type": "histogram2dcontour"
           }
          ],
          "mesh3d": [
           {
            "colorbar": {
             "outlinewidth": 0,
             "ticks": ""
            },
            "type": "mesh3d"
           }
          ],
          "parcoords": [
           {
            "line": {
             "colorbar": {
              "outlinewidth": 0,
              "ticks": ""
             }
            },
            "type": "parcoords"
           }
          ],
          "pie": [
           {
            "automargin": true,
            "type": "pie"
           }
          ],
          "scatter": [
           {
            "marker": {
             "colorbar": {
              "outlinewidth": 0,
              "ticks": ""
             }
            },
            "type": "scatter"
           }
          ],
          "scatter3d": [
           {
            "line": {
             "colorbar": {
              "outlinewidth": 0,
              "ticks": ""
             }
            },
            "marker": {
             "colorbar": {
              "outlinewidth": 0,
              "ticks": ""
             }
            },
            "type": "scatter3d"
           }
          ],
          "scattercarpet": [
           {
            "marker": {
             "colorbar": {
              "outlinewidth": 0,
              "ticks": ""
             }
            },
            "type": "scattercarpet"
           }
          ],
          "scattergeo": [
           {
            "marker": {
             "colorbar": {
              "outlinewidth": 0,
              "ticks": ""
             }
            },
            "type": "scattergeo"
           }
          ],
          "scattergl": [
           {
            "marker": {
             "colorbar": {
              "outlinewidth": 0,
              "ticks": ""
             }
            },
            "type": "scattergl"
           }
          ],
          "scattermapbox": [
           {
            "marker": {
             "colorbar": {
              "outlinewidth": 0,
              "ticks": ""
             }
            },
            "type": "scattermapbox"
           }
          ],
          "scatterpolar": [
           {
            "marker": {
             "colorbar": {
              "outlinewidth": 0,
              "ticks": ""
             }
            },
            "type": "scatterpolar"
           }
          ],
          "scatterpolargl": [
           {
            "marker": {
             "colorbar": {
              "outlinewidth": 0,
              "ticks": ""
             }
            },
            "type": "scatterpolargl"
           }
          ],
          "scatterternary": [
           {
            "marker": {
             "colorbar": {
              "outlinewidth": 0,
              "ticks": ""
             }
            },
            "type": "scatterternary"
           }
          ],
          "surface": [
           {
            "colorbar": {
             "outlinewidth": 0,
             "ticks": ""
            },
            "colorscale": [
             [
              0,
              "#0d0887"
             ],
             [
              0.1111111111111111,
              "#46039f"
             ],
             [
              0.2222222222222222,
              "#7201a8"
             ],
             [
              0.3333333333333333,
              "#9c179e"
             ],
             [
              0.4444444444444444,
              "#bd3786"
             ],
             [
              0.5555555555555556,
              "#d8576b"
             ],
             [
              0.6666666666666666,
              "#ed7953"
             ],
             [
              0.7777777777777778,
              "#fb9f3a"
             ],
             [
              0.8888888888888888,
              "#fdca26"
             ],
             [
              1,
              "#f0f921"
             ]
            ],
            "type": "surface"
           }
          ],
          "table": [
           {
            "cells": {
             "fill": {
              "color": "#EBF0F8"
             },
             "line": {
              "color": "white"
             }
            },
            "header": {
             "fill": {
              "color": "#C8D4E3"
             },
             "line": {
              "color": "white"
             }
            },
            "type": "table"
           }
          ]
         },
         "layout": {
          "annotationdefaults": {
           "arrowcolor": "#2a3f5f",
           "arrowhead": 0,
           "arrowwidth": 1
          },
          "autotypenumbers": "strict",
          "coloraxis": {
           "colorbar": {
            "outlinewidth": 0,
            "ticks": ""
           }
          },
          "colorscale": {
           "diverging": [
            [
             0,
             "#8e0152"
            ],
            [
             0.1,
             "#c51b7d"
            ],
            [
             0.2,
             "#de77ae"
            ],
            [
             0.3,
             "#f1b6da"
            ],
            [
             0.4,
             "#fde0ef"
            ],
            [
             0.5,
             "#f7f7f7"
            ],
            [
             0.6,
             "#e6f5d0"
            ],
            [
             0.7,
             "#b8e186"
            ],
            [
             0.8,
             "#7fbc41"
            ],
            [
             0.9,
             "#4d9221"
            ],
            [
             1,
             "#276419"
            ]
           ],
           "sequential": [
            [
             0,
             "#0d0887"
            ],
            [
             0.1111111111111111,
             "#46039f"
            ],
            [
             0.2222222222222222,
             "#7201a8"
            ],
            [
             0.3333333333333333,
             "#9c179e"
            ],
            [
             0.4444444444444444,
             "#bd3786"
            ],
            [
             0.5555555555555556,
             "#d8576b"
            ],
            [
             0.6666666666666666,
             "#ed7953"
            ],
            [
             0.7777777777777778,
             "#fb9f3a"
            ],
            [
             0.8888888888888888,
             "#fdca26"
            ],
            [
             1,
             "#f0f921"
            ]
           ],
           "sequentialminus": [
            [
             0,
             "#0d0887"
            ],
            [
             0.1111111111111111,
             "#46039f"
            ],
            [
             0.2222222222222222,
             "#7201a8"
            ],
            [
             0.3333333333333333,
             "#9c179e"
            ],
            [
             0.4444444444444444,
             "#bd3786"
            ],
            [
             0.5555555555555556,
             "#d8576b"
            ],
            [
             0.6666666666666666,
             "#ed7953"
            ],
            [
             0.7777777777777778,
             "#fb9f3a"
            ],
            [
             0.8888888888888888,
             "#fdca26"
            ],
            [
             1,
             "#f0f921"
            ]
           ]
          },
          "colorway": [
           "#636efa",
           "#EF553B",
           "#00cc96",
           "#ab63fa",
           "#FFA15A",
           "#19d3f3",
           "#FF6692",
           "#B6E880",
           "#FF97FF",
           "#FECB52"
          ],
          "font": {
           "color": "#2a3f5f"
          },
          "geo": {
           "bgcolor": "white",
           "lakecolor": "white",
           "landcolor": "#E5ECF6",
           "showlakes": true,
           "showland": true,
           "subunitcolor": "white"
          },
          "hoverlabel": {
           "align": "left"
          },
          "hovermode": "closest",
          "mapbox": {
           "style": "light"
          },
          "paper_bgcolor": "white",
          "plot_bgcolor": "#E5ECF6",
          "polar": {
           "angularaxis": {
            "gridcolor": "white",
            "linecolor": "white",
            "ticks": ""
           },
           "bgcolor": "#E5ECF6",
           "radialaxis": {
            "gridcolor": "white",
            "linecolor": "white",
            "ticks": ""
           }
          },
          "scene": {
           "xaxis": {
            "backgroundcolor": "#E5ECF6",
            "gridcolor": "white",
            "gridwidth": 2,
            "linecolor": "white",
            "showbackground": true,
            "ticks": "",
            "zerolinecolor": "white"
           },
           "yaxis": {
            "backgroundcolor": "#E5ECF6",
            "gridcolor": "white",
            "gridwidth": 2,
            "linecolor": "white",
            "showbackground": true,
            "ticks": "",
            "zerolinecolor": "white"
           },
           "zaxis": {
            "backgroundcolor": "#E5ECF6",
            "gridcolor": "white",
            "gridwidth": 2,
            "linecolor": "white",
            "showbackground": true,
            "ticks": "",
            "zerolinecolor": "white"
           }
          },
          "shapedefaults": {
           "line": {
            "color": "#2a3f5f"
           }
          },
          "ternary": {
           "aaxis": {
            "gridcolor": "white",
            "linecolor": "white",
            "ticks": ""
           },
           "baxis": {
            "gridcolor": "white",
            "linecolor": "white",
            "ticks": ""
           },
           "bgcolor": "#E5ECF6",
           "caxis": {
            "gridcolor": "white",
            "linecolor": "white",
            "ticks": ""
           }
          },
          "title": {
           "x": 0.05
          },
          "xaxis": {
           "automargin": true,
           "gridcolor": "white",
           "linecolor": "white",
           "ticks": "",
           "title": {
            "standoff": 15
           },
           "zerolinecolor": "white",
           "zerolinewidth": 2
          },
          "yaxis": {
           "automargin": true,
           "gridcolor": "white",
           "linecolor": "white",
           "ticks": "",
           "title": {
            "standoff": 15
           },
           "zerolinecolor": "white",
           "zerolinewidth": 2
          }
         }
        },
        "title": {
         "text": "XLE"
        },
        "xaxis": {
         "title": {
          "text": "Date"
         }
        },
        "yaxis": {
         "title": {
          "text": "Close"
         }
        }
       }
      },
      "text/html": [
       "<div>                            <div id=\"cf5d7525-f8cc-4076-9136-37a962a8c603\" class=\"plotly-graph-div\" style=\"height:525px; width:100%;\"></div>            <script type=\"text/javascript\">                require([\"plotly\"], function(Plotly) {                    window.PLOTLYENV=window.PLOTLYENV || {};                                    if (document.getElementById(\"cf5d7525-f8cc-4076-9136-37a962a8c603\")) {                    Plotly.newPlot(                        \"cf5d7525-f8cc-4076-9136-37a962a8c603\",                        [{\"mode\":\"lines\",\"name\":\"Data\",\"x\":[\"2022-03-09\",\"2022-03-10\",\"2022-03-11\",\"2022-03-14\",\"2022-03-15\",\"2022-03-16\",\"2022-03-17\",\"2022-03-18\",\"2022-03-21\",\"2022-03-22\",\"2022-03-23\",\"2022-03-24\",\"2022-03-25\",\"2022-03-28\",\"2022-03-29\",\"2022-03-30\",\"2022-03-31\",\"2022-04-01\",\"2022-04-04\",\"2022-04-05\",\"2022-04-06\",\"2022-04-07\",\"2022-04-08\",\"2022-04-11\",\"2022-04-12\",\"2022-04-13\",\"2022-04-14\",\"2022-04-18\",\"2022-04-19\",\"2022-04-20\",\"2022-04-21\",\"2022-04-22\",\"2022-04-25\",\"2022-04-26\",\"2022-04-27\",\"2022-04-28\",\"2022-04-29\",\"2022-05-02\",\"2022-05-03\",\"2022-05-04\",\"2022-05-05\",\"2022-05-06\",\"2022-05-09\",\"2022-05-10\",\"2022-05-11\",\"2022-05-12\",\"2022-05-13\",\"2022-05-16\",\"2022-05-17\",\"2022-05-18\",\"2022-05-19\",\"2022-05-20\"],\"y\":[75.17,77.47,76.85,74.55,71.82,71.49,73.95,73.88,76.13,75.57,76.87,77.06,78.75,76.8,76.6,77.49,76.44,77.06,77.16,75.95,76.4,77.4,79.53,77.14,78.42,79.59,79.85,81.02,80.36,80.67,78.11,76.2,73.68,73.78,74.86,77.13,75.15,76.35,78.49,81.75,80.52,82.92,76.06,76.75,77.78,78.11,80.78,82.91,83.87,81.72,81.42,81.77],\"type\":\"scatter\"},{\"mode\":\"lines\",\"name\":\"Prediction\",\"x\":[\"2022-05-20T00:00:00\",\"2022-05-23T00:00:00\",\"2022-05-24T00:00:00\",\"2022-05-25T00:00:00\",\"2022-05-26T00:00:00\",\"2022-05-27T00:00:00\",\"2022-05-30T00:00:00\",\"2022-06-01T00:00:00\",\"2022-06-02T00:00:00\",\"2022-06-03T00:00:00\",\"2022-06-06T00:00:00\",\"2022-06-07T00:00:00\",\"2022-06-08T00:00:00\",\"2022-06-09T00:00:00\",\"2022-06-10T00:00:00\",\"2022-06-13T00:00:00\",\"2022-06-14T00:00:00\",\"2022-06-15T00:00:00\",\"2022-06-16T00:00:00\",\"2022-06-17T00:00:00\",\"2022-06-20T00:00:00\",\"2022-06-22T00:00:00\",\"2022-06-23T00:00:00\",\"2022-06-24T00:00:00\",\"2022-06-27T00:00:00\",\"2022-06-28T00:00:00\",\"2022-06-29T00:00:00\",\"2022-06-30T00:00:00\",\"2022-07-01T00:00:00\",\"2022-07-04T00:00:00\",\"2022-07-06T00:00:00\",\"2022-07-07T00:00:00\",\"2022-07-08T00:00:00\",\"2022-07-11T00:00:00\",\"2022-07-12T00:00:00\",\"2022-07-13T00:00:00\",\"2022-07-14T00:00:00\",\"2022-07-15T00:00:00\",\"2022-07-18T00:00:00\",\"2022-07-19T00:00:00\",\"2022-07-20T00:00:00\",\"2022-07-21T00:00:00\",\"2022-07-22T00:00:00\",\"2022-07-25T00:00:00\",\"2022-07-26T00:00:00\",\"2022-07-27T00:00:00\",\"2022-07-28T00:00:00\",\"2022-07-29T00:00:00\",\"2022-08-01T00:00:00\",\"2022-08-02T00:00:00\",\"2022-08-03T00:00:00\",\"2022-08-04T00:00:00\"],\"y\":[93.80123138427734,81.65777587890625,83.11223602294922,83.40084838867188,84.84831237792969,85.74169921875,87.13196563720703,86.91339111328125,87.37060546875,86.96983337402344,87.94281005859375,87.81103515625,90.23832702636719,90.25623321533203,89.02052307128906,88.031494140625,83.75445556640625,84.28598022460938,82.21183776855469,78.13508605957031,74.60059356689453,76.19825744628906,73.45384979248047,71.39604949951172,71.89928436279297,73.65281677246094,75.8700180053711,74.2452163696289,71.87317657470703,72.03594207763672,69.50670623779297,68.20796203613281,70.97244262695312,70.90059661865234,69.96060180664062,68.34965515136719,68.87713623046875,66.66584014892578,68.16897583007812,70.37200927734375,71.94668579101562,72.78553771972656,71.04452514648438,71.45281219482422,73.34663391113281,73.60161590576172,74.61236572265625,75.21305084228516,78.20405578613281,76.73645782470703,76.78752899169922,75.25282287597656],\"type\":\"scatter\"},{\"mode\":\"lines\",\"name\":\"Ground Truth\",\"x\":[\"2022-05-20\",\"2022-05-23\",\"2022-05-24\",\"2022-05-25\",\"2022-05-26\",\"2022-05-27\",\"2022-05-31\",\"2022-06-01\",\"2022-06-02\",\"2022-06-03\",\"2022-06-06\",\"2022-06-07\",\"2022-06-08\",\"2022-06-09\",\"2022-06-10\",\"2022-06-13\",\"2022-06-14\",\"2022-06-15\",\"2022-06-16\",\"2022-06-17\",\"2022-06-21\",\"2022-06-22\",\"2022-06-23\",\"2022-06-24\",\"2022-06-27\",\"2022-06-28\",\"2022-06-29\",\"2022-06-30\",\"2022-07-01\",\"2022-07-05\",\"2022-07-06\",\"2022-07-07\",\"2022-07-08\",\"2022-07-11\",\"2022-07-12\",\"2022-07-13\",\"2022-07-14\",\"2022-07-15\",\"2022-07-18\",\"2022-07-19\",\"2022-07-20\",\"2022-07-21\",\"2022-07-22\",\"2022-07-25\",\"2022-07-26\",\"2022-07-27\",\"2022-07-28\",\"2022-07-29\",\"2022-08-01\",\"2022-08-02\",\"2022-08-03\"],\"y\":[81.77,83.93,84.25,85.99,86.94,88.53,87.2,88.62,88.34,89.51,89.41,92.08,92.28,90.24,88.71,84.08,84.24,82.38,77.74,73.49,76.44,73.38,70.66,71.59,73.69,75.68,73.05,71.51,72.58,69.7,68.51,70.98,70.95,70.27,68.9,68.79,67.49,68.59,70.16,72.32,73.02,71.74,71.15,73.76,73.09,74.74,75.16,78.42,76.8,76.62,74.42],\"type\":\"scatter\"}],                        {\"title\":{\"text\":\"XLE\"},\"xaxis\":{\"title\":{\"text\":\"Date\"}},\"yaxis\":{\"title\":{\"text\":\"Close\"}},\"template\":{\"data\":{\"bar\":[{\"error_x\":{\"color\":\"#2a3f5f\"},\"error_y\":{\"color\":\"#2a3f5f\"},\"marker\":{\"line\":{\"color\":\"#E5ECF6\",\"width\":0.5},\"pattern\":{\"fillmode\":\"overlay\",\"size\":10,\"solidity\":0.2}},\"type\":\"bar\"}],\"barpolar\":[{\"marker\":{\"line\":{\"color\":\"#E5ECF6\",\"width\":0.5},\"pattern\":{\"fillmode\":\"overlay\",\"size\":10,\"solidity\":0.2}},\"type\":\"barpolar\"}],\"carpet\":[{\"aaxis\":{\"endlinecolor\":\"#2a3f5f\",\"gridcolor\":\"white\",\"linecolor\":\"white\",\"minorgridcolor\":\"white\",\"startlinecolor\":\"#2a3f5f\"},\"baxis\":{\"endlinecolor\":\"#2a3f5f\",\"gridcolor\":\"white\",\"linecolor\":\"white\",\"minorgridcolor\":\"white\",\"startlinecolor\":\"#2a3f5f\"},\"type\":\"carpet\"}],\"choropleth\":[{\"colorbar\":{\"outlinewidth\":0,\"ticks\":\"\"},\"type\":\"choropleth\"}],\"contour\":[{\"colorbar\":{\"outlinewidth\":0,\"ticks\":\"\"},\"colorscale\":[[0.0,\"#0d0887\"],[0.1111111111111111,\"#46039f\"],[0.2222222222222222,\"#7201a8\"],[0.3333333333333333,\"#9c179e\"],[0.4444444444444444,\"#bd3786\"],[0.5555555555555556,\"#d8576b\"],[0.6666666666666666,\"#ed7953\"],[0.7777777777777778,\"#fb9f3a\"],[0.8888888888888888,\"#fdca26\"],[1.0,\"#f0f921\"]],\"type\":\"contour\"}],\"contourcarpet\":[{\"colorbar\":{\"outlinewidth\":0,\"ticks\":\"\"},\"type\":\"contourcarpet\"}],\"heatmap\":[{\"colorbar\":{\"outlinewidth\":0,\"ticks\":\"\"},\"colorscale\":[[0.0,\"#0d0887\"],[0.1111111111111111,\"#46039f\"],[0.2222222222222222,\"#7201a8\"],[0.3333333333333333,\"#9c179e\"],[0.4444444444444444,\"#bd3786\"],[0.5555555555555556,\"#d8576b\"],[0.6666666666666666,\"#ed7953\"],[0.7777777777777778,\"#fb9f3a\"],[0.8888888888888888,\"#fdca26\"],[1.0,\"#f0f921\"]],\"type\":\"heatmap\"}],\"heatmapgl\":[{\"colorbar\":{\"outlinewidth\":0,\"ticks\":\"\"},\"colorscale\":[[0.0,\"#0d0887\"],[0.1111111111111111,\"#46039f\"],[0.2222222222222222,\"#7201a8\"],[0.3333333333333333,\"#9c179e\"],[0.4444444444444444,\"#bd3786\"],[0.5555555555555556,\"#d8576b\"],[0.6666666666666666,\"#ed7953\"],[0.7777777777777778,\"#fb9f3a\"],[0.8888888888888888,\"#fdca26\"],[1.0,\"#f0f921\"]],\"type\":\"heatmapgl\"}],\"histogram\":[{\"marker\":{\"pattern\":{\"fillmode\":\"overlay\",\"size\":10,\"solidity\":0.2}},\"type\":\"histogram\"}],\"histogram2d\":[{\"colorbar\":{\"outlinewidth\":0,\"ticks\":\"\"},\"colorscale\":[[0.0,\"#0d0887\"],[0.1111111111111111,\"#46039f\"],[0.2222222222222222,\"#7201a8\"],[0.3333333333333333,\"#9c179e\"],[0.4444444444444444,\"#bd3786\"],[0.5555555555555556,\"#d8576b\"],[0.6666666666666666,\"#ed7953\"],[0.7777777777777778,\"#fb9f3a\"],[0.8888888888888888,\"#fdca26\"],[1.0,\"#f0f921\"]],\"type\":\"histogram2d\"}],\"histogram2dcontour\":[{\"colorbar\":{\"outlinewidth\":0,\"ticks\":\"\"},\"colorscale\":[[0.0,\"#0d0887\"],[0.1111111111111111,\"#46039f\"],[0.2222222222222222,\"#7201a8\"],[0.3333333333333333,\"#9c179e\"],[0.4444444444444444,\"#bd3786\"],[0.5555555555555556,\"#d8576b\"],[0.6666666666666666,\"#ed7953\"],[0.7777777777777778,\"#fb9f3a\"],[0.8888888888888888,\"#fdca26\"],[1.0,\"#f0f921\"]],\"type\":\"histogram2dcontour\"}],\"mesh3d\":[{\"colorbar\":{\"outlinewidth\":0,\"ticks\":\"\"},\"type\":\"mesh3d\"}],\"parcoords\":[{\"line\":{\"colorbar\":{\"outlinewidth\":0,\"ticks\":\"\"}},\"type\":\"parcoords\"}],\"pie\":[{\"automargin\":true,\"type\":\"pie\"}],\"scatter\":[{\"marker\":{\"colorbar\":{\"outlinewidth\":0,\"ticks\":\"\"}},\"type\":\"scatter\"}],\"scatter3d\":[{\"line\":{\"colorbar\":{\"outlinewidth\":0,\"ticks\":\"\"}},\"marker\":{\"colorbar\":{\"outlinewidth\":0,\"ticks\":\"\"}},\"type\":\"scatter3d\"}],\"scattercarpet\":[{\"marker\":{\"colorbar\":{\"outlinewidth\":0,\"ticks\":\"\"}},\"type\":\"scattercarpet\"}],\"scattergeo\":[{\"marker\":{\"colorbar\":{\"outlinewidth\":0,\"ticks\":\"\"}},\"type\":\"scattergeo\"}],\"scattergl\":[{\"marker\":{\"colorbar\":{\"outlinewidth\":0,\"ticks\":\"\"}},\"type\":\"scattergl\"}],\"scattermapbox\":[{\"marker\":{\"colorbar\":{\"outlinewidth\":0,\"ticks\":\"\"}},\"type\":\"scattermapbox\"}],\"scatterpolar\":[{\"marker\":{\"colorbar\":{\"outlinewidth\":0,\"ticks\":\"\"}},\"type\":\"scatterpolar\"}],\"scatterpolargl\":[{\"marker\":{\"colorbar\":{\"outlinewidth\":0,\"ticks\":\"\"}},\"type\":\"scatterpolargl\"}],\"scatterternary\":[{\"marker\":{\"colorbar\":{\"outlinewidth\":0,\"ticks\":\"\"}},\"type\":\"scatterternary\"}],\"surface\":[{\"colorbar\":{\"outlinewidth\":0,\"ticks\":\"\"},\"colorscale\":[[0.0,\"#0d0887\"],[0.1111111111111111,\"#46039f\"],[0.2222222222222222,\"#7201a8\"],[0.3333333333333333,\"#9c179e\"],[0.4444444444444444,\"#bd3786\"],[0.5555555555555556,\"#d8576b\"],[0.6666666666666666,\"#ed7953\"],[0.7777777777777778,\"#fb9f3a\"],[0.8888888888888888,\"#fdca26\"],[1.0,\"#f0f921\"]],\"type\":\"surface\"}],\"table\":[{\"cells\":{\"fill\":{\"color\":\"#EBF0F8\"},\"line\":{\"color\":\"white\"}},\"header\":{\"fill\":{\"color\":\"#C8D4E3\"},\"line\":{\"color\":\"white\"}},\"type\":\"table\"}]},\"layout\":{\"annotationdefaults\":{\"arrowcolor\":\"#2a3f5f\",\"arrowhead\":0,\"arrowwidth\":1},\"autotypenumbers\":\"strict\",\"coloraxis\":{\"colorbar\":{\"outlinewidth\":0,\"ticks\":\"\"}},\"colorscale\":{\"diverging\":[[0,\"#8e0152\"],[0.1,\"#c51b7d\"],[0.2,\"#de77ae\"],[0.3,\"#f1b6da\"],[0.4,\"#fde0ef\"],[0.5,\"#f7f7f7\"],[0.6,\"#e6f5d0\"],[0.7,\"#b8e186\"],[0.8,\"#7fbc41\"],[0.9,\"#4d9221\"],[1,\"#276419\"]],\"sequential\":[[0.0,\"#0d0887\"],[0.1111111111111111,\"#46039f\"],[0.2222222222222222,\"#7201a8\"],[0.3333333333333333,\"#9c179e\"],[0.4444444444444444,\"#bd3786\"],[0.5555555555555556,\"#d8576b\"],[0.6666666666666666,\"#ed7953\"],[0.7777777777777778,\"#fb9f3a\"],[0.8888888888888888,\"#fdca26\"],[1.0,\"#f0f921\"]],\"sequentialminus\":[[0.0,\"#0d0887\"],[0.1111111111111111,\"#46039f\"],[0.2222222222222222,\"#7201a8\"],[0.3333333333333333,\"#9c179e\"],[0.4444444444444444,\"#bd3786\"],[0.5555555555555556,\"#d8576b\"],[0.6666666666666666,\"#ed7953\"],[0.7777777777777778,\"#fb9f3a\"],[0.8888888888888888,\"#fdca26\"],[1.0,\"#f0f921\"]]},\"colorway\":[\"#636efa\",\"#EF553B\",\"#00cc96\",\"#ab63fa\",\"#FFA15A\",\"#19d3f3\",\"#FF6692\",\"#B6E880\",\"#FF97FF\",\"#FECB52\"],\"font\":{\"color\":\"#2a3f5f\"},\"geo\":{\"bgcolor\":\"white\",\"lakecolor\":\"white\",\"landcolor\":\"#E5ECF6\",\"showlakes\":true,\"showland\":true,\"subunitcolor\":\"white\"},\"hoverlabel\":{\"align\":\"left\"},\"hovermode\":\"closest\",\"mapbox\":{\"style\":\"light\"},\"paper_bgcolor\":\"white\",\"plot_bgcolor\":\"#E5ECF6\",\"polar\":{\"angularaxis\":{\"gridcolor\":\"white\",\"linecolor\":\"white\",\"ticks\":\"\"},\"bgcolor\":\"#E5ECF6\",\"radialaxis\":{\"gridcolor\":\"white\",\"linecolor\":\"white\",\"ticks\":\"\"}},\"scene\":{\"xaxis\":{\"backgroundcolor\":\"#E5ECF6\",\"gridcolor\":\"white\",\"gridwidth\":2,\"linecolor\":\"white\",\"showbackground\":true,\"ticks\":\"\",\"zerolinecolor\":\"white\"},\"yaxis\":{\"backgroundcolor\":\"#E5ECF6\",\"gridcolor\":\"white\",\"gridwidth\":2,\"linecolor\":\"white\",\"showbackground\":true,\"ticks\":\"\",\"zerolinecolor\":\"white\"},\"zaxis\":{\"backgroundcolor\":\"#E5ECF6\",\"gridcolor\":\"white\",\"gridwidth\":2,\"linecolor\":\"white\",\"showbackground\":true,\"ticks\":\"\",\"zerolinecolor\":\"white\"}},\"shapedefaults\":{\"line\":{\"color\":\"#2a3f5f\"}},\"ternary\":{\"aaxis\":{\"gridcolor\":\"white\",\"linecolor\":\"white\",\"ticks\":\"\"},\"baxis\":{\"gridcolor\":\"white\",\"linecolor\":\"white\",\"ticks\":\"\"},\"bgcolor\":\"#E5ECF6\",\"caxis\":{\"gridcolor\":\"white\",\"linecolor\":\"white\",\"ticks\":\"\"}},\"title\":{\"x\":0.05},\"xaxis\":{\"automargin\":true,\"gridcolor\":\"white\",\"linecolor\":\"white\",\"ticks\":\"\",\"title\":{\"standoff\":15},\"zerolinecolor\":\"white\",\"zerolinewidth\":2},\"yaxis\":{\"automargin\":true,\"gridcolor\":\"white\",\"linecolor\":\"white\",\"ticks\":\"\",\"title\":{\"standoff\":15},\"zerolinecolor\":\"white\",\"zerolinewidth\":2}}}},                        {\"responsive\": true}                    ).then(function(){\n",
       "                            \n",
       "var gd = document.getElementById('cf5d7525-f8cc-4076-9136-37a962a8c603');\n",
       "var x = new MutationObserver(function (mutations, observer) {{\n",
       "        var display = window.getComputedStyle(gd).display;\n",
       "        if (!display || display === 'none') {{\n",
       "            console.log([gd, 'removed!']);\n",
       "            Plotly.purge(gd);\n",
       "            observer.disconnect();\n",
       "        }}\n",
       "}});\n",
       "\n",
       "// Listen for the removal of the full notebook cells\n",
       "var notebookContainer = gd.closest('#notebook-container');\n",
       "if (notebookContainer) {{\n",
       "    x.observe(notebookContainer, {childList: true});\n",
       "}}\n",
       "\n",
       "// Listen for the clearing of the current output cell\n",
       "var outputEl = gd.closest('.output');\n",
       "if (outputEl) {{\n",
       "    x.observe(outputEl, {childList: true});\n",
       "}}\n",
       "\n",
       "                        })                };                });            </script>        </div>"
      ]
     },
     "metadata": {},
     "output_type": "display_data"
    },
    {
     "data": {
      "application/vnd.plotly.v1+json": {
       "config": {
        "plotlyServerURL": "https://plot.ly"
       },
       "data": [
        {
         "mode": "lines",
         "name": "Data",
         "type": "scatter",
         "x": [
          "2022-03-09",
          "2022-03-10",
          "2022-03-11",
          "2022-03-14",
          "2022-03-15",
          "2022-03-16",
          "2022-03-17",
          "2022-03-18",
          "2022-03-21",
          "2022-03-22",
          "2022-03-23",
          "2022-03-24",
          "2022-03-25",
          "2022-03-28",
          "2022-03-29",
          "2022-03-30",
          "2022-03-31",
          "2022-04-01",
          "2022-04-04",
          "2022-04-05",
          "2022-04-06",
          "2022-04-07",
          "2022-04-08",
          "2022-04-11",
          "2022-04-12",
          "2022-04-13",
          "2022-04-14",
          "2022-04-18",
          "2022-04-19",
          "2022-04-20",
          "2022-04-21",
          "2022-04-22",
          "2022-04-25",
          "2022-04-26",
          "2022-04-27",
          "2022-04-28",
          "2022-04-29",
          "2022-05-02",
          "2022-05-03",
          "2022-05-04",
          "2022-05-05",
          "2022-05-06",
          "2022-05-09",
          "2022-05-10",
          "2022-05-11",
          "2022-05-12",
          "2022-05-13",
          "2022-05-16",
          "2022-05-17",
          "2022-05-18",
          "2022-05-19",
          "2022-05-20"
         ],
         "y": [
          98.86,
          98.73,
          97.94,
          98.27,
          99.83,
          101.15,
          102.45,
          102.84,
          102.73,
          103.29,
          102.3,
          103.08,
          103.72,
          103.75,
          104.71,
          104.59,
          102.98,
          102.18,
          102.05,
          100.6,
          99.82,
          100.16,
          99.6,
          99.28,
          99.12,
          100.05,
          99.94,
          99.59,
          101.4,
          101.95,
          100.91,
          98.43,
          98.43,
          96.28,
          96.64,
          97.73,
          95.14,
          95.34,
          95.97,
          98.75,
          96.17,
          95.52,
          93.21,
          92.6,
          91.76,
          91.93,
          93.1,
          92.97,
          95.08,
          91.54,
          90.72,
          89.74
         ]
        },
        {
         "mode": "lines",
         "name": "Prediction",
         "type": "scatter",
         "x": [
          "2022-05-20T00:00:00",
          "2022-05-23T00:00:00",
          "2022-05-24T00:00:00",
          "2022-05-25T00:00:00",
          "2022-05-26T00:00:00",
          "2022-05-27T00:00:00",
          "2022-05-30T00:00:00",
          "2022-06-01T00:00:00",
          "2022-06-02T00:00:00",
          "2022-06-03T00:00:00",
          "2022-06-06T00:00:00",
          "2022-06-07T00:00:00",
          "2022-06-08T00:00:00",
          "2022-06-09T00:00:00",
          "2022-06-10T00:00:00",
          "2022-06-13T00:00:00",
          "2022-06-14T00:00:00",
          "2022-06-15T00:00:00",
          "2022-06-16T00:00:00",
          "2022-06-17T00:00:00",
          "2022-06-20T00:00:00",
          "2022-06-22T00:00:00",
          "2022-06-23T00:00:00",
          "2022-06-24T00:00:00",
          "2022-06-27T00:00:00",
          "2022-06-28T00:00:00",
          "2022-06-29T00:00:00",
          "2022-06-30T00:00:00",
          "2022-07-01T00:00:00",
          "2022-07-04T00:00:00",
          "2022-07-06T00:00:00",
          "2022-07-07T00:00:00",
          "2022-07-08T00:00:00",
          "2022-07-11T00:00:00",
          "2022-07-12T00:00:00",
          "2022-07-13T00:00:00",
          "2022-07-14T00:00:00",
          "2022-07-15T00:00:00",
          "2022-07-18T00:00:00",
          "2022-07-19T00:00:00",
          "2022-07-20T00:00:00",
          "2022-07-21T00:00:00",
          "2022-07-22T00:00:00",
          "2022-07-25T00:00:00",
          "2022-07-26T00:00:00",
          "2022-07-27T00:00:00",
          "2022-07-28T00:00:00",
          "2022-07-29T00:00:00",
          "2022-08-01T00:00:00",
          "2022-08-02T00:00:00",
          "2022-08-03T00:00:00",
          "2022-08-04T00:00:00"
         ],
         "y": [
          88.27233123779297,
          89.79618072509766,
          91.18733978271484,
          91.07567596435547,
          91.61380767822266,
          93.4714126586914,
          94.87252807617188,
          94.45082092285156,
          94.19698333740234,
          95.17556762695312,
          94.95724487304688,
          95.2225570678711,
          95.76424407958984,
          95.01825714111328,
          93.78165435791016,
          90.92913818359375,
          88.16787719726562,
          87.93181610107422,
          88.70873260498047,
          85.85376739501953,
          85.4847412109375,
          86.66344451904297,
          86.14449310302734,
          85.72574615478516,
          88.54508972167969,
          88.68169403076172,
          87.84607696533203,
          87.08375549316406,
          87.13355255126953,
          87.94811248779297,
          86.58897399902344,
          87.18167877197266,
          88.23909759521484,
          87.92337799072266,
          87.3608169555664,
          87.09838104248047,
          85.91065979003906,
          85.25115203857422,
          86.70722198486328,
          86.47927856445312,
          89.12284088134766,
          90.06404113769531,
          90.67906951904297,
          90.602294921875,
          90.9043960571289,
          90.4930648803711,
          91.80636596679688,
          93.59476470947266,
          95.03970336914062,
          95.15554809570312,
          94.61315155029297,
          95.1464614868164
         ]
        },
        {
         "mode": "lines",
         "name": "Ground Truth",
         "type": "scatter",
         "x": [
          "2022-05-20",
          "2022-05-23",
          "2022-05-24",
          "2022-05-25",
          "2022-05-26",
          "2022-05-27",
          "2022-05-31",
          "2022-06-01",
          "2022-06-02",
          "2022-06-03",
          "2022-06-06",
          "2022-06-07",
          "2022-06-08",
          "2022-06-09",
          "2022-06-10",
          "2022-06-13",
          "2022-06-14",
          "2022-06-15",
          "2022-06-16",
          "2022-06-17",
          "2022-06-21",
          "2022-06-22",
          "2022-06-23",
          "2022-06-24",
          "2022-06-27",
          "2022-06-28",
          "2022-06-29",
          "2022-06-30",
          "2022-07-01",
          "2022-07-05",
          "2022-07-06",
          "2022-07-07",
          "2022-07-08",
          "2022-07-11",
          "2022-07-12",
          "2022-07-13",
          "2022-07-14",
          "2022-07-15",
          "2022-07-18",
          "2022-07-19",
          "2022-07-20",
          "2022-07-21",
          "2022-07-22",
          "2022-07-25",
          "2022-07-26",
          "2022-07-27",
          "2022-07-28",
          "2022-07-29",
          "2022-08-01",
          "2022-08-02",
          "2022-08-03"
         ],
         "y": [
          89.74,
          91.21,
          91.16,
          91.69,
          93.55,
          95.47,
          94.7,
          94.12,
          95.92,
          95.55,
          95.95,
          97.24,
          95.48,
          93.6,
          90.84,
          88.11,
          87.89,
          88.74,
          85.78,
          85.56,
          86.74,
          86.26,
          85.82,
          88.82,
          88.61,
          87.58,
          87.07,
          87.34,
          88.1,
          86.78,
          87.28,
          88.31,
          87.91,
          87.32,
          87.05,
          85.99,
          85.5,
          86.84,
          86.32,
          89.4,
          90.09,
          90.74,
          90.45,
          90.88,
          90.39,
          91.79,
          93.71,
          95.64,
          95.74,
          94.73,
          95.62
         ]
        }
       ],
       "layout": {
        "template": {
         "data": {
          "bar": [
           {
            "error_x": {
             "color": "#2a3f5f"
            },
            "error_y": {
             "color": "#2a3f5f"
            },
            "marker": {
             "line": {
              "color": "#E5ECF6",
              "width": 0.5
             },
             "pattern": {
              "fillmode": "overlay",
              "size": 10,
              "solidity": 0.2
             }
            },
            "type": "bar"
           }
          ],
          "barpolar": [
           {
            "marker": {
             "line": {
              "color": "#E5ECF6",
              "width": 0.5
             },
             "pattern": {
              "fillmode": "overlay",
              "size": 10,
              "solidity": 0.2
             }
            },
            "type": "barpolar"
           }
          ],
          "carpet": [
           {
            "aaxis": {
             "endlinecolor": "#2a3f5f",
             "gridcolor": "white",
             "linecolor": "white",
             "minorgridcolor": "white",
             "startlinecolor": "#2a3f5f"
            },
            "baxis": {
             "endlinecolor": "#2a3f5f",
             "gridcolor": "white",
             "linecolor": "white",
             "minorgridcolor": "white",
             "startlinecolor": "#2a3f5f"
            },
            "type": "carpet"
           }
          ],
          "choropleth": [
           {
            "colorbar": {
             "outlinewidth": 0,
             "ticks": ""
            },
            "type": "choropleth"
           }
          ],
          "contour": [
           {
            "colorbar": {
             "outlinewidth": 0,
             "ticks": ""
            },
            "colorscale": [
             [
              0,
              "#0d0887"
             ],
             [
              0.1111111111111111,
              "#46039f"
             ],
             [
              0.2222222222222222,
              "#7201a8"
             ],
             [
              0.3333333333333333,
              "#9c179e"
             ],
             [
              0.4444444444444444,
              "#bd3786"
             ],
             [
              0.5555555555555556,
              "#d8576b"
             ],
             [
              0.6666666666666666,
              "#ed7953"
             ],
             [
              0.7777777777777778,
              "#fb9f3a"
             ],
             [
              0.8888888888888888,
              "#fdca26"
             ],
             [
              1,
              "#f0f921"
             ]
            ],
            "type": "contour"
           }
          ],
          "contourcarpet": [
           {
            "colorbar": {
             "outlinewidth": 0,
             "ticks": ""
            },
            "type": "contourcarpet"
           }
          ],
          "heatmap": [
           {
            "colorbar": {
             "outlinewidth": 0,
             "ticks": ""
            },
            "colorscale": [
             [
              0,
              "#0d0887"
             ],
             [
              0.1111111111111111,
              "#46039f"
             ],
             [
              0.2222222222222222,
              "#7201a8"
             ],
             [
              0.3333333333333333,
              "#9c179e"
             ],
             [
              0.4444444444444444,
              "#bd3786"
             ],
             [
              0.5555555555555556,
              "#d8576b"
             ],
             [
              0.6666666666666666,
              "#ed7953"
             ],
             [
              0.7777777777777778,
              "#fb9f3a"
             ],
             [
              0.8888888888888888,
              "#fdca26"
             ],
             [
              1,
              "#f0f921"
             ]
            ],
            "type": "heatmap"
           }
          ],
          "heatmapgl": [
           {
            "colorbar": {
             "outlinewidth": 0,
             "ticks": ""
            },
            "colorscale": [
             [
              0,
              "#0d0887"
             ],
             [
              0.1111111111111111,
              "#46039f"
             ],
             [
              0.2222222222222222,
              "#7201a8"
             ],
             [
              0.3333333333333333,
              "#9c179e"
             ],
             [
              0.4444444444444444,
              "#bd3786"
             ],
             [
              0.5555555555555556,
              "#d8576b"
             ],
             [
              0.6666666666666666,
              "#ed7953"
             ],
             [
              0.7777777777777778,
              "#fb9f3a"
             ],
             [
              0.8888888888888888,
              "#fdca26"
             ],
             [
              1,
              "#f0f921"
             ]
            ],
            "type": "heatmapgl"
           }
          ],
          "histogram": [
           {
            "marker": {
             "pattern": {
              "fillmode": "overlay",
              "size": 10,
              "solidity": 0.2
             }
            },
            "type": "histogram"
           }
          ],
          "histogram2d": [
           {
            "colorbar": {
             "outlinewidth": 0,
             "ticks": ""
            },
            "colorscale": [
             [
              0,
              "#0d0887"
             ],
             [
              0.1111111111111111,
              "#46039f"
             ],
             [
              0.2222222222222222,
              "#7201a8"
             ],
             [
              0.3333333333333333,
              "#9c179e"
             ],
             [
              0.4444444444444444,
              "#bd3786"
             ],
             [
              0.5555555555555556,
              "#d8576b"
             ],
             [
              0.6666666666666666,
              "#ed7953"
             ],
             [
              0.7777777777777778,
              "#fb9f3a"
             ],
             [
              0.8888888888888888,
              "#fdca26"
             ],
             [
              1,
              "#f0f921"
             ]
            ],
            "type": "histogram2d"
           }
          ],
          "histogram2dcontour": [
           {
            "colorbar": {
             "outlinewidth": 0,
             "ticks": ""
            },
            "colorscale": [
             [
              0,
              "#0d0887"
             ],
             [
              0.1111111111111111,
              "#46039f"
             ],
             [
              0.2222222222222222,
              "#7201a8"
             ],
             [
              0.3333333333333333,
              "#9c179e"
             ],
             [
              0.4444444444444444,
              "#bd3786"
             ],
             [
              0.5555555555555556,
              "#d8576b"
             ],
             [
              0.6666666666666666,
              "#ed7953"
             ],
             [
              0.7777777777777778,
              "#fb9f3a"
             ],
             [
              0.8888888888888888,
              "#fdca26"
             ],
             [
              1,
              "#f0f921"
             ]
            ],
            "type": "histogram2dcontour"
           }
          ],
          "mesh3d": [
           {
            "colorbar": {
             "outlinewidth": 0,
             "ticks": ""
            },
            "type": "mesh3d"
           }
          ],
          "parcoords": [
           {
            "line": {
             "colorbar": {
              "outlinewidth": 0,
              "ticks": ""
             }
            },
            "type": "parcoords"
           }
          ],
          "pie": [
           {
            "automargin": true,
            "type": "pie"
           }
          ],
          "scatter": [
           {
            "marker": {
             "colorbar": {
              "outlinewidth": 0,
              "ticks": ""
             }
            },
            "type": "scatter"
           }
          ],
          "scatter3d": [
           {
            "line": {
             "colorbar": {
              "outlinewidth": 0,
              "ticks": ""
             }
            },
            "marker": {
             "colorbar": {
              "outlinewidth": 0,
              "ticks": ""
             }
            },
            "type": "scatter3d"
           }
          ],
          "scattercarpet": [
           {
            "marker": {
             "colorbar": {
              "outlinewidth": 0,
              "ticks": ""
             }
            },
            "type": "scattercarpet"
           }
          ],
          "scattergeo": [
           {
            "marker": {
             "colorbar": {
              "outlinewidth": 0,
              "ticks": ""
             }
            },
            "type": "scattergeo"
           }
          ],
          "scattergl": [
           {
            "marker": {
             "colorbar": {
              "outlinewidth": 0,
              "ticks": ""
             }
            },
            "type": "scattergl"
           }
          ],
          "scattermapbox": [
           {
            "marker": {
             "colorbar": {
              "outlinewidth": 0,
              "ticks": ""
             }
            },
            "type": "scattermapbox"
           }
          ],
          "scatterpolar": [
           {
            "marker": {
             "colorbar": {
              "outlinewidth": 0,
              "ticks": ""
             }
            },
            "type": "scatterpolar"
           }
          ],
          "scatterpolargl": [
           {
            "marker": {
             "colorbar": {
              "outlinewidth": 0,
              "ticks": ""
             }
            },
            "type": "scatterpolargl"
           }
          ],
          "scatterternary": [
           {
            "marker": {
             "colorbar": {
              "outlinewidth": 0,
              "ticks": ""
             }
            },
            "type": "scatterternary"
           }
          ],
          "surface": [
           {
            "colorbar": {
             "outlinewidth": 0,
             "ticks": ""
            },
            "colorscale": [
             [
              0,
              "#0d0887"
             ],
             [
              0.1111111111111111,
              "#46039f"
             ],
             [
              0.2222222222222222,
              "#7201a8"
             ],
             [
              0.3333333333333333,
              "#9c179e"
             ],
             [
              0.4444444444444444,
              "#bd3786"
             ],
             [
              0.5555555555555556,
              "#d8576b"
             ],
             [
              0.6666666666666666,
              "#ed7953"
             ],
             [
              0.7777777777777778,
              "#fb9f3a"
             ],
             [
              0.8888888888888888,
              "#fdca26"
             ],
             [
              1,
              "#f0f921"
             ]
            ],
            "type": "surface"
           }
          ],
          "table": [
           {
            "cells": {
             "fill": {
              "color": "#EBF0F8"
             },
             "line": {
              "color": "white"
             }
            },
            "header": {
             "fill": {
              "color": "#C8D4E3"
             },
             "line": {
              "color": "white"
             }
            },
            "type": "table"
           }
          ]
         },
         "layout": {
          "annotationdefaults": {
           "arrowcolor": "#2a3f5f",
           "arrowhead": 0,
           "arrowwidth": 1
          },
          "autotypenumbers": "strict",
          "coloraxis": {
           "colorbar": {
            "outlinewidth": 0,
            "ticks": ""
           }
          },
          "colorscale": {
           "diverging": [
            [
             0,
             "#8e0152"
            ],
            [
             0.1,
             "#c51b7d"
            ],
            [
             0.2,
             "#de77ae"
            ],
            [
             0.3,
             "#f1b6da"
            ],
            [
             0.4,
             "#fde0ef"
            ],
            [
             0.5,
             "#f7f7f7"
            ],
            [
             0.6,
             "#e6f5d0"
            ],
            [
             0.7,
             "#b8e186"
            ],
            [
             0.8,
             "#7fbc41"
            ],
            [
             0.9,
             "#4d9221"
            ],
            [
             1,
             "#276419"
            ]
           ],
           "sequential": [
            [
             0,
             "#0d0887"
            ],
            [
             0.1111111111111111,
             "#46039f"
            ],
            [
             0.2222222222222222,
             "#7201a8"
            ],
            [
             0.3333333333333333,
             "#9c179e"
            ],
            [
             0.4444444444444444,
             "#bd3786"
            ],
            [
             0.5555555555555556,
             "#d8576b"
            ],
            [
             0.6666666666666666,
             "#ed7953"
            ],
            [
             0.7777777777777778,
             "#fb9f3a"
            ],
            [
             0.8888888888888888,
             "#fdca26"
            ],
            [
             1,
             "#f0f921"
            ]
           ],
           "sequentialminus": [
            [
             0,
             "#0d0887"
            ],
            [
             0.1111111111111111,
             "#46039f"
            ],
            [
             0.2222222222222222,
             "#7201a8"
            ],
            [
             0.3333333333333333,
             "#9c179e"
            ],
            [
             0.4444444444444444,
             "#bd3786"
            ],
            [
             0.5555555555555556,
             "#d8576b"
            ],
            [
             0.6666666666666666,
             "#ed7953"
            ],
            [
             0.7777777777777778,
             "#fb9f3a"
            ],
            [
             0.8888888888888888,
             "#fdca26"
            ],
            [
             1,
             "#f0f921"
            ]
           ]
          },
          "colorway": [
           "#636efa",
           "#EF553B",
           "#00cc96",
           "#ab63fa",
           "#FFA15A",
           "#19d3f3",
           "#FF6692",
           "#B6E880",
           "#FF97FF",
           "#FECB52"
          ],
          "font": {
           "color": "#2a3f5f"
          },
          "geo": {
           "bgcolor": "white",
           "lakecolor": "white",
           "landcolor": "#E5ECF6",
           "showlakes": true,
           "showland": true,
           "subunitcolor": "white"
          },
          "hoverlabel": {
           "align": "left"
          },
          "hovermode": "closest",
          "mapbox": {
           "style": "light"
          },
          "paper_bgcolor": "white",
          "plot_bgcolor": "#E5ECF6",
          "polar": {
           "angularaxis": {
            "gridcolor": "white",
            "linecolor": "white",
            "ticks": ""
           },
           "bgcolor": "#E5ECF6",
           "radialaxis": {
            "gridcolor": "white",
            "linecolor": "white",
            "ticks": ""
           }
          },
          "scene": {
           "xaxis": {
            "backgroundcolor": "#E5ECF6",
            "gridcolor": "white",
            "gridwidth": 2,
            "linecolor": "white",
            "showbackground": true,
            "ticks": "",
            "zerolinecolor": "white"
           },
           "yaxis": {
            "backgroundcolor": "#E5ECF6",
            "gridcolor": "white",
            "gridwidth": 2,
            "linecolor": "white",
            "showbackground": true,
            "ticks": "",
            "zerolinecolor": "white"
           },
           "zaxis": {
            "backgroundcolor": "#E5ECF6",
            "gridcolor": "white",
            "gridwidth": 2,
            "linecolor": "white",
            "showbackground": true,
            "ticks": "",
            "zerolinecolor": "white"
           }
          },
          "shapedefaults": {
           "line": {
            "color": "#2a3f5f"
           }
          },
          "ternary": {
           "aaxis": {
            "gridcolor": "white",
            "linecolor": "white",
            "ticks": ""
           },
           "baxis": {
            "gridcolor": "white",
            "linecolor": "white",
            "ticks": ""
           },
           "bgcolor": "#E5ECF6",
           "caxis": {
            "gridcolor": "white",
            "linecolor": "white",
            "ticks": ""
           }
          },
          "title": {
           "x": 0.05
          },
          "xaxis": {
           "automargin": true,
           "gridcolor": "white",
           "linecolor": "white",
           "ticks": "",
           "title": {
            "standoff": 15
           },
           "zerolinecolor": "white",
           "zerolinewidth": 2
          },
          "yaxis": {
           "automargin": true,
           "gridcolor": "white",
           "linecolor": "white",
           "ticks": "",
           "title": {
            "standoff": 15
           },
           "zerolinecolor": "white",
           "zerolinewidth": 2
          }
         }
        },
        "title": {
         "text": "XLI"
        },
        "xaxis": {
         "title": {
          "text": "Date"
         }
        },
        "yaxis": {
         "title": {
          "text": "Close"
         }
        }
       }
      },
      "text/html": [
       "<div>                            <div id=\"48b45795-94dc-41b1-a5a7-4ca6bbd85b14\" class=\"plotly-graph-div\" style=\"height:525px; width:100%;\"></div>            <script type=\"text/javascript\">                require([\"plotly\"], function(Plotly) {                    window.PLOTLYENV=window.PLOTLYENV || {};                                    if (document.getElementById(\"48b45795-94dc-41b1-a5a7-4ca6bbd85b14\")) {                    Plotly.newPlot(                        \"48b45795-94dc-41b1-a5a7-4ca6bbd85b14\",                        [{\"mode\":\"lines\",\"name\":\"Data\",\"x\":[\"2022-03-09\",\"2022-03-10\",\"2022-03-11\",\"2022-03-14\",\"2022-03-15\",\"2022-03-16\",\"2022-03-17\",\"2022-03-18\",\"2022-03-21\",\"2022-03-22\",\"2022-03-23\",\"2022-03-24\",\"2022-03-25\",\"2022-03-28\",\"2022-03-29\",\"2022-03-30\",\"2022-03-31\",\"2022-04-01\",\"2022-04-04\",\"2022-04-05\",\"2022-04-06\",\"2022-04-07\",\"2022-04-08\",\"2022-04-11\",\"2022-04-12\",\"2022-04-13\",\"2022-04-14\",\"2022-04-18\",\"2022-04-19\",\"2022-04-20\",\"2022-04-21\",\"2022-04-22\",\"2022-04-25\",\"2022-04-26\",\"2022-04-27\",\"2022-04-28\",\"2022-04-29\",\"2022-05-02\",\"2022-05-03\",\"2022-05-04\",\"2022-05-05\",\"2022-05-06\",\"2022-05-09\",\"2022-05-10\",\"2022-05-11\",\"2022-05-12\",\"2022-05-13\",\"2022-05-16\",\"2022-05-17\",\"2022-05-18\",\"2022-05-19\",\"2022-05-20\"],\"y\":[98.86,98.73,97.94,98.27,99.83,101.15,102.45,102.84,102.73,103.29,102.3,103.08,103.72,103.75,104.71,104.59,102.98,102.18,102.05,100.6,99.82,100.16,99.6,99.28,99.12,100.05,99.94,99.59,101.4,101.95,100.91,98.43,98.43,96.28,96.64,97.73,95.14,95.34,95.97,98.75,96.17,95.52,93.21,92.6,91.76,91.93,93.1,92.97,95.08,91.54,90.72,89.74],\"type\":\"scatter\"},{\"mode\":\"lines\",\"name\":\"Prediction\",\"x\":[\"2022-05-20T00:00:00\",\"2022-05-23T00:00:00\",\"2022-05-24T00:00:00\",\"2022-05-25T00:00:00\",\"2022-05-26T00:00:00\",\"2022-05-27T00:00:00\",\"2022-05-30T00:00:00\",\"2022-06-01T00:00:00\",\"2022-06-02T00:00:00\",\"2022-06-03T00:00:00\",\"2022-06-06T00:00:00\",\"2022-06-07T00:00:00\",\"2022-06-08T00:00:00\",\"2022-06-09T00:00:00\",\"2022-06-10T00:00:00\",\"2022-06-13T00:00:00\",\"2022-06-14T00:00:00\",\"2022-06-15T00:00:00\",\"2022-06-16T00:00:00\",\"2022-06-17T00:00:00\",\"2022-06-20T00:00:00\",\"2022-06-22T00:00:00\",\"2022-06-23T00:00:00\",\"2022-06-24T00:00:00\",\"2022-06-27T00:00:00\",\"2022-06-28T00:00:00\",\"2022-06-29T00:00:00\",\"2022-06-30T00:00:00\",\"2022-07-01T00:00:00\",\"2022-07-04T00:00:00\",\"2022-07-06T00:00:00\",\"2022-07-07T00:00:00\",\"2022-07-08T00:00:00\",\"2022-07-11T00:00:00\",\"2022-07-12T00:00:00\",\"2022-07-13T00:00:00\",\"2022-07-14T00:00:00\",\"2022-07-15T00:00:00\",\"2022-07-18T00:00:00\",\"2022-07-19T00:00:00\",\"2022-07-20T00:00:00\",\"2022-07-21T00:00:00\",\"2022-07-22T00:00:00\",\"2022-07-25T00:00:00\",\"2022-07-26T00:00:00\",\"2022-07-27T00:00:00\",\"2022-07-28T00:00:00\",\"2022-07-29T00:00:00\",\"2022-08-01T00:00:00\",\"2022-08-02T00:00:00\",\"2022-08-03T00:00:00\",\"2022-08-04T00:00:00\"],\"y\":[88.27233123779297,89.79618072509766,91.18733978271484,91.07567596435547,91.61380767822266,93.4714126586914,94.87252807617188,94.45082092285156,94.19698333740234,95.17556762695312,94.95724487304688,95.2225570678711,95.76424407958984,95.01825714111328,93.78165435791016,90.92913818359375,88.16787719726562,87.93181610107422,88.70873260498047,85.85376739501953,85.4847412109375,86.66344451904297,86.14449310302734,85.72574615478516,88.54508972167969,88.68169403076172,87.84607696533203,87.08375549316406,87.13355255126953,87.94811248779297,86.58897399902344,87.18167877197266,88.23909759521484,87.92337799072266,87.3608169555664,87.09838104248047,85.91065979003906,85.25115203857422,86.70722198486328,86.47927856445312,89.12284088134766,90.06404113769531,90.67906951904297,90.602294921875,90.9043960571289,90.4930648803711,91.80636596679688,93.59476470947266,95.03970336914062,95.15554809570312,94.61315155029297,95.1464614868164],\"type\":\"scatter\"},{\"mode\":\"lines\",\"name\":\"Ground Truth\",\"x\":[\"2022-05-20\",\"2022-05-23\",\"2022-05-24\",\"2022-05-25\",\"2022-05-26\",\"2022-05-27\",\"2022-05-31\",\"2022-06-01\",\"2022-06-02\",\"2022-06-03\",\"2022-06-06\",\"2022-06-07\",\"2022-06-08\",\"2022-06-09\",\"2022-06-10\",\"2022-06-13\",\"2022-06-14\",\"2022-06-15\",\"2022-06-16\",\"2022-06-17\",\"2022-06-21\",\"2022-06-22\",\"2022-06-23\",\"2022-06-24\",\"2022-06-27\",\"2022-06-28\",\"2022-06-29\",\"2022-06-30\",\"2022-07-01\",\"2022-07-05\",\"2022-07-06\",\"2022-07-07\",\"2022-07-08\",\"2022-07-11\",\"2022-07-12\",\"2022-07-13\",\"2022-07-14\",\"2022-07-15\",\"2022-07-18\",\"2022-07-19\",\"2022-07-20\",\"2022-07-21\",\"2022-07-22\",\"2022-07-25\",\"2022-07-26\",\"2022-07-27\",\"2022-07-28\",\"2022-07-29\",\"2022-08-01\",\"2022-08-02\",\"2022-08-03\"],\"y\":[89.74,91.21,91.16,91.69,93.55,95.47,94.7,94.12,95.92,95.55,95.95,97.24,95.48,93.6,90.84,88.11,87.89,88.74,85.78,85.56,86.74,86.26,85.82,88.82,88.61,87.58,87.07,87.34,88.1,86.78,87.28,88.31,87.91,87.32,87.05,85.99,85.5,86.84,86.32,89.4,90.09,90.74,90.45,90.88,90.39,91.79,93.71,95.64,95.74,94.73,95.62],\"type\":\"scatter\"}],                        {\"title\":{\"text\":\"XLI\"},\"xaxis\":{\"title\":{\"text\":\"Date\"}},\"yaxis\":{\"title\":{\"text\":\"Close\"}},\"template\":{\"data\":{\"bar\":[{\"error_x\":{\"color\":\"#2a3f5f\"},\"error_y\":{\"color\":\"#2a3f5f\"},\"marker\":{\"line\":{\"color\":\"#E5ECF6\",\"width\":0.5},\"pattern\":{\"fillmode\":\"overlay\",\"size\":10,\"solidity\":0.2}},\"type\":\"bar\"}],\"barpolar\":[{\"marker\":{\"line\":{\"color\":\"#E5ECF6\",\"width\":0.5},\"pattern\":{\"fillmode\":\"overlay\",\"size\":10,\"solidity\":0.2}},\"type\":\"barpolar\"}],\"carpet\":[{\"aaxis\":{\"endlinecolor\":\"#2a3f5f\",\"gridcolor\":\"white\",\"linecolor\":\"white\",\"minorgridcolor\":\"white\",\"startlinecolor\":\"#2a3f5f\"},\"baxis\":{\"endlinecolor\":\"#2a3f5f\",\"gridcolor\":\"white\",\"linecolor\":\"white\",\"minorgridcolor\":\"white\",\"startlinecolor\":\"#2a3f5f\"},\"type\":\"carpet\"}],\"choropleth\":[{\"colorbar\":{\"outlinewidth\":0,\"ticks\":\"\"},\"type\":\"choropleth\"}],\"contour\":[{\"colorbar\":{\"outlinewidth\":0,\"ticks\":\"\"},\"colorscale\":[[0.0,\"#0d0887\"],[0.1111111111111111,\"#46039f\"],[0.2222222222222222,\"#7201a8\"],[0.3333333333333333,\"#9c179e\"],[0.4444444444444444,\"#bd3786\"],[0.5555555555555556,\"#d8576b\"],[0.6666666666666666,\"#ed7953\"],[0.7777777777777778,\"#fb9f3a\"],[0.8888888888888888,\"#fdca26\"],[1.0,\"#f0f921\"]],\"type\":\"contour\"}],\"contourcarpet\":[{\"colorbar\":{\"outlinewidth\":0,\"ticks\":\"\"},\"type\":\"contourcarpet\"}],\"heatmap\":[{\"colorbar\":{\"outlinewidth\":0,\"ticks\":\"\"},\"colorscale\":[[0.0,\"#0d0887\"],[0.1111111111111111,\"#46039f\"],[0.2222222222222222,\"#7201a8\"],[0.3333333333333333,\"#9c179e\"],[0.4444444444444444,\"#bd3786\"],[0.5555555555555556,\"#d8576b\"],[0.6666666666666666,\"#ed7953\"],[0.7777777777777778,\"#fb9f3a\"],[0.8888888888888888,\"#fdca26\"],[1.0,\"#f0f921\"]],\"type\":\"heatmap\"}],\"heatmapgl\":[{\"colorbar\":{\"outlinewidth\":0,\"ticks\":\"\"},\"colorscale\":[[0.0,\"#0d0887\"],[0.1111111111111111,\"#46039f\"],[0.2222222222222222,\"#7201a8\"],[0.3333333333333333,\"#9c179e\"],[0.4444444444444444,\"#bd3786\"],[0.5555555555555556,\"#d8576b\"],[0.6666666666666666,\"#ed7953\"],[0.7777777777777778,\"#fb9f3a\"],[0.8888888888888888,\"#fdca26\"],[1.0,\"#f0f921\"]],\"type\":\"heatmapgl\"}],\"histogram\":[{\"marker\":{\"pattern\":{\"fillmode\":\"overlay\",\"size\":10,\"solidity\":0.2}},\"type\":\"histogram\"}],\"histogram2d\":[{\"colorbar\":{\"outlinewidth\":0,\"ticks\":\"\"},\"colorscale\":[[0.0,\"#0d0887\"],[0.1111111111111111,\"#46039f\"],[0.2222222222222222,\"#7201a8\"],[0.3333333333333333,\"#9c179e\"],[0.4444444444444444,\"#bd3786\"],[0.5555555555555556,\"#d8576b\"],[0.6666666666666666,\"#ed7953\"],[0.7777777777777778,\"#fb9f3a\"],[0.8888888888888888,\"#fdca26\"],[1.0,\"#f0f921\"]],\"type\":\"histogram2d\"}],\"histogram2dcontour\":[{\"colorbar\":{\"outlinewidth\":0,\"ticks\":\"\"},\"colorscale\":[[0.0,\"#0d0887\"],[0.1111111111111111,\"#46039f\"],[0.2222222222222222,\"#7201a8\"],[0.3333333333333333,\"#9c179e\"],[0.4444444444444444,\"#bd3786\"],[0.5555555555555556,\"#d8576b\"],[0.6666666666666666,\"#ed7953\"],[0.7777777777777778,\"#fb9f3a\"],[0.8888888888888888,\"#fdca26\"],[1.0,\"#f0f921\"]],\"type\":\"histogram2dcontour\"}],\"mesh3d\":[{\"colorbar\":{\"outlinewidth\":0,\"ticks\":\"\"},\"type\":\"mesh3d\"}],\"parcoords\":[{\"line\":{\"colorbar\":{\"outlinewidth\":0,\"ticks\":\"\"}},\"type\":\"parcoords\"}],\"pie\":[{\"automargin\":true,\"type\":\"pie\"}],\"scatter\":[{\"marker\":{\"colorbar\":{\"outlinewidth\":0,\"ticks\":\"\"}},\"type\":\"scatter\"}],\"scatter3d\":[{\"line\":{\"colorbar\":{\"outlinewidth\":0,\"ticks\":\"\"}},\"marker\":{\"colorbar\":{\"outlinewidth\":0,\"ticks\":\"\"}},\"type\":\"scatter3d\"}],\"scattercarpet\":[{\"marker\":{\"colorbar\":{\"outlinewidth\":0,\"ticks\":\"\"}},\"type\":\"scattercarpet\"}],\"scattergeo\":[{\"marker\":{\"colorbar\":{\"outlinewidth\":0,\"ticks\":\"\"}},\"type\":\"scattergeo\"}],\"scattergl\":[{\"marker\":{\"colorbar\":{\"outlinewidth\":0,\"ticks\":\"\"}},\"type\":\"scattergl\"}],\"scattermapbox\":[{\"marker\":{\"colorbar\":{\"outlinewidth\":0,\"ticks\":\"\"}},\"type\":\"scattermapbox\"}],\"scatterpolar\":[{\"marker\":{\"colorbar\":{\"outlinewidth\":0,\"ticks\":\"\"}},\"type\":\"scatterpolar\"}],\"scatterpolargl\":[{\"marker\":{\"colorbar\":{\"outlinewidth\":0,\"ticks\":\"\"}},\"type\":\"scatterpolargl\"}],\"scatterternary\":[{\"marker\":{\"colorbar\":{\"outlinewidth\":0,\"ticks\":\"\"}},\"type\":\"scatterternary\"}],\"surface\":[{\"colorbar\":{\"outlinewidth\":0,\"ticks\":\"\"},\"colorscale\":[[0.0,\"#0d0887\"],[0.1111111111111111,\"#46039f\"],[0.2222222222222222,\"#7201a8\"],[0.3333333333333333,\"#9c179e\"],[0.4444444444444444,\"#bd3786\"],[0.5555555555555556,\"#d8576b\"],[0.6666666666666666,\"#ed7953\"],[0.7777777777777778,\"#fb9f3a\"],[0.8888888888888888,\"#fdca26\"],[1.0,\"#f0f921\"]],\"type\":\"surface\"}],\"table\":[{\"cells\":{\"fill\":{\"color\":\"#EBF0F8\"},\"line\":{\"color\":\"white\"}},\"header\":{\"fill\":{\"color\":\"#C8D4E3\"},\"line\":{\"color\":\"white\"}},\"type\":\"table\"}]},\"layout\":{\"annotationdefaults\":{\"arrowcolor\":\"#2a3f5f\",\"arrowhead\":0,\"arrowwidth\":1},\"autotypenumbers\":\"strict\",\"coloraxis\":{\"colorbar\":{\"outlinewidth\":0,\"ticks\":\"\"}},\"colorscale\":{\"diverging\":[[0,\"#8e0152\"],[0.1,\"#c51b7d\"],[0.2,\"#de77ae\"],[0.3,\"#f1b6da\"],[0.4,\"#fde0ef\"],[0.5,\"#f7f7f7\"],[0.6,\"#e6f5d0\"],[0.7,\"#b8e186\"],[0.8,\"#7fbc41\"],[0.9,\"#4d9221\"],[1,\"#276419\"]],\"sequential\":[[0.0,\"#0d0887\"],[0.1111111111111111,\"#46039f\"],[0.2222222222222222,\"#7201a8\"],[0.3333333333333333,\"#9c179e\"],[0.4444444444444444,\"#bd3786\"],[0.5555555555555556,\"#d8576b\"],[0.6666666666666666,\"#ed7953\"],[0.7777777777777778,\"#fb9f3a\"],[0.8888888888888888,\"#fdca26\"],[1.0,\"#f0f921\"]],\"sequentialminus\":[[0.0,\"#0d0887\"],[0.1111111111111111,\"#46039f\"],[0.2222222222222222,\"#7201a8\"],[0.3333333333333333,\"#9c179e\"],[0.4444444444444444,\"#bd3786\"],[0.5555555555555556,\"#d8576b\"],[0.6666666666666666,\"#ed7953\"],[0.7777777777777778,\"#fb9f3a\"],[0.8888888888888888,\"#fdca26\"],[1.0,\"#f0f921\"]]},\"colorway\":[\"#636efa\",\"#EF553B\",\"#00cc96\",\"#ab63fa\",\"#FFA15A\",\"#19d3f3\",\"#FF6692\",\"#B6E880\",\"#FF97FF\",\"#FECB52\"],\"font\":{\"color\":\"#2a3f5f\"},\"geo\":{\"bgcolor\":\"white\",\"lakecolor\":\"white\",\"landcolor\":\"#E5ECF6\",\"showlakes\":true,\"showland\":true,\"subunitcolor\":\"white\"},\"hoverlabel\":{\"align\":\"left\"},\"hovermode\":\"closest\",\"mapbox\":{\"style\":\"light\"},\"paper_bgcolor\":\"white\",\"plot_bgcolor\":\"#E5ECF6\",\"polar\":{\"angularaxis\":{\"gridcolor\":\"white\",\"linecolor\":\"white\",\"ticks\":\"\"},\"bgcolor\":\"#E5ECF6\",\"radialaxis\":{\"gridcolor\":\"white\",\"linecolor\":\"white\",\"ticks\":\"\"}},\"scene\":{\"xaxis\":{\"backgroundcolor\":\"#E5ECF6\",\"gridcolor\":\"white\",\"gridwidth\":2,\"linecolor\":\"white\",\"showbackground\":true,\"ticks\":\"\",\"zerolinecolor\":\"white\"},\"yaxis\":{\"backgroundcolor\":\"#E5ECF6\",\"gridcolor\":\"white\",\"gridwidth\":2,\"linecolor\":\"white\",\"showbackground\":true,\"ticks\":\"\",\"zerolinecolor\":\"white\"},\"zaxis\":{\"backgroundcolor\":\"#E5ECF6\",\"gridcolor\":\"white\",\"gridwidth\":2,\"linecolor\":\"white\",\"showbackground\":true,\"ticks\":\"\",\"zerolinecolor\":\"white\"}},\"shapedefaults\":{\"line\":{\"color\":\"#2a3f5f\"}},\"ternary\":{\"aaxis\":{\"gridcolor\":\"white\",\"linecolor\":\"white\",\"ticks\":\"\"},\"baxis\":{\"gridcolor\":\"white\",\"linecolor\":\"white\",\"ticks\":\"\"},\"bgcolor\":\"#E5ECF6\",\"caxis\":{\"gridcolor\":\"white\",\"linecolor\":\"white\",\"ticks\":\"\"}},\"title\":{\"x\":0.05},\"xaxis\":{\"automargin\":true,\"gridcolor\":\"white\",\"linecolor\":\"white\",\"ticks\":\"\",\"title\":{\"standoff\":15},\"zerolinecolor\":\"white\",\"zerolinewidth\":2},\"yaxis\":{\"automargin\":true,\"gridcolor\":\"white\",\"linecolor\":\"white\",\"ticks\":\"\",\"title\":{\"standoff\":15},\"zerolinecolor\":\"white\",\"zerolinewidth\":2}}}},                        {\"responsive\": true}                    ).then(function(){\n",
       "                            \n",
       "var gd = document.getElementById('48b45795-94dc-41b1-a5a7-4ca6bbd85b14');\n",
       "var x = new MutationObserver(function (mutations, observer) {{\n",
       "        var display = window.getComputedStyle(gd).display;\n",
       "        if (!display || display === 'none') {{\n",
       "            console.log([gd, 'removed!']);\n",
       "            Plotly.purge(gd);\n",
       "            observer.disconnect();\n",
       "        }}\n",
       "}});\n",
       "\n",
       "// Listen for the removal of the full notebook cells\n",
       "var notebookContainer = gd.closest('#notebook-container');\n",
       "if (notebookContainer) {{\n",
       "    x.observe(notebookContainer, {childList: true});\n",
       "}}\n",
       "\n",
       "// Listen for the clearing of the current output cell\n",
       "var outputEl = gd.closest('.output');\n",
       "if (outputEl) {{\n",
       "    x.observe(outputEl, {childList: true});\n",
       "}}\n",
       "\n",
       "                        })                };                });            </script>        </div>"
      ]
     },
     "metadata": {},
     "output_type": "display_data"
    },
    {
     "data": {
      "application/vnd.plotly.v1+json": {
       "config": {
        "plotlyServerURL": "https://plot.ly"
       },
       "data": [
        {
         "mode": "lines",
         "name": "Data",
         "type": "scatter",
         "x": [
          "2022-03-09",
          "2022-03-10",
          "2022-03-11",
          "2022-03-14",
          "2022-03-15",
          "2022-03-16",
          "2022-03-17",
          "2022-03-18",
          "2022-03-21",
          "2022-03-22",
          "2022-03-23",
          "2022-03-24",
          "2022-03-25",
          "2022-03-28",
          "2022-03-29",
          "2022-03-30",
          "2022-03-31",
          "2022-04-01",
          "2022-04-04",
          "2022-04-05",
          "2022-04-06",
          "2022-04-07",
          "2022-04-08",
          "2022-04-11",
          "2022-04-12",
          "2022-04-13",
          "2022-04-14",
          "2022-04-18",
          "2022-04-19",
          "2022-04-20",
          "2022-04-21",
          "2022-04-22",
          "2022-04-25",
          "2022-04-26",
          "2022-04-27",
          "2022-04-28",
          "2022-04-29",
          "2022-05-02",
          "2022-05-03",
          "2022-05-04",
          "2022-05-05",
          "2022-05-06",
          "2022-05-09",
          "2022-05-10",
          "2022-05-11",
          "2022-05-12",
          "2022-05-13",
          "2022-05-16",
          "2022-05-17",
          "2022-05-18",
          "2022-05-19",
          "2022-05-20"
         ],
         "y": [
          36.97,
          36.66,
          36.4,
          36.86,
          37.38,
          38.43,
          38.91,
          39,
          38.81,
          39.44,
          38.71,
          39.02,
          39.52,
          39.41,
          39.5,
          39.22,
          38.32,
          38.22,
          38.05,
          37.81,
          37.55,
          37.51,
          37.89,
          37.72,
          37.31,
          37.31,
          36.89,
          37.11,
          37.62,
          37.88,
          37.28,
          36.17,
          36.23,
          35.32,
          35.29,
          35.74,
          34.51,
          34.52,
          34.97,
          36.04,
          34.99,
          34.74,
          33.91,
          33.61,
          33.3,
          33.05,
          33.53,
          33.25,
          34.14,
          33.2,
          32.98,
          32.92
         ]
        },
        {
         "mode": "lines",
         "name": "Prediction",
         "type": "scatter",
         "x": [
          "2022-05-20T00:00:00",
          "2022-05-23T00:00:00",
          "2022-05-24T00:00:00",
          "2022-05-25T00:00:00",
          "2022-05-26T00:00:00",
          "2022-05-27T00:00:00",
          "2022-05-30T00:00:00",
          "2022-06-01T00:00:00",
          "2022-06-02T00:00:00",
          "2022-06-03T00:00:00",
          "2022-06-06T00:00:00",
          "2022-06-07T00:00:00",
          "2022-06-08T00:00:00",
          "2022-06-09T00:00:00",
          "2022-06-10T00:00:00",
          "2022-06-13T00:00:00",
          "2022-06-14T00:00:00",
          "2022-06-15T00:00:00",
          "2022-06-16T00:00:00",
          "2022-06-17T00:00:00",
          "2022-06-20T00:00:00",
          "2022-06-22T00:00:00",
          "2022-06-23T00:00:00",
          "2022-06-24T00:00:00",
          "2022-06-27T00:00:00",
          "2022-06-28T00:00:00",
          "2022-06-29T00:00:00",
          "2022-06-30T00:00:00",
          "2022-07-01T00:00:00",
          "2022-07-04T00:00:00",
          "2022-07-06T00:00:00",
          "2022-07-07T00:00:00",
          "2022-07-08T00:00:00",
          "2022-07-11T00:00:00",
          "2022-07-12T00:00:00",
          "2022-07-13T00:00:00",
          "2022-07-14T00:00:00",
          "2022-07-15T00:00:00",
          "2022-07-18T00:00:00",
          "2022-07-19T00:00:00",
          "2022-07-20T00:00:00",
          "2022-07-21T00:00:00",
          "2022-07-22T00:00:00",
          "2022-07-25T00:00:00",
          "2022-07-26T00:00:00",
          "2022-07-27T00:00:00",
          "2022-07-28T00:00:00",
          "2022-07-29T00:00:00",
          "2022-08-01T00:00:00",
          "2022-08-02T00:00:00",
          "2022-08-03T00:00:00",
          "2022-08-04T00:00:00"
         ],
         "y": [
          32.41450500488281,
          33.060699462890625,
          33.96961212158203,
          33.929359436035156,
          34.17811584472656,
          34.69525909423828,
          34.90391159057617,
          34.891902923583984,
          34.750980377197266,
          34.84257888793945,
          34.67178726196289,
          34.78152847290039,
          34.77733612060547,
          34.575557708740234,
          34.0986328125,
          32.75030517578125,
          31.63309097290039,
          31.441532135009766,
          31.653974533081055,
          30.79395866394043,
          30.87948989868164,
          31.429397583007812,
          31.158397674560547,
          31.099796295166016,
          32.014671325683594,
          32.40034484863281,
          32.29217529296875,
          31.836660385131836,
          31.282554626464844,
          31.662010192871094,
          31.527490615844727,
          31.68683624267578,
          32.13578414916992,
          32.17974853515625,
          31.881649017333984,
          31.70713233947754,
          31.232404708862305,
          30.592273712158203,
          31.604507446289062,
          31.968935012817383,
          32.457672119140625,
          32.63154983520508,
          32.76744842529297,
          32.82661056518555,
          32.912445068359375,
          32.63066482543945,
          32.87803649902344,
          33.090213775634766,
          33.585113525390625,
          33.36107635498047,
          33.13731002807617,
          33.48338317871094
         ]
        },
        {
         "mode": "lines",
         "name": "Ground Truth",
         "type": "scatter",
         "x": [
          "2022-05-20",
          "2022-05-23",
          "2022-05-24",
          "2022-05-25",
          "2022-05-26",
          "2022-05-27",
          "2022-05-31",
          "2022-06-01",
          "2022-06-02",
          "2022-06-03",
          "2022-06-06",
          "2022-06-07",
          "2022-06-08",
          "2022-06-09",
          "2022-06-10",
          "2022-06-13",
          "2022-06-14",
          "2022-06-15",
          "2022-06-16",
          "2022-06-17",
          "2022-06-21",
          "2022-06-22",
          "2022-06-23",
          "2022-06-24",
          "2022-06-27",
          "2022-06-28",
          "2022-06-29",
          "2022-06-30",
          "2022-07-01",
          "2022-07-05",
          "2022-07-06",
          "2022-07-07",
          "2022-07-08",
          "2022-07-11",
          "2022-07-12",
          "2022-07-13",
          "2022-07-14",
          "2022-07-15",
          "2022-07-18",
          "2022-07-19",
          "2022-07-20",
          "2022-07-21",
          "2022-07-22",
          "2022-07-25",
          "2022-07-26",
          "2022-07-27",
          "2022-07-28",
          "2022-07-29",
          "2022-08-01",
          "2022-08-02",
          "2022-08-03"
         ],
         "y": [
          32.92,
          33.99,
          33.92,
          34.19,
          34.98,
          35.57,
          35.47,
          34.9,
          35.38,
          34.87,
          34.97,
          35.24,
          34.62,
          33.75,
          32.53,
          31.56,
          31.29,
          31.64,
          30.84,
          30.93,
          31.38,
          31.31,
          31.19,
          32.34,
          32.23,
          31.91,
          31.73,
          31.45,
          31.88,
          31.77,
          31.69,
          32.15,
          32.08,
          31.82,
          31.62,
          31.34,
          30.74,
          31.78,
          31.66,
          32.61,
          32.73,
          32.94,
          32.75,
          32.96,
          32.5,
          33,
          33.24,
          33.71,
          33.43,
          33.06,
          33.56
         ]
        }
       ],
       "layout": {
        "template": {
         "data": {
          "bar": [
           {
            "error_x": {
             "color": "#2a3f5f"
            },
            "error_y": {
             "color": "#2a3f5f"
            },
            "marker": {
             "line": {
              "color": "#E5ECF6",
              "width": 0.5
             },
             "pattern": {
              "fillmode": "overlay",
              "size": 10,
              "solidity": 0.2
             }
            },
            "type": "bar"
           }
          ],
          "barpolar": [
           {
            "marker": {
             "line": {
              "color": "#E5ECF6",
              "width": 0.5
             },
             "pattern": {
              "fillmode": "overlay",
              "size": 10,
              "solidity": 0.2
             }
            },
            "type": "barpolar"
           }
          ],
          "carpet": [
           {
            "aaxis": {
             "endlinecolor": "#2a3f5f",
             "gridcolor": "white",
             "linecolor": "white",
             "minorgridcolor": "white",
             "startlinecolor": "#2a3f5f"
            },
            "baxis": {
             "endlinecolor": "#2a3f5f",
             "gridcolor": "white",
             "linecolor": "white",
             "minorgridcolor": "white",
             "startlinecolor": "#2a3f5f"
            },
            "type": "carpet"
           }
          ],
          "choropleth": [
           {
            "colorbar": {
             "outlinewidth": 0,
             "ticks": ""
            },
            "type": "choropleth"
           }
          ],
          "contour": [
           {
            "colorbar": {
             "outlinewidth": 0,
             "ticks": ""
            },
            "colorscale": [
             [
              0,
              "#0d0887"
             ],
             [
              0.1111111111111111,
              "#46039f"
             ],
             [
              0.2222222222222222,
              "#7201a8"
             ],
             [
              0.3333333333333333,
              "#9c179e"
             ],
             [
              0.4444444444444444,
              "#bd3786"
             ],
             [
              0.5555555555555556,
              "#d8576b"
             ],
             [
              0.6666666666666666,
              "#ed7953"
             ],
             [
              0.7777777777777778,
              "#fb9f3a"
             ],
             [
              0.8888888888888888,
              "#fdca26"
             ],
             [
              1,
              "#f0f921"
             ]
            ],
            "type": "contour"
           }
          ],
          "contourcarpet": [
           {
            "colorbar": {
             "outlinewidth": 0,
             "ticks": ""
            },
            "type": "contourcarpet"
           }
          ],
          "heatmap": [
           {
            "colorbar": {
             "outlinewidth": 0,
             "ticks": ""
            },
            "colorscale": [
             [
              0,
              "#0d0887"
             ],
             [
              0.1111111111111111,
              "#46039f"
             ],
             [
              0.2222222222222222,
              "#7201a8"
             ],
             [
              0.3333333333333333,
              "#9c179e"
             ],
             [
              0.4444444444444444,
              "#bd3786"
             ],
             [
              0.5555555555555556,
              "#d8576b"
             ],
             [
              0.6666666666666666,
              "#ed7953"
             ],
             [
              0.7777777777777778,
              "#fb9f3a"
             ],
             [
              0.8888888888888888,
              "#fdca26"
             ],
             [
              1,
              "#f0f921"
             ]
            ],
            "type": "heatmap"
           }
          ],
          "heatmapgl": [
           {
            "colorbar": {
             "outlinewidth": 0,
             "ticks": ""
            },
            "colorscale": [
             [
              0,
              "#0d0887"
             ],
             [
              0.1111111111111111,
              "#46039f"
             ],
             [
              0.2222222222222222,
              "#7201a8"
             ],
             [
              0.3333333333333333,
              "#9c179e"
             ],
             [
              0.4444444444444444,
              "#bd3786"
             ],
             [
              0.5555555555555556,
              "#d8576b"
             ],
             [
              0.6666666666666666,
              "#ed7953"
             ],
             [
              0.7777777777777778,
              "#fb9f3a"
             ],
             [
              0.8888888888888888,
              "#fdca26"
             ],
             [
              1,
              "#f0f921"
             ]
            ],
            "type": "heatmapgl"
           }
          ],
          "histogram": [
           {
            "marker": {
             "pattern": {
              "fillmode": "overlay",
              "size": 10,
              "solidity": 0.2
             }
            },
            "type": "histogram"
           }
          ],
          "histogram2d": [
           {
            "colorbar": {
             "outlinewidth": 0,
             "ticks": ""
            },
            "colorscale": [
             [
              0,
              "#0d0887"
             ],
             [
              0.1111111111111111,
              "#46039f"
             ],
             [
              0.2222222222222222,
              "#7201a8"
             ],
             [
              0.3333333333333333,
              "#9c179e"
             ],
             [
              0.4444444444444444,
              "#bd3786"
             ],
             [
              0.5555555555555556,
              "#d8576b"
             ],
             [
              0.6666666666666666,
              "#ed7953"
             ],
             [
              0.7777777777777778,
              "#fb9f3a"
             ],
             [
              0.8888888888888888,
              "#fdca26"
             ],
             [
              1,
              "#f0f921"
             ]
            ],
            "type": "histogram2d"
           }
          ],
          "histogram2dcontour": [
           {
            "colorbar": {
             "outlinewidth": 0,
             "ticks": ""
            },
            "colorscale": [
             [
              0,
              "#0d0887"
             ],
             [
              0.1111111111111111,
              "#46039f"
             ],
             [
              0.2222222222222222,
              "#7201a8"
             ],
             [
              0.3333333333333333,
              "#9c179e"
             ],
             [
              0.4444444444444444,
              "#bd3786"
             ],
             [
              0.5555555555555556,
              "#d8576b"
             ],
             [
              0.6666666666666666,
              "#ed7953"
             ],
             [
              0.7777777777777778,
              "#fb9f3a"
             ],
             [
              0.8888888888888888,
              "#fdca26"
             ],
             [
              1,
              "#f0f921"
             ]
            ],
            "type": "histogram2dcontour"
           }
          ],
          "mesh3d": [
           {
            "colorbar": {
             "outlinewidth": 0,
             "ticks": ""
            },
            "type": "mesh3d"
           }
          ],
          "parcoords": [
           {
            "line": {
             "colorbar": {
              "outlinewidth": 0,
              "ticks": ""
             }
            },
            "type": "parcoords"
           }
          ],
          "pie": [
           {
            "automargin": true,
            "type": "pie"
           }
          ],
          "scatter": [
           {
            "marker": {
             "colorbar": {
              "outlinewidth": 0,
              "ticks": ""
             }
            },
            "type": "scatter"
           }
          ],
          "scatter3d": [
           {
            "line": {
             "colorbar": {
              "outlinewidth": 0,
              "ticks": ""
             }
            },
            "marker": {
             "colorbar": {
              "outlinewidth": 0,
              "ticks": ""
             }
            },
            "type": "scatter3d"
           }
          ],
          "scattercarpet": [
           {
            "marker": {
             "colorbar": {
              "outlinewidth": 0,
              "ticks": ""
             }
            },
            "type": "scattercarpet"
           }
          ],
          "scattergeo": [
           {
            "marker": {
             "colorbar": {
              "outlinewidth": 0,
              "ticks": ""
             }
            },
            "type": "scattergeo"
           }
          ],
          "scattergl": [
           {
            "marker": {
             "colorbar": {
              "outlinewidth": 0,
              "ticks": ""
             }
            },
            "type": "scattergl"
           }
          ],
          "scattermapbox": [
           {
            "marker": {
             "colorbar": {
              "outlinewidth": 0,
              "ticks": ""
             }
            },
            "type": "scattermapbox"
           }
          ],
          "scatterpolar": [
           {
            "marker": {
             "colorbar": {
              "outlinewidth": 0,
              "ticks": ""
             }
            },
            "type": "scatterpolar"
           }
          ],
          "scatterpolargl": [
           {
            "marker": {
             "colorbar": {
              "outlinewidth": 0,
              "ticks": ""
             }
            },
            "type": "scatterpolargl"
           }
          ],
          "scatterternary": [
           {
            "marker": {
             "colorbar": {
              "outlinewidth": 0,
              "ticks": ""
             }
            },
            "type": "scatterternary"
           }
          ],
          "surface": [
           {
            "colorbar": {
             "outlinewidth": 0,
             "ticks": ""
            },
            "colorscale": [
             [
              0,
              "#0d0887"
             ],
             [
              0.1111111111111111,
              "#46039f"
             ],
             [
              0.2222222222222222,
              "#7201a8"
             ],
             [
              0.3333333333333333,
              "#9c179e"
             ],
             [
              0.4444444444444444,
              "#bd3786"
             ],
             [
              0.5555555555555556,
              "#d8576b"
             ],
             [
              0.6666666666666666,
              "#ed7953"
             ],
             [
              0.7777777777777778,
              "#fb9f3a"
             ],
             [
              0.8888888888888888,
              "#fdca26"
             ],
             [
              1,
              "#f0f921"
             ]
            ],
            "type": "surface"
           }
          ],
          "table": [
           {
            "cells": {
             "fill": {
              "color": "#EBF0F8"
             },
             "line": {
              "color": "white"
             }
            },
            "header": {
             "fill": {
              "color": "#C8D4E3"
             },
             "line": {
              "color": "white"
             }
            },
            "type": "table"
           }
          ]
         },
         "layout": {
          "annotationdefaults": {
           "arrowcolor": "#2a3f5f",
           "arrowhead": 0,
           "arrowwidth": 1
          },
          "autotypenumbers": "strict",
          "coloraxis": {
           "colorbar": {
            "outlinewidth": 0,
            "ticks": ""
           }
          },
          "colorscale": {
           "diverging": [
            [
             0,
             "#8e0152"
            ],
            [
             0.1,
             "#c51b7d"
            ],
            [
             0.2,
             "#de77ae"
            ],
            [
             0.3,
             "#f1b6da"
            ],
            [
             0.4,
             "#fde0ef"
            ],
            [
             0.5,
             "#f7f7f7"
            ],
            [
             0.6,
             "#e6f5d0"
            ],
            [
             0.7,
             "#b8e186"
            ],
            [
             0.8,
             "#7fbc41"
            ],
            [
             0.9,
             "#4d9221"
            ],
            [
             1,
             "#276419"
            ]
           ],
           "sequential": [
            [
             0,
             "#0d0887"
            ],
            [
             0.1111111111111111,
             "#46039f"
            ],
            [
             0.2222222222222222,
             "#7201a8"
            ],
            [
             0.3333333333333333,
             "#9c179e"
            ],
            [
             0.4444444444444444,
             "#bd3786"
            ],
            [
             0.5555555555555556,
             "#d8576b"
            ],
            [
             0.6666666666666666,
             "#ed7953"
            ],
            [
             0.7777777777777778,
             "#fb9f3a"
            ],
            [
             0.8888888888888888,
             "#fdca26"
            ],
            [
             1,
             "#f0f921"
            ]
           ],
           "sequentialminus": [
            [
             0,
             "#0d0887"
            ],
            [
             0.1111111111111111,
             "#46039f"
            ],
            [
             0.2222222222222222,
             "#7201a8"
            ],
            [
             0.3333333333333333,
             "#9c179e"
            ],
            [
             0.4444444444444444,
             "#bd3786"
            ],
            [
             0.5555555555555556,
             "#d8576b"
            ],
            [
             0.6666666666666666,
             "#ed7953"
            ],
            [
             0.7777777777777778,
             "#fb9f3a"
            ],
            [
             0.8888888888888888,
             "#fdca26"
            ],
            [
             1,
             "#f0f921"
            ]
           ]
          },
          "colorway": [
           "#636efa",
           "#EF553B",
           "#00cc96",
           "#ab63fa",
           "#FFA15A",
           "#19d3f3",
           "#FF6692",
           "#B6E880",
           "#FF97FF",
           "#FECB52"
          ],
          "font": {
           "color": "#2a3f5f"
          },
          "geo": {
           "bgcolor": "white",
           "lakecolor": "white",
           "landcolor": "#E5ECF6",
           "showlakes": true,
           "showland": true,
           "subunitcolor": "white"
          },
          "hoverlabel": {
           "align": "left"
          },
          "hovermode": "closest",
          "mapbox": {
           "style": "light"
          },
          "paper_bgcolor": "white",
          "plot_bgcolor": "#E5ECF6",
          "polar": {
           "angularaxis": {
            "gridcolor": "white",
            "linecolor": "white",
            "ticks": ""
           },
           "bgcolor": "#E5ECF6",
           "radialaxis": {
            "gridcolor": "white",
            "linecolor": "white",
            "ticks": ""
           }
          },
          "scene": {
           "xaxis": {
            "backgroundcolor": "#E5ECF6",
            "gridcolor": "white",
            "gridwidth": 2,
            "linecolor": "white",
            "showbackground": true,
            "ticks": "",
            "zerolinecolor": "white"
           },
           "yaxis": {
            "backgroundcolor": "#E5ECF6",
            "gridcolor": "white",
            "gridwidth": 2,
            "linecolor": "white",
            "showbackground": true,
            "ticks": "",
            "zerolinecolor": "white"
           },
           "zaxis": {
            "backgroundcolor": "#E5ECF6",
            "gridcolor": "white",
            "gridwidth": 2,
            "linecolor": "white",
            "showbackground": true,
            "ticks": "",
            "zerolinecolor": "white"
           }
          },
          "shapedefaults": {
           "line": {
            "color": "#2a3f5f"
           }
          },
          "ternary": {
           "aaxis": {
            "gridcolor": "white",
            "linecolor": "white",
            "ticks": ""
           },
           "baxis": {
            "gridcolor": "white",
            "linecolor": "white",
            "ticks": ""
           },
           "bgcolor": "#E5ECF6",
           "caxis": {
            "gridcolor": "white",
            "linecolor": "white",
            "ticks": ""
           }
          },
          "title": {
           "x": 0.05
          },
          "xaxis": {
           "automargin": true,
           "gridcolor": "white",
           "linecolor": "white",
           "ticks": "",
           "title": {
            "standoff": 15
           },
           "zerolinecolor": "white",
           "zerolinewidth": 2
          },
          "yaxis": {
           "automargin": true,
           "gridcolor": "white",
           "linecolor": "white",
           "ticks": "",
           "title": {
            "standoff": 15
           },
           "zerolinecolor": "white",
           "zerolinewidth": 2
          }
         }
        },
        "title": {
         "text": "XLF"
        },
        "xaxis": {
         "title": {
          "text": "Date"
         }
        },
        "yaxis": {
         "title": {
          "text": "Close"
         }
        }
       }
      },
      "text/html": [
       "<div>                            <div id=\"fc8d9210-bacd-4023-8a68-9190ded8cad2\" class=\"plotly-graph-div\" style=\"height:525px; width:100%;\"></div>            <script type=\"text/javascript\">                require([\"plotly\"], function(Plotly) {                    window.PLOTLYENV=window.PLOTLYENV || {};                                    if (document.getElementById(\"fc8d9210-bacd-4023-8a68-9190ded8cad2\")) {                    Plotly.newPlot(                        \"fc8d9210-bacd-4023-8a68-9190ded8cad2\",                        [{\"mode\":\"lines\",\"name\":\"Data\",\"x\":[\"2022-03-09\",\"2022-03-10\",\"2022-03-11\",\"2022-03-14\",\"2022-03-15\",\"2022-03-16\",\"2022-03-17\",\"2022-03-18\",\"2022-03-21\",\"2022-03-22\",\"2022-03-23\",\"2022-03-24\",\"2022-03-25\",\"2022-03-28\",\"2022-03-29\",\"2022-03-30\",\"2022-03-31\",\"2022-04-01\",\"2022-04-04\",\"2022-04-05\",\"2022-04-06\",\"2022-04-07\",\"2022-04-08\",\"2022-04-11\",\"2022-04-12\",\"2022-04-13\",\"2022-04-14\",\"2022-04-18\",\"2022-04-19\",\"2022-04-20\",\"2022-04-21\",\"2022-04-22\",\"2022-04-25\",\"2022-04-26\",\"2022-04-27\",\"2022-04-28\",\"2022-04-29\",\"2022-05-02\",\"2022-05-03\",\"2022-05-04\",\"2022-05-05\",\"2022-05-06\",\"2022-05-09\",\"2022-05-10\",\"2022-05-11\",\"2022-05-12\",\"2022-05-13\",\"2022-05-16\",\"2022-05-17\",\"2022-05-18\",\"2022-05-19\",\"2022-05-20\"],\"y\":[36.97,36.66,36.4,36.86,37.38,38.43,38.91,39.0,38.81,39.44,38.71,39.02,39.52,39.41,39.5,39.22,38.32,38.22,38.05,37.81,37.55,37.51,37.89,37.72,37.31,37.31,36.89,37.11,37.62,37.88,37.28,36.17,36.23,35.32,35.29,35.74,34.51,34.52,34.97,36.04,34.99,34.74,33.91,33.61,33.3,33.05,33.53,33.25,34.14,33.2,32.98,32.92],\"type\":\"scatter\"},{\"mode\":\"lines\",\"name\":\"Prediction\",\"x\":[\"2022-05-20T00:00:00\",\"2022-05-23T00:00:00\",\"2022-05-24T00:00:00\",\"2022-05-25T00:00:00\",\"2022-05-26T00:00:00\",\"2022-05-27T00:00:00\",\"2022-05-30T00:00:00\",\"2022-06-01T00:00:00\",\"2022-06-02T00:00:00\",\"2022-06-03T00:00:00\",\"2022-06-06T00:00:00\",\"2022-06-07T00:00:00\",\"2022-06-08T00:00:00\",\"2022-06-09T00:00:00\",\"2022-06-10T00:00:00\",\"2022-06-13T00:00:00\",\"2022-06-14T00:00:00\",\"2022-06-15T00:00:00\",\"2022-06-16T00:00:00\",\"2022-06-17T00:00:00\",\"2022-06-20T00:00:00\",\"2022-06-22T00:00:00\",\"2022-06-23T00:00:00\",\"2022-06-24T00:00:00\",\"2022-06-27T00:00:00\",\"2022-06-28T00:00:00\",\"2022-06-29T00:00:00\",\"2022-06-30T00:00:00\",\"2022-07-01T00:00:00\",\"2022-07-04T00:00:00\",\"2022-07-06T00:00:00\",\"2022-07-07T00:00:00\",\"2022-07-08T00:00:00\",\"2022-07-11T00:00:00\",\"2022-07-12T00:00:00\",\"2022-07-13T00:00:00\",\"2022-07-14T00:00:00\",\"2022-07-15T00:00:00\",\"2022-07-18T00:00:00\",\"2022-07-19T00:00:00\",\"2022-07-20T00:00:00\",\"2022-07-21T00:00:00\",\"2022-07-22T00:00:00\",\"2022-07-25T00:00:00\",\"2022-07-26T00:00:00\",\"2022-07-27T00:00:00\",\"2022-07-28T00:00:00\",\"2022-07-29T00:00:00\",\"2022-08-01T00:00:00\",\"2022-08-02T00:00:00\",\"2022-08-03T00:00:00\",\"2022-08-04T00:00:00\"],\"y\":[32.41450500488281,33.060699462890625,33.96961212158203,33.929359436035156,34.17811584472656,34.69525909423828,34.90391159057617,34.891902923583984,34.750980377197266,34.84257888793945,34.67178726196289,34.78152847290039,34.77733612060547,34.575557708740234,34.0986328125,32.75030517578125,31.63309097290039,31.441532135009766,31.653974533081055,30.79395866394043,30.87948989868164,31.429397583007812,31.158397674560547,31.099796295166016,32.014671325683594,32.40034484863281,32.29217529296875,31.836660385131836,31.282554626464844,31.662010192871094,31.527490615844727,31.68683624267578,32.13578414916992,32.17974853515625,31.881649017333984,31.70713233947754,31.232404708862305,30.592273712158203,31.604507446289062,31.968935012817383,32.457672119140625,32.63154983520508,32.76744842529297,32.82661056518555,32.912445068359375,32.63066482543945,32.87803649902344,33.090213775634766,33.585113525390625,33.36107635498047,33.13731002807617,33.48338317871094],\"type\":\"scatter\"},{\"mode\":\"lines\",\"name\":\"Ground Truth\",\"x\":[\"2022-05-20\",\"2022-05-23\",\"2022-05-24\",\"2022-05-25\",\"2022-05-26\",\"2022-05-27\",\"2022-05-31\",\"2022-06-01\",\"2022-06-02\",\"2022-06-03\",\"2022-06-06\",\"2022-06-07\",\"2022-06-08\",\"2022-06-09\",\"2022-06-10\",\"2022-06-13\",\"2022-06-14\",\"2022-06-15\",\"2022-06-16\",\"2022-06-17\",\"2022-06-21\",\"2022-06-22\",\"2022-06-23\",\"2022-06-24\",\"2022-06-27\",\"2022-06-28\",\"2022-06-29\",\"2022-06-30\",\"2022-07-01\",\"2022-07-05\",\"2022-07-06\",\"2022-07-07\",\"2022-07-08\",\"2022-07-11\",\"2022-07-12\",\"2022-07-13\",\"2022-07-14\",\"2022-07-15\",\"2022-07-18\",\"2022-07-19\",\"2022-07-20\",\"2022-07-21\",\"2022-07-22\",\"2022-07-25\",\"2022-07-26\",\"2022-07-27\",\"2022-07-28\",\"2022-07-29\",\"2022-08-01\",\"2022-08-02\",\"2022-08-03\"],\"y\":[32.92,33.99,33.92,34.19,34.98,35.57,35.47,34.9,35.38,34.87,34.97,35.24,34.62,33.75,32.53,31.56,31.29,31.64,30.84,30.93,31.38,31.31,31.19,32.34,32.23,31.91,31.73,31.45,31.88,31.77,31.69,32.15,32.08,31.82,31.62,31.34,30.74,31.78,31.66,32.61,32.73,32.94,32.75,32.96,32.5,33.0,33.24,33.71,33.43,33.06,33.56],\"type\":\"scatter\"}],                        {\"title\":{\"text\":\"XLF\"},\"xaxis\":{\"title\":{\"text\":\"Date\"}},\"yaxis\":{\"title\":{\"text\":\"Close\"}},\"template\":{\"data\":{\"bar\":[{\"error_x\":{\"color\":\"#2a3f5f\"},\"error_y\":{\"color\":\"#2a3f5f\"},\"marker\":{\"line\":{\"color\":\"#E5ECF6\",\"width\":0.5},\"pattern\":{\"fillmode\":\"overlay\",\"size\":10,\"solidity\":0.2}},\"type\":\"bar\"}],\"barpolar\":[{\"marker\":{\"line\":{\"color\":\"#E5ECF6\",\"width\":0.5},\"pattern\":{\"fillmode\":\"overlay\",\"size\":10,\"solidity\":0.2}},\"type\":\"barpolar\"}],\"carpet\":[{\"aaxis\":{\"endlinecolor\":\"#2a3f5f\",\"gridcolor\":\"white\",\"linecolor\":\"white\",\"minorgridcolor\":\"white\",\"startlinecolor\":\"#2a3f5f\"},\"baxis\":{\"endlinecolor\":\"#2a3f5f\",\"gridcolor\":\"white\",\"linecolor\":\"white\",\"minorgridcolor\":\"white\",\"startlinecolor\":\"#2a3f5f\"},\"type\":\"carpet\"}],\"choropleth\":[{\"colorbar\":{\"outlinewidth\":0,\"ticks\":\"\"},\"type\":\"choropleth\"}],\"contour\":[{\"colorbar\":{\"outlinewidth\":0,\"ticks\":\"\"},\"colorscale\":[[0.0,\"#0d0887\"],[0.1111111111111111,\"#46039f\"],[0.2222222222222222,\"#7201a8\"],[0.3333333333333333,\"#9c179e\"],[0.4444444444444444,\"#bd3786\"],[0.5555555555555556,\"#d8576b\"],[0.6666666666666666,\"#ed7953\"],[0.7777777777777778,\"#fb9f3a\"],[0.8888888888888888,\"#fdca26\"],[1.0,\"#f0f921\"]],\"type\":\"contour\"}],\"contourcarpet\":[{\"colorbar\":{\"outlinewidth\":0,\"ticks\":\"\"},\"type\":\"contourcarpet\"}],\"heatmap\":[{\"colorbar\":{\"outlinewidth\":0,\"ticks\":\"\"},\"colorscale\":[[0.0,\"#0d0887\"],[0.1111111111111111,\"#46039f\"],[0.2222222222222222,\"#7201a8\"],[0.3333333333333333,\"#9c179e\"],[0.4444444444444444,\"#bd3786\"],[0.5555555555555556,\"#d8576b\"],[0.6666666666666666,\"#ed7953\"],[0.7777777777777778,\"#fb9f3a\"],[0.8888888888888888,\"#fdca26\"],[1.0,\"#f0f921\"]],\"type\":\"heatmap\"}],\"heatmapgl\":[{\"colorbar\":{\"outlinewidth\":0,\"ticks\":\"\"},\"colorscale\":[[0.0,\"#0d0887\"],[0.1111111111111111,\"#46039f\"],[0.2222222222222222,\"#7201a8\"],[0.3333333333333333,\"#9c179e\"],[0.4444444444444444,\"#bd3786\"],[0.5555555555555556,\"#d8576b\"],[0.6666666666666666,\"#ed7953\"],[0.7777777777777778,\"#fb9f3a\"],[0.8888888888888888,\"#fdca26\"],[1.0,\"#f0f921\"]],\"type\":\"heatmapgl\"}],\"histogram\":[{\"marker\":{\"pattern\":{\"fillmode\":\"overlay\",\"size\":10,\"solidity\":0.2}},\"type\":\"histogram\"}],\"histogram2d\":[{\"colorbar\":{\"outlinewidth\":0,\"ticks\":\"\"},\"colorscale\":[[0.0,\"#0d0887\"],[0.1111111111111111,\"#46039f\"],[0.2222222222222222,\"#7201a8\"],[0.3333333333333333,\"#9c179e\"],[0.4444444444444444,\"#bd3786\"],[0.5555555555555556,\"#d8576b\"],[0.6666666666666666,\"#ed7953\"],[0.7777777777777778,\"#fb9f3a\"],[0.8888888888888888,\"#fdca26\"],[1.0,\"#f0f921\"]],\"type\":\"histogram2d\"}],\"histogram2dcontour\":[{\"colorbar\":{\"outlinewidth\":0,\"ticks\":\"\"},\"colorscale\":[[0.0,\"#0d0887\"],[0.1111111111111111,\"#46039f\"],[0.2222222222222222,\"#7201a8\"],[0.3333333333333333,\"#9c179e\"],[0.4444444444444444,\"#bd3786\"],[0.5555555555555556,\"#d8576b\"],[0.6666666666666666,\"#ed7953\"],[0.7777777777777778,\"#fb9f3a\"],[0.8888888888888888,\"#fdca26\"],[1.0,\"#f0f921\"]],\"type\":\"histogram2dcontour\"}],\"mesh3d\":[{\"colorbar\":{\"outlinewidth\":0,\"ticks\":\"\"},\"type\":\"mesh3d\"}],\"parcoords\":[{\"line\":{\"colorbar\":{\"outlinewidth\":0,\"ticks\":\"\"}},\"type\":\"parcoords\"}],\"pie\":[{\"automargin\":true,\"type\":\"pie\"}],\"scatter\":[{\"marker\":{\"colorbar\":{\"outlinewidth\":0,\"ticks\":\"\"}},\"type\":\"scatter\"}],\"scatter3d\":[{\"line\":{\"colorbar\":{\"outlinewidth\":0,\"ticks\":\"\"}},\"marker\":{\"colorbar\":{\"outlinewidth\":0,\"ticks\":\"\"}},\"type\":\"scatter3d\"}],\"scattercarpet\":[{\"marker\":{\"colorbar\":{\"outlinewidth\":0,\"ticks\":\"\"}},\"type\":\"scattercarpet\"}],\"scattergeo\":[{\"marker\":{\"colorbar\":{\"outlinewidth\":0,\"ticks\":\"\"}},\"type\":\"scattergeo\"}],\"scattergl\":[{\"marker\":{\"colorbar\":{\"outlinewidth\":0,\"ticks\":\"\"}},\"type\":\"scattergl\"}],\"scattermapbox\":[{\"marker\":{\"colorbar\":{\"outlinewidth\":0,\"ticks\":\"\"}},\"type\":\"scattermapbox\"}],\"scatterpolar\":[{\"marker\":{\"colorbar\":{\"outlinewidth\":0,\"ticks\":\"\"}},\"type\":\"scatterpolar\"}],\"scatterpolargl\":[{\"marker\":{\"colorbar\":{\"outlinewidth\":0,\"ticks\":\"\"}},\"type\":\"scatterpolargl\"}],\"scatterternary\":[{\"marker\":{\"colorbar\":{\"outlinewidth\":0,\"ticks\":\"\"}},\"type\":\"scatterternary\"}],\"surface\":[{\"colorbar\":{\"outlinewidth\":0,\"ticks\":\"\"},\"colorscale\":[[0.0,\"#0d0887\"],[0.1111111111111111,\"#46039f\"],[0.2222222222222222,\"#7201a8\"],[0.3333333333333333,\"#9c179e\"],[0.4444444444444444,\"#bd3786\"],[0.5555555555555556,\"#d8576b\"],[0.6666666666666666,\"#ed7953\"],[0.7777777777777778,\"#fb9f3a\"],[0.8888888888888888,\"#fdca26\"],[1.0,\"#f0f921\"]],\"type\":\"surface\"}],\"table\":[{\"cells\":{\"fill\":{\"color\":\"#EBF0F8\"},\"line\":{\"color\":\"white\"}},\"header\":{\"fill\":{\"color\":\"#C8D4E3\"},\"line\":{\"color\":\"white\"}},\"type\":\"table\"}]},\"layout\":{\"annotationdefaults\":{\"arrowcolor\":\"#2a3f5f\",\"arrowhead\":0,\"arrowwidth\":1},\"autotypenumbers\":\"strict\",\"coloraxis\":{\"colorbar\":{\"outlinewidth\":0,\"ticks\":\"\"}},\"colorscale\":{\"diverging\":[[0,\"#8e0152\"],[0.1,\"#c51b7d\"],[0.2,\"#de77ae\"],[0.3,\"#f1b6da\"],[0.4,\"#fde0ef\"],[0.5,\"#f7f7f7\"],[0.6,\"#e6f5d0\"],[0.7,\"#b8e186\"],[0.8,\"#7fbc41\"],[0.9,\"#4d9221\"],[1,\"#276419\"]],\"sequential\":[[0.0,\"#0d0887\"],[0.1111111111111111,\"#46039f\"],[0.2222222222222222,\"#7201a8\"],[0.3333333333333333,\"#9c179e\"],[0.4444444444444444,\"#bd3786\"],[0.5555555555555556,\"#d8576b\"],[0.6666666666666666,\"#ed7953\"],[0.7777777777777778,\"#fb9f3a\"],[0.8888888888888888,\"#fdca26\"],[1.0,\"#f0f921\"]],\"sequentialminus\":[[0.0,\"#0d0887\"],[0.1111111111111111,\"#46039f\"],[0.2222222222222222,\"#7201a8\"],[0.3333333333333333,\"#9c179e\"],[0.4444444444444444,\"#bd3786\"],[0.5555555555555556,\"#d8576b\"],[0.6666666666666666,\"#ed7953\"],[0.7777777777777778,\"#fb9f3a\"],[0.8888888888888888,\"#fdca26\"],[1.0,\"#f0f921\"]]},\"colorway\":[\"#636efa\",\"#EF553B\",\"#00cc96\",\"#ab63fa\",\"#FFA15A\",\"#19d3f3\",\"#FF6692\",\"#B6E880\",\"#FF97FF\",\"#FECB52\"],\"font\":{\"color\":\"#2a3f5f\"},\"geo\":{\"bgcolor\":\"white\",\"lakecolor\":\"white\",\"landcolor\":\"#E5ECF6\",\"showlakes\":true,\"showland\":true,\"subunitcolor\":\"white\"},\"hoverlabel\":{\"align\":\"left\"},\"hovermode\":\"closest\",\"mapbox\":{\"style\":\"light\"},\"paper_bgcolor\":\"white\",\"plot_bgcolor\":\"#E5ECF6\",\"polar\":{\"angularaxis\":{\"gridcolor\":\"white\",\"linecolor\":\"white\",\"ticks\":\"\"},\"bgcolor\":\"#E5ECF6\",\"radialaxis\":{\"gridcolor\":\"white\",\"linecolor\":\"white\",\"ticks\":\"\"}},\"scene\":{\"xaxis\":{\"backgroundcolor\":\"#E5ECF6\",\"gridcolor\":\"white\",\"gridwidth\":2,\"linecolor\":\"white\",\"showbackground\":true,\"ticks\":\"\",\"zerolinecolor\":\"white\"},\"yaxis\":{\"backgroundcolor\":\"#E5ECF6\",\"gridcolor\":\"white\",\"gridwidth\":2,\"linecolor\":\"white\",\"showbackground\":true,\"ticks\":\"\",\"zerolinecolor\":\"white\"},\"zaxis\":{\"backgroundcolor\":\"#E5ECF6\",\"gridcolor\":\"white\",\"gridwidth\":2,\"linecolor\":\"white\",\"showbackground\":true,\"ticks\":\"\",\"zerolinecolor\":\"white\"}},\"shapedefaults\":{\"line\":{\"color\":\"#2a3f5f\"}},\"ternary\":{\"aaxis\":{\"gridcolor\":\"white\",\"linecolor\":\"white\",\"ticks\":\"\"},\"baxis\":{\"gridcolor\":\"white\",\"linecolor\":\"white\",\"ticks\":\"\"},\"bgcolor\":\"#E5ECF6\",\"caxis\":{\"gridcolor\":\"white\",\"linecolor\":\"white\",\"ticks\":\"\"}},\"title\":{\"x\":0.05},\"xaxis\":{\"automargin\":true,\"gridcolor\":\"white\",\"linecolor\":\"white\",\"ticks\":\"\",\"title\":{\"standoff\":15},\"zerolinecolor\":\"white\",\"zerolinewidth\":2},\"yaxis\":{\"automargin\":true,\"gridcolor\":\"white\",\"linecolor\":\"white\",\"ticks\":\"\",\"title\":{\"standoff\":15},\"zerolinecolor\":\"white\",\"zerolinewidth\":2}}}},                        {\"responsive\": true}                    ).then(function(){\n",
       "                            \n",
       "var gd = document.getElementById('fc8d9210-bacd-4023-8a68-9190ded8cad2');\n",
       "var x = new MutationObserver(function (mutations, observer) {{\n",
       "        var display = window.getComputedStyle(gd).display;\n",
       "        if (!display || display === 'none') {{\n",
       "            console.log([gd, 'removed!']);\n",
       "            Plotly.purge(gd);\n",
       "            observer.disconnect();\n",
       "        }}\n",
       "}});\n",
       "\n",
       "// Listen for the removal of the full notebook cells\n",
       "var notebookContainer = gd.closest('#notebook-container');\n",
       "if (notebookContainer) {{\n",
       "    x.observe(notebookContainer, {childList: true});\n",
       "}}\n",
       "\n",
       "// Listen for the clearing of the current output cell\n",
       "var outputEl = gd.closest('.output');\n",
       "if (outputEl) {{\n",
       "    x.observe(outputEl, {childList: true});\n",
       "}}\n",
       "\n",
       "                        })                };                });            </script>        </div>"
      ]
     },
     "metadata": {},
     "output_type": "display_data"
    },
    {
     "data": {
      "application/vnd.plotly.v1+json": {
       "config": {
        "plotlyServerURL": "https://plot.ly"
       },
       "data": [
        {
         "mode": "lines",
         "name": "Data",
         "type": "scatter",
         "x": [
          "2022-03-09",
          "2022-03-10",
          "2022-03-11",
          "2022-03-14",
          "2022-03-15",
          "2022-03-16",
          "2022-03-17",
          "2022-03-18",
          "2022-03-21",
          "2022-03-22",
          "2022-03-23",
          "2022-03-24",
          "2022-03-25",
          "2022-03-28",
          "2022-03-29",
          "2022-03-30",
          "2022-03-31",
          "2022-04-01",
          "2022-04-04",
          "2022-04-05",
          "2022-04-06",
          "2022-04-07",
          "2022-04-08",
          "2022-04-11",
          "2022-04-12",
          "2022-04-13",
          "2022-04-14",
          "2022-04-18",
          "2022-04-19",
          "2022-04-20",
          "2022-04-21",
          "2022-04-22",
          "2022-04-25",
          "2022-04-26",
          "2022-04-27",
          "2022-04-28",
          "2022-04-29",
          "2022-05-02",
          "2022-05-03",
          "2022-05-04",
          "2022-05-05",
          "2022-05-06",
          "2022-05-09",
          "2022-05-10",
          "2022-05-11",
          "2022-05-12",
          "2022-05-13",
          "2022-05-16",
          "2022-05-17",
          "2022-05-18",
          "2022-05-19",
          "2022-05-20"
         ],
         "y": [
          149.25,
          146.64,
          144.06,
          141.39,
          146.14,
          150.89,
          151.96,
          155.07,
          154.49,
          156.71,
          154.3,
          158.31,
          158.22,
          160.1,
          163.5,
          161.32,
          158.93,
          158.46,
          161.47,
          158.07,
          154.33,
          154.57,
          152.41,
          148.57,
          147.91,
          150.29,
          146.64,
          147.12,
          149.88,
          149.74,
          147.2,
          143.08,
          145.23,
          139.82,
          141.89,
          147.57,
          141.42,
          143.57,
          143.82,
          148.87,
          141.71,
          140.57,
          135.13,
          137.19,
          132.86,
          131.49,
          135.86,
          134.66,
          138.56,
          132.22,
          130.77,
          131.06
         ]
        },
        {
         "mode": "lines",
         "name": "Prediction",
         "type": "scatter",
         "x": [
          "2022-05-20T00:00:00",
          "2022-05-23T00:00:00",
          "2022-05-24T00:00:00",
          "2022-05-25T00:00:00",
          "2022-05-26T00:00:00",
          "2022-05-27T00:00:00",
          "2022-05-30T00:00:00",
          "2022-06-01T00:00:00",
          "2022-06-02T00:00:00",
          "2022-06-03T00:00:00",
          "2022-06-06T00:00:00",
          "2022-06-07T00:00:00",
          "2022-06-08T00:00:00",
          "2022-06-09T00:00:00",
          "2022-06-10T00:00:00",
          "2022-06-13T00:00:00",
          "2022-06-14T00:00:00",
          "2022-06-15T00:00:00",
          "2022-06-16T00:00:00",
          "2022-06-17T00:00:00",
          "2022-06-20T00:00:00",
          "2022-06-22T00:00:00",
          "2022-06-23T00:00:00",
          "2022-06-24T00:00:00",
          "2022-06-27T00:00:00",
          "2022-06-28T00:00:00",
          "2022-06-29T00:00:00",
          "2022-06-30T00:00:00",
          "2022-07-01T00:00:00",
          "2022-07-04T00:00:00",
          "2022-07-06T00:00:00",
          "2022-07-07T00:00:00",
          "2022-07-08T00:00:00",
          "2022-07-11T00:00:00",
          "2022-07-12T00:00:00",
          "2022-07-13T00:00:00",
          "2022-07-14T00:00:00",
          "2022-07-15T00:00:00",
          "2022-07-18T00:00:00",
          "2022-07-19T00:00:00",
          "2022-07-20T00:00:00",
          "2022-07-21T00:00:00",
          "2022-07-22T00:00:00",
          "2022-07-25T00:00:00",
          "2022-07-26T00:00:00",
          "2022-07-27T00:00:00",
          "2022-07-28T00:00:00",
          "2022-07-29T00:00:00",
          "2022-08-01T00:00:00",
          "2022-08-02T00:00:00",
          "2022-08-03T00:00:00",
          "2022-08-04T00:00:00"
         ],
         "y": [
          130.05433654785156,
          130.95469665527344,
          134.016845703125,
          131.99969482421875,
          133.69009399414062,
          136.7918701171875,
          141.8119659423828,
          140.74835205078125,
          140.77578735351562,
          143.6657257080078,
          140.1307830810547,
          140.67916870117188,
          141.96620178222656,
          140.3978271484375,
          136.67959594726562,
          131.44427490234375,
          126.04393768310547,
          126.5663070678711,
          129.1190185546875,
          124.64106750488281,
          125.42015838623047,
          128.0542755126953,
          127.52025604248047,
          129.2576446533203,
          133.6260986328125,
          132.7891082763672,
          129.56790161132812,
          129.353515625,
          127.69393920898438,
          127.91632843017578,
          129.46510314941406,
          130.68569946289062,
          133.08697509765625,
          133.06532287597656,
          131.49021911621094,
          129.96755981445312,
          129.39938354492188,
          130.5013885498047,
          132.67955017089844,
          131.69491577148438,
          135.05670166015625,
          137.12142944335938,
          138.86180114746094,
          137.12876892089844,
          136.0202178955078,
          134.1156768798828,
          140.24961853027344,
          142.19627380371094,
          144.4890594482422,
          144.3378143310547,
          143.37538146972656,
          146.64358520507812
         ]
        },
        {
         "mode": "lines",
         "name": "Ground Truth",
         "type": "scatter",
         "x": [
          "2022-05-20",
          "2022-05-23",
          "2022-05-24",
          "2022-05-25",
          "2022-05-26",
          "2022-05-27",
          "2022-05-31",
          "2022-06-01",
          "2022-06-02",
          "2022-06-03",
          "2022-06-06",
          "2022-06-07",
          "2022-06-08",
          "2022-06-09",
          "2022-06-10",
          "2022-06-13",
          "2022-06-14",
          "2022-06-15",
          "2022-06-16",
          "2022-06-17",
          "2022-06-21",
          "2022-06-22",
          "2022-06-23",
          "2022-06-24",
          "2022-06-27",
          "2022-06-28",
          "2022-06-29",
          "2022-06-30",
          "2022-07-01",
          "2022-07-05",
          "2022-07-06",
          "2022-07-07",
          "2022-07-08",
          "2022-07-11",
          "2022-07-12",
          "2022-07-13",
          "2022-07-14",
          "2022-07-15",
          "2022-07-18",
          "2022-07-19",
          "2022-07-20",
          "2022-07-21",
          "2022-07-22",
          "2022-07-25",
          "2022-07-26",
          "2022-07-27",
          "2022-07-28",
          "2022-07-29",
          "2022-08-01",
          "2022-08-02",
          "2022-08-03"
         ],
         "y": [
          131.06,
          134.07,
          132.08,
          133.62,
          136.83,
          141.46,
          140.45,
          140.03,
          143.42,
          139.99,
          140,
          141.67,
          140.07,
          136.33,
          131.09,
          125.28,
          126.07,
          128.73,
          123.49,
          124.62,
          127.46,
          126.92,
          128.82,
          133.45,
          132.55,
          128.58,
          128.84,
          127.12,
          127.41,
          129.01,
          130.12,
          132.81,
          132.87,
          131.04,
          129.25,
          128.91,
          130.09,
          132.38,
          131.1,
          135.1,
          137.21,
          139.14,
          137.22,
          136.35,
          134.14,
          139.91,
          142.04,
          144.22,
          143.91,
          142.89,
          146.69
         ]
        }
       ],
       "layout": {
        "template": {
         "data": {
          "bar": [
           {
            "error_x": {
             "color": "#2a3f5f"
            },
            "error_y": {
             "color": "#2a3f5f"
            },
            "marker": {
             "line": {
              "color": "#E5ECF6",
              "width": 0.5
             },
             "pattern": {
              "fillmode": "overlay",
              "size": 10,
              "solidity": 0.2
             }
            },
            "type": "bar"
           }
          ],
          "barpolar": [
           {
            "marker": {
             "line": {
              "color": "#E5ECF6",
              "width": 0.5
             },
             "pattern": {
              "fillmode": "overlay",
              "size": 10,
              "solidity": 0.2
             }
            },
            "type": "barpolar"
           }
          ],
          "carpet": [
           {
            "aaxis": {
             "endlinecolor": "#2a3f5f",
             "gridcolor": "white",
             "linecolor": "white",
             "minorgridcolor": "white",
             "startlinecolor": "#2a3f5f"
            },
            "baxis": {
             "endlinecolor": "#2a3f5f",
             "gridcolor": "white",
             "linecolor": "white",
             "minorgridcolor": "white",
             "startlinecolor": "#2a3f5f"
            },
            "type": "carpet"
           }
          ],
          "choropleth": [
           {
            "colorbar": {
             "outlinewidth": 0,
             "ticks": ""
            },
            "type": "choropleth"
           }
          ],
          "contour": [
           {
            "colorbar": {
             "outlinewidth": 0,
             "ticks": ""
            },
            "colorscale": [
             [
              0,
              "#0d0887"
             ],
             [
              0.1111111111111111,
              "#46039f"
             ],
             [
              0.2222222222222222,
              "#7201a8"
             ],
             [
              0.3333333333333333,
              "#9c179e"
             ],
             [
              0.4444444444444444,
              "#bd3786"
             ],
             [
              0.5555555555555556,
              "#d8576b"
             ],
             [
              0.6666666666666666,
              "#ed7953"
             ],
             [
              0.7777777777777778,
              "#fb9f3a"
             ],
             [
              0.8888888888888888,
              "#fdca26"
             ],
             [
              1,
              "#f0f921"
             ]
            ],
            "type": "contour"
           }
          ],
          "contourcarpet": [
           {
            "colorbar": {
             "outlinewidth": 0,
             "ticks": ""
            },
            "type": "contourcarpet"
           }
          ],
          "heatmap": [
           {
            "colorbar": {
             "outlinewidth": 0,
             "ticks": ""
            },
            "colorscale": [
             [
              0,
              "#0d0887"
             ],
             [
              0.1111111111111111,
              "#46039f"
             ],
             [
              0.2222222222222222,
              "#7201a8"
             ],
             [
              0.3333333333333333,
              "#9c179e"
             ],
             [
              0.4444444444444444,
              "#bd3786"
             ],
             [
              0.5555555555555556,
              "#d8576b"
             ],
             [
              0.6666666666666666,
              "#ed7953"
             ],
             [
              0.7777777777777778,
              "#fb9f3a"
             ],
             [
              0.8888888888888888,
              "#fdca26"
             ],
             [
              1,
              "#f0f921"
             ]
            ],
            "type": "heatmap"
           }
          ],
          "heatmapgl": [
           {
            "colorbar": {
             "outlinewidth": 0,
             "ticks": ""
            },
            "colorscale": [
             [
              0,
              "#0d0887"
             ],
             [
              0.1111111111111111,
              "#46039f"
             ],
             [
              0.2222222222222222,
              "#7201a8"
             ],
             [
              0.3333333333333333,
              "#9c179e"
             ],
             [
              0.4444444444444444,
              "#bd3786"
             ],
             [
              0.5555555555555556,
              "#d8576b"
             ],
             [
              0.6666666666666666,
              "#ed7953"
             ],
             [
              0.7777777777777778,
              "#fb9f3a"
             ],
             [
              0.8888888888888888,
              "#fdca26"
             ],
             [
              1,
              "#f0f921"
             ]
            ],
            "type": "heatmapgl"
           }
          ],
          "histogram": [
           {
            "marker": {
             "pattern": {
              "fillmode": "overlay",
              "size": 10,
              "solidity": 0.2
             }
            },
            "type": "histogram"
           }
          ],
          "histogram2d": [
           {
            "colorbar": {
             "outlinewidth": 0,
             "ticks": ""
            },
            "colorscale": [
             [
              0,
              "#0d0887"
             ],
             [
              0.1111111111111111,
              "#46039f"
             ],
             [
              0.2222222222222222,
              "#7201a8"
             ],
             [
              0.3333333333333333,
              "#9c179e"
             ],
             [
              0.4444444444444444,
              "#bd3786"
             ],
             [
              0.5555555555555556,
              "#d8576b"
             ],
             [
              0.6666666666666666,
              "#ed7953"
             ],
             [
              0.7777777777777778,
              "#fb9f3a"
             ],
             [
              0.8888888888888888,
              "#fdca26"
             ],
             [
              1,
              "#f0f921"
             ]
            ],
            "type": "histogram2d"
           }
          ],
          "histogram2dcontour": [
           {
            "colorbar": {
             "outlinewidth": 0,
             "ticks": ""
            },
            "colorscale": [
             [
              0,
              "#0d0887"
             ],
             [
              0.1111111111111111,
              "#46039f"
             ],
             [
              0.2222222222222222,
              "#7201a8"
             ],
             [
              0.3333333333333333,
              "#9c179e"
             ],
             [
              0.4444444444444444,
              "#bd3786"
             ],
             [
              0.5555555555555556,
              "#d8576b"
             ],
             [
              0.6666666666666666,
              "#ed7953"
             ],
             [
              0.7777777777777778,
              "#fb9f3a"
             ],
             [
              0.8888888888888888,
              "#fdca26"
             ],
             [
              1,
              "#f0f921"
             ]
            ],
            "type": "histogram2dcontour"
           }
          ],
          "mesh3d": [
           {
            "colorbar": {
             "outlinewidth": 0,
             "ticks": ""
            },
            "type": "mesh3d"
           }
          ],
          "parcoords": [
           {
            "line": {
             "colorbar": {
              "outlinewidth": 0,
              "ticks": ""
             }
            },
            "type": "parcoords"
           }
          ],
          "pie": [
           {
            "automargin": true,
            "type": "pie"
           }
          ],
          "scatter": [
           {
            "marker": {
             "colorbar": {
              "outlinewidth": 0,
              "ticks": ""
             }
            },
            "type": "scatter"
           }
          ],
          "scatter3d": [
           {
            "line": {
             "colorbar": {
              "outlinewidth": 0,
              "ticks": ""
             }
            },
            "marker": {
             "colorbar": {
              "outlinewidth": 0,
              "ticks": ""
             }
            },
            "type": "scatter3d"
           }
          ],
          "scattercarpet": [
           {
            "marker": {
             "colorbar": {
              "outlinewidth": 0,
              "ticks": ""
             }
            },
            "type": "scattercarpet"
           }
          ],
          "scattergeo": [
           {
            "marker": {
             "colorbar": {
              "outlinewidth": 0,
              "ticks": ""
             }
            },
            "type": "scattergeo"
           }
          ],
          "scattergl": [
           {
            "marker": {
             "colorbar": {
              "outlinewidth": 0,
              "ticks": ""
             }
            },
            "type": "scattergl"
           }
          ],
          "scattermapbox": [
           {
            "marker": {
             "colorbar": {
              "outlinewidth": 0,
              "ticks": ""
             }
            },
            "type": "scattermapbox"
           }
          ],
          "scatterpolar": [
           {
            "marker": {
             "colorbar": {
              "outlinewidth": 0,
              "ticks": ""
             }
            },
            "type": "scatterpolar"
           }
          ],
          "scatterpolargl": [
           {
            "marker": {
             "colorbar": {
              "outlinewidth": 0,
              "ticks": ""
             }
            },
            "type": "scatterpolargl"
           }
          ],
          "scatterternary": [
           {
            "marker": {
             "colorbar": {
              "outlinewidth": 0,
              "ticks": ""
             }
            },
            "type": "scatterternary"
           }
          ],
          "surface": [
           {
            "colorbar": {
             "outlinewidth": 0,
             "ticks": ""
            },
            "colorscale": [
             [
              0,
              "#0d0887"
             ],
             [
              0.1111111111111111,
              "#46039f"
             ],
             [
              0.2222222222222222,
              "#7201a8"
             ],
             [
              0.3333333333333333,
              "#9c179e"
             ],
             [
              0.4444444444444444,
              "#bd3786"
             ],
             [
              0.5555555555555556,
              "#d8576b"
             ],
             [
              0.6666666666666666,
              "#ed7953"
             ],
             [
              0.7777777777777778,
              "#fb9f3a"
             ],
             [
              0.8888888888888888,
              "#fdca26"
             ],
             [
              1,
              "#f0f921"
             ]
            ],
            "type": "surface"
           }
          ],
          "table": [
           {
            "cells": {
             "fill": {
              "color": "#EBF0F8"
             },
             "line": {
              "color": "white"
             }
            },
            "header": {
             "fill": {
              "color": "#C8D4E3"
             },
             "line": {
              "color": "white"
             }
            },
            "type": "table"
           }
          ]
         },
         "layout": {
          "annotationdefaults": {
           "arrowcolor": "#2a3f5f",
           "arrowhead": 0,
           "arrowwidth": 1
          },
          "autotypenumbers": "strict",
          "coloraxis": {
           "colorbar": {
            "outlinewidth": 0,
            "ticks": ""
           }
          },
          "colorscale": {
           "diverging": [
            [
             0,
             "#8e0152"
            ],
            [
             0.1,
             "#c51b7d"
            ],
            [
             0.2,
             "#de77ae"
            ],
            [
             0.3,
             "#f1b6da"
            ],
            [
             0.4,
             "#fde0ef"
            ],
            [
             0.5,
             "#f7f7f7"
            ],
            [
             0.6,
             "#e6f5d0"
            ],
            [
             0.7,
             "#b8e186"
            ],
            [
             0.8,
             "#7fbc41"
            ],
            [
             0.9,
             "#4d9221"
            ],
            [
             1,
             "#276419"
            ]
           ],
           "sequential": [
            [
             0,
             "#0d0887"
            ],
            [
             0.1111111111111111,
             "#46039f"
            ],
            [
             0.2222222222222222,
             "#7201a8"
            ],
            [
             0.3333333333333333,
             "#9c179e"
            ],
            [
             0.4444444444444444,
             "#bd3786"
            ],
            [
             0.5555555555555556,
             "#d8576b"
            ],
            [
             0.6666666666666666,
             "#ed7953"
            ],
            [
             0.7777777777777778,
             "#fb9f3a"
            ],
            [
             0.8888888888888888,
             "#fdca26"
            ],
            [
             1,
             "#f0f921"
            ]
           ],
           "sequentialminus": [
            [
             0,
             "#0d0887"
            ],
            [
             0.1111111111111111,
             "#46039f"
            ],
            [
             0.2222222222222222,
             "#7201a8"
            ],
            [
             0.3333333333333333,
             "#9c179e"
            ],
            [
             0.4444444444444444,
             "#bd3786"
            ],
            [
             0.5555555555555556,
             "#d8576b"
            ],
            [
             0.6666666666666666,
             "#ed7953"
            ],
            [
             0.7777777777777778,
             "#fb9f3a"
            ],
            [
             0.8888888888888888,
             "#fdca26"
            ],
            [
             1,
             "#f0f921"
            ]
           ]
          },
          "colorway": [
           "#636efa",
           "#EF553B",
           "#00cc96",
           "#ab63fa",
           "#FFA15A",
           "#19d3f3",
           "#FF6692",
           "#B6E880",
           "#FF97FF",
           "#FECB52"
          ],
          "font": {
           "color": "#2a3f5f"
          },
          "geo": {
           "bgcolor": "white",
           "lakecolor": "white",
           "landcolor": "#E5ECF6",
           "showlakes": true,
           "showland": true,
           "subunitcolor": "white"
          },
          "hoverlabel": {
           "align": "left"
          },
          "hovermode": "closest",
          "mapbox": {
           "style": "light"
          },
          "paper_bgcolor": "white",
          "plot_bgcolor": "#E5ECF6",
          "polar": {
           "angularaxis": {
            "gridcolor": "white",
            "linecolor": "white",
            "ticks": ""
           },
           "bgcolor": "#E5ECF6",
           "radialaxis": {
            "gridcolor": "white",
            "linecolor": "white",
            "ticks": ""
           }
          },
          "scene": {
           "xaxis": {
            "backgroundcolor": "#E5ECF6",
            "gridcolor": "white",
            "gridwidth": 2,
            "linecolor": "white",
            "showbackground": true,
            "ticks": "",
            "zerolinecolor": "white"
           },
           "yaxis": {
            "backgroundcolor": "#E5ECF6",
            "gridcolor": "white",
            "gridwidth": 2,
            "linecolor": "white",
            "showbackground": true,
            "ticks": "",
            "zerolinecolor": "white"
           },
           "zaxis": {
            "backgroundcolor": "#E5ECF6",
            "gridcolor": "white",
            "gridwidth": 2,
            "linecolor": "white",
            "showbackground": true,
            "ticks": "",
            "zerolinecolor": "white"
           }
          },
          "shapedefaults": {
           "line": {
            "color": "#2a3f5f"
           }
          },
          "ternary": {
           "aaxis": {
            "gridcolor": "white",
            "linecolor": "white",
            "ticks": ""
           },
           "baxis": {
            "gridcolor": "white",
            "linecolor": "white",
            "ticks": ""
           },
           "bgcolor": "#E5ECF6",
           "caxis": {
            "gridcolor": "white",
            "linecolor": "white",
            "ticks": ""
           }
          },
          "title": {
           "x": 0.05
          },
          "xaxis": {
           "automargin": true,
           "gridcolor": "white",
           "linecolor": "white",
           "ticks": "",
           "title": {
            "standoff": 15
           },
           "zerolinecolor": "white",
           "zerolinewidth": 2
          },
          "yaxis": {
           "automargin": true,
           "gridcolor": "white",
           "linecolor": "white",
           "ticks": "",
           "title": {
            "standoff": 15
           },
           "zerolinecolor": "white",
           "zerolinewidth": 2
          }
         }
        },
        "title": {
         "text": "XLK"
        },
        "xaxis": {
         "title": {
          "text": "Date"
         }
        },
        "yaxis": {
         "title": {
          "text": "Close"
         }
        }
       }
      },
      "text/html": [
       "<div>                            <div id=\"908fd61f-6471-4056-b1f7-19f977e53f8f\" class=\"plotly-graph-div\" style=\"height:525px; width:100%;\"></div>            <script type=\"text/javascript\">                require([\"plotly\"], function(Plotly) {                    window.PLOTLYENV=window.PLOTLYENV || {};                                    if (document.getElementById(\"908fd61f-6471-4056-b1f7-19f977e53f8f\")) {                    Plotly.newPlot(                        \"908fd61f-6471-4056-b1f7-19f977e53f8f\",                        [{\"mode\":\"lines\",\"name\":\"Data\",\"x\":[\"2022-03-09\",\"2022-03-10\",\"2022-03-11\",\"2022-03-14\",\"2022-03-15\",\"2022-03-16\",\"2022-03-17\",\"2022-03-18\",\"2022-03-21\",\"2022-03-22\",\"2022-03-23\",\"2022-03-24\",\"2022-03-25\",\"2022-03-28\",\"2022-03-29\",\"2022-03-30\",\"2022-03-31\",\"2022-04-01\",\"2022-04-04\",\"2022-04-05\",\"2022-04-06\",\"2022-04-07\",\"2022-04-08\",\"2022-04-11\",\"2022-04-12\",\"2022-04-13\",\"2022-04-14\",\"2022-04-18\",\"2022-04-19\",\"2022-04-20\",\"2022-04-21\",\"2022-04-22\",\"2022-04-25\",\"2022-04-26\",\"2022-04-27\",\"2022-04-28\",\"2022-04-29\",\"2022-05-02\",\"2022-05-03\",\"2022-05-04\",\"2022-05-05\",\"2022-05-06\",\"2022-05-09\",\"2022-05-10\",\"2022-05-11\",\"2022-05-12\",\"2022-05-13\",\"2022-05-16\",\"2022-05-17\",\"2022-05-18\",\"2022-05-19\",\"2022-05-20\"],\"y\":[149.25,146.64,144.06,141.39,146.14,150.89,151.96,155.07,154.49,156.71,154.3,158.31,158.22,160.1,163.5,161.32,158.93,158.46,161.47,158.07,154.33,154.57,152.41,148.57,147.91,150.29,146.64,147.12,149.88,149.74,147.2,143.08,145.23,139.82,141.89,147.57,141.42,143.57,143.82,148.87,141.71,140.57,135.13,137.19,132.86,131.49,135.86,134.66,138.56,132.22,130.77,131.06],\"type\":\"scatter\"},{\"mode\":\"lines\",\"name\":\"Prediction\",\"x\":[\"2022-05-20T00:00:00\",\"2022-05-23T00:00:00\",\"2022-05-24T00:00:00\",\"2022-05-25T00:00:00\",\"2022-05-26T00:00:00\",\"2022-05-27T00:00:00\",\"2022-05-30T00:00:00\",\"2022-06-01T00:00:00\",\"2022-06-02T00:00:00\",\"2022-06-03T00:00:00\",\"2022-06-06T00:00:00\",\"2022-06-07T00:00:00\",\"2022-06-08T00:00:00\",\"2022-06-09T00:00:00\",\"2022-06-10T00:00:00\",\"2022-06-13T00:00:00\",\"2022-06-14T00:00:00\",\"2022-06-15T00:00:00\",\"2022-06-16T00:00:00\",\"2022-06-17T00:00:00\",\"2022-06-20T00:00:00\",\"2022-06-22T00:00:00\",\"2022-06-23T00:00:00\",\"2022-06-24T00:00:00\",\"2022-06-27T00:00:00\",\"2022-06-28T00:00:00\",\"2022-06-29T00:00:00\",\"2022-06-30T00:00:00\",\"2022-07-01T00:00:00\",\"2022-07-04T00:00:00\",\"2022-07-06T00:00:00\",\"2022-07-07T00:00:00\",\"2022-07-08T00:00:00\",\"2022-07-11T00:00:00\",\"2022-07-12T00:00:00\",\"2022-07-13T00:00:00\",\"2022-07-14T00:00:00\",\"2022-07-15T00:00:00\",\"2022-07-18T00:00:00\",\"2022-07-19T00:00:00\",\"2022-07-20T00:00:00\",\"2022-07-21T00:00:00\",\"2022-07-22T00:00:00\",\"2022-07-25T00:00:00\",\"2022-07-26T00:00:00\",\"2022-07-27T00:00:00\",\"2022-07-28T00:00:00\",\"2022-07-29T00:00:00\",\"2022-08-01T00:00:00\",\"2022-08-02T00:00:00\",\"2022-08-03T00:00:00\",\"2022-08-04T00:00:00\"],\"y\":[130.05433654785156,130.95469665527344,134.016845703125,131.99969482421875,133.69009399414062,136.7918701171875,141.8119659423828,140.74835205078125,140.77578735351562,143.6657257080078,140.1307830810547,140.67916870117188,141.96620178222656,140.3978271484375,136.67959594726562,131.44427490234375,126.04393768310547,126.5663070678711,129.1190185546875,124.64106750488281,125.42015838623047,128.0542755126953,127.52025604248047,129.2576446533203,133.6260986328125,132.7891082763672,129.56790161132812,129.353515625,127.69393920898438,127.91632843017578,129.46510314941406,130.68569946289062,133.08697509765625,133.06532287597656,131.49021911621094,129.96755981445312,129.39938354492188,130.5013885498047,132.67955017089844,131.69491577148438,135.05670166015625,137.12142944335938,138.86180114746094,137.12876892089844,136.0202178955078,134.1156768798828,140.24961853027344,142.19627380371094,144.4890594482422,144.3378143310547,143.37538146972656,146.64358520507812],\"type\":\"scatter\"},{\"mode\":\"lines\",\"name\":\"Ground Truth\",\"x\":[\"2022-05-20\",\"2022-05-23\",\"2022-05-24\",\"2022-05-25\",\"2022-05-26\",\"2022-05-27\",\"2022-05-31\",\"2022-06-01\",\"2022-06-02\",\"2022-06-03\",\"2022-06-06\",\"2022-06-07\",\"2022-06-08\",\"2022-06-09\",\"2022-06-10\",\"2022-06-13\",\"2022-06-14\",\"2022-06-15\",\"2022-06-16\",\"2022-06-17\",\"2022-06-21\",\"2022-06-22\",\"2022-06-23\",\"2022-06-24\",\"2022-06-27\",\"2022-06-28\",\"2022-06-29\",\"2022-06-30\",\"2022-07-01\",\"2022-07-05\",\"2022-07-06\",\"2022-07-07\",\"2022-07-08\",\"2022-07-11\",\"2022-07-12\",\"2022-07-13\",\"2022-07-14\",\"2022-07-15\",\"2022-07-18\",\"2022-07-19\",\"2022-07-20\",\"2022-07-21\",\"2022-07-22\",\"2022-07-25\",\"2022-07-26\",\"2022-07-27\",\"2022-07-28\",\"2022-07-29\",\"2022-08-01\",\"2022-08-02\",\"2022-08-03\"],\"y\":[131.06,134.07,132.08,133.62,136.83,141.46,140.45,140.03,143.42,139.99,140.0,141.67,140.07,136.33,131.09,125.28,126.07,128.73,123.49,124.62,127.46,126.92,128.82,133.45,132.55,128.58,128.84,127.12,127.41,129.01,130.12,132.81,132.87,131.04,129.25,128.91,130.09,132.38,131.1,135.1,137.21,139.14,137.22,136.35,134.14,139.91,142.04,144.22,143.91,142.89,146.69],\"type\":\"scatter\"}],                        {\"title\":{\"text\":\"XLK\"},\"xaxis\":{\"title\":{\"text\":\"Date\"}},\"yaxis\":{\"title\":{\"text\":\"Close\"}},\"template\":{\"data\":{\"bar\":[{\"error_x\":{\"color\":\"#2a3f5f\"},\"error_y\":{\"color\":\"#2a3f5f\"},\"marker\":{\"line\":{\"color\":\"#E5ECF6\",\"width\":0.5},\"pattern\":{\"fillmode\":\"overlay\",\"size\":10,\"solidity\":0.2}},\"type\":\"bar\"}],\"barpolar\":[{\"marker\":{\"line\":{\"color\":\"#E5ECF6\",\"width\":0.5},\"pattern\":{\"fillmode\":\"overlay\",\"size\":10,\"solidity\":0.2}},\"type\":\"barpolar\"}],\"carpet\":[{\"aaxis\":{\"endlinecolor\":\"#2a3f5f\",\"gridcolor\":\"white\",\"linecolor\":\"white\",\"minorgridcolor\":\"white\",\"startlinecolor\":\"#2a3f5f\"},\"baxis\":{\"endlinecolor\":\"#2a3f5f\",\"gridcolor\":\"white\",\"linecolor\":\"white\",\"minorgridcolor\":\"white\",\"startlinecolor\":\"#2a3f5f\"},\"type\":\"carpet\"}],\"choropleth\":[{\"colorbar\":{\"outlinewidth\":0,\"ticks\":\"\"},\"type\":\"choropleth\"}],\"contour\":[{\"colorbar\":{\"outlinewidth\":0,\"ticks\":\"\"},\"colorscale\":[[0.0,\"#0d0887\"],[0.1111111111111111,\"#46039f\"],[0.2222222222222222,\"#7201a8\"],[0.3333333333333333,\"#9c179e\"],[0.4444444444444444,\"#bd3786\"],[0.5555555555555556,\"#d8576b\"],[0.6666666666666666,\"#ed7953\"],[0.7777777777777778,\"#fb9f3a\"],[0.8888888888888888,\"#fdca26\"],[1.0,\"#f0f921\"]],\"type\":\"contour\"}],\"contourcarpet\":[{\"colorbar\":{\"outlinewidth\":0,\"ticks\":\"\"},\"type\":\"contourcarpet\"}],\"heatmap\":[{\"colorbar\":{\"outlinewidth\":0,\"ticks\":\"\"},\"colorscale\":[[0.0,\"#0d0887\"],[0.1111111111111111,\"#46039f\"],[0.2222222222222222,\"#7201a8\"],[0.3333333333333333,\"#9c179e\"],[0.4444444444444444,\"#bd3786\"],[0.5555555555555556,\"#d8576b\"],[0.6666666666666666,\"#ed7953\"],[0.7777777777777778,\"#fb9f3a\"],[0.8888888888888888,\"#fdca26\"],[1.0,\"#f0f921\"]],\"type\":\"heatmap\"}],\"heatmapgl\":[{\"colorbar\":{\"outlinewidth\":0,\"ticks\":\"\"},\"colorscale\":[[0.0,\"#0d0887\"],[0.1111111111111111,\"#46039f\"],[0.2222222222222222,\"#7201a8\"],[0.3333333333333333,\"#9c179e\"],[0.4444444444444444,\"#bd3786\"],[0.5555555555555556,\"#d8576b\"],[0.6666666666666666,\"#ed7953\"],[0.7777777777777778,\"#fb9f3a\"],[0.8888888888888888,\"#fdca26\"],[1.0,\"#f0f921\"]],\"type\":\"heatmapgl\"}],\"histogram\":[{\"marker\":{\"pattern\":{\"fillmode\":\"overlay\",\"size\":10,\"solidity\":0.2}},\"type\":\"histogram\"}],\"histogram2d\":[{\"colorbar\":{\"outlinewidth\":0,\"ticks\":\"\"},\"colorscale\":[[0.0,\"#0d0887\"],[0.1111111111111111,\"#46039f\"],[0.2222222222222222,\"#7201a8\"],[0.3333333333333333,\"#9c179e\"],[0.4444444444444444,\"#bd3786\"],[0.5555555555555556,\"#d8576b\"],[0.6666666666666666,\"#ed7953\"],[0.7777777777777778,\"#fb9f3a\"],[0.8888888888888888,\"#fdca26\"],[1.0,\"#f0f921\"]],\"type\":\"histogram2d\"}],\"histogram2dcontour\":[{\"colorbar\":{\"outlinewidth\":0,\"ticks\":\"\"},\"colorscale\":[[0.0,\"#0d0887\"],[0.1111111111111111,\"#46039f\"],[0.2222222222222222,\"#7201a8\"],[0.3333333333333333,\"#9c179e\"],[0.4444444444444444,\"#bd3786\"],[0.5555555555555556,\"#d8576b\"],[0.6666666666666666,\"#ed7953\"],[0.7777777777777778,\"#fb9f3a\"],[0.8888888888888888,\"#fdca26\"],[1.0,\"#f0f921\"]],\"type\":\"histogram2dcontour\"}],\"mesh3d\":[{\"colorbar\":{\"outlinewidth\":0,\"ticks\":\"\"},\"type\":\"mesh3d\"}],\"parcoords\":[{\"line\":{\"colorbar\":{\"outlinewidth\":0,\"ticks\":\"\"}},\"type\":\"parcoords\"}],\"pie\":[{\"automargin\":true,\"type\":\"pie\"}],\"scatter\":[{\"marker\":{\"colorbar\":{\"outlinewidth\":0,\"ticks\":\"\"}},\"type\":\"scatter\"}],\"scatter3d\":[{\"line\":{\"colorbar\":{\"outlinewidth\":0,\"ticks\":\"\"}},\"marker\":{\"colorbar\":{\"outlinewidth\":0,\"ticks\":\"\"}},\"type\":\"scatter3d\"}],\"scattercarpet\":[{\"marker\":{\"colorbar\":{\"outlinewidth\":0,\"ticks\":\"\"}},\"type\":\"scattercarpet\"}],\"scattergeo\":[{\"marker\":{\"colorbar\":{\"outlinewidth\":0,\"ticks\":\"\"}},\"type\":\"scattergeo\"}],\"scattergl\":[{\"marker\":{\"colorbar\":{\"outlinewidth\":0,\"ticks\":\"\"}},\"type\":\"scattergl\"}],\"scattermapbox\":[{\"marker\":{\"colorbar\":{\"outlinewidth\":0,\"ticks\":\"\"}},\"type\":\"scattermapbox\"}],\"scatterpolar\":[{\"marker\":{\"colorbar\":{\"outlinewidth\":0,\"ticks\":\"\"}},\"type\":\"scatterpolar\"}],\"scatterpolargl\":[{\"marker\":{\"colorbar\":{\"outlinewidth\":0,\"ticks\":\"\"}},\"type\":\"scatterpolargl\"}],\"scatterternary\":[{\"marker\":{\"colorbar\":{\"outlinewidth\":0,\"ticks\":\"\"}},\"type\":\"scatterternary\"}],\"surface\":[{\"colorbar\":{\"outlinewidth\":0,\"ticks\":\"\"},\"colorscale\":[[0.0,\"#0d0887\"],[0.1111111111111111,\"#46039f\"],[0.2222222222222222,\"#7201a8\"],[0.3333333333333333,\"#9c179e\"],[0.4444444444444444,\"#bd3786\"],[0.5555555555555556,\"#d8576b\"],[0.6666666666666666,\"#ed7953\"],[0.7777777777777778,\"#fb9f3a\"],[0.8888888888888888,\"#fdca26\"],[1.0,\"#f0f921\"]],\"type\":\"surface\"}],\"table\":[{\"cells\":{\"fill\":{\"color\":\"#EBF0F8\"},\"line\":{\"color\":\"white\"}},\"header\":{\"fill\":{\"color\":\"#C8D4E3\"},\"line\":{\"color\":\"white\"}},\"type\":\"table\"}]},\"layout\":{\"annotationdefaults\":{\"arrowcolor\":\"#2a3f5f\",\"arrowhead\":0,\"arrowwidth\":1},\"autotypenumbers\":\"strict\",\"coloraxis\":{\"colorbar\":{\"outlinewidth\":0,\"ticks\":\"\"}},\"colorscale\":{\"diverging\":[[0,\"#8e0152\"],[0.1,\"#c51b7d\"],[0.2,\"#de77ae\"],[0.3,\"#f1b6da\"],[0.4,\"#fde0ef\"],[0.5,\"#f7f7f7\"],[0.6,\"#e6f5d0\"],[0.7,\"#b8e186\"],[0.8,\"#7fbc41\"],[0.9,\"#4d9221\"],[1,\"#276419\"]],\"sequential\":[[0.0,\"#0d0887\"],[0.1111111111111111,\"#46039f\"],[0.2222222222222222,\"#7201a8\"],[0.3333333333333333,\"#9c179e\"],[0.4444444444444444,\"#bd3786\"],[0.5555555555555556,\"#d8576b\"],[0.6666666666666666,\"#ed7953\"],[0.7777777777777778,\"#fb9f3a\"],[0.8888888888888888,\"#fdca26\"],[1.0,\"#f0f921\"]],\"sequentialminus\":[[0.0,\"#0d0887\"],[0.1111111111111111,\"#46039f\"],[0.2222222222222222,\"#7201a8\"],[0.3333333333333333,\"#9c179e\"],[0.4444444444444444,\"#bd3786\"],[0.5555555555555556,\"#d8576b\"],[0.6666666666666666,\"#ed7953\"],[0.7777777777777778,\"#fb9f3a\"],[0.8888888888888888,\"#fdca26\"],[1.0,\"#f0f921\"]]},\"colorway\":[\"#636efa\",\"#EF553B\",\"#00cc96\",\"#ab63fa\",\"#FFA15A\",\"#19d3f3\",\"#FF6692\",\"#B6E880\",\"#FF97FF\",\"#FECB52\"],\"font\":{\"color\":\"#2a3f5f\"},\"geo\":{\"bgcolor\":\"white\",\"lakecolor\":\"white\",\"landcolor\":\"#E5ECF6\",\"showlakes\":true,\"showland\":true,\"subunitcolor\":\"white\"},\"hoverlabel\":{\"align\":\"left\"},\"hovermode\":\"closest\",\"mapbox\":{\"style\":\"light\"},\"paper_bgcolor\":\"white\",\"plot_bgcolor\":\"#E5ECF6\",\"polar\":{\"angularaxis\":{\"gridcolor\":\"white\",\"linecolor\":\"white\",\"ticks\":\"\"},\"bgcolor\":\"#E5ECF6\",\"radialaxis\":{\"gridcolor\":\"white\",\"linecolor\":\"white\",\"ticks\":\"\"}},\"scene\":{\"xaxis\":{\"backgroundcolor\":\"#E5ECF6\",\"gridcolor\":\"white\",\"gridwidth\":2,\"linecolor\":\"white\",\"showbackground\":true,\"ticks\":\"\",\"zerolinecolor\":\"white\"},\"yaxis\":{\"backgroundcolor\":\"#E5ECF6\",\"gridcolor\":\"white\",\"gridwidth\":2,\"linecolor\":\"white\",\"showbackground\":true,\"ticks\":\"\",\"zerolinecolor\":\"white\"},\"zaxis\":{\"backgroundcolor\":\"#E5ECF6\",\"gridcolor\":\"white\",\"gridwidth\":2,\"linecolor\":\"white\",\"showbackground\":true,\"ticks\":\"\",\"zerolinecolor\":\"white\"}},\"shapedefaults\":{\"line\":{\"color\":\"#2a3f5f\"}},\"ternary\":{\"aaxis\":{\"gridcolor\":\"white\",\"linecolor\":\"white\",\"ticks\":\"\"},\"baxis\":{\"gridcolor\":\"white\",\"linecolor\":\"white\",\"ticks\":\"\"},\"bgcolor\":\"#E5ECF6\",\"caxis\":{\"gridcolor\":\"white\",\"linecolor\":\"white\",\"ticks\":\"\"}},\"title\":{\"x\":0.05},\"xaxis\":{\"automargin\":true,\"gridcolor\":\"white\",\"linecolor\":\"white\",\"ticks\":\"\",\"title\":{\"standoff\":15},\"zerolinecolor\":\"white\",\"zerolinewidth\":2},\"yaxis\":{\"automargin\":true,\"gridcolor\":\"white\",\"linecolor\":\"white\",\"ticks\":\"\",\"title\":{\"standoff\":15},\"zerolinecolor\":\"white\",\"zerolinewidth\":2}}}},                        {\"responsive\": true}                    ).then(function(){\n",
       "                            \n",
       "var gd = document.getElementById('908fd61f-6471-4056-b1f7-19f977e53f8f');\n",
       "var x = new MutationObserver(function (mutations, observer) {{\n",
       "        var display = window.getComputedStyle(gd).display;\n",
       "        if (!display || display === 'none') {{\n",
       "            console.log([gd, 'removed!']);\n",
       "            Plotly.purge(gd);\n",
       "            observer.disconnect();\n",
       "        }}\n",
       "}});\n",
       "\n",
       "// Listen for the removal of the full notebook cells\n",
       "var notebookContainer = gd.closest('#notebook-container');\n",
       "if (notebookContainer) {{\n",
       "    x.observe(notebookContainer, {childList: true});\n",
       "}}\n",
       "\n",
       "// Listen for the clearing of the current output cell\n",
       "var outputEl = gd.closest('.output');\n",
       "if (outputEl) {{\n",
       "    x.observe(outputEl, {childList: true});\n",
       "}}\n",
       "\n",
       "                        })                };                });            </script>        </div>"
      ]
     },
     "metadata": {},
     "output_type": "display_data"
    }
   ],
   "source": [
    "date_with_pred = pd.to_datetime(df['date'])\n",
    "bd = BusinessDay(n=1)\n",
    "date_with_pred = date_with_pred + bd\n",
    "for ticker in tickers:\n",
    "    plot_single_large(df, date_with_pred, dfdict['pred_%s'%(ticker)],split, base='%s'%(ticker.upper()))"
   ]
  },
  {
   "cell_type": "code",
   "execution_count": 140,
   "id": "dd57cc07",
   "metadata": {},
   "outputs": [
    {
     "name": "stdout",
     "output_type": "stream",
     "text": [
      "Buy after mkt open on 2022-05-24 00:00:00  and sell after mkt open on 2022-05-26 00:00:00\n",
      " Predicted profit for trade: $ [40.795593] Actual profit for trade: $ -3.400000000000034\n",
      "Buy after mkt open on 2022-05-27 00:00:00  and sell after mkt open on 2022-06-02 00:00:00\n",
      " Predicted profit for trade: $ [27.27829] Actual profit for trade: $ 17.69999999999996\n",
      "Buy after mkt open on 2022-06-06 00:00:00  and sell after mkt open on 2022-06-07 00:00:00\n",
      " Predicted profit for trade: $ [12.984924] Actual profit for trade: $ 5.700000000000074\n",
      "Buy after mkt open on 2022-06-08 00:00:00  and sell after mkt open on 2022-06-10 00:00:00\n",
      " Predicted profit for trade: $ [6.720047] Actual profit for trade: $ -11.200000000000045\n",
      "Buy after mkt open on 2022-06-23 00:00:00  and sell after mkt open on 2022-06-24 00:00:00\n",
      " Predicted profit for trade: $ [8.294525] Actual profit for trade: $ 3.5999999999999943\n",
      "Buy after mkt open on 2022-06-28 00:00:00  and sell after mkt open on 2022-06-29 00:00:00\n",
      " Predicted profit for trade: $ [25.22873] Actual profit for trade: $ -1.2000000000000455\n",
      "Buy after mkt open on 2022-07-06 00:00:00  and sell after mkt open on 2022-07-07 00:00:00\n",
      " Predicted profit for trade: $ [3.0088043] Actual profit for trade: $ 3.7999999999999545\n",
      "Buy after mkt open on 2022-07-08 00:00:00  and sell after mkt open on 2022-07-12 00:00:00\n",
      " Predicted profit for trade: $ [16.407242] Actual profit for trade: $ -17.099999999999937\n",
      "Buy after mkt open on 2022-07-19 00:00:00  and sell after mkt open on 2022-07-26 00:00:00\n",
      " Predicted profit for trade: $ [45.635452] Actual profit for trade: $ 22.80000000000001\n",
      "Buy after mkt open on 2022-07-27 00:00:00  and sell after mkt open on 2022-07-28 00:00:00\n",
      " Predicted profit for trade: $ [2.817459] Actual profit for trade: $ -6.500000000000057\n",
      "Buy after mkt open on 2022-07-29 00:00:00  and sell after mkt open on 2022-08-03 00:00:00\n",
      " Predicted profit for trade: $ [30.032349] Actual profit for trade: $ 9.899999999999949\n",
      "Buy after mkt open on 2022-05-24 00:00:00  and sell after mkt open on 2022-05-26 00:00:00\n",
      " Predicted profit for trade: $ [56.852417] Actual profit for trade: $ -18.699999999999974\n",
      "Buy after mkt open on 2022-05-27 00:00:00  and sell after mkt open on 2022-06-03 00:00:00\n",
      " Predicted profit for trade: $ [34.374733] Actual profit for trade: $ 17.19999999999999\n",
      "Buy after mkt open on 2022-06-06 00:00:00  and sell after mkt open on 2022-06-07 00:00:00\n",
      " Predicted profit for trade: $ [6.527977] Actual profit for trade: $ -0.3999999999999915\n",
      "Buy after mkt open on 2022-06-08 00:00:00  and sell after mkt open on 2022-06-13 00:00:00\n",
      " Predicted profit for trade: $ [5.2539825] Actual profit for trade: $ -18.84999999999998\n",
      "Buy after mkt open on 2022-06-17 00:00:00  and sell after mkt open on 2022-06-20 00:00:00\n",
      " Predicted profit for trade: $ [12.793999] Actual profit for trade: $ -6.099999999999994\n",
      "Buy after mkt open on 2022-06-22 00:00:00  and sell after mkt open on 2022-06-29 00:00:00\n",
      " Predicted profit for trade: $ [37.178383] Actual profit for trade: $ 21.099999999999994\n",
      "Buy after mkt open on 2022-07-06 00:00:00  and sell after mkt open on 2022-07-12 00:00:00\n",
      " Predicted profit for trade: $ [27.961388] Actual profit for trade: $ 18.900000000000006\n",
      "Buy after mkt open on 2022-07-19 00:00:00  and sell after mkt open on 2022-07-20 00:00:00\n",
      " Predicted profit for trade: $ [15.008507] Actual profit for trade: $ 0.800000000000054\n",
      "Buy after mkt open on 2022-07-21 00:00:00  and sell after mkt open on 2022-07-25 00:00:00\n",
      " Predicted profit for trade: $ [26.929703] Actual profit for trade: $ -6.300000000000026\n",
      "Buy after mkt open on 2022-07-29 00:00:00  and sell after mkt open on 2022-08-01 00:00:00\n",
      " Predicted profit for trade: $ [22.88269] Actual profit for trade: $ -0.799999999999983\n",
      "Buy after mkt open on 2022-05-25 00:00:00  and sell after mkt open on 2022-06-02 00:00:00\n",
      " Predicted profit for trade: $ [54.741898] Actual profit for trade: $ 52.99999999999997\n",
      "Buy after mkt open on 2022-06-03 00:00:00  and sell after mkt open on 2022-06-06 00:00:00\n",
      " Predicted profit for trade: $ [4.5721436] Actual profit for trade: $ 4.500000000000028\n",
      "Buy after mkt open on 2022-06-07 00:00:00  and sell after mkt open on 2022-06-08 00:00:00\n",
      " Predicted profit for trade: $ [9.729767] Actual profit for trade: $ -5.900000000000034\n",
      "Buy after mkt open on 2022-06-09 00:00:00  and sell after mkt open on 2022-06-13 00:00:00\n",
      " Predicted profit for trade: $ [24.45198] Actual profit for trade: $ -33.29999999999998\n",
      "Buy after mkt open on 2022-06-16 00:00:00  and sell after mkt open on 2022-06-17 00:00:00\n",
      " Predicted profit for trade: $ [5.3152466] Actual profit for trade: $ -38.599999999999994\n",
      "Buy after mkt open on 2022-06-23 00:00:00  and sell after mkt open on 2022-06-24 00:00:00\n",
      " Predicted profit for trade: $ [15.976639] Actual profit for trade: $ 9.699999999999989\n",
      "Buy after mkt open on 2022-06-28 00:00:00  and sell after mkt open on 2022-07-01 00:00:00\n",
      " Predicted profit for trade: $ [44.739685] Actual profit for trade: $ -9.399999999999977\n",
      "Buy after mkt open on 2022-07-06 00:00:00  and sell after mkt open on 2022-07-07 00:00:00\n",
      " Predicted profit for trade: $ [1.627655] Actual profit for trade: $ -21.299999999999955\n",
      "Buy after mkt open on 2022-07-11 00:00:00  and sell after mkt open on 2022-07-12 00:00:00\n",
      " Predicted profit for trade: $ [27.644806] Actual profit for trade: $ -17.80000000000001\n",
      "Buy after mkt open on 2022-07-15 00:00:00  and sell after mkt open on 2022-07-18 00:00:00\n",
      " Predicted profit for trade: $ [5.274811] Actual profit for trade: $ 25.799999999999983\n",
      "Buy after mkt open on 2022-07-19 00:00:00  and sell after mkt open on 2022-07-25 00:00:00\n",
      " Predicted profit for trade: $ [61.196976] Actual profit for trade: $ 15.999999999999943\n",
      "Buy after mkt open on 2022-07-26 00:00:00  and sell after mkt open on 2022-08-03 00:00:00\n",
      " Predicted profit for trade: $ [71.59531] Actual profit for trade: $ 46.80000000000007\n",
      "Buy after mkt open on 2022-05-24 00:00:00  and sell after mkt open on 2022-05-26 00:00:00\n",
      " Predicted profit for trade: $ [29.150085] Actual profit for trade: $ 2.5\n",
      "Buy after mkt open on 2022-05-27 00:00:00  and sell after mkt open on 2022-06-02 00:00:00\n",
      " Predicted profit for trade: $ [37.96852] Actual profit for trade: $ 27.40000000000009\n",
      "Buy after mkt open on 2022-06-06 00:00:00  and sell after mkt open on 2022-06-07 00:00:00\n",
      " Predicted profit for trade: $ [9.785843] Actual profit for trade: $ 11.799999999999926\n",
      "Buy after mkt open on 2022-06-08 00:00:00  and sell after mkt open on 2022-06-10 00:00:00\n",
      " Predicted profit for trade: $ [8.069992] Actual profit for trade: $ -0.1999999999999602\n",
      "Buy after mkt open on 2022-06-17 00:00:00  and sell after mkt open on 2022-06-20 00:00:00\n",
      " Predicted profit for trade: $ [7.769165] Actual profit for trade: $ -13.299999999999983\n",
      "Buy after mkt open on 2022-06-23 00:00:00  and sell after mkt open on 2022-06-24 00:00:00\n",
      " Predicted profit for trade: $ [11.787033] Actual profit for trade: $ 7.000000000000028\n",
      "Buy after mkt open on 2022-06-28 00:00:00  and sell after mkt open on 2022-06-30 00:00:00\n",
      " Predicted profit for trade: $ [29.559479] Actual profit for trade: $ -15.400000000000063\n",
      "Buy after mkt open on 2022-07-04 00:00:00  and sell after mkt open on 2022-07-07 00:00:00\n",
      " Predicted profit for trade: $ [8.64357] Actual profit for trade: $ -2.0000000000000284\n",
      "Buy after mkt open on 2022-07-08 00:00:00  and sell after mkt open on 2022-07-12 00:00:00\n",
      " Predicted profit for trade: $ [16.501236] Actual profit for trade: $ -4.899999999999949\n",
      "Buy after mkt open on 2022-07-19 00:00:00  and sell after mkt open on 2022-07-20 00:00:00\n",
      " Predicted profit for trade: $ [14.560699] Actual profit for trade: $ -5.799999999999983\n",
      "Buy after mkt open on 2022-07-21 00:00:00  and sell after mkt open on 2022-07-26 00:00:00\n",
      " Predicted profit for trade: $ [41.99791] Actual profit for trade: $ 11.199999999999903\n",
      "Buy after mkt open on 2022-07-27 00:00:00  and sell after mkt open on 2022-07-28 00:00:00\n",
      " Predicted profit for trade: $ [3.0210114] Actual profit for trade: $ 3.9000000000000057\n",
      "Buy after mkt open on 2022-07-29 00:00:00  and sell after mkt open on 2022-08-04 00:00:00\n",
      " Predicted profit for trade: $ [46.624832] Actual profit for trade: $ 28.900000000000006\n",
      "Buy after mkt open on 2022-05-24 00:00:00  and sell after mkt open on 2022-05-26 00:00:00\n",
      " Predicted profit for trade: $ [15.551071] Actual profit for trade: $ 2.9000000000000625\n",
      "Buy after mkt open on 2022-05-27 00:00:00  and sell after mkt open on 2022-06-02 00:00:00\n",
      " Predicted profit for trade: $ [9.745522] Actual profit for trade: $ 8.200000000000003\n",
      "Buy after mkt open on 2022-06-06 00:00:00  and sell after mkt open on 2022-06-07 00:00:00\n",
      " Predicted profit for trade: $ [0.9159851] Actual profit for trade: $ 1.0999999999999943\n",
      "Buy after mkt open on 2022-06-08 00:00:00  and sell after mkt open on 2022-06-09 00:00:00\n",
      " Predicted profit for trade: $ [1.0974121] Actual profit for trade: $ 2.40000000000002\n",
      "Buy after mkt open on 2022-06-17 00:00:00  and sell after mkt open on 2022-06-20 00:00:00\n",
      " Predicted profit for trade: $ [2.124424] Actual profit for trade: $ -0.8999999999999986\n",
      "Buy after mkt open on 2022-06-22 00:00:00  and sell after mkt open on 2022-06-24 00:00:00\n",
      " Predicted profit for trade: $ [6.354389] Actual profit for trade: $ -1.4000000000000057\n",
      "Buy after mkt open on 2022-06-28 00:00:00  and sell after mkt open on 2022-06-30 00:00:00\n",
      " Predicted profit for trade: $ [13.005486] Actual profit for trade: $ -6.500000000000021\n",
      "Buy after mkt open on 2022-07-06 00:00:00  and sell after mkt open on 2022-07-07 00:00:00\n",
      " Predicted profit for trade: $ [3.7945557] Actual profit for trade: $ 3.200000000000003\n",
      "Buy after mkt open on 2022-07-08 00:00:00  and sell after mkt open on 2022-07-13 00:00:00\n",
      " Predicted profit for trade: $ [6.522579] Actual profit for trade: $ -3.8000000000000256\n",
      "Buy after mkt open on 2022-07-19 00:00:00  and sell after mkt open on 2022-07-28 00:00:00\n",
      " Predicted profit for trade: $ [23.201714] Actual profit for trade: $ 4.000000000000057\n",
      "Buy after mkt open on 2022-07-29 00:00:00  and sell after mkt open on 2022-08-03 00:00:00\n",
      " Predicted profit for trade: $ [9.544487] Actual profit for trade: $ 2.40000000000002\n",
      "Buy after mkt open on 2022-05-24 00:00:00  and sell after mkt open on 2022-05-26 00:00:00\n",
      " Predicted profit for trade: $ [39.62509] Actual profit for trade: $ -2.599999999999909\n",
      "Buy after mkt open on 2022-05-27 00:00:00  and sell after mkt open on 2022-06-02 00:00:00\n",
      " Predicted profit for trade: $ [98.12271] Actual profit for trade: $ 91.20000000000005\n",
      "Buy after mkt open on 2022-06-03 00:00:00  and sell after mkt open on 2022-06-07 00:00:00\n",
      " Predicted profit for trade: $ [29.173737] Actual profit for trade: $ 27.10000000000008\n",
      "Buy after mkt open on 2022-06-08 00:00:00  and sell after mkt open on 2022-06-10 00:00:00\n",
      " Predicted profit for trade: $ [18.354187] Actual profit for trade: $ 5.400000000000205\n",
      "Buy after mkt open on 2022-06-16 00:00:00  and sell after mkt open on 2022-06-20 00:00:00\n",
      " Predicted profit for trade: $ [30.750809] Actual profit for trade: $ -41.70000000000002\n",
      "Buy after mkt open on 2022-06-22 00:00:00  and sell after mkt open on 2022-06-24 00:00:00\n",
      " Predicted profit for trade: $ [34.13208] Actual profit for trade: $ 18.999999999999915\n",
      "Buy after mkt open on 2022-06-27 00:00:00  and sell after mkt open on 2022-06-29 00:00:00\n",
      " Predicted profit for trade: $ [61.058426] Actual profit for trade: $ 23.69999999999976\n",
      "Buy after mkt open on 2022-07-06 00:00:00  and sell after mkt open on 2022-07-12 00:00:00\n",
      " Predicted profit for trade: $ [53.93036] Actual profit for trade: $ 60.30000000000001\n",
      "Buy after mkt open on 2022-07-18 00:00:00  and sell after mkt open on 2022-07-20 00:00:00\n",
      " Predicted profit for trade: $ [32.801666] Actual profit for trade: $ 12.199999999999989\n",
      "Buy after mkt open on 2022-07-21 00:00:00  and sell after mkt open on 2022-07-26 00:00:00\n",
      " Predicted profit for trade: $ [71.66885] Actual profit for trade: $ 20.39999999999992\n",
      "Buy after mkt open on 2022-07-29 00:00:00  and sell after mkt open on 2022-08-03 00:00:00\n",
      " Predicted profit for trade: $ [103.733826] Actual profit for trade: $ 25.999999999999943\n",
      "The profit for xlb is $24.10\n",
      "The profit for xlc is $6.85\n",
      "The profit for xle is $29.50\n",
      "The profit for xli is $51.10\n",
      "The profit for xlf is $11.60\n",
      "The profit for xlk is $241.00\n",
      "The total profit in the period from 2022-05-20 00:00:00 to 2022-08-04 00:00:00 is $ 364.15\n"
     ]
    }
   ],
   "source": [
    "profits = dict()\n",
    "sum_for_10_shares = 0\n",
    "for ticker in tickers: \n",
    "    total_profit = construct_strategy(date_with_pred, dfdict['pred_%s'%(ticker)], \n",
    "                                      df['open_%s'%(ticker)][split:], split, run_as_test=True)\n",
    "    profits['Profit_%s'%(ticker)] = total_profit\n",
    "\n",
    "for i, profit in enumerate(profits.values()):\n",
    "    sum_for_10_shares += float(profit.split('$')[1])\n",
    "    print(f'The profit for {tickers[i]} is {profit}')\n",
    "print(f'The total profit in the period from {date_with_pred[split-1]} to {date_with_pred[-1]} is $ {sum_for_10_shares}')"
   ]
  }
 ],
 "metadata": {
  "kernelspec": {
   "display_name": "Python 3 (ipykernel)",
   "language": "python",
   "name": "python3"
  },
  "language_info": {
   "codemirror_mode": {
    "name": "ipython",
    "version": 3
   },
   "file_extension": ".py",
   "mimetype": "text/x-python",
   "name": "python",
   "nbconvert_exporter": "python",
   "pygments_lexer": "ipython3",
   "version": "3.9.12"
  }
 },
 "nbformat": 4,
 "nbformat_minor": 5
}
